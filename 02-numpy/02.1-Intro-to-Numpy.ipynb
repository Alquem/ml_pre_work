{
 "cells": [
  {
   "cell_type": "markdown",
   "id": "bdfbcacc",
   "metadata": {},
   "source": [
    "<img src=\"./assets/numpy_logo.png\" alt=\"logo\" width=\"400\"/>\n",
    "\n",
    "## Introduction to numpy\n",
    "\n",
    "NumPy stands for 'Numerical Python'. It is an open-source Python library used to perform various mathematical and scientific tasks. It contains multi-dimensional arrays and matrices, along with many high-level mathematical functions that operate on these arrays and matrices. It contains among other things:\n",
    "\n",
    "→ a powerful N-dimensional array object\n",
    "\n",
    "→ sophisticated (broadcasting) functions\n",
    "\n",
    "→ tools for integrating C/C++ and Fortran code\n",
    "\n",
    "→ useful linear algebra, Fourier transform, and random number capabilities"
   ]
  },
  {
   "cell_type": "markdown",
   "id": "85902746",
   "metadata": {},
   "source": [
    "## Installing NumPy\n",
    "When you want to work with numpy locally, you should run the following commands:\n",
    "\n",
    "You can install NumPy with:\\\n",
    "`pip install numpy`\\\n",
    "or\\\n",
    "`conda install numpy`\n",
    "\n",
    "In our case, 4Geeks have prepared all the environment in order that you can work comfortably."
   ]
  },
  {
   "cell_type": "markdown",
   "id": "58765356",
   "metadata": {},
   "source": [
    "## Why should we use NumPy?\n",
    "\n",
    "Numpy is a library to perform numerical calculation in python. We will use it mainly because it allows us to create and modify matrices, and to do operations on them with ease.\n",
    "\n",
    "NumPy is, like Pandas, Matplotlib or Scikit-Learn, one of the packages that you cannot miss when you are learning Machine Learning, mainly because this library provides a matrix data structure that has some benefits over regular Python lists. Some of these benefits are: being more compact, quicker access to reading and writing articles, being more convenient and more efficient.\n",
    "\n",
    "For example, we will see later in the bootcamp that working with images means dealing with three-dimensional matrices as large as 3840 x 2160, which means we will have 3×3840×2160 = 24883200 entries!!! 😱😱😱.\n",
    "\n",
    "Working with matrices of that magnitude is practically impossible to carry out with lists and dictionaries if one wants to have an efficient and fast programming."
   ]
  },
  {
   "cell_type": "markdown",
   "id": "c4e52ee5",
   "metadata": {},
   "source": [
    "#### Exercise: Import the numpy package under the name `np` (★☆☆)\n",
    "\n",
    "`numpy` is commonly imported as `np` so we highly recommend to put this alias."
   ]
  },
  {
   "cell_type": "code",
   "execution_count": 2,
   "id": "ea3038d9",
   "metadata": {},
   "outputs": [],
   "source": [
    "import numpy as np"
   ]
  },
  {
   "cell_type": "markdown",
   "id": "40631cd6",
   "metadata": {},
   "source": [
    "## What is an array and why it is importante for machine learning?\n",
    "\n",
    "An array is a data structure consisting of a collection of elements (values or variables), each identified by at least one array index or key.\n"
   ]
  },
  {
   "cell_type": "markdown",
   "id": "ce969254",
   "metadata": {},
   "source": [
    "![alt text](assets/1D.png \"1D\")"
   ]
  },
  {
   "cell_type": "markdown",
   "id": "735d02e2",
   "metadata": {},
   "source": [
    "We can have arrays from several dimension. Neural networks sometimes deal with 4D arrays. An array is known as the central data structure of the NumPy library. Array in NumPy is called as NumPy Array. Later, we will use also other kind of arrays thar are called: Tensors."
   ]
  },
  {
   "cell_type": "markdown",
   "id": "a20ce3a4",
   "metadata": {},
   "source": [
    "![alt text](./assets/3D.png \"3D\")"
   ]
  },
  {
   "cell_type": "markdown",
   "id": "46950f4f",
   "metadata": {},
   "source": [
    "#### Exercise: Print the numpy version and the configuration (★☆☆)\n",
    "\n",
    "You can print the version of any package of Python using `name_of_package.__version__`"
   ]
  },
  {
   "cell_type": "code",
   "execution_count": 3,
   "id": "2a9f5838",
   "metadata": {},
   "outputs": [
    {
     "name": "stdout",
     "output_type": "stream",
     "text": [
      "1.22.1\n"
     ]
    }
   ],
   "source": [
    "import numpy as np\n",
    "print(np.__version__)"
   ]
  },
  {
   "cell_type": "markdown",
   "id": "e3c20b3d",
   "metadata": {},
   "source": [
    "#### Exercise: Create a null vector of size 10 (★☆☆)\n",
    "\n",
    "A `null vector` is an array of zeros (`0`), also called `inicializacion vector`.\n",
    "\n",
    "Check de function `np.zeros` (https://numpy.org/doc/stable/reference/generated/numpy.zeros.html)"
   ]
  },
  {
   "cell_type": "code",
   "execution_count": 4,
   "id": "8a758bcf",
   "metadata": {},
   "outputs": [
    {
     "data": {
      "text/plain": [
       "array([0., 0., 0., 0., 0., 0., 0., 0., 0., 0.])"
      ]
     },
     "execution_count": 4,
     "metadata": {},
     "output_type": "execute_result"
    }
   ],
   "source": [
    "np.zeros(10)"
   ]
  },
  {
   "cell_type": "markdown",
   "id": "6cbe7954",
   "metadata": {},
   "source": [
    "#### Exercise: Create a vector of ones with size 10 (★☆☆)\n",
    "Check de function `np.ones` (https://numpy.org/doc/stable/reference/generated/numpy.ones.html)"
   ]
  },
  {
   "cell_type": "code",
   "execution_count": 5,
   "id": "86477874",
   "metadata": {},
   "outputs": [
    {
     "data": {
      "text/plain": [
       "array([1., 1., 1., 1., 1., 1., 1., 1., 1., 1.])"
      ]
     },
     "execution_count": 5,
     "metadata": {},
     "output_type": "execute_result"
    }
   ],
   "source": [
    "np.ones(10)"
   ]
  },
  {
   "cell_type": "markdown",
   "id": "0a708990",
   "metadata": {},
   "source": [
    "#### Exercise: Create an 1D array with specific start value, end value and number of values (★☆☆)\n",
    "\n",
    "Check the function `np.linspace` (https://numpy.org/doc/stable/reference/generated/numpy.linspace.html)"
   ]
  },
  {
   "cell_type": "code",
   "execution_count": 6,
   "id": "477e01f4",
   "metadata": {},
   "outputs": [
    {
     "data": {
      "text/plain": [
       "array([0.        , 0.11111111, 0.22222222, 0.33333333, 0.44444444,\n",
       "       0.55555556, 0.66666667, 0.77777778, 0.88888889, 1.        ])"
      ]
     },
     "execution_count": 6,
     "metadata": {},
     "output_type": "execute_result"
    }
   ],
   "source": [
    "np.linspace(0,1,10)"
   ]
  },
  {
   "cell_type": "markdown",
   "id": "782d4c77",
   "metadata": {},
   "source": [
    "#### Run: Create a vector (1D array) with random integers from 10 to 49 and dimension 1x35 (★☆☆)\n",
    "\n",
    "When `dimension` is expressed `1x35` it means: One dimension array with 35 items (length=35).\n",
    "\n",
    "Check the function `np.random` which allows you to create random arrays (https://numpy.org/doc/1.16/reference/routines.random.html)"
   ]
  },
  {
   "cell_type": "code",
   "execution_count": 7,
   "id": "5dbe1a08",
   "metadata": {},
   "outputs": [
    {
     "name": "stdout",
     "output_type": "stream",
     "text": [
      "[0.01961586 0.23163844 0.68365903 0.41191217 0.23699969 0.20450994\n",
      " 0.0452364  0.5830157  0.55227045 0.07850204]\n",
      "[33.85885508 13.99710976 14.15316584 13.10306461 47.36482724 40.4171678\n",
      " 27.94495893 46.89320286 32.87329766 19.36022759 21.70176661 15.56572484\n",
      " 43.94429443 40.56939329 34.76797346 23.62846838 11.63369295 46.94083484\n",
      " 13.91911458 25.23785667 23.49991541 22.27088103 18.55869907 40.45348251\n",
      " 22.02065418 32.45397973 34.81087381 10.37862357 47.27473542 20.73032118\n",
      " 11.47798092 14.6378222  20.80780436 47.3299548  29.1707901 ]\n"
     ]
    }
   ],
   "source": [
    "import numpy as np\n",
    "\n",
    "## 10 random numbers between (0, 1)\n",
    "print(np.random.random(10))\n",
    "## 35 random numbers between (10, 49)\n",
    "print(np.random.random(35)*39 + 10)  "
   ]
  },
  {
   "cell_type": "code",
   "execution_count": 8,
   "id": "a9354456",
   "metadata": {},
   "outputs": [
    {
     "name": "stdout",
     "output_type": "stream",
     "text": [
      "[0.47508259 0.51759307 0.3997049  0.92158427 0.27843149 0.350785\n",
      " 0.58178851 0.34260631 0.37749442 0.90593589]\n",
      "[-0.99173447 -0.63008774  0.29697147  0.10841349  1.7275303   1.6641923\n",
      "  0.71608071 -0.82740902 -1.0839079  -0.21522153]\n"
     ]
    }
   ],
   "source": [
    "## Two ways to create numbers with normal distribution\n",
    "print(np.random.rand(10)) # 10 random values with distribution N(0,1)\n",
    "print(np.random.normal(loc = 0, scale = 1, size = 10)) # 10 random values with distribution N(0,1)"
   ]
  },
  {
   "cell_type": "code",
   "execution_count": 9,
   "id": "73ed6271",
   "metadata": {},
   "outputs": [
    {
     "name": "stdout",
     "output_type": "stream",
     "text": [
      "[-53.48657681 -65.48714416 -25.35514618 -20.52264091  27.65097195\n",
      " -82.3626733  -13.93378579 -61.69331225 -11.20326287 -19.48801954]\n"
     ]
    }
   ],
   "source": [
    "## Did you notice the difference between both functions? \n",
    "print(np.random.normal(loc = -5, scale = 33, size = 10)) # 10 random values with distribution N(-5,33)"
   ]
  },
  {
   "cell_type": "code",
   "execution_count": 10,
   "id": "49ae7a5a",
   "metadata": {},
   "outputs": [
    {
     "name": "stdout",
     "output_type": "stream",
     "text": [
      "[ 46.97294043  25.38061383  21.3652769   63.22875543  40.24033321\n",
      "  -7.14723992  10.08545294   2.89285206 -27.43333416  24.69063844]\n"
     ]
    }
   ],
   "source": [
    "## 10 random values with uniform distribution. That is, all values have the same probability\n",
    "print(np.random.uniform(-30,100,10)) # All values are between -30 and 100."
   ]
  },
  {
   "cell_type": "code",
   "execution_count": 11,
   "id": "f78e72cb",
   "metadata": {},
   "outputs": [
    {
     "name": "stdout",
     "output_type": "stream",
     "text": [
      "[60 28 26  7 97 42 12 39 45 41]\n"
     ]
    }
   ],
   "source": [
    "# 10 integers values between 0 and 100.\n",
    "print(np.random.randint(0, 100, 10))"
   ]
  },
  {
   "cell_type": "code",
   "execution_count": 12,
   "id": "db278431",
   "metadata": {},
   "outputs": [
    {
     "name": "stdout",
     "output_type": "stream",
     "text": [
      "[ 5.82630626  1.11223623  5.52570814  2.66801369  2.76277544  7.82184455\n",
      " 13.12307233  1.42928295  8.17876396  1.66180006]\n"
     ]
    }
   ],
   "source": [
    "# 10 random values with Chi distribution with 5 degrees of freedom\n",
    "print(np.random.chisquare(5,10))"
   ]
  },
  {
   "cell_type": "markdown",
   "id": "1b7841da",
   "metadata": {},
   "source": [
    "The above examples are the most common distribution and random values you will learn throughout the bootcamp. Now, let's deal with those arrays."
   ]
  },
  {
   "cell_type": "markdown",
   "id": "48d48f01",
   "metadata": {},
   "source": [
    "#### Exercise: Reverse one of the last vector we created before (first element becomes last) (★☆☆)\n",
    "Try with `[::-1]`"
   ]
  },
  {
   "cell_type": "code",
   "execution_count": 13,
   "id": "3ed233e7",
   "metadata": {},
   "outputs": [
    {
     "name": "stdout",
     "output_type": "stream",
     "text": [
      "[56 64 41 83 33 28 27 97 23 67]\n",
      "[67 23 97 27 28 33 83 41 64 56]\n"
     ]
    }
   ],
   "source": [
    "rand_int_vect = np.random.randint(0, 100, 10)\n",
    "print(rand_int_vect)\n",
    "print(rand_int_vect[::-1])"
   ]
  },
  {
   "cell_type": "markdown",
   "id": "4fa39382",
   "metadata": {},
   "source": [
    "#### Exercise: Create a 5x5 identidy matrix (★☆☆)\n",
    "Check the function `np.eye`(https://numpy.org/devdocs/reference/generated/numpy.eye.html)"
   ]
  },
  {
   "cell_type": "code",
   "execution_count": 14,
   "id": "c97757ec",
   "metadata": {},
   "outputs": [
    {
     "name": "stdout",
     "output_type": "stream",
     "text": [
      "[[1. 0. 0. 0. 0.]\n",
      " [0. 1. 0. 0. 0.]\n",
      " [0. 0. 1. 0. 0.]\n",
      " [0. 0. 0. 1. 0.]\n",
      " [0. 0. 0. 0. 1.]]\n"
     ]
    }
   ],
   "source": [
    "print(np.eye(5))"
   ]
  },
  {
   "cell_type": "markdown",
   "id": "da64551a",
   "metadata": {},
   "source": [
    "#### Exercise: Find indices of non-zero elements from [1,2,0,0,4,0] (★☆☆)\n",
    "Check the function `where`(https://numpy.org/devdocs/reference/generated/numpy.where.html)"
   ]
  },
  {
   "cell_type": "code",
   "execution_count": 15,
   "id": "327f7adb",
   "metadata": {},
   "outputs": [
    {
     "name": "stdout",
     "output_type": "stream",
     "text": [
      "[0 1 4]\n"
     ]
    }
   ],
   "source": [
    "print(np.where(np.array([1,2,0,0,4,0]) != 0)[0])"
   ]
  },
  {
   "cell_type": "markdown",
   "id": "13c5928c",
   "metadata": {},
   "source": [
    "#### Exercise: Create a 10x10 array with random values and find the minimum and maximum values (★☆☆)\n",
    "Check the function `min`(https://numpy.org/devdocs/reference/generated/numpy.where.html) and `max`(https://numpy.org/devdocs/reference/generated/numpy.max.html)"
   ]
  },
  {
   "cell_type": "code",
   "execution_count": 16,
   "id": "911c9b93",
   "metadata": {},
   "outputs": [
    {
     "name": "stdout",
     "output_type": "stream",
     "text": [
      "0.0012991503498088752\n",
      "0.9942367215054322\n"
     ]
    }
   ],
   "source": [
    "arr_10_by_10 = np.random.random((10,10))\n",
    "print(arr_10_by_10.min())\n",
    "print(arr_10_by_10.max())"
   ]
  },
  {
   "cell_type": "markdown",
   "id": "3fa2e461",
   "metadata": {},
   "source": [
    "#### Exercise: Create a random vector of size 30 and find the mean value (★☆☆)"
   ]
  },
  {
   "cell_type": "code",
   "execution_count": 17,
   "id": "323eb38a",
   "metadata": {},
   "outputs": [
    {
     "name": "stdout",
     "output_type": "stream",
     "text": [
      "0.45468024295732334\n"
     ]
    }
   ],
   "source": [
    "print(np.random.random(30).mean())"
   ]
  },
  {
   "cell_type": "markdown",
   "id": "961f074f",
   "metadata": {},
   "source": [
    "#### Exercise: Define a function with input your date of birth (yyyy/mm/dd) that returns a random array with the following dimensions: (★★☆)\n",
    "$$yyyy-1900 \\times |mm - dd|$$"
   ]
  },
  {
   "cell_type": "code",
   "execution_count": 18,
   "id": "d3f49255",
   "metadata": {},
   "outputs": [
    {
     "name": "stdout",
     "output_type": "stream",
     "text": [
      "(90, 2)\n"
     ]
    }
   ],
   "source": [
    "def birth_date(date_of_birth: str) -> np.array:\n",
    "    date = date_of_birth.split(\"/\")\n",
    "    size = (int(date[0]) - 1900, np.abs(int(date[1]) - int(date[2])))\n",
    "    return np.random.random(size) \n",
    "\n",
    "birthdate = input(\"enter your birthday: \")\n",
    "print(birth_date(birthdate).shape)"
   ]
  },
  {
   "cell_type": "markdown",
   "id": "ff8dbb92",
   "metadata": {},
   "source": [
    "## What is the difference between Python List and a Numpy Array?\n",
    "\n",
    "- Python list can contain elements with different data types whereas Numpy Array‘s elements are always homogeneous (same data types).\n",
    "- NumPy arrays are faster and more compact than Python lists.\n",
    "\n",
    "## Why NumPy Arrays are faster than Lists?\n",
    "\n",
    "- NumPy Array uses fixed memory to store data and less memory than Python lists.\n",
    "- Contiguous memory allocation in NumPy Arrays."
   ]
  },
  {
   "cell_type": "markdown",
   "id": "e3a7ba7f",
   "metadata": {},
   "source": [
    "#### Exercise: Convert the list `my_list = [1, 2, 3]` to numpy array (★☆☆)"
   ]
  },
  {
   "cell_type": "code",
   "execution_count": 19,
   "id": "01d8e257",
   "metadata": {},
   "outputs": [
    {
     "name": "stdout",
     "output_type": "stream",
     "text": [
      "[1, 2, 3]\n",
      "[1 2 3]\n"
     ]
    }
   ],
   "source": [
    "my_list = [1, 2, 3]\n",
    "numpy_my_list = np.array(my_list)\n",
    "print(my_list)\n",
    "print(numpy_my_list)"
   ]
  },
  {
   "cell_type": "markdown",
   "id": "6d17ab5d",
   "metadata": {},
   "source": [
    "#### Exercise: Convert the tuple `my_list = (1, 2, 3)` to numpy array (★☆☆)"
   ]
  },
  {
   "cell_type": "code",
   "execution_count": 20,
   "id": "841373cd",
   "metadata": {},
   "outputs": [
    {
     "name": "stdout",
     "output_type": "stream",
     "text": [
      "(1, 2, 3)\n",
      "[1 2 3]\n"
     ]
    }
   ],
   "source": [
    "my_list = (1, 2, 3)\n",
    "numpy_my_list = np.array(my_list)\n",
    "print(my_list)\n",
    "print(numpy_my_list)"
   ]
  },
  {
   "cell_type": "markdown",
   "id": "8837119b",
   "metadata": {},
   "source": [
    "#### Exercise: Convert the list of tuples `my_list = [(1,2,3), (4,5)]` to numpy array (★☆☆)"
   ]
  },
  {
   "cell_type": "code",
   "execution_count": 21,
   "id": "2c0d16f1",
   "metadata": {},
   "outputs": [
    {
     "name": "stdout",
     "output_type": "stream",
     "text": [
      "[(1, 2, 3), (4, 5)]\n",
      "[(1, 2, 3) (4, 5)]\n"
     ]
    }
   ],
   "source": [
    "my_list = [(1, 2, 3), (4,5)]\n",
    "numpy_my_list = np.array(my_list, dtype=np.ndarray)\n",
    "print(my_list)\n",
    "print(numpy_my_list)"
   ]
  },
  {
   "cell_type": "markdown",
   "id": "ec788c9f",
   "metadata": {},
   "source": [
    "#### Exercise: Resize a random array of dimensions 5x12 into 12x5 (★☆☆)\n",
    "Check `reshape`from `numpy`(https://numpy.org/doc/stable/reference/generated/numpy.reshape.html)"
   ]
  },
  {
   "cell_type": "code",
   "execution_count": 22,
   "id": "0a4f919f",
   "metadata": {},
   "outputs": [
    {
     "name": "stdout",
     "output_type": "stream",
     "text": [
      "(5, 12)\n",
      "(12, 5)\n"
     ]
    }
   ],
   "source": [
    "size1 = 5,12\n",
    "size2 = 12,5\n",
    "arr1 = np.random.random(size1)\n",
    "arr2 = arr1.reshape(size2)\n",
    "print(arr1.shape)\n",
    "print(arr2.shape)"
   ]
  },
  {
   "cell_type": "markdown",
   "id": "391791e0",
   "metadata": {},
   "source": [
    "#### Exercise: Create a function that normalize a 5x5 random matrix (★☆☆)\n",
    "Remember from probability (https://en.wikipedia.org/wiki/Normalization_(statistics)) that :\n",
    "$$ x_{norm} = \\frac{x - \\bar{x}}{\\sigma}$$\n"
   ]
  },
  {
   "cell_type": "code",
   "execution_count": 23,
   "id": "f6533d39",
   "metadata": {},
   "outputs": [
    {
     "name": "stdout",
     "output_type": "stream",
     "text": [
      "[[ 0.13024875 -0.73842471  0.94054231 -0.33489445  0.75798121]\n",
      " [-1.10020509  1.15037643  1.75227483 -0.41420847  0.68113165]\n",
      " [-0.66110139 -1.24718047  1.34807183 -1.56040961 -1.27233539]\n",
      " [ 0.22257616  0.39864294 -0.70181088  0.07957328  0.64759367]\n",
      " [-0.29235696 -1.63056497 -0.89321871  1.78531032  0.95238772]]\n"
     ]
    }
   ],
   "source": [
    "arr_to_normalize = np.random.random((5,5))\n",
    "arr_normalized = (arr_to_normalize - arr_to_normalize.mean()) / arr_to_normalize.std()\n",
    "print(arr_normalized)"
   ]
  },
  {
   "cell_type": "markdown",
   "id": "d2d143f1",
   "metadata": {},
   "source": [
    "## Stacking numpy arrays\n",
    "\n",
    "Stacking is used to join a sequence of same dimension arrays along a new axis.\n",
    "`numpy.stack(arrays,axis)` : It returns a stacked array of the input arrays which has one more dimension than the input arrays.\n",
    "\n",
    "### You have two ways to do it:\n",
    "\n",
    "\n",
    "![alt text](./assets/stack.jpeg \"stack\")\n",
    "\n",
    "\n",
    "### or\n",
    "\n",
    "\n",
    "![alt text](./assets/stack2.jpeg \"stack\")\n",
    "\n",
    "\n"
   ]
  },
  {
   "cell_type": "markdown",
   "id": "1e74d39e",
   "metadata": {},
   "source": [
    "#### Exercise: Generate two random arrays with integers and apply the stacking using `stack` (★★☆)"
   ]
  },
  {
   "cell_type": "code",
   "execution_count": 24,
   "id": "3f639d33",
   "metadata": {},
   "outputs": [
    {
     "name": "stdout",
     "output_type": "stream",
     "text": [
      "[[1 7]\n",
      " [2 8]]\n",
      "\n",
      "[[8 2]\n",
      " [4 2]]\n",
      "\n",
      "[[[1 7]\n",
      "  [2 8]]\n",
      "\n",
      " [[8 2]\n",
      "  [4 2]]]\n"
     ]
    }
   ],
   "source": [
    "arr_1 = np.random.randint(0, 10, (2,2))\n",
    "arr_2 = np.random.randint(0, 10, (2,2))\n",
    "print(arr_1)\n",
    "print()\n",
    "print(arr_2)\n",
    "print()\n",
    "print(np.stack((arr_1, arr_2)))"
   ]
  },
  {
   "cell_type": "markdown",
   "id": "78250c14",
   "metadata": {},
   "source": [
    "#### Exercise: Generate two random arrays with integers and apply the stacking using `hstack` and `vstack` (★★☆)"
   ]
  },
  {
   "cell_type": "code",
   "execution_count": 25,
   "id": "9fe729cb",
   "metadata": {},
   "outputs": [
    {
     "name": "stdout",
     "output_type": "stream",
     "text": [
      "[[8 9]\n",
      " [8 5]]\n",
      "\n",
      "[[7 9]\n",
      " [8 0]]\n",
      "\n",
      "[[8 9 7 9]\n",
      " [8 5 8 0]]\n",
      "\n",
      "[[8 9]\n",
      " [8 5]\n",
      " [7 9]\n",
      " [8 0]]\n"
     ]
    }
   ],
   "source": [
    "arr_1 = np.random.randint(0, 10, (2,2))\n",
    "arr_2 = np.random.randint(0, 10, (2,2))\n",
    "print(arr_1)\n",
    "print()\n",
    "print(arr_2)\n",
    "print()\n",
    "print(np.hstack((arr_1, arr_2)))\n",
    "print()\n",
    "print(np.vstack((arr_1, arr_2)))"
   ]
  },
  {
   "cell_type": "markdown",
   "id": "51898680",
   "metadata": {},
   "source": [
    "## Basic maths in numpy\n",
    "\n",
    "You can make typical math operations like:\n",
    "\n",
    "- Addition,Subtraction,Multiplication and Division between two arrays using numpy.\n",
    "- Operation on array using sum() & cumsum() function.\n",
    "- Minimum and Maximum value from an array\n",
    "- Exponent/Power , Square Root and Cube Root functions\n",
    "\n",
    "or even apply common trigonometric functions:\n",
    "\n",
    "- `numpy.sin()`:  Sine (x) Function\n",
    "- `numpy.cos()`: Cosine(x) Function\n",
    "- `numpy.tan()`: Tangent(x)Function\n",
    "- `numpy.sinh()`: Hyperbolic Sine (x) Function\n",
    "- `numpy.cosh()`: Hyperbolic Cosine(x) Functionv\n",
    "- `numpy.tanh()`: Hyperbolic Tangent(x)Function\n",
    "- `numpy.arcsin()`: Inverse Sine Function\n",
    "- `numpy.arccos()`: Inverse Cosine Function\n",
    "- `numpy.arctan()`: Inverse Tangent Function\n",
    "- `numpy.pi`: pi value\n",
    "- `numpy.hypot(w,h)`: For calculating Hypotenuse $c = \\sqrt{(w^2 + h^2)}$\n",
    "- `numpy.rad2deg()`: Radians to degrees\n",
    "- `numpy.deg2rad()`: Degrees to radians"
   ]
  },
  {
   "cell_type": "markdown",
   "id": "89e78048",
   "metadata": {},
   "source": [
    "#### Exercise: Generate two random 8 - dimensional vectors and apply the most common operation between vectors:  addition, substraction, multiplication, division(★☆☆)\n",
    "\n",
    "Check the math functions here: https://numpy.org/doc/stable/reference/routines.math.html"
   ]
  },
  {
   "cell_type": "code",
   "execution_count": 26,
   "id": "b62e9d1c",
   "metadata": {},
   "outputs": [
    {
     "name": "stdout",
     "output_type": "stream",
     "text": [
      "[1.28059818 1.57204236 0.87847613 1.23920304 0.94618854 1.01888893\n",
      " 1.47563791 0.27102263]\n",
      "[ 0.35927201  0.37400417 -0.72088392 -0.67435722  0.59744208  0.80681685\n",
      " -0.06850517  0.11820799]\n",
      "[0.37771383 0.58285952 0.06301167 0.27021663 0.13458393 0.0967953\n",
      " 0.54320357 0.01487003]\n",
      "[1.7799019  1.62436101 0.09853454 0.29518058 4.42622589 8.60889289\n",
      " 0.91127096 2.54707678]\n"
     ]
    }
   ],
   "source": [
    "vect_1 = np.random.random(8)\n",
    "vect_2 = np.random.random(8)\n",
    "\n",
    "print(vect_1 + vect_2)\n",
    "print(vect_1 - vect_2)\n",
    "print(vect_1 * vect_2)\n",
    "print(vect_1 / vect_2)"
   ]
  },
  {
   "cell_type": "markdown",
   "id": "ebd10810",
   "metadata": {},
   "source": [
    "#### Exercise: Generate two random matrices with dimensions between 5 and 10, e.g. 5x7 vs 8x9 and try. Were you able to do the matrix multiplication? why? (★★☆) "
   ]
  },
  {
   "cell_type": "code",
   "execution_count": 27,
   "id": "6ada209f",
   "metadata": {},
   "outputs": [],
   "source": [
    "matrix_1 = np.random.random((np.random.randint(5,10), np.random.randint(5,10)))\n",
    "matrix_2 = np.random.random((np.random.randint(5,10), np.random.randint(5,10)))\n",
    "\n",
    "\n",
    "#print(matrix_1 * matrix_2) #ValueError: operands could not be broadcast together with shapes (9,7) (6,5) "
   ]
  },
  {
   "cell_type": "markdown",
   "id": "c0e940f8",
   "metadata": {},
   "source": [
    "#### Exercise: Given 2 numpy arrays as matrices, output the result of multiplying the 2 matrices (as a numpy array) Were you able to do the matrix multiplication? (★★☆) \n",
    "\n",
    "$$ a = \\left(\\begin{matrix}\n",
    "0 & 1 & 2\\\\ \n",
    "3 & 4 & 5\\\\ \n",
    "6 & 7 & 8\n",
    "\\end{matrix}\\right)$$\n",
    "\n",
    "$$ b = \\left(\\begin{matrix}\n",
    "2 & 3 & 4\\\\ \n",
    "5 & 6 & 7\\\\ \n",
    "8 & 9 & 10\n",
    "\\end{matrix}\\right)$$\n",
    "\n",
    "\n"
   ]
  },
  {
   "cell_type": "code",
   "execution_count": 28,
   "id": "820dc7a5",
   "metadata": {},
   "outputs": [
    {
     "name": "stdout",
     "output_type": "stream",
     "text": [
      "[[0. 1. 2.]\n",
      " [3. 4. 5.]\n",
      " [6. 7. 8.]]\n",
      "[[ 2.  3.  4.]\n",
      " [ 5.  6.  7.]\n",
      " [ 8.  9. 10.]]\n",
      "[[ 0.  3.  8.]\n",
      " [15. 24. 35.]\n",
      " [48. 63. 80.]]\n"
     ]
    }
   ],
   "source": [
    "a = np.linspace(0, 8, 9).reshape((3,3))\n",
    "b = np.linspace(2, 10, 9).reshape((3,3))\n",
    "print(a)\n",
    "print(b)\n",
    "print(a * b)"
   ]
  },
  {
   "cell_type": "markdown",
   "id": "22713c3f",
   "metadata": {},
   "source": [
    "#### Exercise: Multiply a 5x3 matrix by a 3x2 matrix (real matrix product) (★★☆)"
   ]
  },
  {
   "cell_type": "code",
   "execution_count": 29,
   "id": "a3e05c29",
   "metadata": {},
   "outputs": [
    {
     "name": "stdout",
     "output_type": "stream",
     "text": [
      "[[0.80168548 0.90177166]\n",
      " [0.66503111 0.74114383]\n",
      " [1.10220114 1.25104842]\n",
      " [0.71352515 0.83937735]\n",
      " [0.8976994  0.98243547]]\n"
     ]
    }
   ],
   "source": [
    "matrix_1 = np.random.random((5, 3))\n",
    "matrix_2 = np.random.random((3, 2))\n",
    "\n",
    "print(np.dot(matrix_1, matrix_2))"
   ]
  },
  {
   "cell_type": "markdown",
   "id": "4815930e",
   "metadata": {},
   "source": [
    "## Data types\n",
    "\n",
    "Do you think the following preposition is true?\n",
    "`8==8`\n",
    "\n",
    "Surely you will definetely say yes, which is true mathematically, but computationally it is not always the same, at least in terms of memory. For example, run the following cell:"
   ]
  },
  {
   "cell_type": "code",
   "execution_count": 30,
   "id": "cd81c3c6",
   "metadata": {},
   "outputs": [
    {
     "name": "stdout",
     "output_type": "stream",
     "text": [
      "int64: 104\n",
      "int8: 97\n",
      "float32: 100\n"
     ]
    }
   ],
   "source": [
    "import sys\n",
    "\n",
    "# int64\n",
    "x = np.array(123)\n",
    "print(\"int64: \" + str(sys.getsizeof(x)))\n",
    "\n",
    "# int8\n",
    "x = np.array(123,dtype=np.int8)\n",
    "print(\"int8: \" + str(sys.getsizeof(x)))\n",
    "\n",
    "# float32\n",
    "x = np.array(123,dtype=np.float32)\n",
    "print(\"float32: \" + str(sys.getsizeof(x)))"
   ]
  },
  {
   "cell_type": "markdown",
   "id": "8e34f294",
   "metadata": {},
   "source": [
    "## It turns out that there are many computational representation of the same number and you can create arrays with different Data Types (dtypes) depending what you need:\n",
    "\n",
    "- Boolean : `np.bool_`\n",
    "- Char : `np.byte`\n",
    "- Short : `np.short`\n",
    "- Integer : `np.short`\n",
    "- Long : `np.int_`\n",
    "- Float : `np.single`&np.float32`\n",
    "- Double :`np.double`&`np.float64`\n",
    "- `np.int8`: integer (-128 to 127)\n",
    "- `np.int16`:integer( -32768 to 32767)\n",
    "- `np.int32`: integer(-2147483648 to 2147483647)\n",
    "- `np.int64`:integer( -9223372036854775808 to 9223372036854775807)\n",
    "\n",
    "\n",
    "Sometimes, you will need to load, create or export arrays from different data types.\n"
   ]
  },
  {
   "cell_type": "code",
   "execution_count": null,
   "id": "890bde78",
   "metadata": {},
   "outputs": [],
   "source": []
  },
  {
   "cell_type": "markdown",
   "id": "f1ae2c2d",
   "metadata": {},
   "source": [
    "## Harder exercises\n",
    "\n",
    "The next exercises are related with real situations you could face while you are working in data science and machine learning and we will be frequently talking about matrices and bidimensional arrays."
   ]
  },
  {
   "cell_type": "markdown",
   "id": "759c9c8d",
   "metadata": {},
   "source": [
    "#### Exercise: Subtract the mean of each row of a matrix (★★☆)"
   ]
  },
  {
   "cell_type": "code",
   "execution_count": 31,
   "id": "6801c73d",
   "metadata": {},
   "outputs": [
    {
     "name": "stdout",
     "output_type": "stream",
     "text": [
      "Original matrix:\n",
      "\n",
      "[[0.80791698 0.84030672 0.27490785 0.07900066 0.54860777 0.38632071\n",
      "  0.05511223 0.27559901 0.1829807  0.41888658]\n",
      " [0.53417148 0.06917599 0.83267782 0.87448116 0.83406415 0.19815095\n",
      "  0.45200667 0.50046127 0.79477753 0.80353738]\n",
      " [0.69548871 0.9328028  0.94847892 0.3597816  0.31133495 0.46551129\n",
      "  0.71531625 0.36832051 0.72498021 0.80942107]]\n",
      "\n",
      "Subtract the mean of each row of the said matrix:\n",
      "\n",
      "[[ 0.42095306  0.4533428  -0.11205607 -0.30796326  0.16164385 -0.00064321\n",
      "  -0.33185169 -0.11136491 -0.20398322  0.03192266]\n",
      " [-0.05517896 -0.52017445  0.24332738  0.28513072  0.24471371 -0.39119949\n",
      "  -0.13734377 -0.08888917  0.20542709  0.21418694]\n",
      " [ 0.06234508  0.29965916  0.31533529 -0.27336203 -0.32180868 -0.16763234\n",
      "   0.08217262 -0.26482312  0.09183658  0.17627744]]\n",
      "\n",
      "Subtract the mean of each column of the said matrix:\n",
      "\n",
      "[[ 0.12872459  0.22621155 -0.41044701 -0.35875381 -0.01606119  0.03632639\n",
      "  -0.35236615 -0.10586125 -0.38459878 -0.2583951 ]\n",
      " [-0.14502091 -0.54491918  0.14732295  0.43672669  0.26939519 -0.15184337\n",
      "   0.04452828  0.11900101  0.22719805  0.1262557 ]\n",
      " [ 0.01629632  0.31870763  0.26312406 -0.07797287 -0.25333401  0.11551698\n",
      "   0.30783787 -0.01313976  0.15740073  0.1321394 ]]\n"
     ]
    }
   ],
   "source": [
    "print(\"Original matrix:\\n\")\n",
    "X = np.random.rand(3, 10)\n",
    "print(X)\n",
    "print(\"\\nSubtract the mean of each row of the said matrix:\\n\")\n",
    "Y = X - X.mean(axis=1, keepdims=True)\n",
    "print(Y)\n",
    "print(\"\\nSubtract the mean of each column of the said matrix:\\n\")\n",
    "Z = X - X.mean(axis=0, keepdims=True)\n",
    "print(Z)"
   ]
  },
  {
   "cell_type": "markdown",
   "id": "129c342d",
   "metadata": {},
   "source": [
    "#### Exercise: How to get the dates of yesterday, today and tomorrow? (★★☆)\n",
    "Check `np.datetime64`, `np.timedelta64` in numpy (https://numpy.org/doc/stable/reference/arrays.datetime.html)"
   ]
  },
  {
   "cell_type": "code",
   "execution_count": 32,
   "id": "8ba1badb",
   "metadata": {},
   "outputs": [
    {
     "name": "stdout",
     "output_type": "stream",
     "text": [
      "today 2022-01-19\n",
      "yesterday 2022-01-18\n",
      "tomorrow 2022-01-20\n"
     ]
    }
   ],
   "source": [
    "today = np.datetime64('today', 'D')\n",
    "yesterday = today - np.timedelta64(1, 'D')\n",
    "tomorrow = today + np.timedelta64(1, 'D')\n",
    "\n",
    "print(\"today\", today)\n",
    "print(\"yesterday\", yesterday)\n",
    "print(\"tomorrow\", tomorrow)"
   ]
  },
  {
   "cell_type": "markdown",
   "id": "42f8b2f9",
   "metadata": {},
   "source": [
    "#### Exercise: How to get all the dates corresponding to the month of December 2022? (★★☆)\n",
    "Combine `arange`with `datetime`\n"
   ]
  },
  {
   "cell_type": "code",
   "execution_count": 33,
   "id": "eb8ebe45",
   "metadata": {},
   "outputs": [
    {
     "name": "stdout",
     "output_type": "stream",
     "text": [
      "['2022-12-01', '2022-12-02', '2022-12-03', '2022-12-04', '2022-12-05', '2022-12-06', '2022-12-07', '2022-12-08', '2022-12-09', '2022-12-10', '2022-12-11', '2022-12-12', '2022-12-13', '2022-12-14', '2022-12-15', '2022-12-16', '2022-12-17', '2022-12-18', '2022-12-19', '2022-12-20', '2022-12-21', '2022-12-22', '2022-12-23', '2022-12-24', '2022-12-25', '2022-12-26', '2022-12-27', '2022-12-28', '2022-12-29', '2022-12-30', '2022-12-31']\n",
      "['2022-12-01' '2022-12-02' '2022-12-03' '2022-12-04' '2022-12-05'\n",
      " '2022-12-06' '2022-12-07' '2022-12-08' '2022-12-09' '2022-12-10'\n",
      " '2022-12-11' '2022-12-12' '2022-12-13' '2022-12-14' '2022-12-15'\n",
      " '2022-12-16' '2022-12-17' '2022-12-18' '2022-12-19' '2022-12-20'\n",
      " '2022-12-21' '2022-12-22' '2022-12-23' '2022-12-24' '2022-12-25'\n",
      " '2022-12-26' '2022-12-27' '2022-12-28' '2022-12-29' '2022-12-30'\n",
      " '2022-12-31']\n"
     ]
    }
   ],
   "source": [
    "all_dates_solution1 = [(np.datetime64('2022-12', 'D') + np.timedelta64(day, 'D')).astype(\"str\") for day in np.arange(31)]\n",
    "all_dates_solution2 = np.arange('2022-12', '2023-01', dtype='datetime64[D]')\n",
    "print(all_dates_solution1)\n",
    "print(all_dates_solution2)\n"
   ]
  },
  {
   "cell_type": "markdown",
   "id": "486df8ea",
   "metadata": {},
   "source": [
    "#### Exercise: Extract the integer part of a random array of positive numbers using 2 different methods (★★☆)"
   ]
  },
  {
   "cell_type": "code",
   "execution_count": 34,
   "id": "34b4fa08",
   "metadata": {},
   "outputs": [
    {
     "name": "stdout",
     "output_type": "stream",
     "text": [
      "[9 3 3 6 7 5 7 3 6 8]\n",
      "[9 3 3 6 7 5 7 3 6 8]\n"
     ]
    }
   ],
   "source": [
    "arr_random_1 = np.random.rand(10) * 10\n",
    "print(arr_random_1.astype(\"int\"))\n",
    "print(np.int64(arr_random_1))\n"
   ]
  },
  {
   "cell_type": "markdown",
   "id": "649e89f9",
   "metadata": {},
   "source": [
    "#### Exercise: Create a 5x5 matrix with row values ranging from 0 to 4 (★★☆)"
   ]
  },
  {
   "cell_type": "code",
   "execution_count": 35,
   "id": "663cc611",
   "metadata": {},
   "outputs": [
    {
     "name": "stdout",
     "output_type": "stream",
     "text": [
      "[[2 1 2 0 1]\n",
      " [2 2 3 1 1]\n",
      " [2 0 3 3 1]\n",
      " [1 2 0 0 3]\n",
      " [3 1 3 2 3]]\n"
     ]
    }
   ],
   "source": [
    "m_5x5 = np.int64(np.random.rand(5,5) * 4)\n",
    "print(m_5x5)"
   ]
  },
  {
   "cell_type": "markdown",
   "id": "3421e17f",
   "metadata": {},
   "source": [
    "#### Exercise: Consider a generator function that generates 10 integers and use it to build an array (★★☆)"
   ]
  },
  {
   "cell_type": "code",
   "execution_count": 37,
   "id": "7336b8e4",
   "metadata": {},
   "outputs": [
    {
     "name": "stdout",
     "output_type": "stream",
     "text": [
      "[0 1 2 3 4 5 6 7 8 9]\n"
     ]
    }
   ],
   "source": [
    "def generate():\n",
    "   for n in range(10):\n",
    "       yield n\n",
    "gen_arr_10int = np.fromiter(generate(),dtype=int)\n",
    "\n",
    "print(gen_arr_10int)"
   ]
  },
  {
   "cell_type": "markdown",
   "id": "483dd554",
   "metadata": {},
   "source": [
    "#### Exercise: Create a vector of size 10 with values ranging from 0 to 1, both excluded (★★☆)"
   ]
  },
  {
   "cell_type": "code",
   "execution_count": 38,
   "id": "c89b93e7",
   "metadata": {},
   "outputs": [
    {
     "name": "stdout",
     "output_type": "stream",
     "text": [
      "[0.11111111 0.22222222 0.33333333 0.44444444 0.55555556 0.66666667\n",
      " 0.77777778 0.88888889]\n"
     ]
    }
   ],
   "source": [
    "print(np.linspace(0,1,10)[1:-1])"
   ]
  },
  {
   "cell_type": "markdown",
   "id": "2d07be1c",
   "metadata": {},
   "source": [
    "#### Exercise: Create a random vector of size 10 and sort it (★★☆)"
   ]
  },
  {
   "cell_type": "code",
   "execution_count": 40,
   "id": "4f7cb3ad",
   "metadata": {},
   "outputs": [
    {
     "name": "stdout",
     "output_type": "stream",
     "text": [
      "[0.08168964 0.19157562 0.29929036 0.42123137 0.60078165 0.66997187\n",
      " 0.6848132  0.77474861 0.9061472  0.92381096]\n"
     ]
    }
   ],
   "source": [
    "print(np.sort(np.random.rand(10)))"
   ]
  },
  {
   "cell_type": "markdown",
   "id": "fe043549",
   "metadata": {},
   "source": [
    "#### Exercise: Consider two random array A and B, check if they are equal (★★☆)"
   ]
  },
  {
   "cell_type": "code",
   "execution_count": 52,
   "id": "3326a686",
   "metadata": {},
   "outputs": [
    {
     "name": "stdout",
     "output_type": "stream",
     "text": [
      "False\n",
      "[[False False False False False False False False False False]\n",
      " [False False False False False False False False False False]]\n",
      "[[False False False False False False False False False False]\n",
      " [False False False False False False False False False False]]\n",
      "[[False False False False False False False False False False]\n",
      " [False False False False False False False False False False]]\n"
     ]
    }
   ],
   "source": [
    "A = np.random.rand(2,10)\n",
    "B = np.random.rand(2,10)\n",
    "print(np.allclose(A, B))\n",
    "print(np.isclose(A, B))\n",
    "##print(np.all(A, B)) # only integer scalar arrays\n",
    "##print(np.any(A, B)) # only integer scalar arrays\n",
    "print(np.equal(A, B))\n",
    "print(A == B)\n"
   ]
  },
  {
   "cell_type": "markdown",
   "id": "2002cb03",
   "metadata": {},
   "source": [
    "#### Exercise: Consider a random 10x2 matrix representing cartesian coordinates, convert them to polar coordinates (★★★)\n",
    "Suggestion: check how to calculate the \"square of a matrix\""
   ]
  },
  {
   "cell_type": "code",
   "execution_count": 73,
   "id": "58be72bc",
   "metadata": {},
   "outputs": [
    {
     "name": "stdout",
     "output_type": "stream",
     "text": [
      "[[0.868172   0.10364681]\n",
      " [0.86782206 0.9403985 ]\n",
      " [0.52329329 0.63793922]\n",
      " [0.57524021 0.32714476]\n",
      " [0.82080977 0.8553513 ]\n",
      " [0.23602462 0.30389379]\n",
      " [0.78127872 0.33853784]\n",
      " [0.08851605 0.41430766]\n",
      " [0.2925742  0.21178337]\n",
      " [0.5626495  0.69143689]]\n",
      "[[0.87433705 1.2796345 ]\n",
      " [0.82510746 0.66175902]\n",
      " [1.1854765  0.38478443]\n",
      " [0.85147185 0.4236578 ]\n",
      " [0.3611812  0.89143672]\n",
      " [0.11882273 0.82551357]\n",
      " [0.88380705 0.5170942 ]\n",
      " [0.80600277 0.91044491]\n",
      " [0.40889029 1.36031268]\n",
      " [0.62656192 0.88773362]]\n"
     ]
    }
   ],
   "source": [
    "cartesian_coordinates = np.random.rand(10,2)\n",
    "print(cartesian_coordinates)\n",
    "#print(np.arctan(cartesian_coordinates[:,1]/cartesian_coordinates[:,0]).reshape(-1,1))\n",
    "#print(np.sqrt((cartesian_coordinates[:,1])**2 + (cartesian_coordinates[:,0])**2).reshape(-1,1))\n",
    "polar_coordinates = np.array([np.sqrt((cartesian_coordinates[:,0])**2 + (cartesian_coordinates[:,1])**2), np.arctan(cartesian_coordinates[:,1]/cartesian_coordinates[:,0])])\n",
    "print(polar_coordinates.reshape(10,2))\n"
   ]
  },
  {
   "cell_type": "markdown",
   "id": "b7109c9f",
   "metadata": {},
   "source": [
    "#### Exercise: Create random vector of size 10 and replace the maximum value by 0 (★★☆)"
   ]
  },
  {
   "cell_type": "code",
   "execution_count": 76,
   "id": "f79e79a7",
   "metadata": {},
   "outputs": [
    {
     "name": "stdout",
     "output_type": "stream",
     "text": [
      "[13  7  8  2  2  9 15 12 16 18]\n",
      "18\n",
      "[13  7  8  2  2  9 15 12 16  0]\n"
     ]
    }
   ],
   "source": [
    "rand_vect = np.random.randint(1,20,size=10)\n",
    "print(rand_vect)\n",
    "print(rand_vect.max())\n",
    "rand_vect[rand_vect == rand_vect.max()]=0\n",
    "print(rand_vect)"
   ]
  },
  {
   "cell_type": "markdown",
   "id": "fb24674c",
   "metadata": {},
   "source": [
    "#### Exercise: How to print all the values of an array? (★★☆)"
   ]
  },
  {
   "cell_type": "code",
   "execution_count": 88,
   "id": "c81f1456",
   "metadata": {},
   "outputs": [
    {
     "name": "stdout",
     "output_type": "stream",
     "text": [
      "[[17.57092928  8.398686    3.23221802 21.40252448 21.69460024  5.43544109\n",
      "   6.35022922  3.25564576 19.09100092 11.72671254  3.47915772 12.73150316\n",
      "   7.27677376 17.29144809 19.12227499 16.71767219 12.94740273 15.01716637\n",
      "  16.68996782 21.22906545]\n",
      " [11.26762181  5.56840635 17.24472866  6.61393438 15.79864237 14.76190749\n",
      "  14.65342259 16.46002198 15.95454518 11.66452637 21.00817214 10.69258323\n",
      "  12.27230344 20.95489016 14.08767246 11.64179997 13.51568331 11.943579\n",
      "  17.38824979  3.76541549]\n",
      " [14.35700728 11.17264505 11.08391265 15.80885848  3.27182118 17.62624561\n",
      "   8.55558643 17.68114187 18.35484856  3.48633869 17.10920612 15.1469432\n",
      "  22.09993069  7.24893363  3.88817407 13.4440849  18.51394015 20.30607018\n",
      "  12.14928036 10.92269551]\n",
      " [22.48405438 10.8478232   6.90840818 12.28018467 11.29851158 13.61400842\n",
      "  13.79699863 15.29050775  5.14325631 12.86709252  6.75694654 12.32628666\n",
      "   7.4284248   7.42577853 10.8496689   4.42911773 20.75675518 17.22076159\n",
      "  17.06198692  3.7564595 ]\n",
      " [20.31743442  9.61782819 22.07390887 15.78554594 10.44175869  7.57437054\n",
      "  14.1929828  18.23332404  5.78111385 18.87864132 20.71633374 19.07231684\n",
      "   8.2422096  19.80818862  9.37488075  5.90123837 13.51979289 15.63081057\n",
      "   3.70810964  7.27711551]\n",
      " [18.59267965  4.95716734 15.35904906  5.6863601  21.57820232 10.33023183\n",
      "  21.6121277   7.57990825 18.49456863 18.34731631 21.94103187 10.49279422\n",
      "  12.50788806 20.5227586  10.00008545  4.26282926  6.20859398 12.09839263\n",
      "  22.03453837 22.75667268]\n",
      " [ 6.9805713   3.77050147  9.75854652 17.13341338 16.70976739 14.1300969\n",
      "   3.79780964 16.75997213  6.06092428 19.02849456 11.33655687  4.71567632\n",
      "   4.35540203 13.61675593  9.17830108 14.48242386 12.73495066 11.33740338\n",
      "   7.79646995 22.01377175]\n",
      " [ 6.37321724  4.28377927  4.11939403 13.07355883  6.89817049 12.50292878\n",
      "   3.71261678 21.5793648  20.19745171 18.93693718 14.18217555 15.01761999\n",
      "   8.21096646 20.12643832  8.58725464 16.70652082  3.04231659  6.58651341\n",
      "   7.82433235 17.30847498]\n",
      " [ 4.56746586  5.22144177 15.04979048  9.08683035 13.28252361  5.00219088\n",
      "   7.55040256  5.80936424 21.844593    4.10083358 20.09920246 11.35950842\n",
      "  10.50116966 15.70563305  6.54776559 15.57372663 16.59543457 11.72155861\n",
      "   6.57444928  7.90170856]\n",
      " [14.54495017 21.88737723 19.83818667 19.74659885 10.45631961 21.44227369\n",
      "   5.99695031  4.90757513 15.79708135 14.04710895 12.95211793  5.41673205\n",
      "  11.15424594 17.13242301 17.84491311  5.6817137   6.9002208   9.9068004\n",
      "  13.7990899  11.23720752]\n",
      " [19.56471466  8.3373937  17.67209108 17.73423828  5.18143341  4.066047\n",
      "   5.34144411 12.16881626 21.39500255 19.77754288  4.22172747 12.71722276\n",
      "  10.94887106 13.84735354  8.1778848   9.09821995 14.44173427  6.36195211\n",
      "  11.22235774  3.46016979]\n",
      " [ 3.5405114   7.41002268 11.63166582  6.80039894  4.87968405  5.81464351\n",
      "   5.41866903  9.2472995  20.15852972  7.41480665 15.3619386   7.4494215\n",
      "  18.94797114 12.37873464 14.14256739  3.13796278  7.01635938 19.00287514\n",
      "  11.78862912  8.49733102]]\n",
      "[[17.570929281608024, 8.398686001037516, 3.232218020215851, 21.402524483205983, 21.694600236975297, 5.435441089554007, 6.350229215650522, 3.2556457648644272, 19.091000917331332, 11.72671254416235, 3.479157719066794, 12.731503157178413, 7.276773759325234, 17.291448086367385, 19.122274988710636, 16.717672187917753, 12.947402733680448, 15.017166367132898, 16.68996782032737, 21.229065450857814], [11.267621810396907, 5.5684063452078565, 17.244728663784123, 6.613934383187778, 15.798642373108853, 14.761907489052831, 14.653422587880373, 16.46002198073606, 15.95454518283532, 11.664526369947222, 21.00817213966147, 10.69258322888328, 12.272303436994527, 20.954890164291633, 14.087672462030746, 11.641799967006413, 13.515683309799792, 11.943579004206834, 17.388249793189473, 3.765415486304477], [14.357007283629262, 11.172645054020053, 11.083912648928372, 15.808858475616871, 3.2718211753056776, 17.626245611122386, 8.555586434531016, 17.68114187196292, 18.354848557104358, 3.486338691788022, 17.10920611575967, 15.146943196306063, 22.099930690214517, 7.248933631798422, 3.8881740652975156, 13.444084902767637, 18.513940150998266, 20.306070181803065, 12.14928036444914, 10.922695505096193], [22.484054377023238, 10.847823196341137, 6.908408180750563, 12.280184673922927, 11.298511575737493, 13.614008421668707, 13.796998634978667, 15.290507748511999, 5.143256308251685, 12.867092518752536, 6.75694654208881, 12.326286662815672, 7.428424795330006, 7.425778532114069, 10.849668895990803, 4.429117731750664, 20.75675517625244, 17.220761593033416, 17.061986924596106, 3.7564595031188803], [20.317434417403025, 9.617828189499846, 22.073908871803795, 15.785545940679706, 10.441758694924701, 7.574370541920583, 14.192982800341282, 18.233324037148392, 5.78111384688682, 18.8786413212728, 20.71633373894345, 19.07231683839366, 8.242209600981704, 19.80818862250691, 9.374880747387312, 5.901238369996775, 13.519792885408357, 15.63081057305376, 3.70810964399755, 7.277115508879343], [18.592679648454048, 4.957167337737424, 15.359049060692428, 5.68636010400466, 21.578202322597292, 10.330231834855379, 21.61212770364537, 7.579908250772906, 18.494568626799804, 18.34731630990494, 21.941031866837143, 10.492794217949005, 12.507888063678564, 20.522758601887286, 10.00008545443387, 4.26282926072856, 6.2085939763615645, 12.098392631521822, 22.034538366037847, 22.75667268029875], [6.98057130451221, 3.7705014743897176, 9.758546521276585, 17.13341337780122, 16.709767391370136, 14.130096895466938, 3.797809644300884, 16.75997213140203, 6.060924278615069, 19.028494562663806, 11.336556874815669, 4.715676324445017, 4.355402033124564, 13.616755926994765, 9.178301078761944, 14.48242385675421, 12.734950660118876, 11.337403378241724, 7.796469948101203, 22.01377174578624], [6.373217240776367, 4.283779271094662, 4.119394031966081, 13.073558833911132, 6.898170486533963, 12.502928784696518, 3.7126167777619785, 21.579364796264343, 20.197451712951366, 18.936937176607454, 14.182175550189049, 15.017619985061076, 8.210966459534294, 20.126438324065855, 8.587254642671546, 16.70652082457665, 3.042316589155247, 6.586513407921048, 7.824332347664129, 17.30847497958323], [4.567465860225223, 5.221441771365433, 15.049790483783267, 9.086830350386826, 13.28252360953447, 5.002190881461718, 7.5504025604874005, 5.809364235212726, 21.84459300136266, 4.100833581742289, 20.099202456158366, 11.3595084192396, 10.501169659575453, 15.705633052331537, 6.547765587995723, 15.573726632934916, 16.595434569947187, 11.721558610144342, 6.574449284339383, 7.901708564265935], [14.544950168821984, 21.887377230526006, 19.83818666565806, 19.7465988468173, 10.456319614570626, 21.44227369443455, 5.996950312681086, 4.907575132933266, 15.79708135154554, 14.047108953300075, 12.952117930713555, 5.416732048432122, 11.15424594088241, 17.13242301142933, 17.84491311207419, 5.681713702485887, 6.900220795007872, 9.906800399154122, 13.799089904539763, 11.237207524376434], [19.564714663549083, 8.337393695067178, 17.672091076880015, 17.73423827718304, 5.181433405712056, 4.066046999299594, 5.341444106581536, 12.168816264928264, 21.395002550877265, 19.7775428778446, 4.2217274734734, 12.71722275561194, 10.948871060455073, 13.847353542540151, 8.177884798568119, 9.09821994901029, 14.441734272756586, 6.361952106994435, 11.22235773587212, 3.460169793628631], [3.5405114005733225, 7.4100226761225585, 11.631665822798071, 6.800398937117871, 4.879684052947659, 5.814643514722814, 5.4186690345366735, 9.247299501655528, 20.158529722090368, 7.414806652210399, 15.36193860367337, 7.44942149697118, 18.947971140036934, 12.378734644335127, 14.142567394140446, 3.137962782518426, 7.016359377214929, 19.0028751375766, 11.78862912069973, 8.4973310172129]]\n"
     ]
    }
   ],
   "source": [
    "rand_vect = np.random.rand(12,20)*20 + 3\n",
    "\n",
    "with np.printoptions(threshold=np.inf):\n",
    "    print(rand_vect)\n",
    "print(rand_vect.tolist())"
   ]
  },
  {
   "cell_type": "markdown",
   "id": "48413134",
   "metadata": {},
   "source": [
    "#### Exercise: How to convert a float (32 bits) array into an integer (32 bits) in place?\n",
    "Check https://stackoverflow.com/a/4396247/5989906"
   ]
  },
  {
   "cell_type": "code",
   "execution_count": null,
   "id": "5db64b6d",
   "metadata": {},
   "outputs": [],
   "source": []
  },
  {
   "cell_type": "markdown",
   "id": "215b6acc",
   "metadata": {},
   "source": [
    "#### Exercise: Subtract the mean of each row of a matrix (★★☆)"
   ]
  },
  {
   "cell_type": "code",
   "execution_count": null,
   "id": "dd1adef4",
   "metadata": {},
   "outputs": [],
   "source": []
  },
  {
   "cell_type": "markdown",
   "id": "c0cf37e0",
   "metadata": {},
   "source": [
    "#### Exercise: How to sort an array by the nth column? (★★☆)"
   ]
  },
  {
   "cell_type": "code",
   "execution_count": null,
   "id": "9336ca5f",
   "metadata": {},
   "outputs": [],
   "source": []
  },
  {
   "cell_type": "markdown",
   "id": "c17fb213",
   "metadata": {},
   "source": [
    "#### Exercise: Find the position of a the minimum of a 2D matrix? (★★☆)"
   ]
  },
  {
   "cell_type": "code",
   "execution_count": null,
   "id": "7fdda78d",
   "metadata": {},
   "outputs": [],
   "source": []
  },
  {
   "cell_type": "markdown",
   "id": "f4427f7f",
   "metadata": {},
   "source": [
    "#### Exercise: Read an image using openCV, check its dimensions, normalize the numbers and show the image (★★★)\n",
    "Check: https://www.geeksforgeeks.org/python-opencv-cv2-imread-method/"
   ]
  },
  {
   "cell_type": "code",
   "execution_count": null,
   "id": "fe253212",
   "metadata": {},
   "outputs": [],
   "source": []
  },
  {
   "cell_type": "markdown",
   "id": "33c986d9",
   "metadata": {},
   "source": [
    "#### Exercise: Considering a four dimensions array, how to get sum over the last two axis at once? (★★★)"
   ]
  },
  {
   "cell_type": "code",
   "execution_count": null,
   "id": "a99a50e2",
   "metadata": {},
   "outputs": [],
   "source": []
  },
  {
   "cell_type": "markdown",
   "id": "928a1a15",
   "metadata": {},
   "source": [
    "#### Exercise: How to get the diagonal of a dot product? (★★★)"
   ]
  },
  {
   "cell_type": "code",
   "execution_count": null,
   "id": "ef2c9ddd",
   "metadata": {},
   "outputs": [],
   "source": []
  },
  {
   "cell_type": "markdown",
   "id": "f62551d8",
   "metadata": {},
   "source": [
    "#### Exercise: Consider an array of dimension (5,5,3), how to mulitply it by an array with dimensions (5,5)? (★★★)"
   ]
  },
  {
   "cell_type": "code",
   "execution_count": null,
   "id": "9ab241b7",
   "metadata": {},
   "outputs": [],
   "source": []
  },
  {
   "cell_type": "markdown",
   "id": "6896e326",
   "metadata": {},
   "source": [
    "#### Exercise: How to swap two rows of an array? (★★★)"
   ]
  },
  {
   "cell_type": "code",
   "execution_count": null,
   "id": "9e8fcba9",
   "metadata": {},
   "outputs": [],
   "source": []
  },
  {
   "cell_type": "markdown",
   "id": "8e83df46",
   "metadata": {},
   "source": [
    "#### Exercise: Read an image using openCV and tranpose it. What did you get exactly? Was the image rotated? Moved? Reflected with respect to an axis? (★★★)"
   ]
  },
  {
   "cell_type": "code",
   "execution_count": null,
   "id": "f73127b7",
   "metadata": {},
   "outputs": [],
   "source": []
  },
  {
   "cell_type": "markdown",
   "id": "781fa236",
   "metadata": {},
   "source": [
    "#### Exercise: Consider an array Z = [1,2,3,4,5,6,7,8,9,10,11,12,13,14], how to generate an array R = [[1,2,3,4], [2,3,4,5], [3,4,5,6], ..., [11,12,13,14]]? (★★★)"
   ]
  },
  {
   "cell_type": "code",
   "execution_count": null,
   "id": "8e84d3c2",
   "metadata": {},
   "outputs": [],
   "source": []
  },
  {
   "cell_type": "markdown",
   "id": "7d8dc135",
   "metadata": {},
   "source": [
    "#### Exercise: How to find the most frequent value in an array? (★★★)"
   ]
  },
  {
   "cell_type": "code",
   "execution_count": null,
   "id": "3978a7a2",
   "metadata": {},
   "outputs": [],
   "source": []
  },
  {
   "cell_type": "markdown",
   "id": "4c70397b",
   "metadata": {},
   "source": [
    "#### Exercise: How to get the n largest values of an array (★★★)"
   ]
  },
  {
   "cell_type": "code",
   "execution_count": null,
   "id": "16371718",
   "metadata": {},
   "outputs": [],
   "source": []
  },
  {
   "cell_type": "markdown",
   "id": "d94352b6",
   "metadata": {},
   "source": [
    "#### Exercise: Consider a large vector Z, compute Z to the power of 3 using 3 different methods (★★★)"
   ]
  },
  {
   "cell_type": "code",
   "execution_count": null,
   "id": "301ba8a8",
   "metadata": {},
   "outputs": [],
   "source": []
  },
  {
   "cell_type": "markdown",
   "id": "2784c996",
   "metadata": {},
   "source": [
    "#### Exercise: Given a two dimensional array, how to extract unique rows? (★★★)"
   ]
  },
  {
   "cell_type": "code",
   "execution_count": null,
   "id": "f030595f",
   "metadata": {},
   "outputs": [],
   "source": []
  },
  {
   "cell_type": "markdown",
   "id": "e5737276",
   "metadata": {},
   "source": [
    "#### Exercise: Can you have arrray of strings? can you mix different data types in the same array? Can you operate (add, sub, mult) arrays with different data types? (★★★)"
   ]
  },
  {
   "cell_type": "code",
   "execution_count": null,
   "id": "68c333b0",
   "metadata": {},
   "outputs": [],
   "source": []
  }
 ],
 "metadata": {
  "kernelspec": {
   "display_name": "Python 3",
   "language": "python",
   "name": "python3"
  },
  "language_info": {
   "codemirror_mode": {
    "name": "ipython",
    "version": 3
   },
   "file_extension": ".py",
   "mimetype": "text/x-python",
   "name": "python",
   "nbconvert_exporter": "python",
   "pygments_lexer": "ipython3",
   "version": "3.8.12"
  }
 },
 "nbformat": 4,
 "nbformat_minor": 5
}
