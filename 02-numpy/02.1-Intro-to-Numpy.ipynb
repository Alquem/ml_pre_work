{
 "cells": [
  {
   "cell_type": "markdown",
   "id": "bdfbcacc",
   "metadata": {},
   "source": [
    "<img src=\"./assets/numpy_logo.png\" alt=\"logo\" width=\"400\"/>\n",
    "\n",
    "## Introduction to numpy\n",
    "\n",
    "NumPy stands for 'Numerical Python'. It is an open-source Python library used to perform various mathematical and scientific tasks. It contains multi-dimensional arrays and matrices, along with many high-level mathematical functions that operate on these arrays and matrices. It contains among other things:\n",
    "\n",
    "→ a powerful N-dimensional array object\n",
    "\n",
    "→ sophisticated (broadcasting) functions\n",
    "\n",
    "→ tools for integrating C/C++ and Fortran code\n",
    "\n",
    "→ useful linear algebra, Fourier transform, and random number capabilities"
   ]
  },
  {
   "cell_type": "markdown",
   "id": "85902746",
   "metadata": {},
   "source": [
    "## Installing NumPy\n",
    "When you want to work with numpy locally, you should run the following commands:\n",
    "\n",
    "You can install NumPy with:\\\n",
    "`pip install numpy`\\\n",
    "or\\\n",
    "`conda install numpy`\n",
    "\n",
    "In our case, 4Geeks have prepared all the environment in order that you can work comfortably."
   ]
  },
  {
   "cell_type": "markdown",
   "id": "58765356",
   "metadata": {},
   "source": [
    "## Why should we use NumPy?\n",
    "\n",
    "Numpy is a library to perform numerical calculation in python. We will use it mainly because it allows us to create and modify matrices, and to do operations on them with ease.\n",
    "\n",
    "NumPy is, like Pandas, Matplotlib or Scikit-Learn, one of the packages that you cannot miss when you are learning Machine Learning, mainly because this library provides a matrix data structure that has some benefits over regular Python lists. Some of these benefits are: being more compact, quicker access to reading and writing articles, being more convenient and more efficient.\n",
    "\n",
    "For example, we will see later in the bootcamp that working with images means dealing with three-dimensional matrices as large as 3840 x 2160, which means we will have 3×3840×2160 = 24883200 entries!!! 😱😱😱.\n",
    "\n",
    "Working with matrices of that magnitude is practically impossible to carry out with lists and dictionaries if one wants to have an efficient and fast programming."
   ]
  },
  {
   "cell_type": "markdown",
   "id": "c4e52ee5",
   "metadata": {},
   "source": [
    "#### Exercise: Import the numpy package under the name `np` (★☆☆)\n",
    "\n",
    "`numpy` is commonly imported as `np` so we highly recommend to put this alias."
   ]
  },
  {
   "cell_type": "code",
   "execution_count": 4,
   "id": "ea3038d9",
   "metadata": {},
   "outputs": [],
   "source": [
    "import numpy as np"
   ]
  },
  {
   "cell_type": "markdown",
   "id": "40631cd6",
   "metadata": {},
   "source": [
    "## What is an array and why it is importante for machine learning?\n",
    "\n",
    "An array is a data structure consisting of a collection of elements (values or variables), each identified by at least one array index or key.\n"
   ]
  },
  {
   "cell_type": "markdown",
   "id": "ce969254",
   "metadata": {},
   "source": [
    "![alt text](assets/1D.png \"1D\")"
   ]
  },
  {
   "cell_type": "markdown",
   "id": "735d02e2",
   "metadata": {},
   "source": [
    "We can have arrays from several dimension. Neural networks sometimes deal with 4D arrays. An array is known as the central data structure of the NumPy library. Array in NumPy is called as NumPy Array. Later, we will use also other kind of arrays thar are called: Tensors."
   ]
  },
  {
   "cell_type": "markdown",
   "id": "a20ce3a4",
   "metadata": {},
   "source": [
    "![alt text](./assets/3D.png \"3D\")"
   ]
  },
  {
   "cell_type": "markdown",
   "id": "46950f4f",
   "metadata": {},
   "source": [
    "#### Exercise: Print the numpy version and the configuration (★☆☆)\n",
    "\n",
    "You can print the version of any package of Python using `name_of_package.__version__`"
   ]
  },
  {
   "cell_type": "code",
   "execution_count": 5,
   "id": "2a9f5838",
   "metadata": {},
   "outputs": [
    {
     "name": "stdout",
     "output_type": "stream",
     "text": [
      "1.22.1\n"
     ]
    }
   ],
   "source": [
    "import numpy as np\n",
    "print(np.__version__)"
   ]
  },
  {
   "cell_type": "markdown",
   "id": "e3c20b3d",
   "metadata": {},
   "source": [
    "#### Exercise: Create a null vector of size 10 (★☆☆)\n",
    "\n",
    "A `null vector` is an array of zeros (`0`), also called `inicializacion vector`.\n",
    "\n",
    "Check de function `np.zeros` (https://numpy.org/doc/stable/reference/generated/numpy.zeros.html)"
   ]
  },
  {
   "cell_type": "code",
   "execution_count": 6,
   "id": "8a758bcf",
   "metadata": {},
   "outputs": [
    {
     "data": {
      "text/plain": [
       "array([0., 0., 0., 0., 0., 0., 0., 0., 0., 0.])"
      ]
     },
     "execution_count": 6,
     "metadata": {},
     "output_type": "execute_result"
    }
   ],
   "source": [
    "np.zeros(10)"
   ]
  },
  {
   "cell_type": "markdown",
   "id": "6cbe7954",
   "metadata": {},
   "source": [
    "#### Exercise: Create a vector of ones with size 10 (★☆☆)\n",
    "Check de function `np.ones` (https://numpy.org/doc/stable/reference/generated/numpy.ones.html)"
   ]
  },
  {
   "cell_type": "code",
   "execution_count": 7,
   "id": "86477874",
   "metadata": {},
   "outputs": [
    {
     "data": {
      "text/plain": [
       "array([1., 1., 1., 1., 1., 1., 1., 1., 1., 1.])"
      ]
     },
     "execution_count": 7,
     "metadata": {},
     "output_type": "execute_result"
    }
   ],
   "source": [
    "np.ones(10)"
   ]
  },
  {
   "cell_type": "markdown",
   "id": "0a708990",
   "metadata": {},
   "source": [
    "#### Exercise: Create an 1D array with specific start value, end value and number of values (★☆☆)\n",
    "\n",
    "Check the function `np.linspace` (https://numpy.org/doc/stable/reference/generated/numpy.linspace.html)"
   ]
  },
  {
   "cell_type": "code",
   "execution_count": 8,
   "id": "477e01f4",
   "metadata": {},
   "outputs": [
    {
     "data": {
      "text/plain": [
       "array([0.        , 0.11111111, 0.22222222, 0.33333333, 0.44444444,\n",
       "       0.55555556, 0.66666667, 0.77777778, 0.88888889, 1.        ])"
      ]
     },
     "execution_count": 8,
     "metadata": {},
     "output_type": "execute_result"
    }
   ],
   "source": [
    "np.linspace(0,1,10)"
   ]
  },
  {
   "cell_type": "markdown",
   "id": "782d4c77",
   "metadata": {},
   "source": [
    "#### Run: Create a vector (1D array) with random integers from 10 to 49 and dimension 1x35 (★☆☆)\n",
    "\n",
    "When `dimension` is expressed `1x35` it means: One dimension array with 35 items (length=35).\n",
    "\n",
    "Check the function `np.random` which allows you to create random arrays (https://numpy.org/doc/1.16/reference/routines.random.html)"
   ]
  },
  {
   "cell_type": "code",
   "execution_count": 9,
   "id": "5dbe1a08",
   "metadata": {},
   "outputs": [
    {
     "name": "stdout",
     "output_type": "stream",
     "text": [
      "[0.41327165 0.29976058 0.86990539 0.75482848 0.40335102 0.22190692\n",
      " 0.67641271 0.02639257 0.94454136 0.85229209]\n",
      "[37.01431029 24.81532749 19.12775508 29.21425806 38.90637416 41.25680813\n",
      " 40.30164094 36.28878039 14.86911448 14.59903179 46.79971852 34.98973228\n",
      " 19.292615   28.94318659 12.31936512 34.79157023 46.83591863 26.46872762\n",
      " 12.95966598 32.38517567 11.92513502 15.38383771 32.1917903  44.2176867\n",
      " 36.14975316 11.13878796 30.82166574 25.74419705 48.4965762  17.54201406\n",
      " 26.34582645 45.02240469 21.08505859 43.93875267 47.44711382]\n"
     ]
    }
   ],
   "source": [
    "import numpy as np\n",
    "\n",
    "## 10 random numbers between (0, 1)\n",
    "print(np.random.random(10))\n",
    "## 35 random numbers between (10, 49)\n",
    "print(np.random.random(35)*39 + 10)  "
   ]
  },
  {
   "cell_type": "code",
   "execution_count": 10,
   "id": "a9354456",
   "metadata": {},
   "outputs": [
    {
     "name": "stdout",
     "output_type": "stream",
     "text": [
      "[0.19493876 0.10915582 0.33899438 0.23919752 0.90752135 0.02751952\n",
      " 0.82475212 0.63214787 0.27348458 0.07038175]\n",
      "[ 1.34847708 -0.47795803  1.15484451  0.33553946  0.03955165 -0.56982523\n",
      "  2.94528199 -0.93657249  1.60216668 -0.71347434]\n"
     ]
    }
   ],
   "source": [
    "## Two ways to create numbers with normal distribution\n",
    "print(np.random.rand(10)) # 10 random values with distribution N(0,1)\n",
    "print(np.random.normal(loc = 0, scale = 1, size = 10)) # 10 random values with distribution N(0,1)"
   ]
  },
  {
   "cell_type": "code",
   "execution_count": 11,
   "id": "73ed6271",
   "metadata": {},
   "outputs": [
    {
     "name": "stdout",
     "output_type": "stream",
     "text": [
      "[-36.32647069  33.98455634  17.05569442 -23.38641967   8.46686016\n",
      "  17.81142201   9.08596287 -18.22805568 -12.24445169 -27.87772875]\n"
     ]
    }
   ],
   "source": [
    "## Did you notice the difference between both functions? \n",
    "print(np.random.normal(loc = -5, scale = 33, size = 10)) # 10 random values with distribution N(-5,33)"
   ]
  },
  {
   "cell_type": "code",
   "execution_count": 12,
   "id": "49ae7a5a",
   "metadata": {},
   "outputs": [
    {
     "name": "stdout",
     "output_type": "stream",
     "text": [
      "[ 78.99590358  -3.67245719  78.10036254   7.98023343  95.96931126\n",
      "  19.77718918  83.4280562   85.49183161 -11.04702573  77.97438212]\n"
     ]
    }
   ],
   "source": [
    "## 10 random values with uniform distribution. That is, all values have the same probability\n",
    "print(np.random.uniform(-30,100,10)) # All values are between -30 and 100."
   ]
  },
  {
   "cell_type": "code",
   "execution_count": 13,
   "id": "f78e72cb",
   "metadata": {},
   "outputs": [
    {
     "name": "stdout",
     "output_type": "stream",
     "text": [
      "[51 65 71 16 80 39  4 85 92 92]\n"
     ]
    }
   ],
   "source": [
    "# 10 integers values between 0 and 100.\n",
    "print(np.random.randint(0, 100, 10))"
   ]
  },
  {
   "cell_type": "code",
   "execution_count": 14,
   "id": "db278431",
   "metadata": {},
   "outputs": [
    {
     "name": "stdout",
     "output_type": "stream",
     "text": [
      "[5.82819891 5.01702294 3.13550186 5.852718   3.36167573 2.68683886\n",
      " 5.67069793 3.16907167 2.84992403 4.85968263]\n"
     ]
    }
   ],
   "source": [
    "# 10 random values with Chi distribution with 5 degrees of freedom\n",
    "print(np.random.chisquare(5,10))"
   ]
  },
  {
   "cell_type": "markdown",
   "id": "1b7841da",
   "metadata": {},
   "source": [
    "The above examples are the most common distribution and random values you will learn throughout the bootcamp. Now, let's deal with those arrays."
   ]
  },
  {
   "cell_type": "markdown",
   "id": "48d48f01",
   "metadata": {},
   "source": [
    "#### Exercise: Reverse one of the last vector we created before (first element becomes last) (★☆☆)\n",
    "Try with `[::-1]`"
   ]
  },
  {
   "cell_type": "code",
   "execution_count": 15,
   "id": "3ed233e7",
   "metadata": {},
   "outputs": [
    {
     "name": "stdout",
     "output_type": "stream",
     "text": [
      "[86 54 47 74 18 67 38 35 91  3]\n",
      "[ 3 91 35 38 67 18 74 47 54 86]\n"
     ]
    }
   ],
   "source": [
    "rand_int_vect = np.random.randint(0, 100, 10)\n",
    "print(rand_int_vect)\n",
    "print(rand_int_vect[::-1])"
   ]
  },
  {
   "cell_type": "markdown",
   "id": "4fa39382",
   "metadata": {},
   "source": [
    "#### Exercise: Create a 5x5 identidy matrix (★☆☆)\n",
    "Check the function `np.eye`(https://numpy.org/devdocs/reference/generated/numpy.eye.html)"
   ]
  },
  {
   "cell_type": "code",
   "execution_count": 16,
   "id": "c97757ec",
   "metadata": {},
   "outputs": [
    {
     "name": "stdout",
     "output_type": "stream",
     "text": [
      "[[1. 0. 0. 0. 0.]\n",
      " [0. 1. 0. 0. 0.]\n",
      " [0. 0. 1. 0. 0.]\n",
      " [0. 0. 0. 1. 0.]\n",
      " [0. 0. 0. 0. 1.]]\n"
     ]
    }
   ],
   "source": [
    "print(np.eye(5))"
   ]
  },
  {
   "cell_type": "markdown",
   "id": "da64551a",
   "metadata": {},
   "source": [
    "#### Exercise: Find indices of non-zero elements from [1,2,0,0,4,0] (★☆☆)\n",
    "Check the function `where`(https://numpy.org/devdocs/reference/generated/numpy.where.html)"
   ]
  },
  {
   "cell_type": "code",
   "execution_count": 17,
   "id": "327f7adb",
   "metadata": {},
   "outputs": [
    {
     "name": "stdout",
     "output_type": "stream",
     "text": [
      "[0 1 4]\n"
     ]
    }
   ],
   "source": [
    "print(np.where(np.array([1,2,0,0,4,0]) != 0)[0])"
   ]
  },
  {
   "cell_type": "markdown",
   "id": "13c5928c",
   "metadata": {},
   "source": [
    "#### Exercise: Create a 10x10 array with random values and find the minimum and maximum values (★☆☆)\n",
    "Check the function `min`(https://numpy.org/devdocs/reference/generated/numpy.where.html) and `max`(https://numpy.org/devdocs/reference/generated/numpy.max.html)"
   ]
  },
  {
   "cell_type": "code",
   "execution_count": 18,
   "id": "911c9b93",
   "metadata": {},
   "outputs": [
    {
     "name": "stdout",
     "output_type": "stream",
     "text": [
      "0.00837695776382319\n",
      "0.9831164577527541\n"
     ]
    }
   ],
   "source": [
    "arr_10_by_10 = np.random.random((10,10))\n",
    "print(arr_10_by_10.min())\n",
    "print(arr_10_by_10.max())"
   ]
  },
  {
   "cell_type": "markdown",
   "id": "3fa2e461",
   "metadata": {},
   "source": [
    "#### Exercise: Create a random vector of size 30 and find the mean value (★☆☆)"
   ]
  },
  {
   "cell_type": "code",
   "execution_count": 19,
   "id": "323eb38a",
   "metadata": {},
   "outputs": [
    {
     "name": "stdout",
     "output_type": "stream",
     "text": [
      "0.46373998238219366\n"
     ]
    }
   ],
   "source": [
    "print(np.random.random(30).mean())"
   ]
  },
  {
   "cell_type": "markdown",
   "id": "961f074f",
   "metadata": {},
   "source": [
    "#### Exercise: Define a function with input your date of birth (yyyy/mm/dd) that returns a random array with the following dimensions: (★★☆)\n",
    "$$yyyy-1900 \\times |mm - dd|$$"
   ]
  },
  {
   "cell_type": "code",
   "execution_count": 20,
   "id": "d3f49255",
   "metadata": {},
   "outputs": [
    {
     "name": "stdout",
     "output_type": "stream",
     "text": [
      "(90, 2)\n"
     ]
    }
   ],
   "source": [
    "def birth_date(date_of_birth: str) -> np.array:\n",
    "    date = date_of_birth.split(\"/\")\n",
    "    size = (int(date[0]) - 1900, np.abs(int(date[1]) - int(date[2])))\n",
    "    return np.random.random(size) \n",
    "\n",
    "birthdate = input(\"enter your birthday: \")\n",
    "print(birth_date(birthdate).shape)"
   ]
  },
  {
   "cell_type": "markdown",
   "id": "ff8dbb92",
   "metadata": {},
   "source": [
    "## What is the difference between Python List and a Numpy Array?\n",
    "\n",
    "- Python list can contain elements with different data types whereas Numpy Array‘s elements are always homogeneous (same data types).\n",
    "- NumPy arrays are faster and more compact than Python lists.\n",
    "\n",
    "## Why NumPy Arrays are faster than Lists?\n",
    "\n",
    "- NumPy Array uses fixed memory to store data and less memory than Python lists.\n",
    "- Contiguous memory allocation in NumPy Arrays."
   ]
  },
  {
   "cell_type": "markdown",
   "id": "e3a7ba7f",
   "metadata": {},
   "source": [
    "#### Exercise: Convert the list `my_list = [1, 2, 3]` to numpy array (★☆☆)"
   ]
  },
  {
   "cell_type": "code",
   "execution_count": 21,
   "id": "01d8e257",
   "metadata": {},
   "outputs": [
    {
     "name": "stdout",
     "output_type": "stream",
     "text": [
      "[1, 2, 3]\n",
      "[1 2 3]\n"
     ]
    }
   ],
   "source": [
    "my_list = [1, 2, 3]\n",
    "numpy_my_list = np.array(my_list)\n",
    "print(my_list)\n",
    "print(numpy_my_list)"
   ]
  },
  {
   "cell_type": "markdown",
   "id": "6d17ab5d",
   "metadata": {},
   "source": [
    "#### Exercise: Convert the tuple `my_list = (1, 2, 3)` to numpy array (★☆☆)"
   ]
  },
  {
   "cell_type": "code",
   "execution_count": 22,
   "id": "841373cd",
   "metadata": {},
   "outputs": [
    {
     "name": "stdout",
     "output_type": "stream",
     "text": [
      "(1, 2, 3)\n",
      "[1 2 3]\n"
     ]
    }
   ],
   "source": [
    "my_list = (1, 2, 3)\n",
    "numpy_my_list = np.array(my_list)\n",
    "print(my_list)\n",
    "print(numpy_my_list)"
   ]
  },
  {
   "cell_type": "markdown",
   "id": "8837119b",
   "metadata": {},
   "source": [
    "#### Exercise: Convert the list of tuples `my_list = [(1,2,3), (4,5)]` to numpy array (★☆☆)"
   ]
  },
  {
   "cell_type": "code",
   "execution_count": 23,
   "id": "2c0d16f1",
   "metadata": {},
   "outputs": [
    {
     "name": "stdout",
     "output_type": "stream",
     "text": [
      "[(1, 2, 3), (4, 5)]\n",
      "[(1, 2, 3) (4, 5)]\n"
     ]
    }
   ],
   "source": [
    "my_list = [(1, 2, 3), (4,5)]\n",
    "numpy_my_list = np.array(my_list, dtype=np.ndarray)\n",
    "print(my_list)\n",
    "print(numpy_my_list)"
   ]
  },
  {
   "cell_type": "markdown",
   "id": "ec788c9f",
   "metadata": {},
   "source": [
    "#### Exercise: Resize a random array of dimensions 5x12 into 12x5 (★☆☆)\n",
    "Check `reshape`from `numpy`(https://numpy.org/doc/stable/reference/generated/numpy.reshape.html)"
   ]
  },
  {
   "cell_type": "code",
   "execution_count": 24,
   "id": "0a4f919f",
   "metadata": {},
   "outputs": [
    {
     "name": "stdout",
     "output_type": "stream",
     "text": [
      "(5, 12)\n",
      "(12, 5)\n"
     ]
    }
   ],
   "source": [
    "size1 = 5,12\n",
    "size2 = 12,5\n",
    "arr1 = np.random.random(size1)\n",
    "arr2 = arr1.reshape(size2)\n",
    "print(arr1.shape)\n",
    "print(arr2.shape)"
   ]
  },
  {
   "cell_type": "markdown",
   "id": "391791e0",
   "metadata": {},
   "source": [
    "#### Exercise: Create a function that normalize a 5x5 random matrix (★☆☆)\n",
    "Remember from probability (https://en.wikipedia.org/wiki/Normalization_(statistics)) that :\n",
    "$$ x_{norm} = \\frac{x - \\bar{x}}{\\sigma}$$\n"
   ]
  },
  {
   "cell_type": "code",
   "execution_count": 25,
   "id": "f6533d39",
   "metadata": {},
   "outputs": [
    {
     "name": "stdout",
     "output_type": "stream",
     "text": [
      "[[ 1.37902245  0.63366442 -1.85392141 -0.67280942 -1.27971121]\n",
      " [-0.41060805  0.26560947 -0.62306046 -0.85757352  0.54286787]\n",
      " [-1.25048505  0.15514357 -0.71510664  0.32499906  1.3108813 ]\n",
      " [ 0.91076416  0.48413218 -0.1870968   1.37306665 -1.80356001]\n",
      " [ 0.04576267 -1.17924819  1.11707151  1.35561717  0.93457828]]\n"
     ]
    }
   ],
   "source": [
    "arr_to_normalize = np.random.random((5,5))\n",
    "arr_normalized = (arr_to_normalize - arr_to_normalize.mean()) / arr_to_normalize.std()\n",
    "print(arr_normalized)"
   ]
  },
  {
   "cell_type": "markdown",
   "id": "d2d143f1",
   "metadata": {},
   "source": [
    "## Stacking numpy arrays\n",
    "\n",
    "Stacking is used to join a sequence of same dimension arrays along a new axis.\n",
    "`numpy.stack(arrays,axis)` : It returns a stacked array of the input arrays which has one more dimension than the input arrays.\n",
    "\n",
    "### You have two ways to do it:\n",
    "\n",
    "\n",
    "![alt text](./assets/stack.jpeg \"stack\")\n",
    "\n",
    "\n",
    "### or\n",
    "\n",
    "\n",
    "![alt text](./assets/stack2.jpeg \"stack\")\n",
    "\n",
    "\n"
   ]
  },
  {
   "cell_type": "markdown",
   "id": "1e74d39e",
   "metadata": {},
   "source": [
    "#### Exercise: Generate two random arrays with integers and apply the stacking using `stack` (★★☆)"
   ]
  },
  {
   "cell_type": "code",
   "execution_count": 26,
   "id": "3f639d33",
   "metadata": {},
   "outputs": [
    {
     "name": "stdout",
     "output_type": "stream",
     "text": [
      "[[3 5]\n",
      " [3 1]]\n",
      "\n",
      "[[9 7]\n",
      " [7 2]]\n",
      "\n",
      "[[[3 5]\n",
      "  [3 1]]\n",
      "\n",
      " [[9 7]\n",
      "  [7 2]]]\n"
     ]
    }
   ],
   "source": [
    "arr_1 = np.random.randint(0, 10, (2,2))\n",
    "arr_2 = np.random.randint(0, 10, (2,2))\n",
    "print(arr_1)\n",
    "print()\n",
    "print(arr_2)\n",
    "print()\n",
    "print(np.stack((arr_1, arr_2)))"
   ]
  },
  {
   "cell_type": "markdown",
   "id": "78250c14",
   "metadata": {},
   "source": [
    "#### Exercise: Generate two random arrays with integers and apply the stacking using `hstack` and `vstack` (★★☆)"
   ]
  },
  {
   "cell_type": "code",
   "execution_count": 27,
   "id": "9fe729cb",
   "metadata": {},
   "outputs": [
    {
     "name": "stdout",
     "output_type": "stream",
     "text": [
      "[[2 2]\n",
      " [1 3]]\n",
      "\n",
      "[[5 3]\n",
      " [4 5]]\n",
      "\n",
      "[[2 2 5 3]\n",
      " [1 3 4 5]]\n",
      "\n",
      "[[2 2]\n",
      " [1 3]\n",
      " [5 3]\n",
      " [4 5]]\n"
     ]
    }
   ],
   "source": [
    "arr_1 = np.random.randint(0, 10, (2,2))\n",
    "arr_2 = np.random.randint(0, 10, (2,2))\n",
    "print(arr_1)\n",
    "print()\n",
    "print(arr_2)\n",
    "print()\n",
    "print(np.hstack((arr_1, arr_2)))\n",
    "print()\n",
    "print(np.vstack((arr_1, arr_2)))"
   ]
  },
  {
   "cell_type": "markdown",
   "id": "51898680",
   "metadata": {},
   "source": [
    "## Basic maths in numpy\n",
    "\n",
    "You can make typical math operations like:\n",
    "\n",
    "- Addition,Subtraction,Multiplication and Division between two arrays using numpy.\n",
    "- Operation on array using sum() & cumsum() function.\n",
    "- Minimum and Maximum value from an array\n",
    "- Exponent/Power , Square Root and Cube Root functions\n",
    "\n",
    "or even apply common trigonometric functions:\n",
    "\n",
    "- `numpy.sin()`:  Sine (x) Function\n",
    "- `numpy.cos()`: Cosine(x) Function\n",
    "- `numpy.tan()`: Tangent(x)Function\n",
    "- `numpy.sinh()`: Hyperbolic Sine (x) Function\n",
    "- `numpy.cosh()`: Hyperbolic Cosine(x) Functionv\n",
    "- `numpy.tanh()`: Hyperbolic Tangent(x)Function\n",
    "- `numpy.arcsin()`: Inverse Sine Function\n",
    "- `numpy.arccos()`: Inverse Cosine Function\n",
    "- `numpy.arctan()`: Inverse Tangent Function\n",
    "- `numpy.pi`: pi value\n",
    "- `numpy.hypot(w,h)`: For calculating Hypotenuse $c = \\sqrt{(w^2 + h^2)}$\n",
    "- `numpy.rad2deg()`: Radians to degrees\n",
    "- `numpy.deg2rad()`: Degrees to radians"
   ]
  },
  {
   "cell_type": "markdown",
   "id": "89e78048",
   "metadata": {},
   "source": [
    "#### Exercise: Generate two random 8 - dimensional vectors and apply the most common operation between vectors:  addition, substraction, multiplication, division(★☆☆)\n",
    "\n",
    "Check the math functions here: https://numpy.org/doc/stable/reference/routines.math.html"
   ]
  },
  {
   "cell_type": "code",
   "execution_count": 28,
   "id": "b62e9d1c",
   "metadata": {},
   "outputs": [
    {
     "name": "stdout",
     "output_type": "stream",
     "text": [
      "[0.93306603 0.92126902 0.9810943  0.89412519 1.20867094 0.43266807\n",
      " 1.248893   1.05081478]\n",
      "[ 0.75911875  0.3800815  -0.04958063 -0.45784147 -0.10544559  0.08762106\n",
      " -0.48859214  0.45888135]\n",
      "[0.07358773 0.17606866 0.24002194 0.14746026 0.36244167 0.04488105\n",
      " 0.33025286 0.2234099 ]\n",
      "[9.72814761 2.40462037 0.90378997 0.32270302 0.83951866 1.50787896\n",
      " 0.43758697 2.55044917]\n"
     ]
    }
   ],
   "source": [
    "vect_1 = np.random.random(8)\n",
    "vect_2 = np.random.random(8)\n",
    "\n",
    "print(vect_1 + vect_2)\n",
    "print(vect_1 - vect_2)\n",
    "print(vect_1 * vect_2)\n",
    "print(vect_1 / vect_2)"
   ]
  },
  {
   "cell_type": "markdown",
   "id": "ebd10810",
   "metadata": {},
   "source": [
    "#### Exercise: Generate two random matrices with dimensions between 5 and 10, e.g. 5x7 vs 8x9 and try. Were you able to do the matrix multiplication? why? (★★☆) "
   ]
  },
  {
   "cell_type": "code",
   "execution_count": 29,
   "id": "6ada209f",
   "metadata": {},
   "outputs": [],
   "source": [
    "matrix_1 = np.random.random((np.random.randint(5,10), np.random.randint(5,10)))\n",
    "matrix_2 = np.random.random((np.random.randint(5,10), np.random.randint(5,10)))\n",
    "\n",
    "\n",
    "#print(matrix_1 * matrix_2) #ValueError: operands could not be broadcast together with shapes (9,7) (6,5) "
   ]
  },
  {
   "cell_type": "markdown",
   "id": "c0e940f8",
   "metadata": {},
   "source": [
    "#### Exercise: Given 2 numpy arrays as matrices, output the result of multiplying the 2 matrices (as a numpy array) Were you able to do the matrix multiplication? (★★☆) \n",
    "\n",
    "$$ a = \\left(\\begin{matrix}\n",
    "0 & 1 & 2\\\\ \n",
    "3 & 4 & 5\\\\ \n",
    "6 & 7 & 8\n",
    "\\end{matrix}\\right)$$\n",
    "\n",
    "$$ b = \\left(\\begin{matrix}\n",
    "2 & 3 & 4\\\\ \n",
    "5 & 6 & 7\\\\ \n",
    "8 & 9 & 10\n",
    "\\end{matrix}\\right)$$\n",
    "\n",
    "\n"
   ]
  },
  {
   "cell_type": "code",
   "execution_count": 30,
   "id": "820dc7a5",
   "metadata": {},
   "outputs": [
    {
     "name": "stdout",
     "output_type": "stream",
     "text": [
      "[[0. 1. 2.]\n",
      " [3. 4. 5.]\n",
      " [6. 7. 8.]]\n",
      "[[ 2.  3.  4.]\n",
      " [ 5.  6.  7.]\n",
      " [ 8.  9. 10.]]\n",
      "[[ 0.  3.  8.]\n",
      " [15. 24. 35.]\n",
      " [48. 63. 80.]]\n"
     ]
    }
   ],
   "source": [
    "a = np.linspace(0, 8, 9).reshape((3,3))\n",
    "b = np.linspace(2, 10, 9).reshape((3,3))\n",
    "print(a)\n",
    "print(b)\n",
    "print(a * b)"
   ]
  },
  {
   "cell_type": "markdown",
   "id": "22713c3f",
   "metadata": {},
   "source": [
    "#### Exercise: Multiply a 5x3 matrix by a 3x2 matrix (real matrix product) (★★☆)"
   ]
  },
  {
   "cell_type": "code",
   "execution_count": 31,
   "id": "a3e05c29",
   "metadata": {},
   "outputs": [
    {
     "name": "stdout",
     "output_type": "stream",
     "text": [
      "[[1.1793376  0.69425   ]\n",
      " [1.37313616 0.87325826]\n",
      " [1.40066114 0.90542032]\n",
      " [1.22961841 0.82190461]\n",
      " [1.11642055 0.73320994]]\n"
     ]
    }
   ],
   "source": [
    "matrix_1 = np.random.random((5, 3))\n",
    "matrix_2 = np.random.random((3, 2))\n",
    "\n",
    "print(np.dot(matrix_1, matrix_2))"
   ]
  },
  {
   "cell_type": "markdown",
   "id": "4815930e",
   "metadata": {},
   "source": [
    "## Data types\n",
    "\n",
    "Do you think the following preposition is true?\n",
    "`8==8`\n",
    "\n",
    "Surely you will definetely say yes, which is true mathematically, but computationally it is not always the same, at least in terms of memory. For example, run the following cell:"
   ]
  },
  {
   "cell_type": "code",
   "execution_count": 32,
   "id": "cd81c3c6",
   "metadata": {},
   "outputs": [
    {
     "name": "stdout",
     "output_type": "stream",
     "text": [
      "int64: 104\n",
      "int8: 97\n",
      "float32: 100\n"
     ]
    }
   ],
   "source": [
    "import sys\n",
    "\n",
    "# int64\n",
    "x = np.array(123)\n",
    "print(\"int64: \" + str(sys.getsizeof(x)))\n",
    "\n",
    "# int8\n",
    "x = np.array(123,dtype=np.int8)\n",
    "print(\"int8: \" + str(sys.getsizeof(x)))\n",
    "\n",
    "# float32\n",
    "x = np.array(123,dtype=np.float32)\n",
    "print(\"float32: \" + str(sys.getsizeof(x)))"
   ]
  },
  {
   "cell_type": "markdown",
   "id": "8e34f294",
   "metadata": {},
   "source": [
    "## It turns out that there are many computational representation of the same number and you can create arrays with different Data Types (dtypes) depending what you need:\n",
    "\n",
    "- Boolean : `np.bool_`\n",
    "- Char : `np.byte`\n",
    "- Short : `np.short`\n",
    "- Integer : `np.short`\n",
    "- Long : `np.int_`\n",
    "- Float : `np.single`&np.float32`\n",
    "- Double :`np.double`&`np.float64`\n",
    "- `np.int8`: integer (-128 to 127)\n",
    "- `np.int16`:integer( -32768 to 32767)\n",
    "- `np.int32`: integer(-2147483648 to 2147483647)\n",
    "- `np.int64`:integer( -9223372036854775808 to 9223372036854775807)\n",
    "\n",
    "\n",
    "Sometimes, you will need to load, create or export arrays from different data types.\n"
   ]
  },
  {
   "cell_type": "code",
   "execution_count": null,
   "id": "890bde78",
   "metadata": {},
   "outputs": [],
   "source": []
  },
  {
   "cell_type": "markdown",
   "id": "f1ae2c2d",
   "metadata": {},
   "source": [
    "## Harder exercises\n",
    "\n",
    "The next exercises are related with real situations you could face while you are working in data science and machine learning and we will be frequently talking about matrices and bidimensional arrays."
   ]
  },
  {
   "cell_type": "markdown",
   "id": "759c9c8d",
   "metadata": {},
   "source": [
    "#### Exercise: Subtract the mean of each row of a matrix (★★☆)"
   ]
  },
  {
   "cell_type": "code",
   "execution_count": 33,
   "id": "6801c73d",
   "metadata": {},
   "outputs": [
    {
     "name": "stdout",
     "output_type": "stream",
     "text": [
      "Original matrix:\n",
      "\n",
      "[[0.8374258  0.17539485 0.92684226 0.70326775 0.61424249 0.53103776\n",
      "  0.07041893 0.28559734 0.18780209 0.05054095]\n",
      " [0.6534131  0.8904016  0.68913148 0.56059017 0.36056718 0.31643374\n",
      "  0.05556657 0.64331049 0.88995799 0.30952254]\n",
      " [0.08350962 0.5419252  0.73651813 0.68074849 0.98027456 0.03253335\n",
      "  0.91818658 0.34728665 0.88467325 0.23604361]]\n",
      "\n",
      "Subtract the mean of each row of the said matrix:\n",
      "\n",
      "[[ 0.39916878 -0.26286217  0.48858524  0.26501073  0.17598547  0.09278073\n",
      "  -0.36783809 -0.15265968 -0.25045494 -0.38771607]\n",
      " [ 0.11652362  0.35351212  0.15224199  0.02370068 -0.17632231 -0.22045574\n",
      "  -0.48132292  0.106421    0.3530685  -0.22736695]\n",
      " [-0.46066032 -0.00224474  0.19234819  0.13657855  0.43610461 -0.5116366\n",
      "   0.37401663 -0.1968833   0.34050331 -0.30812633]]\n",
      "\n",
      "Subtract the mean of each column of the said matrix:\n",
      "\n",
      "[[ 0.31264296 -0.36051237  0.14267831  0.05506562 -0.03745225  0.23770281\n",
      "  -0.27763843 -0.13980082 -0.46634236 -0.14816142]\n",
      " [ 0.12863026  0.35449438 -0.09503248 -0.08761197 -0.29112756  0.02309879\n",
      "  -0.29249079  0.21791233  0.23581355  0.11082017]\n",
      " [-0.44127322  0.00601798 -0.04764583  0.03254635  0.32857982 -0.2608016\n",
      "   0.57012922 -0.07811151  0.23052881  0.03734125]]\n"
     ]
    }
   ],
   "source": [
    "print(\"Original matrix:\\n\")\n",
    "X = np.random.rand(3, 10)\n",
    "print(X)\n",
    "print(\"\\nSubtract the mean of each row of the said matrix:\\n\")\n",
    "Y = X - X.mean(axis=1, keepdims=True)\n",
    "print(Y)\n",
    "print(\"\\nSubtract the mean of each column of the said matrix:\\n\")\n",
    "Z = X - X.mean(axis=0, keepdims=True)\n",
    "print(Z)"
   ]
  },
  {
   "cell_type": "markdown",
   "id": "129c342d",
   "metadata": {},
   "source": [
    "#### Exercise: How to get the dates of yesterday, today and tomorrow? (★★☆)\n",
    "Check `np.datetime64`, `np.timedelta64` in numpy (https://numpy.org/doc/stable/reference/arrays.datetime.html)"
   ]
  },
  {
   "cell_type": "code",
   "execution_count": 34,
   "id": "8ba1badb",
   "metadata": {},
   "outputs": [
    {
     "name": "stdout",
     "output_type": "stream",
     "text": [
      "today 2022-01-20\n",
      "yesterday 2022-01-19\n",
      "tomorrow 2022-01-21\n"
     ]
    }
   ],
   "source": [
    "today = np.datetime64('today', 'D')\n",
    "yesterday = today - np.timedelta64(1, 'D')\n",
    "tomorrow = today + np.timedelta64(1, 'D')\n",
    "\n",
    "print(\"today\", today)\n",
    "print(\"yesterday\", yesterday)\n",
    "print(\"tomorrow\", tomorrow)"
   ]
  },
  {
   "cell_type": "markdown",
   "id": "42f8b2f9",
   "metadata": {},
   "source": [
    "#### Exercise: How to get all the dates corresponding to the month of December 2022? (★★☆)\n",
    "Combine `arange`with `datetime`\n"
   ]
  },
  {
   "cell_type": "code",
   "execution_count": 35,
   "id": "eb8ebe45",
   "metadata": {},
   "outputs": [
    {
     "name": "stdout",
     "output_type": "stream",
     "text": [
      "['2022-12-01', '2022-12-02', '2022-12-03', '2022-12-04', '2022-12-05', '2022-12-06', '2022-12-07', '2022-12-08', '2022-12-09', '2022-12-10', '2022-12-11', '2022-12-12', '2022-12-13', '2022-12-14', '2022-12-15', '2022-12-16', '2022-12-17', '2022-12-18', '2022-12-19', '2022-12-20', '2022-12-21', '2022-12-22', '2022-12-23', '2022-12-24', '2022-12-25', '2022-12-26', '2022-12-27', '2022-12-28', '2022-12-29', '2022-12-30', '2022-12-31']\n",
      "['2022-12-01' '2022-12-02' '2022-12-03' '2022-12-04' '2022-12-05'\n",
      " '2022-12-06' '2022-12-07' '2022-12-08' '2022-12-09' '2022-12-10'\n",
      " '2022-12-11' '2022-12-12' '2022-12-13' '2022-12-14' '2022-12-15'\n",
      " '2022-12-16' '2022-12-17' '2022-12-18' '2022-12-19' '2022-12-20'\n",
      " '2022-12-21' '2022-12-22' '2022-12-23' '2022-12-24' '2022-12-25'\n",
      " '2022-12-26' '2022-12-27' '2022-12-28' '2022-12-29' '2022-12-30'\n",
      " '2022-12-31']\n"
     ]
    }
   ],
   "source": [
    "all_dates_solution1 = [(np.datetime64('2022-12', 'D') + np.timedelta64(day, 'D')).astype(\"str\") for day in np.arange(31)]\n",
    "all_dates_solution2 = np.arange('2022-12', '2023-01', dtype='datetime64[D]')\n",
    "print(all_dates_solution1)\n",
    "print(all_dates_solution2)\n"
   ]
  },
  {
   "cell_type": "markdown",
   "id": "486df8ea",
   "metadata": {},
   "source": [
    "#### Exercise: Extract the integer part of a random array of positive numbers using 2 different methods (★★☆)"
   ]
  },
  {
   "cell_type": "code",
   "execution_count": 36,
   "id": "34b4fa08",
   "metadata": {},
   "outputs": [
    {
     "name": "stdout",
     "output_type": "stream",
     "text": [
      "[0 2 0 6 5 2 9 9 0 0]\n",
      "[0 2 0 6 5 2 9 9 0 0]\n"
     ]
    }
   ],
   "source": [
    "arr_random_1 = np.random.rand(10) * 10\n",
    "print(arr_random_1.astype(\"int\"))\n",
    "print(np.int64(arr_random_1))\n"
   ]
  },
  {
   "cell_type": "markdown",
   "id": "649e89f9",
   "metadata": {},
   "source": [
    "#### Exercise: Create a 5x5 matrix with row values ranging from 0 to 4 (★★☆)"
   ]
  },
  {
   "cell_type": "code",
   "execution_count": 37,
   "id": "663cc611",
   "metadata": {},
   "outputs": [
    {
     "name": "stdout",
     "output_type": "stream",
     "text": [
      "[[3 0 2 1 3]\n",
      " [1 2 0 1 3]\n",
      " [2 1 0 0 1]\n",
      " [1 2 2 2 2]\n",
      " [3 1 2 0 0]]\n"
     ]
    }
   ],
   "source": [
    "m_5x5 = np.int64(np.random.rand(5,5) * 4)\n",
    "print(m_5x5)"
   ]
  },
  {
   "cell_type": "markdown",
   "id": "3421e17f",
   "metadata": {},
   "source": [
    "#### Exercise: Consider a generator function that generates 10 integers and use it to build an array (★★☆)"
   ]
  },
  {
   "cell_type": "code",
   "execution_count": 38,
   "id": "7336b8e4",
   "metadata": {},
   "outputs": [
    {
     "name": "stdout",
     "output_type": "stream",
     "text": [
      "[0 1 2 3 4 5 6 7 8 9]\n"
     ]
    }
   ],
   "source": [
    "def generate():\n",
    "   for n in range(10):\n",
    "       yield n\n",
    "gen_arr_10int = np.fromiter(generate(),dtype=int)\n",
    "\n",
    "print(gen_arr_10int)"
   ]
  },
  {
   "cell_type": "markdown",
   "id": "483dd554",
   "metadata": {},
   "source": [
    "#### Exercise: Create a vector of size 10 with values ranging from 0 to 1, both excluded (★★☆)"
   ]
  },
  {
   "cell_type": "code",
   "execution_count": 39,
   "id": "c89b93e7",
   "metadata": {},
   "outputs": [
    {
     "name": "stdout",
     "output_type": "stream",
     "text": [
      "[0.11111111 0.22222222 0.33333333 0.44444444 0.55555556 0.66666667\n",
      " 0.77777778 0.88888889]\n"
     ]
    }
   ],
   "source": [
    "print(np.linspace(0,1,10)[1:-1])"
   ]
  },
  {
   "cell_type": "markdown",
   "id": "2d07be1c",
   "metadata": {},
   "source": [
    "#### Exercise: Create a random vector of size 10 and sort it (★★☆)"
   ]
  },
  {
   "cell_type": "code",
   "execution_count": 40,
   "id": "4f7cb3ad",
   "metadata": {},
   "outputs": [
    {
     "name": "stdout",
     "output_type": "stream",
     "text": [
      "[0.00297293 0.0340971  0.11066039 0.20932344 0.22153747 0.47572389\n",
      " 0.58637132 0.68476034 0.71902952 0.82015418]\n"
     ]
    }
   ],
   "source": [
    "print(np.sort(np.random.rand(10)))"
   ]
  },
  {
   "cell_type": "markdown",
   "id": "fe043549",
   "metadata": {},
   "source": [
    "#### Exercise: Consider two random array A and B, check if they are equal (★★☆)"
   ]
  },
  {
   "cell_type": "code",
   "execution_count": 41,
   "id": "3326a686",
   "metadata": {},
   "outputs": [
    {
     "name": "stdout",
     "output_type": "stream",
     "text": [
      "False\n",
      "[[False False False False False False False False False False]\n",
      " [False False False False False False False False False False]]\n",
      "[[False False False False False False False False False False]\n",
      " [False False False False False False False False False False]]\n",
      "[[False False False False False False False False False False]\n",
      " [False False False False False False False False False False]]\n"
     ]
    }
   ],
   "source": [
    "A = np.random.rand(2,10)\n",
    "B = np.random.rand(2,10)\n",
    "print(np.allclose(A, B))\n",
    "print(np.isclose(A, B))\n",
    "##print(np.all(A, B)) # only integer scalar arrays\n",
    "##print(np.any(A, B)) # only integer scalar arrays\n",
    "print(np.equal(A, B))\n",
    "print(A == B)\n"
   ]
  },
  {
   "cell_type": "markdown",
   "id": "2002cb03",
   "metadata": {},
   "source": [
    "#### Exercise: Consider a random 10x2 matrix representing cartesian coordinates, convert them to polar coordinates (★★★)\n",
    "Suggestion: check how to calculate the \"square of a matrix\""
   ]
  },
  {
   "cell_type": "code",
   "execution_count": 42,
   "id": "58be72bc",
   "metadata": {},
   "outputs": [
    {
     "name": "stdout",
     "output_type": "stream",
     "text": [
      "[[0.70806898 0.57090846]\n",
      " [0.26807204 0.19744843]\n",
      " [0.22458074 0.6843351 ]\n",
      " [0.25136786 0.85176649]\n",
      " [0.05256817 0.69607349]\n",
      " [0.1388255  0.35440341]\n",
      " [0.96049065 0.39276713]\n",
      " [0.93462915 0.14071305]\n",
      " [0.70766954 0.42621054]\n",
      " [0.29803832 0.63800965]]\n",
      "[[0.90955932 0.33293919]\n",
      " [0.72024373 0.8880833 ]\n",
      " [0.69805567 0.38062356]\n",
      " [1.03769375 0.94516232]\n",
      " [0.82610629 0.70418971]\n",
      " [0.67856414 0.63483732]\n",
      " [1.25369667 1.28382849]\n",
      " [1.4954184  1.19745163]\n",
      " [0.38817524 0.14943265]\n",
      " [0.54208944 1.13378249]]\n"
     ]
    }
   ],
   "source": [
    "cartesian_coordinates = np.random.rand(10,2)\n",
    "print(cartesian_coordinates)\n",
    "#print(np.arctan(cartesian_coordinates[:,1]/cartesian_coordinates[:,0]).reshape(-1,1))\n",
    "#print(np.sqrt((cartesian_coordinates[:,1])**2 + (cartesian_coordinates[:,0])**2).reshape(-1,1))\n",
    "polar_coordinates = np.array([np.sqrt((cartesian_coordinates[:,0])**2 + (cartesian_coordinates[:,1])**2), np.arctan(cartesian_coordinates[:,1]/cartesian_coordinates[:,0])])\n",
    "print(polar_coordinates.reshape(10,2))\n"
   ]
  },
  {
   "cell_type": "markdown",
   "id": "b7109c9f",
   "metadata": {},
   "source": [
    "#### Exercise: Create random vector of size 10 and replace the maximum value by 0 (★★☆)"
   ]
  },
  {
   "cell_type": "code",
   "execution_count": 43,
   "id": "f79e79a7",
   "metadata": {},
   "outputs": [
    {
     "name": "stdout",
     "output_type": "stream",
     "text": [
      "[ 6 15  1  5 18 18 13  7  6  8]\n",
      "18\n",
      "[ 6 15  1  5  0  0 13  7  6  8]\n"
     ]
    }
   ],
   "source": [
    "rand_vect = np.random.randint(1,20,size=10)\n",
    "print(rand_vect)\n",
    "print(rand_vect.max())\n",
    "rand_vect[rand_vect == rand_vect.max()]=0\n",
    "print(rand_vect)"
   ]
  },
  {
   "cell_type": "markdown",
   "id": "fb24674c",
   "metadata": {},
   "source": [
    "#### Exercise: How to print all the values of an array? (★★☆)"
   ]
  },
  {
   "cell_type": "code",
   "execution_count": 44,
   "id": "c81f1456",
   "metadata": {},
   "outputs": [
    {
     "name": "stdout",
     "output_type": "stream",
     "text": [
      "[[13.53939132 10.02764836  9.53453747  4.29825661  7.16409758 10.13942022\n",
      "  12.19281883 18.22155479 16.00296833  4.07019306 18.3303582  15.32031459\n",
      "   3.42626154 15.89334785 10.39994109  7.98275493 10.07859526 15.97117215\n",
      "  19.97082714  5.79747013]\n",
      " [13.69161789  4.94019755  6.82684736 17.5028286  14.98828921  4.70879158\n",
      "   6.99763136 12.99809904  8.70724337 10.28118663 19.14918195  4.85955399\n",
      "   3.8623723   8.19579268 14.93784944  8.77786724 12.58897279  9.11487943\n",
      "  17.26073551 13.65271847]\n",
      " [17.2078683  17.91163699  5.39956303 22.02922708 19.41344785 10.80612341\n",
      "  10.47686818 22.03173412 21.17984951  6.42702545  7.24858773  3.81569356\n",
      "   7.52747051  6.89630619 12.39271005 14.32031866 14.71920465 18.67541916\n",
      "  12.92850811  3.19750479]\n",
      " [11.23694539  6.09511123 12.93836677 12.76377049 12.32102741  5.10584876\n",
      "   5.6322923  15.67236557 14.81538539 12.09552816 22.87536432  6.53551708\n",
      "   8.0815081  15.81359506 22.95222945  3.36670571 10.38346071 17.85844429\n",
      "  10.25139295 18.84128842]\n",
      " [ 5.42356252 22.28860386 15.94760868  7.86329383 15.24624864 12.32181164\n",
      "  16.01343194 17.06579722  6.76395635 12.73026057 14.55759109 22.80734172\n",
      "   5.69528097 21.2788493  19.86629901 12.14269947 12.24143415 15.24179003\n",
      "  12.2943964  12.37925389]\n",
      " [17.90275862  7.26463361  6.63887462 16.87513945  9.25026678 22.10148634\n",
      "  12.27619267 19.33231187 14.47971208 14.8506197  15.58137994 20.76310749\n",
      "   7.76198499 15.50478393  9.14705302 14.4523326  19.0518548  15.93933109\n",
      "  17.0809752  17.43907813]\n",
      " [17.75069783 20.48397109 21.20562329 22.97961575 19.42748341  5.55551619\n",
      "   8.72788041 11.80553405 21.17963673 21.50503748 21.41936424 20.20069557\n",
      "   8.14686737  8.55884645  9.02071544 15.68241135 20.07770695 18.90550584\n",
      "   5.79856183 22.86476571]\n",
      " [17.46818097 11.33563276  6.94344119  6.30621235 15.29926818  8.92467271\n",
      "  17.39470261 14.99610377  5.63309872 11.45882753 13.86406903 14.20792149\n",
      "  15.96409775 14.67911651  7.65008733  3.19019547 10.0830875   5.17646556\n",
      "  15.94774163  4.68060596]\n",
      " [ 3.25385671 18.08005725 14.02550185 18.46642301 19.00988174 15.77234593\n",
      "  16.92796224 14.87789597 20.27365046  4.51002887 10.48770119 11.6510738\n",
      "  19.04999534  7.96367036  5.85397288 10.23812966  9.16540306  3.24718959\n",
      "  18.29882306 15.80465899]\n",
      " [13.72286189 12.83810733 12.9467645   3.35814192 20.27769625  6.82054164\n",
      "   5.39717672  5.20844977  5.45868304  3.6698228   9.64959763 15.15812858\n",
      "  15.6488062  15.23684167 17.62849838 22.3059746  14.34898252  6.6769981\n",
      "  19.58930425  5.07825466]\n",
      " [13.65453199 14.70199138  3.78628029  5.72557935 11.55463387  5.23347149\n",
      "   9.97915256 21.80370867  4.36877194 14.48572903  5.73980427  3.77255452\n",
      "   6.61521628  7.16614797 15.02403831 12.37145023  7.97434822 17.85603858\n",
      "   7.19666058 17.5783018 ]\n",
      " [ 4.2306444  22.27691953  7.60739779  3.84463942 21.00163351  4.08719894\n",
      "   5.4876934  19.42052469  9.06580204  4.22038693 18.18538444 16.74939833\n",
      "  18.2588435  15.72114794  7.23679878 10.38647718 13.80307579  8.3796026\n",
      "  19.44693921 17.79841388]]\n",
      "[[13.539391324456648, 10.027648358786958, 9.534537471174167, 4.29825661253915, 7.164097575312593, 10.139420224493037, 12.192818825327036, 18.22155478644278, 16.002968326501012, 4.0701930626374985, 18.330358204161584, 15.320314589942509, 3.4262615411359105, 15.893347847144314, 10.399941093070382, 7.982754932896234, 10.078595257178602, 15.97117214857693, 19.970827144053246, 5.7974701329470575], [13.6916178861922, 4.940197549710807, 6.826847357138496, 17.50282860132965, 14.988289212904979, 4.708791577253386, 6.997631364399396, 12.998099044314095, 8.707243365319748, 10.281186630236187, 19.14918194740637, 4.859553989920048, 3.8623723026265107, 8.195792682762715, 14.937849444640733, 8.777867239733983, 12.588972786165462, 9.11487943304532, 17.260735510526548, 13.652718467820655], [17.207868302398424, 17.91163699278672, 5.399563034408971, 22.02922707800552, 19.41344785362972, 10.806123406709975, 10.476868178197147, 22.03173412283005, 21.179849510798356, 6.427025448760174, 7.2485877348302825, 3.8156935629745776, 7.527470507045736, 6.896306188086287, 12.392710048748341, 14.32031866213662, 14.719204651767768, 18.675419157581022, 12.928508108999965, 3.1975047888984394], [11.236945394980012, 6.095111225448277, 12.938366769844302, 12.763770486921358, 12.321027412953269, 5.105848759582281, 5.632292304980566, 15.672365566007551, 14.81538539295407, 12.095528162332005, 22.8753643218787, 6.535517084900794, 8.081508103299317, 15.813595059453336, 22.952229452297736, 3.3667057127975415, 10.383460714855065, 17.858444291950207, 10.251392950881685, 18.841288416353844], [5.423562524570002, 22.288603859875064, 15.947608684090246, 7.86329383435856, 15.24624863515525, 12.321811636684325, 16.013431938419515, 17.06579722383813, 6.763956348725667, 12.730260569469731, 14.557591086207356, 22.807341721954757, 5.695280969627061, 21.278849303859396, 19.86629901301591, 12.142699466394564, 12.241434150605453, 15.241790027208921, 12.294396396386276, 12.37925388985023], [17.902758622668067, 7.264633608488817, 6.638874621828892, 16.875139445354407, 9.250266779303569, 22.10148633882865, 12.27619266969405, 19.332311871315003, 14.479712083178779, 14.850619702045137, 15.581379935365796, 20.763107494647738, 7.761984992104797, 15.504783925821311, 9.14705301716109, 14.452332600621325, 19.051854797922665, 15.939331087705806, 17.08097520320168, 17.439078128202603], [17.750697832420386, 20.483971086800917, 21.205623290523675, 22.97961574621864, 19.42748341278061, 5.555516193264291, 8.727880407409604, 11.805534051059675, 21.179636725471624, 21.505037484566916, 21.419364243096396, 20.200695572894915, 8.146867369247975, 8.558846449557919, 9.020715438884423, 15.68241134852974, 20.077706952831427, 18.90550583943809, 5.798561832870805, 22.864765714146856], [17.468180966934845, 11.335632755747518, 6.943441186485024, 6.306212348754229, 15.29926817543454, 8.924672708263587, 17.394702607797, 14.99610376615068, 5.6330987242318615, 11.4588275307856, 13.864069029980561, 14.2079214892735, 15.964097753079692, 14.67911650668694, 7.650087328628036, 3.190195466317651, 10.083087499039404, 5.176465555583318, 15.947741625966946, 4.680605957667904], [3.253856711253535, 18.08005725244868, 14.025501846797624, 18.46642300673042, 19.00988173854738, 15.77234592875156, 16.92796223620239, 14.877895969249096, 20.273650459338977, 4.5100288686262475, 10.487701190761324, 11.651073795895204, 19.04999533679038, 7.963670362916313, 5.853972881132842, 10.238129663633792, 9.165403064732738, 3.2471895898848686, 18.29882306143617, 15.804658989257673], [13.722861890926119, 12.83810732948231, 12.946764495938448, 3.3581419152079612, 20.277696253651673, 6.8205416366184775, 5.397176724201713, 5.2084497729037755, 5.4586830355664935, 3.669822801758986, 9.649597630201638, 15.158128581904759, 15.648806201140584, 15.236841670174536, 17.628498378485325, 22.30597460244281, 14.348982520230395, 6.676998095344932, 19.58930424742924, 5.078254658091789], [13.654531986163313, 14.701991382397958, 3.7862802922731715, 5.725579354991572, 11.554633874713915, 5.233471488416534, 9.979152558804675, 21.803708672148698, 4.368771938637979, 14.485729032253165, 5.7398042711048465, 3.772554524040052, 6.615216281279777, 7.16614796759988, 15.024038311433872, 12.371450233066072, 7.974348218980995, 17.856038582713705, 7.1966605841389, 17.57830179745541], [4.230644401925261, 22.276919532391265, 7.607397792490557, 3.844639416497097, 21.00163350529666, 4.087198944998367, 5.48769339883644, 19.42052468954194, 9.06580203559327, 4.220386934441214, 18.185384443192444, 16.74939832651242, 18.258843502683202, 15.721147937982199, 7.236798778090465, 10.386477175967254, 13.803075791339998, 8.379602601772188, 19.44693920780675, 17.798413882501876]]\n"
     ]
    }
   ],
   "source": [
    "rand_vect = np.random.rand(12,20)*20 + 3\n",
    "\n",
    "with np.printoptions(threshold=np.inf):\n",
    "    print(rand_vect)\n",
    "print(rand_vect.tolist())"
   ]
  },
  {
   "cell_type": "markdown",
   "id": "48413134",
   "metadata": {},
   "source": [
    "#### Exercise: How to convert a float (32 bits) array into an integer (32 bits) in place?\n",
    "Check https://stackoverflow.com/a/4396247/5989906"
   ]
  },
  {
   "cell_type": "code",
   "execution_count": 45,
   "id": "5db64b6d",
   "metadata": {},
   "outputs": [
    {
     "name": "stdout",
     "output_type": "stream",
     "text": [
      "[[ 6 20 20 18 16 18 20 11 13 19 13 16  4  5 12 17  8 22  8 14]\n",
      " [19  8  8  4 21 22 17 13 14  5  6 15  9  7 18  9  7  8  7 15]\n",
      " [19 18 14 19 16 21  5 18 14 13 10  9  7 12 19  3 13  8  4 13]\n",
      " [11 21 17 13 10 20 11 13 12  3 19 17 10  8 16  7  5  4  8 10]\n",
      " [ 3 21 13  8 12 16 17  6  6  6 21 13  3 20 22 11 15 10 12 11]\n",
      " [20 19  4 11 11 20 19  8 11  7 13 15 19 10  5 11  6  7 14 18]\n",
      " [13 17  3 12  4 21  3 18 15 17  7 16 11 16 19  3 14  9 11  4]\n",
      " [21 22  9 19 19  3  4 12  8 21  8 13 19  5  8  7  4  4 15 15]\n",
      " [22 10  3 18 16  3 19  6 12 16  7 14  7 17  7  3 15  9 12 18]\n",
      " [17 17 15 16 21 21 12 11  5  4 20 14 16  7  8  9  3 10  9 15]\n",
      " [19  7  4  6 17 12  7  9 22  4  8 14  8 12 11  5 18 11  4  7]\n",
      " [13 13 16  7 19 10 20 18 14 12  7 18 13  6 10  9 13 21 12 11]]\n"
     ]
    }
   ],
   "source": [
    "rand_vect = np.random.rand(12,20).astype(np.float32) *20 + 3\n",
    "y = rand_vect.view('int32')\n",
    "y[:] = rand_vect\n",
    "print(y)"
   ]
  },
  {
   "cell_type": "markdown",
   "id": "215b6acc",
   "metadata": {},
   "source": [
    "#### Exercise: Subtract the mean of each row of a matrix (★★☆)"
   ]
  },
  {
   "cell_type": "code",
   "execution_count": 46,
   "id": "dd1adef4",
   "metadata": {},
   "outputs": [
    {
     "name": "stdout",
     "output_type": "stream",
     "text": [
      "[[16  8 16]\n",
      " [18 19 14]\n",
      " [ 4 13 11]]\n",
      "[13.33333333 17.          9.33333333]\n",
      "[[ 2.66666667 -5.33333333  2.66666667]\n",
      " [ 1.          2.         -3.        ]\n",
      " [-5.33333333  3.66666667  1.66666667]]\n",
      "[[ 2.66666667 -5.33333333  2.66666667]\n",
      " [ 1.          2.         -3.        ]\n",
      " [-5.33333333  3.66666667  1.66666667]]\n"
     ]
    }
   ],
   "source": [
    "mtx_a = np.random.randint(1,20,size=(3,3))\n",
    "print(mtx_a)\n",
    "print(mtx_a.mean(axis=1))\n",
    "print(mtx_a - mtx_a.mean(axis=1).reshape(-1,1))\n",
    "print(mtx_a - mtx_a.mean(axis=1, keepdims=True))"
   ]
  },
  {
   "cell_type": "markdown",
   "id": "c0cf37e0",
   "metadata": {},
   "source": [
    "#### Exercise: How to sort an array by the nth column? (★★☆)"
   ]
  },
  {
   "cell_type": "code",
   "execution_count": 47,
   "id": "9336ca5f",
   "metadata": {},
   "outputs": [
    {
     "name": "stdout",
     "output_type": "stream",
     "text": [
      "[[ 5 13 15 13 13]\n",
      " [ 9 19 10 14 11]\n",
      " [12  1  2  4  2]]\n",
      "\n",
      "[[12  1  2  4  2]\n",
      " [ 5 13 15 13 13]\n",
      " [ 9 19 10 14 11]]\n",
      "\n",
      "[[12  1  2  4  2]\n",
      " [ 5 13 15 13 13]\n",
      " [ 9 19 10 14 11]]\n",
      "[[12  1  2  4  2]\n",
      " [ 5 13 15 13 13]\n",
      " [ 9 19 10 14 11]]\n",
      "[[12  1  2  4  2]\n",
      " [ 5 13 15 13 13]\n",
      " [ 9 19 10 14 11]]\n"
     ]
    }
   ],
   "source": [
    "mtx_a = np.random.randint(1,20,size=(3,5))\n",
    "print(mtx_a)\n",
    "print()\n",
    "#mtx_a = mtx_a.tolist()\n",
    "cols = [1]\n",
    "print(mtx_a[np.lexsort(mtx_a.T[cols])])\n",
    "print()\n",
    "print(mtx_a[ mtx_a[:,1].argsort()])\n",
    "print(mtx_a[ mtx_a[:,1].argsort(),:])\n",
    "mtx_a.view('i8,i8,i8,i8,i8').sort(order=['f1'], axis=0)\n",
    "print(mtx_a)\n"
   ]
  },
  {
   "cell_type": "markdown",
   "id": "c17fb213",
   "metadata": {},
   "source": [
    "#### Exercise: Find the position of a the minimum of a 2D matrix? (★★☆)"
   ]
  },
  {
   "cell_type": "code",
   "execution_count": 48,
   "id": "7fdda78d",
   "metadata": {},
   "outputs": [
    {
     "name": "stdout",
     "output_type": "stream",
     "text": [
      "1\n",
      "[[False False False False  True]\n",
      " [False False False False False]\n",
      " [False False False False False]]\n",
      "(array([0]), array([4]))\n"
     ]
    }
   ],
   "source": [
    "mtx_a = np.random.randint(1,20,size=(3,5))\n",
    "print(mtx_a.min())\n",
    "print(mtx_a == mtx_a.min())\n",
    "print(np.where(mtx_a == mtx_a.min()))"
   ]
  },
  {
   "cell_type": "markdown",
   "id": "f4427f7f",
   "metadata": {},
   "source": [
    "#### Exercise: Read an image using openCV, check its dimensions, normalize the numbers and show the image (★★★)\n",
    "Check: https://www.geeksforgeeks.org/python-opencv-cv2-imread-method/"
   ]
  },
  {
   "cell_type": "code",
   "execution_count": 107,
   "id": "fe253212",
   "metadata": {},
   "outputs": [
    {
     "ename": "ImportError",
     "evalue": "libGL.so.1: cannot open shared object file: No such file or directory",
     "output_type": "error",
     "traceback": [
      "\u001b[0;31m---------------------------------------------------------------------------\u001b[0m",
      "\u001b[0;31mImportError\u001b[0m                               Traceback (most recent call last)",
      "\u001b[0;32m/tmp/ipykernel_1241/1882489599.py\u001b[0m in \u001b[0;36m<module>\u001b[0;34m\u001b[0m\n\u001b[0;32m----> 1\u001b[0;31m \u001b[0;32mfrom\u001b[0m \u001b[0mcv2\u001b[0m \u001b[0;32mimport\u001b[0m \u001b[0;34m*\u001b[0m\u001b[0;34m\u001b[0m\u001b[0;34m\u001b[0m\u001b[0m\n\u001b[0m\u001b[1;32m      2\u001b[0m \u001b[0mpath\u001b[0m \u001b[0;34m=\u001b[0m \u001b[0;34m\"/workspace/ml_pre_work/02-numpy/assets/1D.png\"\u001b[0m\u001b[0;34m\u001b[0m\u001b[0;34m\u001b[0m\u001b[0m\n\u001b[1;32m      3\u001b[0m \u001b[0mimg\u001b[0m \u001b[0;34m=\u001b[0m \u001b[0mcv2\u001b[0m\u001b[0;34m.\u001b[0m\u001b[0mimread\u001b[0m\u001b[0;34m(\u001b[0m\u001b[0mpath\u001b[0m\u001b[0;34m)\u001b[0m\u001b[0;34m\u001b[0m\u001b[0;34m\u001b[0m\u001b[0m\n\u001b[1;32m      4\u001b[0m \u001b[0mprint\u001b[0m\u001b[0;34m(\u001b[0m\u001b[0mimg\u001b[0m\u001b[0;34m.\u001b[0m\u001b[0msize\u001b[0m\u001b[0;34m)\u001b[0m\u001b[0;34m\u001b[0m\u001b[0;34m\u001b[0m\u001b[0m\n\u001b[1;32m      5\u001b[0m \u001b[0mprint\u001b[0m\u001b[0;34m(\u001b[0m\u001b[0mimg\u001b[0m\u001b[0;34m.\u001b[0m\u001b[0mshape\u001b[0m\u001b[0;34m)\u001b[0m\u001b[0;34m\u001b[0m\u001b[0;34m\u001b[0m\u001b[0m\n",
      "\u001b[0;32m~/.pyenv/versions/3.8.12/lib/python3.8/site-packages/cv2/__init__.py\u001b[0m in \u001b[0;36m<module>\u001b[0;34m\u001b[0m\n\u001b[1;32m      6\u001b[0m \u001b[0;32mimport\u001b[0m \u001b[0msys\u001b[0m\u001b[0;34m\u001b[0m\u001b[0;34m\u001b[0m\u001b[0m\n\u001b[1;32m      7\u001b[0m \u001b[0;34m\u001b[0m\u001b[0m\n\u001b[0;32m----> 8\u001b[0;31m \u001b[0;32mfrom\u001b[0m \u001b[0;34m.\u001b[0m\u001b[0mcv2\u001b[0m \u001b[0;32mimport\u001b[0m \u001b[0;34m*\u001b[0m\u001b[0;34m\u001b[0m\u001b[0;34m\u001b[0m\u001b[0m\n\u001b[0m\u001b[1;32m      9\u001b[0m \u001b[0;32mfrom\u001b[0m \u001b[0;34m.\u001b[0m\u001b[0mcv2\u001b[0m \u001b[0;32mimport\u001b[0m \u001b[0m_registerMatType\u001b[0m\u001b[0;34m\u001b[0m\u001b[0;34m\u001b[0m\u001b[0m\n\u001b[1;32m     10\u001b[0m \u001b[0;32mfrom\u001b[0m \u001b[0;34m.\u001b[0m \u001b[0;32mimport\u001b[0m \u001b[0mmat_wrapper\u001b[0m\u001b[0;34m\u001b[0m\u001b[0;34m\u001b[0m\u001b[0m\n",
      "\u001b[0;31mImportError\u001b[0m: libGL.so.1: cannot open shared object file: No such file or directory"
     ]
    }
   ],
   "source": [
    "from cv2 import *\n",
    "path = \"/workspace/ml_pre_work/02-numpy/assets/1D.png\"\n",
    "img = cv2.imread(path)\n",
    "print(img.size)\n",
    "print(img.shape)\n",
    "#img = (img - img.mean()) / img.std()\n",
    "norm_img = np.zeros((img.shape[0],img.shape[1]))\n",
    "final_img = cv2.normalize(img,  norm_img, 0, 255, cv2.NORM_MINMAX)\n",
    "#cv2.imshow('image', img)\n",
    "cv2.imwrite('/workspace/ml_pre_work/02-numpy/assets/normalized_image.jpg', final_img)"
   ]
  },
  {
   "cell_type": "markdown",
   "id": "33c986d9",
   "metadata": {},
   "source": [
    "#### Exercise: Considering a four dimensions array, how to get sum over the last two axis at once? (★★★)"
   ]
  },
  {
   "cell_type": "code",
   "execution_count": null,
   "id": "a99a50e2",
   "metadata": {},
   "outputs": [
    {
     "name": "stdout",
     "output_type": "stream",
     "text": [
      "(3, 2, 3, 4)\n",
      "[[51 46]\n",
      " [53 49]\n",
      " [80 39]]\n",
      "[[51 46]\n",
      " [53 49]\n",
      " [80 39]]\n"
     ]
    }
   ],
   "source": [
    "A = np.random.randint(0,10,(3,2,3,4))\n",
    "print(A.shape)\n",
    "#print(A)\n",
    "sum = A.reshape(A.shape[:-2] + (-1,)).sum(axis=-1)\n",
    "print(sum)\n",
    "sum = A.sum(axis=(-2,-1))\n",
    "print(sum)"
   ]
  },
  {
   "cell_type": "markdown",
   "id": "928a1a15",
   "metadata": {},
   "source": [
    "#### Exercise: How to get the diagonal of a dot product? (★★★)"
   ]
  },
  {
   "cell_type": "code",
   "execution_count": null,
   "id": "ef2c9ddd",
   "metadata": {},
   "outputs": [
    {
     "name": "stdout",
     "output_type": "stream",
     "text": [
      "[[75 22 68]\n",
      " [87 30 80]\n",
      " [51 14 46]]\n",
      "[75 30 46]\n"
     ]
    }
   ],
   "source": [
    "A = np.random.randint(0,10,(3,2))\n",
    "B = np.random.randint(0,10,(2,3))\n",
    "c = np.dot(A,B)\n",
    "print(c)\n",
    "print(c.diagonal())"
   ]
  },
  {
   "cell_type": "markdown",
   "id": "f62551d8",
   "metadata": {},
   "source": [
    "#### Exercise: Consider an array of dimension (5,5,3), how to mulitply it by an array with dimensions (5,5)? (★★★)"
   ]
  },
  {
   "cell_type": "code",
   "execution_count": null,
   "id": "9ab241b7",
   "metadata": {},
   "outputs": [
    {
     "name": "stdout",
     "output_type": "stream",
     "text": [
      "[[[21 63 56]\n",
      "  [40 24 56]\n",
      "  [16  4 20]\n",
      "  [ 0  0  0]\n",
      "  [ 0  0  0]]\n",
      "\n",
      " [[ 9  6  1]\n",
      "  [ 0  0  0]\n",
      "  [24 24  3]\n",
      "  [28 20  0]\n",
      "  [ 0  0  0]]\n",
      "\n",
      " [[18 18 18]\n",
      "  [24 24 72]\n",
      "  [ 6  3  2]\n",
      "  [ 0  0  0]\n",
      "  [15 18  0]]\n",
      "\n",
      " [[ 2 18 18]\n",
      "  [54 63 54]\n",
      "  [ 0 56 56]\n",
      "  [ 0 24 12]\n",
      "  [ 6  4 14]]\n",
      "\n",
      " [[54 42 24]\n",
      "  [ 0  0  0]\n",
      "  [24 72 40]\n",
      "  [21 56 14]\n",
      "  [ 0  0 24]]]\n",
      "[[[21 63 56]\n",
      "  [40 24 56]\n",
      "  [16  4 20]\n",
      "  [ 0  0  0]\n",
      "  [ 0  0  0]]\n",
      "\n",
      " [[ 9  6  1]\n",
      "  [ 0  0  0]\n",
      "  [24 24  3]\n",
      "  [28 20  0]\n",
      "  [ 0  0  0]]\n",
      "\n",
      " [[18 18 18]\n",
      "  [24 24 72]\n",
      "  [ 6  3  2]\n",
      "  [ 0  0  0]\n",
      "  [15 18  0]]\n",
      "\n",
      " [[ 2 18 18]\n",
      "  [54 63 54]\n",
      "  [ 0 56 56]\n",
      "  [ 0 24 12]\n",
      "  [ 6  4 14]]\n",
      "\n",
      " [[54 42 24]\n",
      "  [ 0  0  0]\n",
      "  [24 72 40]\n",
      "  [21 56 14]\n",
      "  [ 0  0 24]]]\n",
      "[[[ True  True  True]\n",
      "  [ True  True  True]\n",
      "  [ True  True  True]\n",
      "  [ True  True  True]\n",
      "  [ True  True  True]]\n",
      "\n",
      " [[ True  True  True]\n",
      "  [ True  True  True]\n",
      "  [ True  True  True]\n",
      "  [ True  True  True]\n",
      "  [ True  True  True]]\n",
      "\n",
      " [[ True  True  True]\n",
      "  [ True  True  True]\n",
      "  [ True  True  True]\n",
      "  [ True  True  True]\n",
      "  [ True  True  True]]\n",
      "\n",
      " [[ True  True  True]\n",
      "  [ True  True  True]\n",
      "  [ True  True  True]\n",
      "  [ True  True  True]\n",
      "  [ True  True  True]]\n",
      "\n",
      " [[ True  True  True]\n",
      "  [ True  True  True]\n",
      "  [ True  True  True]\n",
      "  [ True  True  True]\n",
      "  [ True  True  True]]]\n"
     ]
    }
   ],
   "source": [
    "A = np.random.randint(0,10,(5,5,3))\n",
    "B = np.random.randint(0,10,(5,5))\n",
    "C = (A.T * B.T).T\n",
    "print(C)\n",
    "D = A * B[:,:,None]\n",
    "print(D)\n",
    "print(D == C)"
   ]
  },
  {
   "cell_type": "markdown",
   "id": "6896e326",
   "metadata": {},
   "source": [
    "#### Exercise: How to swap two rows of an array? (★★★)"
   ]
  },
  {
   "cell_type": "code",
   "execution_count": null,
   "id": "9e8fcba9",
   "metadata": {},
   "outputs": [
    {
     "name": "stdout",
     "output_type": "stream",
     "text": [
      "[[1 2 7 2 7]\n",
      " [8 1 8 4 6]\n",
      " [5 3 1 9 5]\n",
      " [6 3 9 5 0]\n",
      " [0 6 3 5 3]]\n",
      "[[1 2 7 2 7]\n",
      " [8 1 8 4 6]\n",
      " [5 3 1 9 5]\n",
      " [0 6 3 5 3]\n",
      " [6 3 9 5 0]]\n"
     ]
    }
   ],
   "source": [
    "A = np.random.randint(0,10,(5,5))\n",
    "print(A)\n",
    "A[-2:] = np.flip(A[-2:],axis=0)\n",
    "print(A)"
   ]
  },
  {
   "cell_type": "markdown",
   "id": "8e83df46",
   "metadata": {},
   "source": [
    "#### Exercise: Read an image using openCV and tranpose it. What did you get exactly? Was the image rotated? Moved? Reflected with respect to an axis? (★★★)"
   ]
  },
  {
   "cell_type": "code",
   "execution_count": null,
   "id": "f73127b7",
   "metadata": {},
   "outputs": [
    {
     "name": "stdout",
     "output_type": "stream",
     "text": [
      "825300\n",
      "(393, 700, 3)\n",
      "825300\n",
      "(700, 393, 3)\n"
     ]
    },
    {
     "data": {
      "text/plain": [
       "True"
      ]
     },
     "execution_count": 97,
     "metadata": {},
     "output_type": "execute_result"
    }
   ],
   "source": [
    "path = \"/workspace/ml_pre_work/02-numpy/assets/1D.png\"\n",
    "img = cv2.imread(path)\n",
    "print(img.size)\n",
    "print(img.shape)\n",
    "\n",
    "final_img = cv2.transpose(img)\n",
    "print(final_img.size)\n",
    "print(final_img.shape)\n",
    "\n",
    "cv2.imwrite('/workspace/ml_pre_work/02-numpy/assets/transposed_image.jpg', final_img)\n",
    "#Reflected with respect to xx axis and rotated 90 degrees right to left"
   ]
  },
  {
   "cell_type": "markdown",
   "id": "781fa236",
   "metadata": {},
   "source": [
    "#### Exercise: Consider an array Z = [1,2,3,4,5,6,7,8,9,10,11,12,13,14], how to generate an array R = [[1,2,3,4], [2,3,4,5], [3,4,5,6], ..., [11,12,13,14]]? (★★★)"
   ]
  },
  {
   "cell_type": "code",
   "execution_count": 50,
   "id": "8e84d3c2",
   "metadata": {},
   "outputs": [
    {
     "name": "stdout",
     "output_type": "stream",
     "text": [
      "[[ 1  2  3  4]\n",
      " [ 2  3  4  5]\n",
      " [ 3  4  5  6]\n",
      " [ 4  5  6  7]\n",
      " [ 5  6  7  8]\n",
      " [ 6  7  8  9]\n",
      " [ 7  8  9 10]\n",
      " [ 8  9 10 11]\n",
      " [ 9 10 11 12]\n",
      " [10 11 12 13]\n",
      " [11 12 13 14]]\n"
     ]
    }
   ],
   "source": [
    "from numpy.lib import stride_tricks\n",
    "\n",
    "Z = np.arange(1,15,dtype=np.uint32)\n",
    "R = stride_tricks.as_strided(Z,(11,4),(4,4))\n",
    "print(R)"
   ]
  },
  {
   "cell_type": "markdown",
   "id": "7d8dc135",
   "metadata": {},
   "source": [
    "#### Exercise: How to find the most frequent value in an array? (★★★)"
   ]
  },
  {
   "cell_type": "code",
   "execution_count": 54,
   "id": "3978a7a2",
   "metadata": {},
   "outputs": [
    {
     "name": "stdout",
     "output_type": "stream",
     "text": [
      "list of modes:  [4, 5, 6, 7, 8, 9, 10, 11]\n",
      "mode frequency:  4\n"
     ]
    }
   ],
   "source": [
    "vals, counts = np.unique(R, return_counts=True)\n",
    "mode_value = np.argwhere(counts == np.max(counts))\n",
    "print(\"list of modes: \", vals[mode_value].flatten().tolist())\n",
    "print(\"mode frequency: \", np.max(counts))"
   ]
  },
  {
   "cell_type": "markdown",
   "id": "4c70397b",
   "metadata": {},
   "source": [
    "#### Exercise: How to get the n largest values of an array (★★★)"
   ]
  },
  {
   "cell_type": "code",
   "execution_count": 105,
   "id": "16371718",
   "metadata": {},
   "outputs": [
    {
     "name": "stdout",
     "output_type": "stream",
     "text": [
      "[[[[103  86]\n",
      "   [157 183]\n",
      "   [150  19]]\n",
      "\n",
      "  [[ 56  44]\n",
      "   [ 49  42]\n",
      "   [ 85 181]]]\n",
      "\n",
      "\n",
      " [[[ 77 195]\n",
      "   [ 51 170]\n",
      "   [154  43]]\n",
      "\n",
      "  [[113 161]\n",
      "   [ 30 140]\n",
      "   [141   0]]]]\n",
      "[170 181 183 195]\n"
     ]
    }
   ],
   "source": [
    "N = np.random.randint(0,200,(2,2,3,2))\n",
    "print(N)\n",
    "n = 4\n",
    "ind = np.unravel_index(np.argsort(N, axis=None), N.shape) #for N-dimensional array\n",
    "print(np.unique(N[ind])[-n:])"
   ]
  },
  {
   "cell_type": "markdown",
   "id": "d94352b6",
   "metadata": {},
   "source": [
    "#### Exercise: Consider a large vector Z, compute Z to the power of 3 using 3 different methods (★★★)"
   ]
  },
  {
   "cell_type": "code",
   "execution_count": null,
   "id": "301ba8a8",
   "metadata": {},
   "outputs": [],
   "source": []
  },
  {
   "cell_type": "markdown",
   "id": "2784c996",
   "metadata": {},
   "source": [
    "#### Exercise: Given a two dimensional array, how to extract unique rows? (★★★)"
   ]
  },
  {
   "cell_type": "code",
   "execution_count": null,
   "id": "f030595f",
   "metadata": {},
   "outputs": [],
   "source": []
  },
  {
   "cell_type": "markdown",
   "id": "e5737276",
   "metadata": {},
   "source": [
    "#### Exercise: Can you have arrray of strings? can you mix different data types in the same array? Can you operate (add, sub, mult) arrays with different data types? (★★★)"
   ]
  },
  {
   "cell_type": "code",
   "execution_count": null,
   "id": "68c333b0",
   "metadata": {},
   "outputs": [],
   "source": []
  }
 ],
 "metadata": {
  "kernelspec": {
   "display_name": "Python 3",
   "language": "python",
   "name": "python3"
  },
  "language_info": {
   "codemirror_mode": {
    "name": "ipython",
    "version": 3
   },
   "file_extension": ".py",
   "mimetype": "text/x-python",
   "name": "python",
   "nbconvert_exporter": "python",
   "pygments_lexer": "ipython3",
   "version": "3.8.12"
  }
 },
 "nbformat": 4,
 "nbformat_minor": 5
}
