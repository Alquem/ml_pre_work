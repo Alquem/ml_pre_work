{
 "cells": [
  {
   "cell_type": "markdown",
   "id": "bdfbcacc",
   "metadata": {},
   "source": [
    "<img src=\"./assets/numpy_logo.png\" alt=\"logo\" width=\"400\"/>\n",
    "\n",
    "## Introduction to numpy\n",
    "\n",
    "NumPy stands for 'Numerical Python'. It is an open-source Python library used to perform various mathematical and scientific tasks. It contains multi-dimensional arrays and matrices, along with many high-level mathematical functions that operate on these arrays and matrices. It contains among other things:\n",
    "\n",
    "→ a powerful N-dimensional array object\n",
    "\n",
    "→ sophisticated (broadcasting) functions\n",
    "\n",
    "→ tools for integrating C/C++ and Fortran code\n",
    "\n",
    "→ useful linear algebra, Fourier transform, and random number capabilities"
   ]
  },
  {
   "cell_type": "markdown",
   "id": "85902746",
   "metadata": {},
   "source": [
    "## Installing NumPy\n",
    "When you want to work with numpy locally, you should run the following commands:\n",
    "\n",
    "You can install NumPy with:\\\n",
    "`pip install numpy`\\\n",
    "or\\\n",
    "`conda install numpy`\n",
    "\n",
    "In our case, 4Geeks have prepared all the environment in order that you can work comfortably."
   ]
  },
  {
   "cell_type": "markdown",
   "id": "58765356",
   "metadata": {},
   "source": [
    "## Why should we use NumPy?\n",
    "\n",
    "Numpy is a library to perform numerical calculation in python. We will use it mainly because it allows us to create and modify matrices, and to do operations on them with ease.\n",
    "\n",
    "NumPy is, like Pandas, Matplotlib or Scikit-Learn, one of the packages that you cannot miss when you are learning Machine Learning, mainly because this library provides a matrix data structure that has some benefits over regular Python lists. Some of these benefits are: being more compact, quicker access to reading and writing articles, being more convenient and more efficient.\n",
    "\n",
    "For example, we will see later in the bootcamp that working with images means dealing with three-dimensional matrices as large as 3840 x 2160, which means we will have 3×3840×2160 = 24883200 entries!!! 😱😱😱.\n",
    "\n",
    "Working with matrices of that magnitude is practically impossible to carry out with lists and dictionaries if one wants to have an efficient and fast programming."
   ]
  },
  {
   "cell_type": "markdown",
   "id": "c4e52ee5",
   "metadata": {},
   "source": [
    "#### Exercise: Import the numpy package under the name `np` (★☆☆)\n",
    "\n",
    "`numpy` is commonly imported as `np` so we highly recommend to put this alias."
   ]
  },
  {
   "cell_type": "code",
   "execution_count": 206,
   "id": "ea3038d9",
   "metadata": {},
   "outputs": [],
   "source": [
    "import numpy as np"
   ]
  },
  {
   "cell_type": "markdown",
   "id": "40631cd6",
   "metadata": {},
   "source": [
    "## What is an array and why it is importante for machine learning?\n",
    "\n",
    "An array is a data structure consisting of a collection of elements (values or variables), each identified by at least one array index or key.\n"
   ]
  },
  {
   "cell_type": "markdown",
   "id": "ce969254",
   "metadata": {},
   "source": [
    "![alt text](assets/1D.png \"1D\")"
   ]
  },
  {
   "cell_type": "markdown",
   "id": "735d02e2",
   "metadata": {},
   "source": [
    "We can have arrays from several dimension. Neural networks sometimes deal with 4D arrays. An array is known as the central data structure of the NumPy library. Array in NumPy is called as NumPy Array. Later, we will use also other kind of arrays thar are called: Tensors."
   ]
  },
  {
   "cell_type": "markdown",
   "id": "a20ce3a4",
   "metadata": {},
   "source": [
    "![alt text](./assets/3D.png \"3D\")"
   ]
  },
  {
   "cell_type": "markdown",
   "id": "46950f4f",
   "metadata": {},
   "source": [
    "#### Exercise: Print the numpy version and the configuration (★☆☆)\n",
    "\n",
    "You can print the version of any package of Python using `name_of_package.__version__`"
   ]
  },
  {
   "cell_type": "code",
   "execution_count": 207,
   "id": "2a9f5838",
   "metadata": {},
   "outputs": [
    {
     "name": "stdout",
     "output_type": "stream",
     "text": [
      "1.22.1\n"
     ]
    }
   ],
   "source": [
    "import numpy as np\n",
    "print(np.__version__)"
   ]
  },
  {
   "cell_type": "markdown",
   "id": "e3c20b3d",
   "metadata": {},
   "source": [
    "#### Exercise: Create a null vector of size 10 (★☆☆)\n",
    "\n",
    "A `null vector` is an array of zeros (`0`), also called `inicializacion vector`.\n",
    "\n",
    "Check de function `np.zeros` (https://numpy.org/doc/stable/reference/generated/numpy.zeros.html)"
   ]
  },
  {
   "cell_type": "code",
   "execution_count": 208,
   "id": "8a758bcf",
   "metadata": {},
   "outputs": [
    {
     "data": {
      "text/plain": [
       "array([0., 0., 0., 0., 0., 0., 0., 0., 0., 0.])"
      ]
     },
     "execution_count": 208,
     "metadata": {},
     "output_type": "execute_result"
    }
   ],
   "source": [
    "np.zeros(10)"
   ]
  },
  {
   "cell_type": "markdown",
   "id": "6cbe7954",
   "metadata": {},
   "source": [
    "#### Exercise: Create a vector of ones with size 10 (★☆☆)\n",
    "Check de function `np.ones` (https://numpy.org/doc/stable/reference/generated/numpy.ones.html)"
   ]
  },
  {
   "cell_type": "code",
   "execution_count": 209,
   "id": "86477874",
   "metadata": {},
   "outputs": [
    {
     "data": {
      "text/plain": [
       "array([1., 1., 1., 1., 1., 1., 1., 1., 1., 1.])"
      ]
     },
     "execution_count": 209,
     "metadata": {},
     "output_type": "execute_result"
    }
   ],
   "source": [
    "np.ones(10)"
   ]
  },
  {
   "cell_type": "markdown",
   "id": "0a708990",
   "metadata": {},
   "source": [
    "#### Exercise: Create an 1D array with specific start value, end value and number of values (★☆☆)\n",
    "\n",
    "Check the function `np.linspace` (https://numpy.org/doc/stable/reference/generated/numpy.linspace.html)"
   ]
  },
  {
   "cell_type": "code",
   "execution_count": 210,
   "id": "477e01f4",
   "metadata": {},
   "outputs": [
    {
     "data": {
      "text/plain": [
       "array([0.        , 0.11111111, 0.22222222, 0.33333333, 0.44444444,\n",
       "       0.55555556, 0.66666667, 0.77777778, 0.88888889, 1.        ])"
      ]
     },
     "execution_count": 210,
     "metadata": {},
     "output_type": "execute_result"
    }
   ],
   "source": [
    "np.linspace(0,1,10)"
   ]
  },
  {
   "cell_type": "markdown",
   "id": "782d4c77",
   "metadata": {},
   "source": [
    "#### Run: Create a vector (1D array) with random integers from 10 to 49 and dimension 1x35 (★☆☆)\n",
    "\n",
    "When `dimension` is expressed `1x35` it means: One dimension array with 35 items (length=35).\n",
    "\n",
    "Check the function `np.random` which allows you to create random arrays (https://numpy.org/doc/1.16/reference/routines.random.html)"
   ]
  },
  {
   "cell_type": "code",
   "execution_count": 211,
   "id": "5dbe1a08",
   "metadata": {},
   "outputs": [
    {
     "name": "stdout",
     "output_type": "stream",
     "text": [
      "[0.29694163 0.27233565 0.5471662  0.60602142 0.19275901 0.83551488\n",
      " 0.7049453  0.84954637 0.98674651 0.11358705]\n",
      "[34.77974449 25.91050527 21.21144056 17.85030686 26.67844262 11.37048247\n",
      " 21.84141188 17.50623564 25.02951386 47.00984482 42.14652652 45.8054234\n",
      " 39.90042882 23.93550854 43.89157885 22.52335504 25.42241673 18.40162335\n",
      " 38.65241785 28.77627136 42.8040446  47.29930943 35.97665506 33.04017564\n",
      " 16.91228507 21.31290666 40.91177564 10.09120353 16.2831027  38.73706506\n",
      " 29.88185189 30.40885547 26.26844895 28.88807928 16.91950594]\n"
     ]
    }
   ],
   "source": [
    "import numpy as np\n",
    "\n",
    "## 10 random numbers between (0, 1)\n",
    "print(np.random.random(10))\n",
    "## 35 random numbers between (10, 49)\n",
    "print(np.random.random(35)*39 + 10)  "
   ]
  },
  {
   "cell_type": "code",
   "execution_count": 212,
   "id": "a9354456",
   "metadata": {},
   "outputs": [
    {
     "name": "stdout",
     "output_type": "stream",
     "text": [
      "[0.53745395 0.93063004 0.40304317 0.09531237 0.65120336 0.05337763\n",
      " 0.79700264 0.2589636  0.79528834 0.14958711]\n",
      "[ 8.99055667e-01  1.87319045e-01 -1.41790194e-01  4.42842172e-01\n",
      "  1.15016563e+00 -1.58188523e-01 -1.30341990e-04 -6.16686041e-01\n",
      " -5.54779157e-01  9.83327864e-01]\n"
     ]
    }
   ],
   "source": [
    "## Two ways to create numbers with normal distribution\n",
    "print(np.random.rand(10)) # 10 random values with distribution N(0,1)\n",
    "print(np.random.normal(loc = 0, scale = 1, size = 10)) # 10 random values with distribution N(0,1)"
   ]
  },
  {
   "cell_type": "code",
   "execution_count": 213,
   "id": "73ed6271",
   "metadata": {},
   "outputs": [
    {
     "name": "stdout",
     "output_type": "stream",
     "text": [
      "[-47.90807081  -0.83050994  -8.88055518  23.29589629 -41.65253204\n",
      " -17.72173138 -27.84773421 -27.15520311  15.24751395  32.12364833]\n"
     ]
    }
   ],
   "source": [
    "## Did you notice the difference between both functions? \n",
    "print(np.random.normal(loc = -5, scale = 33, size = 10)) # 10 random values with distribution N(-5,33)"
   ]
  },
  {
   "cell_type": "code",
   "execution_count": 214,
   "id": "49ae7a5a",
   "metadata": {},
   "outputs": [
    {
     "name": "stdout",
     "output_type": "stream",
     "text": [
      "[65.03333237 40.1431204  22.34293825 60.15175927 16.9731744  -2.24292208\n",
      " 34.83417952 50.63005443 33.86773946 -5.91170996]\n"
     ]
    }
   ],
   "source": [
    "## 10 random values with uniform distribution. That is, all values have the same probability\n",
    "print(np.random.uniform(-30,100,10)) # All values are between -30 and 100."
   ]
  },
  {
   "cell_type": "code",
   "execution_count": 215,
   "id": "f78e72cb",
   "metadata": {},
   "outputs": [
    {
     "name": "stdout",
     "output_type": "stream",
     "text": [
      "[95 60 24 35 21 60 52 82 62 80]\n"
     ]
    }
   ],
   "source": [
    "# 10 integers values between 0 and 100.\n",
    "print(np.random.randint(0, 100, 10))"
   ]
  },
  {
   "cell_type": "code",
   "execution_count": 216,
   "id": "db278431",
   "metadata": {},
   "outputs": [
    {
     "name": "stdout",
     "output_type": "stream",
     "text": [
      "[1.68123836 9.34662487 5.15897303 0.9360501  3.46373272 4.87896166\n",
      " 1.62530303 5.63492677 9.33068713 2.67399479]\n"
     ]
    }
   ],
   "source": [
    "# 10 random values with Chi distribution with 5 degrees of freedom\n",
    "print(np.random.chisquare(5,10))"
   ]
  },
  {
   "cell_type": "markdown",
   "id": "1b7841da",
   "metadata": {},
   "source": [
    "The above examples are the most common distribution and random values you will learn throughout the bootcamp. Now, let's deal with those arrays."
   ]
  },
  {
   "cell_type": "markdown",
   "id": "48d48f01",
   "metadata": {},
   "source": [
    "#### Exercise: Reverse one of the last vector we created before (first element becomes last) (★☆☆)\n",
    "Try with `[::-1]`"
   ]
  },
  {
   "cell_type": "code",
   "execution_count": 217,
   "id": "3ed233e7",
   "metadata": {},
   "outputs": [
    {
     "name": "stdout",
     "output_type": "stream",
     "text": [
      "[25 58 33 92  6 92 95 19 18 92]\n",
      "[92 18 19 95 92  6 92 33 58 25]\n"
     ]
    }
   ],
   "source": [
    "rand_int_vect = np.random.randint(0, 100, 10)\n",
    "print(rand_int_vect)\n",
    "print(rand_int_vect[::-1])"
   ]
  },
  {
   "cell_type": "markdown",
   "id": "4fa39382",
   "metadata": {},
   "source": [
    "#### Exercise: Create a 5x5 identidy matrix (★☆☆)\n",
    "Check the function `np.eye`(https://numpy.org/devdocs/reference/generated/numpy.eye.html)"
   ]
  },
  {
   "cell_type": "code",
   "execution_count": 218,
   "id": "c97757ec",
   "metadata": {},
   "outputs": [
    {
     "name": "stdout",
     "output_type": "stream",
     "text": [
      "[[1. 0. 0. 0. 0.]\n",
      " [0. 1. 0. 0. 0.]\n",
      " [0. 0. 1. 0. 0.]\n",
      " [0. 0. 0. 1. 0.]\n",
      " [0. 0. 0. 0. 1.]]\n"
     ]
    }
   ],
   "source": [
    "print(np.eye(5))"
   ]
  },
  {
   "cell_type": "markdown",
   "id": "da64551a",
   "metadata": {},
   "source": [
    "#### Exercise: Find indices of non-zero elements from [1,2,0,0,4,0] (★☆☆)\n",
    "Check the function `where`(https://numpy.org/devdocs/reference/generated/numpy.where.html)"
   ]
  },
  {
   "cell_type": "code",
   "execution_count": 219,
   "id": "327f7adb",
   "metadata": {},
   "outputs": [
    {
     "name": "stdout",
     "output_type": "stream",
     "text": [
      "[0 1 4]\n"
     ]
    }
   ],
   "source": [
    "print(np.where(np.array([1,2,0,0,4,0]) != 0)[0])"
   ]
  },
  {
   "cell_type": "markdown",
   "id": "13c5928c",
   "metadata": {},
   "source": [
    "#### Exercise: Create a 10x10 array with random values and find the minimum and maximum values (★☆☆)\n",
    "Check the function `min`(https://numpy.org/devdocs/reference/generated/numpy.where.html) and `max`(https://numpy.org/devdocs/reference/generated/numpy.max.html)"
   ]
  },
  {
   "cell_type": "code",
   "execution_count": 220,
   "id": "911c9b93",
   "metadata": {},
   "outputs": [
    {
     "name": "stdout",
     "output_type": "stream",
     "text": [
      "0.0032350827273522897\n",
      "0.9944193320577756\n"
     ]
    }
   ],
   "source": [
    "arr_10_by_10 = np.random.random((10,10))\n",
    "print(arr_10_by_10.min())\n",
    "print(arr_10_by_10.max())"
   ]
  },
  {
   "cell_type": "markdown",
   "id": "3fa2e461",
   "metadata": {},
   "source": [
    "#### Exercise: Create a random vector of size 30 and find the mean value (★☆☆)"
   ]
  },
  {
   "cell_type": "code",
   "execution_count": 221,
   "id": "323eb38a",
   "metadata": {},
   "outputs": [
    {
     "name": "stdout",
     "output_type": "stream",
     "text": [
      "0.46894231169730105\n"
     ]
    }
   ],
   "source": [
    "print(np.random.random(30).mean())"
   ]
  },
  {
   "cell_type": "markdown",
   "id": "961f074f",
   "metadata": {},
   "source": [
    "#### Exercise: Define a function with input your date of birth (yyyy/mm/dd) that returns a random array with the following dimensions: (★★☆)\n",
    "$$yyyy-1900 \\times |mm - dd|$$"
   ]
  },
  {
   "cell_type": "code",
   "execution_count": 222,
   "id": "d3f49255",
   "metadata": {},
   "outputs": [
    {
     "name": "stdout",
     "output_type": "stream",
     "text": [
      "(90, 1)\n"
     ]
    }
   ],
   "source": [
    "def birth_date(date_of_birth: str) -> np.array:\n",
    "    date = date_of_birth.split(\"/\")\n",
    "    size = (int(date[0]) - 1900, np.abs(int(date[1]) - int(date[2])))\n",
    "    return np.random.random(size) \n",
    "\n",
    "birthdate = input(\"enter your birthday: \")\n",
    "print(birth_date(birthdate).shape)"
   ]
  },
  {
   "cell_type": "markdown",
   "id": "ff8dbb92",
   "metadata": {},
   "source": [
    "## What is the difference between Python List and a Numpy Array?\n",
    "\n",
    "- Python list can contain elements with different data types whereas Numpy Array‘s elements are always homogeneous (same data types).\n",
    "- NumPy arrays are faster and more compact than Python lists.\n",
    "\n",
    "## Why NumPy Arrays are faster than Lists?\n",
    "\n",
    "- NumPy Array uses fixed memory to store data and less memory than Python lists.\n",
    "- Contiguous memory allocation in NumPy Arrays."
   ]
  },
  {
   "cell_type": "markdown",
   "id": "e3a7ba7f",
   "metadata": {},
   "source": [
    "#### Exercise: Convert the list `my_list = [1, 2, 3]` to numpy array (★☆☆)"
   ]
  },
  {
   "cell_type": "code",
   "execution_count": 223,
   "id": "01d8e257",
   "metadata": {},
   "outputs": [
    {
     "name": "stdout",
     "output_type": "stream",
     "text": [
      "[1, 2, 3]\n",
      "[1 2 3]\n"
     ]
    }
   ],
   "source": [
    "my_list = [1, 2, 3]\n",
    "numpy_my_list = np.array(my_list)\n",
    "print(my_list)\n",
    "print(numpy_my_list)"
   ]
  },
  {
   "cell_type": "markdown",
   "id": "6d17ab5d",
   "metadata": {},
   "source": [
    "#### Exercise: Convert the tuple `my_list = (1, 2, 3)` to numpy array (★☆☆)"
   ]
  },
  {
   "cell_type": "code",
   "execution_count": 224,
   "id": "841373cd",
   "metadata": {},
   "outputs": [
    {
     "name": "stdout",
     "output_type": "stream",
     "text": [
      "(1, 2, 3)\n",
      "[1 2 3]\n"
     ]
    }
   ],
   "source": [
    "my_list = (1, 2, 3)\n",
    "numpy_my_list = np.array(my_list)\n",
    "print(my_list)\n",
    "print(numpy_my_list)"
   ]
  },
  {
   "cell_type": "markdown",
   "id": "8837119b",
   "metadata": {},
   "source": [
    "#### Exercise: Convert the list of tuples `my_list = [(1,2,3), (4,5)]` to numpy array (★☆☆)"
   ]
  },
  {
   "cell_type": "code",
   "execution_count": 225,
   "id": "2c0d16f1",
   "metadata": {},
   "outputs": [
    {
     "name": "stdout",
     "output_type": "stream",
     "text": [
      "[(1, 2, 3), (4, 5)]\n",
      "[(1, 2, 3) (4, 5)]\n"
     ]
    }
   ],
   "source": [
    "my_list = [(1, 2, 3), (4,5)]\n",
    "numpy_my_list = np.array(my_list, dtype=np.ndarray)\n",
    "print(my_list)\n",
    "print(numpy_my_list)"
   ]
  },
  {
   "cell_type": "markdown",
   "id": "ec788c9f",
   "metadata": {},
   "source": [
    "#### Exercise: Resize a random array of dimensions 5x12 into 12x5 (★☆☆)\n",
    "Check `reshape`from `numpy`(https://numpy.org/doc/stable/reference/generated/numpy.reshape.html)"
   ]
  },
  {
   "cell_type": "code",
   "execution_count": 226,
   "id": "0a4f919f",
   "metadata": {},
   "outputs": [
    {
     "name": "stdout",
     "output_type": "stream",
     "text": [
      "(5, 12)\n",
      "(12, 5)\n"
     ]
    }
   ],
   "source": [
    "size1 = 5,12\n",
    "size2 = 12,5\n",
    "arr1 = np.random.random(size1)\n",
    "arr2 = arr1.reshape(size2)\n",
    "print(arr1.shape)\n",
    "print(arr2.shape)"
   ]
  },
  {
   "cell_type": "markdown",
   "id": "391791e0",
   "metadata": {},
   "source": [
    "#### Exercise: Create a function that normalize a 5x5 random matrix (★☆☆)\n",
    "Remember from probability (https://en.wikipedia.org/wiki/Normalization_(statistics)) that :\n",
    "$$ x_{norm} = \\frac{x - \\bar{x}}{\\sigma}$$\n"
   ]
  },
  {
   "cell_type": "code",
   "execution_count": 227,
   "id": "f6533d39",
   "metadata": {},
   "outputs": [
    {
     "name": "stdout",
     "output_type": "stream",
     "text": [
      "[[-1.00694198 -0.1059257  -1.00387981  1.29214783  0.51888693]\n",
      " [ 0.57001946 -0.81122672 -1.35184389  0.4427041  -0.5568541 ]\n",
      " [-1.25118492 -0.22667817  1.49121738  1.48428965 -0.97521924]\n",
      " [ 1.44988498  1.18169928  1.36939591 -0.95309295 -1.48863906]\n",
      " [ 1.03742667 -0.4633371  -0.87298918 -0.14864122  0.37878185]]\n"
     ]
    }
   ],
   "source": [
    "arr_to_normalize = np.random.random((5,5))\n",
    "arr_normalized = (arr_to_normalize - arr_to_normalize.mean()) / arr_to_normalize.std()\n",
    "print(arr_normalized)"
   ]
  },
  {
   "cell_type": "markdown",
   "id": "d2d143f1",
   "metadata": {},
   "source": [
    "## Stacking numpy arrays\n",
    "\n",
    "Stacking is used to join a sequence of same dimension arrays along a new axis.\n",
    "`numpy.stack(arrays,axis)` : It returns a stacked array of the input arrays which has one more dimension than the input arrays.\n",
    "\n",
    "### You have two ways to do it:\n",
    "\n",
    "\n",
    "![alt text](./assets/stack.jpeg \"stack\")\n",
    "\n",
    "\n",
    "### or\n",
    "\n",
    "\n",
    "![alt text](./assets/stack2.jpeg \"stack\")\n",
    "\n",
    "\n"
   ]
  },
  {
   "cell_type": "markdown",
   "id": "1e74d39e",
   "metadata": {},
   "source": [
    "#### Exercise: Generate two random arrays with integers and apply the stacking using `stack` (★★☆)"
   ]
  },
  {
   "cell_type": "code",
   "execution_count": 228,
   "id": "3f639d33",
   "metadata": {},
   "outputs": [
    {
     "name": "stdout",
     "output_type": "stream",
     "text": [
      "[[1 5]\n",
      " [7 0]]\n",
      "\n",
      "[[7 8]\n",
      " [7 2]]\n",
      "\n",
      "[[[1 5]\n",
      "  [7 0]]\n",
      "\n",
      " [[7 8]\n",
      "  [7 2]]]\n"
     ]
    }
   ],
   "source": [
    "arr_1 = np.random.randint(0, 10, (2,2))\n",
    "arr_2 = np.random.randint(0, 10, (2,2))\n",
    "print(arr_1)\n",
    "print()\n",
    "print(arr_2)\n",
    "print()\n",
    "print(np.stack((arr_1, arr_2)))"
   ]
  },
  {
   "cell_type": "markdown",
   "id": "78250c14",
   "metadata": {},
   "source": [
    "#### Exercise: Generate two random arrays with integers and apply the stacking using `hstack` and `vstack` (★★☆)"
   ]
  },
  {
   "cell_type": "code",
   "execution_count": 229,
   "id": "9fe729cb",
   "metadata": {},
   "outputs": [
    {
     "name": "stdout",
     "output_type": "stream",
     "text": [
      "[[1 4]\n",
      " [9 3]]\n",
      "\n",
      "[[1 2]\n",
      " [0 6]]\n",
      "\n",
      "[[1 4 1 2]\n",
      " [9 3 0 6]]\n",
      "\n",
      "[[1 4]\n",
      " [9 3]\n",
      " [1 2]\n",
      " [0 6]]\n"
     ]
    }
   ],
   "source": [
    "arr_1 = np.random.randint(0, 10, (2,2))\n",
    "arr_2 = np.random.randint(0, 10, (2,2))\n",
    "print(arr_1)\n",
    "print()\n",
    "print(arr_2)\n",
    "print()\n",
    "print(np.hstack((arr_1, arr_2)))\n",
    "print()\n",
    "print(np.vstack((arr_1, arr_2)))"
   ]
  },
  {
   "cell_type": "markdown",
   "id": "51898680",
   "metadata": {},
   "source": [
    "## Basic maths in numpy\n",
    "\n",
    "You can make typical math operations like:\n",
    "\n",
    "- Addition,Subtraction,Multiplication and Division between two arrays using numpy.\n",
    "- Operation on array using sum() & cumsum() function.\n",
    "- Minimum and Maximum value from an array\n",
    "- Exponent/Power , Square Root and Cube Root functions\n",
    "\n",
    "or even apply common trigonometric functions:\n",
    "\n",
    "- `numpy.sin()`:  Sine (x) Function\n",
    "- `numpy.cos()`: Cosine(x) Function\n",
    "- `numpy.tan()`: Tangent(x)Function\n",
    "- `numpy.sinh()`: Hyperbolic Sine (x) Function\n",
    "- `numpy.cosh()`: Hyperbolic Cosine(x) Functionv\n",
    "- `numpy.tanh()`: Hyperbolic Tangent(x)Function\n",
    "- `numpy.arcsin()`: Inverse Sine Function\n",
    "- `numpy.arccos()`: Inverse Cosine Function\n",
    "- `numpy.arctan()`: Inverse Tangent Function\n",
    "- `numpy.pi`: pi value\n",
    "- `numpy.hypot(w,h)`: For calculating Hypotenuse $c = \\sqrt{(w^2 + h^2)}$\n",
    "- `numpy.rad2deg()`: Radians to degrees\n",
    "- `numpy.deg2rad()`: Degrees to radians"
   ]
  },
  {
   "cell_type": "markdown",
   "id": "89e78048",
   "metadata": {},
   "source": [
    "#### Exercise: Generate two random 8 - dimensional vectors and apply the most common operation between vectors:  addition, substraction, multiplication, division(★☆☆)\n",
    "\n",
    "Check the math functions here: https://numpy.org/doc/stable/reference/routines.math.html"
   ]
  },
  {
   "cell_type": "code",
   "execution_count": 230,
   "id": "b62e9d1c",
   "metadata": {},
   "outputs": [
    {
     "name": "stdout",
     "output_type": "stream",
     "text": [
      "[1.11030894 1.11476108 1.77967041 0.85072714 0.54100433 1.05093989\n",
      " 0.93945148 1.34209756]\n",
      "[-0.17831038 -0.2680988  -0.14342169  0.78183845  0.14387107  0.79396567\n",
      "  0.32117848 -0.35575026]\n",
      "[0.30024784 0.29270383 0.78666424 0.02811633 0.0679967  0.11852329\n",
      " 0.19485337 0.4186669 ]\n",
      "[ 0.7232536   0.61225456  0.85084262 23.69859814  1.72454807  7.17934097\n",
      "  2.0389536   0.58093976]\n"
     ]
    }
   ],
   "source": [
    "vect_1 = np.random.random(8)\n",
    "vect_2 = np.random.random(8)\n",
    "\n",
    "print(vect_1 + vect_2)\n",
    "print(vect_1 - vect_2)\n",
    "print(vect_1 * vect_2)\n",
    "print(vect_1 / vect_2)"
   ]
  },
  {
   "cell_type": "markdown",
   "id": "ebd10810",
   "metadata": {},
   "source": [
    "#### Exercise: Generate two random matrices with dimensions between 5 and 10, e.g. 5x7 vs 8x9 and try. Were you able to do the matrix multiplication? why? (★★☆) "
   ]
  },
  {
   "cell_type": "code",
   "execution_count": 231,
   "id": "6ada209f",
   "metadata": {},
   "outputs": [],
   "source": [
    "matrix_1 = np.random.random((np.random.randint(5,10), np.random.randint(5,10)))\n",
    "matrix_2 = np.random.random((np.random.randint(5,10), np.random.randint(5,10)))\n",
    "\n",
    "\n",
    "#print(matrix_1 * matrix_2) #ValueError: operands could not be broadcast together with shapes (9,7) (6,5) "
   ]
  },
  {
   "cell_type": "markdown",
   "id": "c0e940f8",
   "metadata": {},
   "source": [
    "#### Exercise: Given 2 numpy arrays as matrices, output the result of multiplying the 2 matrices (as a numpy array) Were you able to do the matrix multiplication? (★★☆) \n",
    "\n",
    "$$ a = \\left(\\begin{matrix}\n",
    "0 & 1 & 2\\\\ \n",
    "3 & 4 & 5\\\\ \n",
    "6 & 7 & 8\n",
    "\\end{matrix}\\right)$$\n",
    "\n",
    "$$ b = \\left(\\begin{matrix}\n",
    "2 & 3 & 4\\\\ \n",
    "5 & 6 & 7\\\\ \n",
    "8 & 9 & 10\n",
    "\\end{matrix}\\right)$$\n",
    "\n",
    "\n"
   ]
  },
  {
   "cell_type": "code",
   "execution_count": 232,
   "id": "820dc7a5",
   "metadata": {},
   "outputs": [
    {
     "name": "stdout",
     "output_type": "stream",
     "text": [
      "[[0. 1. 2.]\n",
      " [3. 4. 5.]\n",
      " [6. 7. 8.]]\n",
      "[[ 2.  3.  4.]\n",
      " [ 5.  6.  7.]\n",
      " [ 8.  9. 10.]]\n",
      "[[ 0.  3.  8.]\n",
      " [15. 24. 35.]\n",
      " [48. 63. 80.]]\n"
     ]
    }
   ],
   "source": [
    "a = np.linspace(0, 8, 9).reshape((3,3))\n",
    "b = np.linspace(2, 10, 9).reshape((3,3))\n",
    "print(a)\n",
    "print(b)\n",
    "print(a * b)"
   ]
  },
  {
   "cell_type": "markdown",
   "id": "22713c3f",
   "metadata": {},
   "source": [
    "#### Exercise: Multiply a 5x3 matrix by a 3x2 matrix (real matrix product) (★★☆)"
   ]
  },
  {
   "cell_type": "code",
   "execution_count": 233,
   "id": "a3e05c29",
   "metadata": {},
   "outputs": [
    {
     "name": "stdout",
     "output_type": "stream",
     "text": [
      "[[0.99406736 1.07483836]\n",
      " [1.05797512 0.90881838]\n",
      " [0.62512376 0.99850683]\n",
      " [0.77213388 0.82508064]\n",
      " [0.58871615 0.53584658]]\n"
     ]
    }
   ],
   "source": [
    "matrix_1 = np.random.random((5, 3))\n",
    "matrix_2 = np.random.random((3, 2))\n",
    "\n",
    "print(np.dot(matrix_1, matrix_2))"
   ]
  },
  {
   "cell_type": "markdown",
   "id": "4815930e",
   "metadata": {},
   "source": [
    "## Data types\n",
    "\n",
    "Do you think the following preposition is true?\n",
    "`8==8`\n",
    "\n",
    "Surely you will definetely say yes, which is true mathematically, but computationally it is not always the same, at least in terms of memory. For example, run the following cell:"
   ]
  },
  {
   "cell_type": "code",
   "execution_count": 234,
   "id": "cd81c3c6",
   "metadata": {},
   "outputs": [
    {
     "name": "stdout",
     "output_type": "stream",
     "text": [
      "int64: 104\n",
      "int8: 97\n",
      "float32: 100\n"
     ]
    }
   ],
   "source": [
    "import sys\n",
    "\n",
    "# int64\n",
    "x = np.array(123)\n",
    "print(\"int64: \" + str(sys.getsizeof(x)))\n",
    "\n",
    "# int8\n",
    "x = np.array(123,dtype=np.int8)\n",
    "print(\"int8: \" + str(sys.getsizeof(x)))\n",
    "\n",
    "# float32\n",
    "x = np.array(123,dtype=np.float32)\n",
    "print(\"float32: \" + str(sys.getsizeof(x)))"
   ]
  },
  {
   "cell_type": "markdown",
   "id": "8e34f294",
   "metadata": {},
   "source": [
    "## It turns out that there are many computational representation of the same number and you can create arrays with different Data Types (dtypes) depending what you need:\n",
    "\n",
    "- Boolean : `np.bool_`\n",
    "- Char : `np.byte`\n",
    "- Short : `np.short`\n",
    "- Integer : `np.short`\n",
    "- Long : `np.int_`\n",
    "- Float : `np.single`&np.float32`\n",
    "- Double :`np.double`&`np.float64`\n",
    "- `np.int8`: integer (-128 to 127)\n",
    "- `np.int16`:integer( -32768 to 32767)\n",
    "- `np.int32`: integer(-2147483648 to 2147483647)\n",
    "- `np.int64`:integer( -9223372036854775808 to 9223372036854775807)\n",
    "\n",
    "\n",
    "Sometimes, you will need to load, create or export arrays from different data types.\n"
   ]
  },
  {
   "cell_type": "code",
   "execution_count": null,
   "id": "890bde78",
   "metadata": {},
   "outputs": [],
   "source": []
  },
  {
   "cell_type": "markdown",
   "id": "f1ae2c2d",
   "metadata": {},
   "source": [
    "## Harder exercises\n",
    "\n",
    "The next exercises are related with real situations you could face while you are working in data science and machine learning and we will be frequently talking about matrices and bidimensional arrays."
   ]
  },
  {
   "cell_type": "markdown",
   "id": "759c9c8d",
   "metadata": {},
   "source": [
    "#### Exercise: Subtract the mean of each row of a matrix (★★☆)"
   ]
  },
  {
   "cell_type": "code",
   "execution_count": 235,
   "id": "6801c73d",
   "metadata": {},
   "outputs": [
    {
     "name": "stdout",
     "output_type": "stream",
     "text": [
      "Original matrix:\n",
      "\n",
      "[[0.09818499 0.65513746 0.65239968 0.3220984  0.59615442 0.86033415\n",
      "  0.38643628 0.07669069 0.71942906 0.29681537]\n",
      " [0.04036457 0.28334365 0.81525575 0.90644491 0.76294889 0.48586585\n",
      "  0.60215713 0.48440519 0.17691711 0.76810888]\n",
      " [0.62937957 0.07586162 0.35582462 0.72659685 0.12487158 0.17176453\n",
      "  0.92830191 0.40745322 0.50896293 0.85602775]]\n",
      "\n",
      "Subtract the mean of each row of the said matrix:\n",
      "\n",
      "[[-0.36818306  0.18876941  0.18603163 -0.14426965  0.12978637  0.3939661\n",
      "  -0.07993177 -0.38967736  0.25306101 -0.16955268]\n",
      " [-0.49221662 -0.24923754  0.28267456  0.37386372  0.2303677  -0.04671534\n",
      "   0.06957594 -0.048176   -0.35566408  0.23552768]\n",
      " [ 0.15087511 -0.40264284 -0.12267984  0.24809239 -0.35363288 -0.30673993\n",
      "   0.44979746 -0.07105124  0.03045847  0.37752329]]\n",
      "\n",
      "Subtract the mean of each column of the said matrix:\n",
      "\n",
      "[[-0.15779139  0.31702322  0.044573   -0.32961498  0.10149612  0.35434597\n",
      "  -0.25252883 -0.24615901  0.25099269 -0.34350196]\n",
      " [-0.21561181 -0.0547706   0.20742907  0.25473152  0.26829059 -0.02012233\n",
      "  -0.03680798  0.16155549 -0.29151925  0.12779154]\n",
      " [ 0.37340319 -0.26225262 -0.25200206  0.07488346 -0.36978671 -0.33422365\n",
      "   0.28933681  0.08460352  0.04052656  0.21571042]]\n"
     ]
    }
   ],
   "source": [
    "print(\"Original matrix:\\n\")\n",
    "X = np.random.rand(3, 10)\n",
    "print(X)\n",
    "print(\"\\nSubtract the mean of each row of the said matrix:\\n\")\n",
    "Y = X - X.mean(axis=1, keepdims=True)\n",
    "print(Y)\n",
    "print(\"\\nSubtract the mean of each column of the said matrix:\\n\")\n",
    "Z = X - X.mean(axis=0, keepdims=True)\n",
    "print(Z)"
   ]
  },
  {
   "cell_type": "markdown",
   "id": "129c342d",
   "metadata": {},
   "source": [
    "#### Exercise: How to get the dates of yesterday, today and tomorrow? (★★☆)\n",
    "Check `np.datetime64`, `np.timedelta64` in numpy (https://numpy.org/doc/stable/reference/arrays.datetime.html)"
   ]
  },
  {
   "cell_type": "code",
   "execution_count": 236,
   "id": "8ba1badb",
   "metadata": {},
   "outputs": [
    {
     "name": "stdout",
     "output_type": "stream",
     "text": [
      "today 2022-01-20\n",
      "yesterday 2022-01-19\n",
      "tomorrow 2022-01-21\n"
     ]
    }
   ],
   "source": [
    "today = np.datetime64('today', 'D')\n",
    "yesterday = today - np.timedelta64(1, 'D')\n",
    "tomorrow = today + np.timedelta64(1, 'D')\n",
    "\n",
    "print(\"today\", today)\n",
    "print(\"yesterday\", yesterday)\n",
    "print(\"tomorrow\", tomorrow)"
   ]
  },
  {
   "cell_type": "markdown",
   "id": "42f8b2f9",
   "metadata": {},
   "source": [
    "#### Exercise: How to get all the dates corresponding to the month of December 2022? (★★☆)\n",
    "Combine `arange`with `datetime`\n"
   ]
  },
  {
   "cell_type": "code",
   "execution_count": 237,
   "id": "eb8ebe45",
   "metadata": {},
   "outputs": [
    {
     "name": "stdout",
     "output_type": "stream",
     "text": [
      "['2022-12-01', '2022-12-02', '2022-12-03', '2022-12-04', '2022-12-05', '2022-12-06', '2022-12-07', '2022-12-08', '2022-12-09', '2022-12-10', '2022-12-11', '2022-12-12', '2022-12-13', '2022-12-14', '2022-12-15', '2022-12-16', '2022-12-17', '2022-12-18', '2022-12-19', '2022-12-20', '2022-12-21', '2022-12-22', '2022-12-23', '2022-12-24', '2022-12-25', '2022-12-26', '2022-12-27', '2022-12-28', '2022-12-29', '2022-12-30', '2022-12-31']\n",
      "['2022-12-01' '2022-12-02' '2022-12-03' '2022-12-04' '2022-12-05'\n",
      " '2022-12-06' '2022-12-07' '2022-12-08' '2022-12-09' '2022-12-10'\n",
      " '2022-12-11' '2022-12-12' '2022-12-13' '2022-12-14' '2022-12-15'\n",
      " '2022-12-16' '2022-12-17' '2022-12-18' '2022-12-19' '2022-12-20'\n",
      " '2022-12-21' '2022-12-22' '2022-12-23' '2022-12-24' '2022-12-25'\n",
      " '2022-12-26' '2022-12-27' '2022-12-28' '2022-12-29' '2022-12-30'\n",
      " '2022-12-31']\n"
     ]
    }
   ],
   "source": [
    "all_dates_solution1 = [(np.datetime64('2022-12', 'D') + np.timedelta64(day, 'D')).astype(\"str\") for day in np.arange(31)]\n",
    "all_dates_solution2 = np.arange('2022-12', '2023-01', dtype='datetime64[D]')\n",
    "print(all_dates_solution1)\n",
    "print(all_dates_solution2)\n"
   ]
  },
  {
   "cell_type": "markdown",
   "id": "486df8ea",
   "metadata": {},
   "source": [
    "#### Exercise: Extract the integer part of a random array of positive numbers using 2 different methods (★★☆)"
   ]
  },
  {
   "cell_type": "code",
   "execution_count": 238,
   "id": "34b4fa08",
   "metadata": {},
   "outputs": [
    {
     "name": "stdout",
     "output_type": "stream",
     "text": [
      "[5 8 1 5 6 1 7 6 4 8]\n",
      "[5 8 1 5 6 1 7 6 4 8]\n"
     ]
    }
   ],
   "source": [
    "arr_random_1 = np.random.rand(10) * 10\n",
    "print(arr_random_1.astype(\"int\"))\n",
    "print(np.int64(arr_random_1))\n"
   ]
  },
  {
   "cell_type": "markdown",
   "id": "649e89f9",
   "metadata": {},
   "source": [
    "#### Exercise: Create a 5x5 matrix with row values ranging from 0 to 4 (★★☆)"
   ]
  },
  {
   "cell_type": "code",
   "execution_count": 239,
   "id": "663cc611",
   "metadata": {},
   "outputs": [
    {
     "name": "stdout",
     "output_type": "stream",
     "text": [
      "[[3 2 2 2 1]\n",
      " [2 0 1 1 1]\n",
      " [3 1 1 1 2]\n",
      " [0 1 3 2 0]\n",
      " [2 0 0 3 1]]\n"
     ]
    }
   ],
   "source": [
    "m_5x5 = np.int64(np.random.rand(5,5) * 4)\n",
    "print(m_5x5)"
   ]
  },
  {
   "cell_type": "markdown",
   "id": "3421e17f",
   "metadata": {},
   "source": [
    "#### Exercise: Consider a generator function that generates 10 integers and use it to build an array (★★☆)"
   ]
  },
  {
   "cell_type": "code",
   "execution_count": 240,
   "id": "7336b8e4",
   "metadata": {},
   "outputs": [
    {
     "name": "stdout",
     "output_type": "stream",
     "text": [
      "[0 1 2 3 4 5 6 7 8 9]\n"
     ]
    }
   ],
   "source": [
    "def generate():\n",
    "   for n in range(10):\n",
    "       yield n\n",
    "gen_arr_10int = np.fromiter(generate(),dtype=int)\n",
    "\n",
    "print(gen_arr_10int)"
   ]
  },
  {
   "cell_type": "markdown",
   "id": "483dd554",
   "metadata": {},
   "source": [
    "#### Exercise: Create a vector of size 10 with values ranging from 0 to 1, both excluded (★★☆)"
   ]
  },
  {
   "cell_type": "code",
   "execution_count": 241,
   "id": "c89b93e7",
   "metadata": {},
   "outputs": [
    {
     "name": "stdout",
     "output_type": "stream",
     "text": [
      "[0.11111111 0.22222222 0.33333333 0.44444444 0.55555556 0.66666667\n",
      " 0.77777778 0.88888889]\n"
     ]
    }
   ],
   "source": [
    "print(np.linspace(0,1,10)[1:-1])"
   ]
  },
  {
   "cell_type": "markdown",
   "id": "2d07be1c",
   "metadata": {},
   "source": [
    "#### Exercise: Create a random vector of size 10 and sort it (★★☆)"
   ]
  },
  {
   "cell_type": "code",
   "execution_count": 242,
   "id": "4f7cb3ad",
   "metadata": {},
   "outputs": [
    {
     "name": "stdout",
     "output_type": "stream",
     "text": [
      "[0.04669332 0.06895543 0.32890862 0.38087901 0.4125946  0.43016002\n",
      " 0.51928142 0.53152395 0.608477   0.89055887]\n"
     ]
    }
   ],
   "source": [
    "print(np.sort(np.random.rand(10)))"
   ]
  },
  {
   "cell_type": "markdown",
   "id": "fe043549",
   "metadata": {},
   "source": [
    "#### Exercise: Consider two random array A and B, check if they are equal (★★☆)"
   ]
  },
  {
   "cell_type": "code",
   "execution_count": 243,
   "id": "3326a686",
   "metadata": {},
   "outputs": [
    {
     "name": "stdout",
     "output_type": "stream",
     "text": [
      "False\n",
      "[[False False False False False False False False False False]\n",
      " [False False False False False False False False False False]]\n",
      "[[False False False False False False False False False False]\n",
      " [False False False False False False False False False False]]\n",
      "[[False False False False False False False False False False]\n",
      " [False False False False False False False False False False]]\n"
     ]
    }
   ],
   "source": [
    "A = np.random.rand(2,10)\n",
    "B = np.random.rand(2,10)\n",
    "print(np.allclose(A, B))\n",
    "print(np.isclose(A, B))\n",
    "##print(np.all(A, B)) # only integer scalar arrays\n",
    "##print(np.any(A, B)) # only integer scalar arrays\n",
    "print(np.equal(A, B))\n",
    "print(A == B)\n"
   ]
  },
  {
   "cell_type": "markdown",
   "id": "2002cb03",
   "metadata": {},
   "source": [
    "#### Exercise: Consider a random 10x2 matrix representing cartesian coordinates, convert them to polar coordinates (★★★)\n",
    "Suggestion: check how to calculate the \"square of a matrix\""
   ]
  },
  {
   "cell_type": "code",
   "execution_count": 244,
   "id": "58be72bc",
   "metadata": {},
   "outputs": [
    {
     "name": "stdout",
     "output_type": "stream",
     "text": [
      "[[0.01516205 0.31255627]\n",
      " [0.80065126 0.98926403]\n",
      " [0.15856824 0.11524606]\n",
      " [0.88725719 0.02014526]\n",
      " [0.67657494 0.02092618]\n",
      " [0.46020786 0.30195386]\n",
      " [0.88746659 0.91823554]\n",
      " [0.74620722 0.92098822]\n",
      " [0.99508859 0.52115866]\n",
      " [0.26251292 0.04910423]]\n",
      "[[0.31292381 1.27266876]\n",
      " [0.19602434 0.88748586]\n",
      " [0.67689849 0.55042475]\n",
      " [1.27700958 1.18534574]\n",
      " [1.12330212 0.26706602]\n",
      " [1.52232451 0.89038597]\n",
      " [0.62848149 0.0227012 ]\n",
      " [0.03091973 0.58066894]\n",
      " [0.80243639 0.88985195]\n",
      " [0.48245161 0.18491758]]\n"
     ]
    }
   ],
   "source": [
    "cartesian_coordinates = np.random.rand(10,2)\n",
    "print(cartesian_coordinates)\n",
    "#print(np.arctan(cartesian_coordinates[:,1]/cartesian_coordinates[:,0]).reshape(-1,1))\n",
    "#print(np.sqrt((cartesian_coordinates[:,1])**2 + (cartesian_coordinates[:,0])**2).reshape(-1,1))\n",
    "polar_coordinates = np.array([np.sqrt((cartesian_coordinates[:,0])**2 + (cartesian_coordinates[:,1])**2), np.arctan(cartesian_coordinates[:,1]/cartesian_coordinates[:,0])])\n",
    "print(polar_coordinates.reshape(10,2))\n"
   ]
  },
  {
   "cell_type": "markdown",
   "id": "b7109c9f",
   "metadata": {},
   "source": [
    "#### Exercise: Create random vector of size 10 and replace the maximum value by 0 (★★☆)"
   ]
  },
  {
   "cell_type": "code",
   "execution_count": 245,
   "id": "f79e79a7",
   "metadata": {},
   "outputs": [
    {
     "name": "stdout",
     "output_type": "stream",
     "text": [
      "[16  7 14  6 17 16  5 12  4  8]\n",
      "17\n",
      "[16  7 14  6  0 16  5 12  4  8]\n"
     ]
    }
   ],
   "source": [
    "rand_vect = np.random.randint(1,20,size=10)\n",
    "print(rand_vect)\n",
    "print(rand_vect.max())\n",
    "rand_vect[rand_vect == rand_vect.max()]=0\n",
    "print(rand_vect)"
   ]
  },
  {
   "cell_type": "markdown",
   "id": "fb24674c",
   "metadata": {},
   "source": [
    "#### Exercise: How to print all the values of an array? (★★☆)"
   ]
  },
  {
   "cell_type": "code",
   "execution_count": 246,
   "id": "c81f1456",
   "metadata": {},
   "outputs": [
    {
     "name": "stdout",
     "output_type": "stream",
     "text": [
      "[[22.53238441 12.47649922 12.30773114 13.45638463 14.77795756 14.10681509\n",
      "   5.49719506  7.98676403 20.34716799 20.68880122  5.45190405  7.18790538\n",
      "  11.4582314  12.75381984 13.60107516 11.31488097 17.03371395  9.79696128\n",
      "   3.62498586 14.97702986]\n",
      " [13.24373065 19.79953926  6.22053231  8.06213541 20.77762618  8.34448778\n",
      "   6.58530476  3.12130499 18.47722426 20.72379454 11.13677981 14.43104103\n",
      "  10.68904412 11.86370907 10.38763181  6.92105086  9.73571255 16.88566505\n",
      "   9.39356605 16.66437849]\n",
      " [ 9.72352191 17.40095165 17.37662394 18.24961131  9.31836802 10.23531338\n",
      "   8.9702775   7.79696777  6.16579312  9.35466177 11.80686987 10.75221362\n",
      "  11.77158394 20.84608632 17.30059895 12.04187759 17.82505383 14.96821219\n",
      "  12.28610692 12.27201054]\n",
      " [10.97526243  5.35529446 17.70276392 15.59305871 21.29770019 10.88582615\n",
      "   7.65089735  6.47967766  5.23571431  7.03733976 13.82344888  8.39999591\n",
      "   5.5665459  22.38732292 11.2894731   8.64914714 11.12436906 15.98576884\n",
      "  17.87927927 11.2841935 ]\n",
      " [ 7.05841295  6.92042156 22.25490018  3.50698951 20.33573558 16.84439938\n",
      "   6.35000441 17.362611   15.89224619 11.75814269  3.53154447  6.20333562\n",
      "  18.16095749 22.93718215 12.84061505 22.79724491 13.59164249  6.24254851\n",
      "  17.96681415 11.58265824]\n",
      " [19.09496744  9.5820722  16.99601497 21.40065185 14.45829888 18.65341333\n",
      "  14.69851922  3.94912416  3.58864969 13.31010613 16.40535914 20.37975026\n",
      "   9.23935907  7.8411063  20.34526581 12.04855437  9.4494897  12.72898682\n",
      "   8.01312326 19.93521578]\n",
      " [16.64579507 14.75390536 14.18478021 17.02865531 16.01813388  9.28791213\n",
      "   5.86969422 20.58747888 22.08745743 20.45677919 18.96589087  7.03456928\n",
      "   7.27024067  7.57843945 14.08504728 17.45684346 19.84578646 13.36040912\n",
      "   4.15033807  9.90107693]\n",
      " [ 7.85644406 19.56988568 10.74793593 16.22564995 15.57724531 12.72250984\n",
      "  10.77855867 19.11601332  8.29745411 19.20840062  6.74515974  9.21080595\n",
      "  11.56851588 21.58784987 19.31941732 20.76041041  3.46208133 21.09411169\n",
      "  11.06176395  9.7534884 ]\n",
      " [22.14802186  6.99919774 22.11476529 22.08151169 18.79610863 16.33924816\n",
      "  14.13422089  6.87469224 10.88539207  3.27425557 11.28333162 13.14777594\n",
      "  13.90261411  5.10446381 16.84287452  4.92048363 20.23995942 12.24474882\n",
      "   8.59910064  7.27802877]\n",
      " [15.11393504 15.45632507  9.48312448  9.25211757  4.60297089  9.69348811\n",
      "  21.7032186   9.62507033  8.98218792 22.30533805  3.85753176  6.81275674\n",
      "  14.12151853  7.10526769  5.43991434 20.37848854 10.48118084  3.72345706\n",
      "  10.234471   22.17782595]\n",
      " [22.06593333  3.47869852  4.93619109  8.84647449  9.98133934 14.64329688\n",
      "  17.39830199  8.6234427  12.17625443 18.01607451 18.67205413 17.8283972\n",
      "   9.05069315 18.46860573 22.23780478  3.61754142 11.04676502 21.88826248\n",
      "  13.59344055 20.36528078]\n",
      " [ 8.54866597 14.19089324 11.75300932 22.63207359  6.832911   13.83013129\n",
      "   7.39813891  9.60939446 22.18236818 19.32112625 21.22871032 11.80695339\n",
      "   4.15494201 19.6768134  12.85175983 17.22973609  5.74134541 16.62498408\n",
      "  21.64751036 12.74542974]]\n",
      "[[22.53238440660771, 12.476499224395203, 12.307731144577927, 13.456384630620892, 14.777957561427533, 14.106815089286808, 5.497195064488791, 7.986764030006801, 20.347167987988044, 20.688801220099485, 5.451904054583678, 7.187905382171017, 11.458231396250929, 12.753819837841288, 13.601075162474896, 11.314880970836725, 17.033713952670986, 9.796961283726272, 3.624985857224074, 14.977029862538924], [13.243730653432952, 19.799539257162877, 6.220532309936283, 8.062135408140128, 20.777626183416658, 8.344487784420856, 6.5853047565013485, 3.1213049936509347, 18.477224256906833, 20.723794535561154, 11.136779811935071, 14.43104102749344, 10.68904411778674, 11.863709065522968, 10.38763181174365, 6.921050860507094, 9.735712550123583, 16.88566505467741, 9.393566046084997, 16.66437849042542], [9.723521913097088, 17.400951652178282, 17.376623939100963, 18.249611313298935, 9.318368017469925, 10.235313375745244, 8.970277497633955, 7.796967766006497, 6.165793118319091, 9.354661770859504, 11.806869870188994, 10.75221362203175, 11.771583937905534, 20.84608631748795, 17.300598948112675, 12.041877587367095, 17.825053825193528, 14.968212186267326, 12.286106923594168, 12.272010542191476], [10.975262425276863, 5.355294462396065, 17.702763922460164, 15.59305871270114, 21.297700194406566, 10.885826154411182, 7.650897349600243, 6.47967766105743, 5.235714312476889, 7.037339763698129, 13.8234488759335, 8.399995908058886, 5.566545904239326, 22.387322916059798, 11.289473098121729, 8.649147142268543, 11.124369062075145, 15.985768842532321, 17.879279273577758, 11.284193504014326], [7.058412950672579, 6.920421555425246, 22.254900183695543, 3.5069895085257414, 20.33573557999921, 16.844399384289176, 6.35000441271911, 17.36261099830511, 15.892246194478265, 11.758142692659678, 3.531544472680636, 6.2033356202119005, 18.16095749220498, 22.9371821507529, 12.84061505325405, 22.797244912713573, 13.591642487489764, 6.2425485062215476, 17.966814153628686, 11.582658243031844], [19.094967443035607, 9.582072202283547, 16.99601496526661, 21.400651853959808, 14.458298878545698, 18.653413327241452, 14.698519215268439, 3.949124163311834, 3.5886496942252384, 13.310106132876758, 16.405359139609814, 20.37975025518271, 9.239359069966726, 7.841106303731202, 20.345265807974727, 12.048554366758701, 9.44948969704172, 12.728986815350387, 8.013123256586097, 19.935215784467296], [16.645795070012664, 14.75390535893639, 14.184780208158822, 17.028655312895104, 16.01813387655204, 9.287912134720218, 5.8696942221971655, 20.58747888119383, 22.08745743288911, 20.45677919210135, 18.965890866394915, 7.034569280603463, 7.270240669847077, 7.578439453677367, 14.085047280236125, 17.456843455900348, 19.8457864643145, 13.36040911601904, 4.150338070606491, 9.901076934980672], [7.856444057777221, 19.569885682766945, 10.747935934338095, 16.225649948638146, 15.577245305218439, 12.72250984004775, 10.778558674923888, 19.116013320900255, 8.297454112695734, 19.208400620189835, 6.74515973749761, 9.210805950623996, 11.568515883349004, 21.587849865486966, 19.319417319863774, 20.760410408638066, 3.4620813268466994, 21.094111694709145, 11.061763954228677, 9.753488401156972], [22.14802186373136, 6.99919774270032, 22.11476529326807, 22.081511688433224, 18.796108630741468, 16.339248160868046, 14.134220885123545, 6.874692242917199, 10.885392074411062, 3.2742555704821137, 11.28333162183535, 13.147775942221493, 13.902614107661242, 5.10446380619798, 16.842874522734263, 4.920483626678104, 20.239959423568965, 12.244748820164435, 8.599100642976648, 7.278028765456117], [15.113935042153605, 15.45632506696753, 9.483124475062485, 9.252117571480966, 4.602970889486737, 9.69348810917577, 21.7032185986055, 9.625070329922426, 8.982187923029914, 22.305338048026325, 3.8575317616622624, 6.812756735942912, 14.121518531600419, 7.105267693500469, 5.439914341877958, 20.378488541085197, 10.48118083704917, 3.723457057866841, 10.23447100256445, 22.1778259471512], [22.065933327089674, 3.478698516710001, 4.9361910946622825, 8.846474486894508, 9.98133933920304, 14.643296876282822, 17.39830199398078, 8.623442699675254, 12.176254430271587, 18.016074505655283, 18.672054134259216, 17.828397203094887, 9.05069314712581, 18.46860572887735, 22.23780478379495, 3.6175414209902264, 11.046765016763773, 21.888262482791163, 13.59344054785475, 20.36528078358561], [8.548665974414886, 14.190893244186967, 11.75300931723337, 22.63207358766452, 6.832910996684964, 13.830131290823534, 7.398138914868845, 9.609394462593192, 22.182368175573764, 19.32112625151335, 21.22871031553386, 11.806953390824926, 4.154942009983568, 19.676813398124008, 12.851759834390181, 17.229736092647478, 5.741345408461591, 16.624984078890048, 21.647510355750182, 12.74542974062981]]\n"
     ]
    }
   ],
   "source": [
    "rand_vect = np.random.rand(12,20)*20 + 3\n",
    "\n",
    "with np.printoptions(threshold=np.inf):\n",
    "    print(rand_vect)\n",
    "print(rand_vect.tolist())"
   ]
  },
  {
   "cell_type": "markdown",
   "id": "48413134",
   "metadata": {},
   "source": [
    "#### Exercise: How to convert a float (32 bits) array into an integer (32 bits) in place?\n",
    "Check https://stackoverflow.com/a/4396247/5989906"
   ]
  },
  {
   "cell_type": "code",
   "execution_count": 247,
   "id": "5db64b6d",
   "metadata": {},
   "outputs": [
    {
     "name": "stdout",
     "output_type": "stream",
     "text": [
      "[[18 21  7  4 11 14  7 21 20  5 15 21 19  3 18 22 12  5 15  5]\n",
      " [22 13 16 10  8 11 16  9  3 10 22 13 12 17  9 15  7 19 21  9]\n",
      " [17  8  4 10 10  6 10  9 10  3  5 14  4  6  3 11 19 13 18  8]\n",
      " [10 19 19 10 10  6 16  8 11 13 17 14 14  5 15  4 16 15  9 18]\n",
      " [19 10  9  9 15 11 18 10 12  8  5  9 21 22  5  6  8  5 10 11]\n",
      " [ 8 15 16 18 22 21 15 20 11 22 17  3 22 18  4 16  4 11 21 21]\n",
      " [12 19 20 20 15 12 13 11  4  4 22 21 10 14 18 21  6 16 10  7]\n",
      " [15  8 20  9 14  3 17  8  7 20  3 18 10  6  5 18 19 22 21 19]\n",
      " [13 19  9 14  8  7 19 16 11 20 19 10  6 19  5 20  9  4 15  8]\n",
      " [21  4 20  8  9 11 16  3  8 15 21 16 11  6 15 19  5  8 10  3]\n",
      " [19 11 22  9  8 14 12 18  7 16 15  4 15 12 19 12 19  7 13 16]\n",
      " [ 5 11 14 15  3  6 16 22 11 15  4 16 14 21  5 11  6 22 14 19]]\n"
     ]
    }
   ],
   "source": [
    "rand_vect = np.random.rand(12,20).astype(np.float32) *20 + 3\n",
    "y = rand_vect.view('int32')\n",
    "y[:] = rand_vect\n",
    "print(y)"
   ]
  },
  {
   "cell_type": "markdown",
   "id": "215b6acc",
   "metadata": {},
   "source": [
    "#### Exercise: Subtract the mean of each row of a matrix (★★☆)"
   ]
  },
  {
   "cell_type": "code",
   "execution_count": 248,
   "id": "dd1adef4",
   "metadata": {},
   "outputs": [
    {
     "name": "stdout",
     "output_type": "stream",
     "text": [
      "[[18  5 10]\n",
      " [10  4  1]\n",
      " [18  1  5]]\n",
      "[11.  5.  8.]\n",
      "[[ 7. -6. -1.]\n",
      " [ 5. -1. -4.]\n",
      " [10. -7. -3.]]\n",
      "[[ 7. -6. -1.]\n",
      " [ 5. -1. -4.]\n",
      " [10. -7. -3.]]\n"
     ]
    }
   ],
   "source": [
    "mtx_a = np.random.randint(1,20,size=(3,3))\n",
    "print(mtx_a)\n",
    "print(mtx_a.mean(axis=1))\n",
    "print(mtx_a - mtx_a.mean(axis=1).reshape(-1,1))\n",
    "print(mtx_a - mtx_a.mean(axis=1, keepdims=True))"
   ]
  },
  {
   "cell_type": "markdown",
   "id": "c0cf37e0",
   "metadata": {},
   "source": [
    "#### Exercise: How to sort an array by the nth column? (★★☆)"
   ]
  },
  {
   "cell_type": "code",
   "execution_count": 249,
   "id": "9336ca5f",
   "metadata": {},
   "outputs": [
    {
     "name": "stdout",
     "output_type": "stream",
     "text": [
      "[[ 6 17 15 10 17]\n",
      " [15 16  3 13 19]\n",
      " [ 6  1  1  8 10]]\n",
      "\n",
      "[[ 6  1  1  8 10]\n",
      " [15 16  3 13 19]\n",
      " [ 6 17 15 10 17]]\n",
      "\n",
      "[[ 6  1  1  8 10]\n",
      " [15 16  3 13 19]\n",
      " [ 6 17 15 10 17]]\n",
      "[[ 6  1  1  8 10]\n",
      " [15 16  3 13 19]\n",
      " [ 6 17 15 10 17]]\n",
      "[[ 6  1  1  8 10]\n",
      " [15 16  3 13 19]\n",
      " [ 6 17 15 10 17]]\n"
     ]
    }
   ],
   "source": [
    "mtx_a = np.random.randint(1,20,size=(3,5))\n",
    "print(mtx_a)\n",
    "print()\n",
    "#mtx_a = mtx_a.tolist()\n",
    "cols = [1]\n",
    "print(mtx_a[np.lexsort(mtx_a.T[cols])])\n",
    "print()\n",
    "print(mtx_a[ mtx_a[:,1].argsort()])\n",
    "print(mtx_a[ mtx_a[:,1].argsort(),:])\n",
    "mtx_a.view('i8,i8,i8,i8,i8').sort(order=['f1'], axis=0)\n",
    "print(mtx_a)\n"
   ]
  },
  {
   "cell_type": "markdown",
   "id": "c17fb213",
   "metadata": {},
   "source": [
    "#### Exercise: Find the position of a the minimum of a 2D matrix? (★★☆)"
   ]
  },
  {
   "cell_type": "code",
   "execution_count": 250,
   "id": "7fdda78d",
   "metadata": {},
   "outputs": [
    {
     "name": "stdout",
     "output_type": "stream",
     "text": [
      "2\n",
      "[[False False False False False]\n",
      " [ True False False False False]\n",
      " [False False False False False]]\n",
      "(array([1]), array([0]))\n"
     ]
    }
   ],
   "source": [
    "mtx_a = np.random.randint(1,20,size=(3,5))\n",
    "print(mtx_a.min())\n",
    "print(mtx_a == mtx_a.min())\n",
    "print(np.where(mtx_a == mtx_a.min()))"
   ]
  },
  {
   "cell_type": "markdown",
   "id": "f4427f7f",
   "metadata": {},
   "source": [
    "#### Exercise: Read an image using openCV, check its dimensions, normalize the numbers and show the image (★★★)\n",
    "Check: https://www.geeksforgeeks.org/python-opencv-cv2-imread-method/"
   ]
  },
  {
   "cell_type": "code",
   "execution_count": 251,
   "id": "fe253212",
   "metadata": {},
   "outputs": [
    {
     "name": "stdout",
     "output_type": "stream",
     "text": [
      "825300\n",
      "(393, 700, 3)\n"
     ]
    },
    {
     "data": {
      "text/plain": [
       "True"
      ]
     },
     "execution_count": 251,
     "metadata": {},
     "output_type": "execute_result"
    }
   ],
   "source": [
    "from cv2 import *\n",
    "path = \"/workspace/ml_pre_work/02-numpy/assets/1D.png\"\n",
    "img = cv2.imread(path)\n",
    "print(img.size)\n",
    "print(img.shape)\n",
    "#img = (img - img.mean()) / img.std()\n",
    "norm_img = np.zeros((img.shape[0],img.shape[1]))\n",
    "final_img = cv2.normalize(img,  norm_img, 0, 255, cv2.NORM_MINMAX)\n",
    "#cv2.imshow('image', img)\n",
    "cv2.imwrite('/workspace/ml_pre_work/02-numpy/assets/normalized_image.jpg', final_img)"
   ]
  },
  {
   "cell_type": "markdown",
   "id": "33c986d9",
   "metadata": {},
   "source": [
    "#### Exercise: Considering a four dimensions array, how to get sum over the last two axis at once? (★★★)"
   ]
  },
  {
   "cell_type": "code",
   "execution_count": 252,
   "id": "a99a50e2",
   "metadata": {},
   "outputs": [
    {
     "name": "stdout",
     "output_type": "stream",
     "text": [
      "(3, 2, 3, 4)\n",
      "[[61 52]\n",
      " [63 44]\n",
      " [60 59]]\n",
      "[[61 52]\n",
      " [63 44]\n",
      " [60 59]]\n"
     ]
    }
   ],
   "source": [
    "A = np.random.randint(0,10,(3,2,3,4))\n",
    "print(A.shape)\n",
    "#print(A)\n",
    "sum = A.reshape(A.shape[:-2] + (-1,)).sum(axis=-1)\n",
    "print(sum)\n",
    "sum = A.sum(axis=(-2,-1))\n",
    "print(sum)"
   ]
  },
  {
   "cell_type": "markdown",
   "id": "928a1a15",
   "metadata": {},
   "source": [
    "#### Exercise: How to get the diagonal of a dot product? (★★★)"
   ]
  },
  {
   "cell_type": "code",
   "execution_count": 253,
   "id": "ef2c9ddd",
   "metadata": {},
   "outputs": [
    {
     "name": "stdout",
     "output_type": "stream",
     "text": [
      "[[34 28 20]\n",
      " [23 56 40]\n",
      " [53 56 40]]\n",
      "[34 56 40]\n"
     ]
    }
   ],
   "source": [
    "A = np.random.randint(0,10,(3,2))\n",
    "B = np.random.randint(0,10,(2,3))\n",
    "c = np.dot(A,B)\n",
    "print(c)\n",
    "print(c.diagonal())"
   ]
  },
  {
   "cell_type": "markdown",
   "id": "f62551d8",
   "metadata": {},
   "source": [
    "#### Exercise: Consider an array of dimension (5,5,3), how to mulitply it by an array with dimensions (5,5)? (★★★)"
   ]
  },
  {
   "cell_type": "code",
   "execution_count": 254,
   "id": "9ab241b7",
   "metadata": {},
   "outputs": [
    {
     "name": "stdout",
     "output_type": "stream",
     "text": [
      "[[[36 48  6]\n",
      "  [81 18 36]\n",
      "  [ 0  0  0]\n",
      "  [56 16 32]\n",
      "  [18 18 24]]\n",
      "\n",
      " [[24 30  6]\n",
      "  [45 25 40]\n",
      "  [36 12  0]\n",
      "  [ 0  0  0]\n",
      "  [18 30 30]]\n",
      "\n",
      " [[ 9  9  8]\n",
      "  [ 0  0 15]\n",
      "  [40 10 15]\n",
      "  [ 0 36 81]\n",
      "  [28  8 32]]\n",
      "\n",
      " [[ 0  0  0]\n",
      "  [ 0  0  0]\n",
      "  [ 7 63 21]\n",
      "  [ 6  6  6]\n",
      "  [ 0  0  0]]\n",
      "\n",
      " [[24 24 42]\n",
      "  [ 0  0  0]\n",
      "  [35  0 14]\n",
      "  [ 0  0  4]\n",
      "  [ 0 18  9]]]\n",
      "[[[36 48  6]\n",
      "  [81 18 36]\n",
      "  [ 0  0  0]\n",
      "  [56 16 32]\n",
      "  [18 18 24]]\n",
      "\n",
      " [[24 30  6]\n",
      "  [45 25 40]\n",
      "  [36 12  0]\n",
      "  [ 0  0  0]\n",
      "  [18 30 30]]\n",
      "\n",
      " [[ 9  9  8]\n",
      "  [ 0  0 15]\n",
      "  [40 10 15]\n",
      "  [ 0 36 81]\n",
      "  [28  8 32]]\n",
      "\n",
      " [[ 0  0  0]\n",
      "  [ 0  0  0]\n",
      "  [ 7 63 21]\n",
      "  [ 6  6  6]\n",
      "  [ 0  0  0]]\n",
      "\n",
      " [[24 24 42]\n",
      "  [ 0  0  0]\n",
      "  [35  0 14]\n",
      "  [ 0  0  4]\n",
      "  [ 0 18  9]]]\n",
      "[[[ True  True  True]\n",
      "  [ True  True  True]\n",
      "  [ True  True  True]\n",
      "  [ True  True  True]\n",
      "  [ True  True  True]]\n",
      "\n",
      " [[ True  True  True]\n",
      "  [ True  True  True]\n",
      "  [ True  True  True]\n",
      "  [ True  True  True]\n",
      "  [ True  True  True]]\n",
      "\n",
      " [[ True  True  True]\n",
      "  [ True  True  True]\n",
      "  [ True  True  True]\n",
      "  [ True  True  True]\n",
      "  [ True  True  True]]\n",
      "\n",
      " [[ True  True  True]\n",
      "  [ True  True  True]\n",
      "  [ True  True  True]\n",
      "  [ True  True  True]\n",
      "  [ True  True  True]]\n",
      "\n",
      " [[ True  True  True]\n",
      "  [ True  True  True]\n",
      "  [ True  True  True]\n",
      "  [ True  True  True]\n",
      "  [ True  True  True]]]\n"
     ]
    }
   ],
   "source": [
    "A = np.random.randint(0,10,(5,5,3))\n",
    "B = np.random.randint(0,10,(5,5))\n",
    "C = (A.T * B.T).T\n",
    "print(C)\n",
    "D = A * B[:,:,None]\n",
    "print(D)\n",
    "print(D == C)"
   ]
  },
  {
   "cell_type": "markdown",
   "id": "6896e326",
   "metadata": {},
   "source": [
    "#### Exercise: How to swap two rows of an array? (★★★)"
   ]
  },
  {
   "cell_type": "code",
   "execution_count": 255,
   "id": "9e8fcba9",
   "metadata": {},
   "outputs": [
    {
     "name": "stdout",
     "output_type": "stream",
     "text": [
      "[[9 4 7 8 5]\n",
      " [9 1 5 7 2]\n",
      " [8 2 3 8 8]\n",
      " [4 6 3 4 6]\n",
      " [5 4 3 6 7]]\n",
      "[[9 4 7 8 5]\n",
      " [9 1 5 7 2]\n",
      " [8 2 3 8 8]\n",
      " [5 4 3 6 7]\n",
      " [4 6 3 4 6]]\n"
     ]
    }
   ],
   "source": [
    "A = np.random.randint(0,10,(5,5))\n",
    "print(A)\n",
    "A[-2:] = np.flip(A[-2:],axis=0)\n",
    "print(A)"
   ]
  },
  {
   "cell_type": "markdown",
   "id": "8e83df46",
   "metadata": {},
   "source": [
    "#### Exercise: Read an image using openCV and tranpose it. What did you get exactly? Was the image rotated? Moved? Reflected with respect to an axis? (★★★)"
   ]
  },
  {
   "cell_type": "code",
   "execution_count": 256,
   "id": "f73127b7",
   "metadata": {},
   "outputs": [
    {
     "name": "stdout",
     "output_type": "stream",
     "text": [
      "825300\n",
      "(393, 700, 3)\n",
      "825300\n",
      "(700, 393, 3)\n"
     ]
    },
    {
     "data": {
      "text/plain": [
       "True"
      ]
     },
     "execution_count": 256,
     "metadata": {},
     "output_type": "execute_result"
    }
   ],
   "source": [
    "path = \"/workspace/ml_pre_work/02-numpy/assets/1D.png\"\n",
    "img = cv2.imread(path)\n",
    "print(img.size)\n",
    "print(img.shape)\n",
    "\n",
    "final_img = cv2.transpose(img)\n",
    "print(final_img.size)\n",
    "print(final_img.shape)\n",
    "\n",
    "cv2.imwrite('/workspace/ml_pre_work/02-numpy/assets/transposed_image.jpg', final_img)\n",
    "#Reflected with respect to xx axis and rotated 90 degrees right to left"
   ]
  },
  {
   "cell_type": "markdown",
   "id": "781fa236",
   "metadata": {},
   "source": [
    "#### Exercise: Consider an array Z = [1,2,3,4,5,6,7,8,9,10,11,12,13,14], how to generate an array R = [[1,2,3,4], [2,3,4,5], [3,4,5,6], ..., [11,12,13,14]]? (★★★)"
   ]
  },
  {
   "cell_type": "code",
   "execution_count": 257,
   "id": "8e84d3c2",
   "metadata": {},
   "outputs": [
    {
     "name": "stdout",
     "output_type": "stream",
     "text": [
      "[[ 1  2  3  4]\n",
      " [ 2  3  4  5]\n",
      " [ 3  4  5  6]\n",
      " [ 4  5  6  7]\n",
      " [ 5  6  7  8]\n",
      " [ 6  7  8  9]\n",
      " [ 7  8  9 10]\n",
      " [ 8  9 10 11]\n",
      " [ 9 10 11 12]\n",
      " [10 11 12 13]\n",
      " [11 12 13 14]]\n"
     ]
    }
   ],
   "source": [
    "from numpy.lib import stride_tricks\n",
    "\n",
    "Z = np.arange(1,15,dtype=np.uint32)\n",
    "R = stride_tricks.as_strided(Z,(11,4),(4,4))\n",
    "print(R)"
   ]
  },
  {
   "cell_type": "markdown",
   "id": "7d8dc135",
   "metadata": {},
   "source": [
    "#### Exercise: How to find the most frequent value in an array? (★★★)"
   ]
  },
  {
   "cell_type": "code",
   "execution_count": 258,
   "id": "3978a7a2",
   "metadata": {},
   "outputs": [
    {
     "name": "stdout",
     "output_type": "stream",
     "text": [
      "list of modes:  [4, 5, 6, 7, 8, 9, 10, 11]\n",
      "mode frequency:  4\n"
     ]
    }
   ],
   "source": [
    "vals, counts = np.unique(R, return_counts=True)\n",
    "mode_value = np.argwhere(counts == np.max(counts))\n",
    "print(\"list of modes: \", vals[mode_value].flatten().tolist())\n",
    "print(\"mode frequency: \", np.max(counts))"
   ]
  },
  {
   "cell_type": "markdown",
   "id": "4c70397b",
   "metadata": {},
   "source": [
    "#### Exercise: How to get the n largest values of an array (★★★)"
   ]
  },
  {
   "cell_type": "code",
   "execution_count": 259,
   "id": "16371718",
   "metadata": {},
   "outputs": [
    {
     "name": "stdout",
     "output_type": "stream",
     "text": [
      "[[[[ 68  68]\n",
      "   [128 199]\n",
      "   [ 17 184]]\n",
      "\n",
      "  [[103   9]\n",
      "   [179  93]\n",
      "   [118 147]]]\n",
      "\n",
      "\n",
      " [[[131  59]\n",
      "   [131 151]\n",
      "   [  9  64]]\n",
      "\n",
      "  [[ 32 106]\n",
      "   [ 43  81]\n",
      "   [ 96  79]]]]\n",
      "[151 179 184 199]\n"
     ]
    }
   ],
   "source": [
    "N = np.random.randint(0,200,(2,2,3,2))\n",
    "print(N)\n",
    "n = 4\n",
    "ind = np.unravel_index(np.argsort(N, axis=None), N.shape) #for N-dimensional array\n",
    "print(np.unique(N[ind])[-n:])"
   ]
  },
  {
   "cell_type": "markdown",
   "id": "d94352b6",
   "metadata": {},
   "source": [
    "#### Exercise: Consider a large vector Z, compute Z to the power of 3 using 3 different methods (★★★)"
   ]
  },
  {
   "cell_type": "code",
   "execution_count": 260,
   "id": "301ba8a8",
   "metadata": {},
   "outputs": [
    {
     "name": "stdout",
     "output_type": "stream",
     "text": [
      "2000\n",
      "2000\n",
      "2000\n"
     ]
    }
   ],
   "source": [
    "A_vect = np.linspace(1,200,2000)\n",
    "pow_vect = np.linspace(3,3,2000)\n",
    "A_vect_1 = A_vect**3\n",
    "A_vect_2 = np.power(A_vect,3)\n",
    "A_vect = np.linspace(1,200,2000)\n",
    "A_vect_3 = np.float_power(A_vect, pow_vect)\n",
    "#print(A_vect_3)\n",
    "print(np.sum(A_vect_1 == A_vect_2))\n",
    "print(np.sum(A_vect_1 == A_vect_3))\n",
    "print(np.sum(A_vect_2 == A_vect_3))"
   ]
  },
  {
   "cell_type": "markdown",
   "id": "2784c996",
   "metadata": {},
   "source": [
    "#### Exercise: Given a two dimensional array, how to extract unique rows? (★★★)"
   ]
  },
  {
   "cell_type": "code",
   "execution_count": 261,
   "id": "f030595f",
   "metadata": {},
   "outputs": [
    {
     "name": "stdout",
     "output_type": "stream",
     "text": [
      "[[0 0 0 0]\n",
      " [0 0 0 1]\n",
      " [0 1 0 0]\n",
      " [0 1 0 1]\n",
      " [0 1 1 0]\n",
      " [0 1 1 1]\n",
      " [1 0 0 0]\n",
      " [1 0 0 1]\n",
      " [1 0 1 0]\n",
      " [1 1 0 0]\n",
      " [1 1 0 1]\n",
      " [1 1 1 1]]\n"
     ]
    }
   ],
   "source": [
    "Z = np.random.randint(0,2,(16,4))\n",
    "Z_unique = np.unique(Z, axis=0)\n",
    "print(Z_unique)"
   ]
  },
  {
   "cell_type": "markdown",
   "id": "e5737276",
   "metadata": {},
   "source": [
    "#### Exercise: Can you have arrray of strings? can you mix different data types in the same array? Can you operate (add, sub, mult) arrays with different data types? (★★★)"
   ]
  },
  {
   "cell_type": "code",
   "execution_count": 262,
   "id": "68c333b0",
   "metadata": {},
   "outputs": [
    {
     "name": "stdout",
     "output_type": "stream",
     "text": [
      "[['rtef' ('fag', 34.3) 'fag']\n",
      " ['rtef' 45 'fag']\n",
      " ['rt' 'fag' 23]\n",
      " ['ref' 'fag' 'fa']]\n",
      "object\n",
      "[['27.8' 'fag' 'fag']\n",
      " ['rtef' '45' 'fag']\n",
      " ['rt' 'fag' '23']\n",
      " ['ref' 'True' 'fa']]\n",
      "<U32\n"
     ]
    },
    {
     "name": "stderr",
     "output_type": "stream",
     "text": [
      "/tmp/ipykernel_1241/1237648183.py:1: VisibleDeprecationWarning: Creating an ndarray from ragged nested sequences (which is a list-or-tuple of lists-or-tuples-or ndarrays with different lengths or shapes) is deprecated. If you meant to do this, you must specify 'dtype=object' when creating the ndarray.\n",
      "  ARR = np.array([[\"rtef\",(\"fag\",34.3),\"fag\"], [\"rtef\",45,\"fag\"], [\"rt\",\"fag\",23], [\"ref\",\"fag\",\"fa\"]])\n"
     ]
    }
   ],
   "source": [
    "ARR = np.array([[\"rtef\",(\"fag\",34.3),\"fag\"], [\"rtef\",45,\"fag\"], [\"rt\",\"fag\",23], [\"ref\",\"fag\",\"fa\"]])\n",
    "print(ARR)\n",
    "print(ARR.dtype)\n",
    "ARR = np.array([[27.8,\"fag\",\"fag\"], [\"rtef\",45,\"fag\"], [\"rt\",\"fag\",23], [\"ref\",True,\"fa\"]])\n",
    "print(ARR)\n",
    "print(ARR.dtype)"
   ]
  },
  {
   "cell_type": "code",
   "execution_count": null,
   "id": "faf6b1e9",
   "metadata": {},
   "outputs": [],
   "source": []
  }
 ],
 "metadata": {
  "kernelspec": {
   "display_name": "Python 3",
   "language": "python",
   "name": "python3"
  },
  "language_info": {
   "codemirror_mode": {
    "name": "ipython",
    "version": 3
   },
   "file_extension": ".py",
   "mimetype": "text/x-python",
   "name": "python",
   "nbconvert_exporter": "python",
   "pygments_lexer": "ipython3",
   "version": "3.8.12"
  }
 },
 "nbformat": 4,
 "nbformat_minor": 5
}
