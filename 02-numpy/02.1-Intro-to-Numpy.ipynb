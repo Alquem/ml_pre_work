{
 "cells": [
  {
   "cell_type": "markdown",
   "id": "bdfbcacc",
   "metadata": {},
   "source": [
    "<img src=\"./assets/numpy_logo.png\" alt=\"logo\" width=\"400\"/>\n",
    "\n",
    "## Introduction to numpy\n",
    "\n",
    "NumPy stands for 'Numerical Python'. It is an open-source Python library used to perform various mathematical and scientific tasks. It contains multi-dimensional arrays and matrices, along with many high-level mathematical functions that operate on these arrays and matrices. It contains among other things:\n",
    "\n",
    "→ a powerful N-dimensional array object\n",
    "\n",
    "→ sophisticated (broadcasting) functions\n",
    "\n",
    "→ tools for integrating C/C++ and Fortran code\n",
    "\n",
    "→ useful linear algebra, Fourier transform, and random number capabilities"
   ]
  },
  {
   "cell_type": "markdown",
   "id": "85902746",
   "metadata": {},
   "source": [
    "## Installing NumPy\n",
    "When you want to work with numpy locally, you should run the following commands:\n",
    "\n",
    "You can install NumPy with:\\\n",
    "`pip install numpy`\\\n",
    "or\\\n",
    "`conda install numpy`\n",
    "\n",
    "In our case, 4Geeks have prepared all the environment in order that you can work comfortably."
   ]
  },
  {
   "cell_type": "markdown",
   "id": "58765356",
   "metadata": {},
   "source": [
    "## Why should we use NumPy?\n",
    "\n",
    "Numpy is a library to perform numerical calculation in python. We will use it mainly because it allows us to create and modify matrices, and to do operations on them with ease.\n",
    "\n",
    "NumPy is, like Pandas, Matplotlib or Scikit-Learn, one of the packages that you cannot miss when you are learning Machine Learning, mainly because this library provides a matrix data structure that has some benefits over regular Python lists. Some of these benefits are: being more compact, quicker access to reading and writing articles, being more convenient and more efficient.\n",
    "\n",
    "For example, we will see later in the bootcamp that working with images means dealing with three-dimensional matrices as large as 3840 x 2160, which means we will have 3×3840×2160 = 24883200 entries!!! 😱😱😱.\n",
    "\n",
    "Working with matrices of that magnitude is practically impossible to carry out with lists and dictionaries if one wants to have an efficient and fast programming."
   ]
  },
  {
   "cell_type": "markdown",
   "id": "c4e52ee5",
   "metadata": {},
   "source": [
    "#### Exercise: Import the numpy package under the name `np` (★☆☆)\n",
    "\n",
    "`numpy` is commonly imported as `np` so we highly recommend to put this alias."
   ]
  },
  {
   "cell_type": "code",
   "execution_count": 109,
   "id": "ea3038d9",
   "metadata": {},
   "outputs": [],
   "source": [
    "import numpy as np"
   ]
  },
  {
   "cell_type": "markdown",
   "id": "40631cd6",
   "metadata": {},
   "source": [
    "## What is an array and why it is importante for machine learning?\n",
    "\n",
    "An array is a data structure consisting of a collection of elements (values or variables), each identified by at least one array index or key.\n"
   ]
  },
  {
   "cell_type": "markdown",
   "id": "ce969254",
   "metadata": {},
   "source": [
    "![alt text](assets/1D.png \"1D\")"
   ]
  },
  {
   "cell_type": "markdown",
   "id": "735d02e2",
   "metadata": {},
   "source": [
    "We can have arrays from several dimension. Neural networks sometimes deal with 4D arrays. An array is known as the central data structure of the NumPy library. Array in NumPy is called as NumPy Array. Later, we will use also other kind of arrays thar are called: Tensors."
   ]
  },
  {
   "cell_type": "markdown",
   "id": "a20ce3a4",
   "metadata": {},
   "source": [
    "![alt text](./assets/3D.png \"3D\")"
   ]
  },
  {
   "cell_type": "markdown",
   "id": "46950f4f",
   "metadata": {},
   "source": [
    "#### Exercise: Print the numpy version and the configuration (★☆☆)\n",
    "\n",
    "You can print the version of any package of Python using `name_of_package.__version__`"
   ]
  },
  {
   "cell_type": "code",
   "execution_count": 110,
   "id": "2a9f5838",
   "metadata": {},
   "outputs": [
    {
     "name": "stdout",
     "output_type": "stream",
     "text": [
      "1.22.1\n"
     ]
    }
   ],
   "source": [
    "import numpy as np\n",
    "print(np.__version__)"
   ]
  },
  {
   "cell_type": "markdown",
   "id": "e3c20b3d",
   "metadata": {},
   "source": [
    "#### Exercise: Create a null vector of size 10 (★☆☆)\n",
    "\n",
    "A `null vector` is an array of zeros (`0`), also called `inicializacion vector`.\n",
    "\n",
    "Check de function `np.zeros` (https://numpy.org/doc/stable/reference/generated/numpy.zeros.html)"
   ]
  },
  {
   "cell_type": "code",
   "execution_count": 111,
   "id": "8a758bcf",
   "metadata": {},
   "outputs": [
    {
     "data": {
      "text/plain": [
       "array([0., 0., 0., 0., 0., 0., 0., 0., 0., 0.])"
      ]
     },
     "execution_count": 111,
     "metadata": {},
     "output_type": "execute_result"
    }
   ],
   "source": [
    "np.zeros(10)"
   ]
  },
  {
   "cell_type": "markdown",
   "id": "6cbe7954",
   "metadata": {},
   "source": [
    "#### Exercise: Create a vector of ones with size 10 (★☆☆)\n",
    "Check de function `np.ones` (https://numpy.org/doc/stable/reference/generated/numpy.ones.html)"
   ]
  },
  {
   "cell_type": "code",
   "execution_count": 112,
   "id": "86477874",
   "metadata": {},
   "outputs": [
    {
     "data": {
      "text/plain": [
       "array([1., 1., 1., 1., 1., 1., 1., 1., 1., 1.])"
      ]
     },
     "execution_count": 112,
     "metadata": {},
     "output_type": "execute_result"
    }
   ],
   "source": [
    "np.ones(10)"
   ]
  },
  {
   "cell_type": "markdown",
   "id": "0a708990",
   "metadata": {},
   "source": [
    "#### Exercise: Create an 1D array with specific start value, end value and number of values (★☆☆)\n",
    "\n",
    "Check the function `np.linspace` (https://numpy.org/doc/stable/reference/generated/numpy.linspace.html)"
   ]
  },
  {
   "cell_type": "code",
   "execution_count": 113,
   "id": "477e01f4",
   "metadata": {},
   "outputs": [
    {
     "data": {
      "text/plain": [
       "array([0.        , 0.11111111, 0.22222222, 0.33333333, 0.44444444,\n",
       "       0.55555556, 0.66666667, 0.77777778, 0.88888889, 1.        ])"
      ]
     },
     "execution_count": 113,
     "metadata": {},
     "output_type": "execute_result"
    }
   ],
   "source": [
    "np.linspace(0,1,10)"
   ]
  },
  {
   "cell_type": "markdown",
   "id": "782d4c77",
   "metadata": {},
   "source": [
    "#### Run: Create a vector (1D array) with random integers from 10 to 49 and dimension 1x35 (★☆☆)\n",
    "\n",
    "When `dimension` is expressed `1x35` it means: One dimension array with 35 items (length=35).\n",
    "\n",
    "Check the function `np.random` which allows you to create random arrays (https://numpy.org/doc/1.16/reference/routines.random.html)"
   ]
  },
  {
   "cell_type": "code",
   "execution_count": 114,
   "id": "5dbe1a08",
   "metadata": {},
   "outputs": [
    {
     "name": "stdout",
     "output_type": "stream",
     "text": [
      "[0.17015129 0.56698851 0.78633601 0.61929506 0.33563124 0.52511488\n",
      " 0.96553364 0.66138627 0.69108346 0.14637404]\n",
      "[14.64038766 12.61994874 36.47640297 46.92855401 17.40408699 36.93033973\n",
      " 15.22658446 33.79570819 34.10398268 32.24198395 42.94639059 19.97154715\n",
      " 40.60873308 38.13560069 29.91463209 30.92864331 30.49871559 11.06603372\n",
      " 42.20564822 20.37699238 39.80666037 27.42600448 20.0764982  21.9318803\n",
      " 35.92904278 16.24998151 32.82138259 38.90567735 22.89829944 19.99623869\n",
      " 39.87117795 47.58082493 45.09642731 45.32184815 19.46151858]\n"
     ]
    }
   ],
   "source": [
    "import numpy as np\n",
    "\n",
    "## 10 random numbers between (0, 1)\n",
    "print(np.random.random(10))\n",
    "## 35 random numbers between (10, 49)\n",
    "print(np.random.random(35)*39 + 10)  "
   ]
  },
  {
   "cell_type": "code",
   "execution_count": 115,
   "id": "a9354456",
   "metadata": {},
   "outputs": [
    {
     "name": "stdout",
     "output_type": "stream",
     "text": [
      "[0.01265982 0.008621   0.62328959 0.18069473 0.87350141 0.52001206\n",
      " 0.5792359  0.47185601 0.86864877 0.71425068]\n",
      "[-0.74033174 -2.20189508 -0.19214094  0.57960522 -0.35271032 -0.78765776\n",
      " -2.07322635  0.47274558  1.74585191  0.81600542]\n"
     ]
    }
   ],
   "source": [
    "## Two ways to create numbers with normal distribution\n",
    "print(np.random.rand(10)) # 10 random values with distribution N(0,1)\n",
    "print(np.random.normal(loc = 0, scale = 1, size = 10)) # 10 random values with distribution N(0,1)"
   ]
  },
  {
   "cell_type": "code",
   "execution_count": 116,
   "id": "73ed6271",
   "metadata": {},
   "outputs": [
    {
     "name": "stdout",
     "output_type": "stream",
     "text": [
      "[-18.40661625 -49.03996609   2.24733284 -30.07038028  58.08383174\n",
      "   1.67404869  27.55824293  20.59327864 -46.20942568 -28.78463119]\n"
     ]
    }
   ],
   "source": [
    "## Did you notice the difference between both functions? \n",
    "print(np.random.normal(loc = -5, scale = 33, size = 10)) # 10 random values with distribution N(-5,33)"
   ]
  },
  {
   "cell_type": "code",
   "execution_count": 117,
   "id": "49ae7a5a",
   "metadata": {},
   "outputs": [
    {
     "name": "stdout",
     "output_type": "stream",
     "text": [
      "[ -7.25137029  80.66010982  69.55042418   8.97720122  32.83064284\n",
      "  43.81216802  75.1565566   74.67776193  30.07124677 -17.68552314]\n"
     ]
    }
   ],
   "source": [
    "## 10 random values with uniform distribution. That is, all values have the same probability\n",
    "print(np.random.uniform(-30,100,10)) # All values are between -30 and 100."
   ]
  },
  {
   "cell_type": "code",
   "execution_count": 118,
   "id": "f78e72cb",
   "metadata": {},
   "outputs": [
    {
     "name": "stdout",
     "output_type": "stream",
     "text": [
      "[24 21 27 53 63 93 36 23 20 15]\n"
     ]
    }
   ],
   "source": [
    "# 10 integers values between 0 and 100.\n",
    "print(np.random.randint(0, 100, 10))"
   ]
  },
  {
   "cell_type": "code",
   "execution_count": 119,
   "id": "db278431",
   "metadata": {},
   "outputs": [
    {
     "name": "stdout",
     "output_type": "stream",
     "text": [
      "[ 4.43124733  1.67610969  5.30452866  2.99524636  3.3875423   4.94196446\n",
      "  3.37233463 11.42520907 11.40818609  4.35991753]\n"
     ]
    }
   ],
   "source": [
    "# 10 random values with Chi distribution with 5 degrees of freedom\n",
    "print(np.random.chisquare(5,10))"
   ]
  },
  {
   "cell_type": "markdown",
   "id": "1b7841da",
   "metadata": {},
   "source": [
    "The above examples are the most common distribution and random values you will learn throughout the bootcamp. Now, let's deal with those arrays."
   ]
  },
  {
   "cell_type": "markdown",
   "id": "48d48f01",
   "metadata": {},
   "source": [
    "#### Exercise: Reverse one of the last vector we created before (first element becomes last) (★☆☆)\n",
    "Try with `[::-1]`"
   ]
  },
  {
   "cell_type": "code",
   "execution_count": 120,
   "id": "3ed233e7",
   "metadata": {},
   "outputs": [
    {
     "name": "stdout",
     "output_type": "stream",
     "text": [
      "[ 4 91 44 12 20  2 39 13 88  0]\n",
      "[ 0 88 13 39  2 20 12 44 91  4]\n"
     ]
    }
   ],
   "source": [
    "rand_int_vect = np.random.randint(0, 100, 10)\n",
    "print(rand_int_vect)\n",
    "print(rand_int_vect[::-1])"
   ]
  },
  {
   "cell_type": "markdown",
   "id": "4fa39382",
   "metadata": {},
   "source": [
    "#### Exercise: Create a 5x5 identidy matrix (★☆☆)\n",
    "Check the function `np.eye`(https://numpy.org/devdocs/reference/generated/numpy.eye.html)"
   ]
  },
  {
   "cell_type": "code",
   "execution_count": 121,
   "id": "c97757ec",
   "metadata": {},
   "outputs": [
    {
     "name": "stdout",
     "output_type": "stream",
     "text": [
      "[[1. 0. 0. 0. 0.]\n",
      " [0. 1. 0. 0. 0.]\n",
      " [0. 0. 1. 0. 0.]\n",
      " [0. 0. 0. 1. 0.]\n",
      " [0. 0. 0. 0. 1.]]\n"
     ]
    }
   ],
   "source": [
    "print(np.eye(5))"
   ]
  },
  {
   "cell_type": "markdown",
   "id": "da64551a",
   "metadata": {},
   "source": [
    "#### Exercise: Find indices of non-zero elements from [1,2,0,0,4,0] (★☆☆)\n",
    "Check the function `where`(https://numpy.org/devdocs/reference/generated/numpy.where.html)"
   ]
  },
  {
   "cell_type": "code",
   "execution_count": 122,
   "id": "327f7adb",
   "metadata": {},
   "outputs": [
    {
     "name": "stdout",
     "output_type": "stream",
     "text": [
      "[0 1 4]\n"
     ]
    }
   ],
   "source": [
    "print(np.where(np.array([1,2,0,0,4,0]) != 0)[0])"
   ]
  },
  {
   "cell_type": "markdown",
   "id": "13c5928c",
   "metadata": {},
   "source": [
    "#### Exercise: Create a 10x10 array with random values and find the minimum and maximum values (★☆☆)\n",
    "Check the function `min`(https://numpy.org/devdocs/reference/generated/numpy.where.html) and `max`(https://numpy.org/devdocs/reference/generated/numpy.max.html)"
   ]
  },
  {
   "cell_type": "code",
   "execution_count": 123,
   "id": "911c9b93",
   "metadata": {},
   "outputs": [
    {
     "name": "stdout",
     "output_type": "stream",
     "text": [
      "0.011180237653739655\n",
      "0.9750409586840012\n"
     ]
    }
   ],
   "source": [
    "arr_10_by_10 = np.random.random((10,10))\n",
    "print(arr_10_by_10.min())\n",
    "print(arr_10_by_10.max())"
   ]
  },
  {
   "cell_type": "markdown",
   "id": "3fa2e461",
   "metadata": {},
   "source": [
    "#### Exercise: Create a random vector of size 30 and find the mean value (★☆☆)"
   ]
  },
  {
   "cell_type": "code",
   "execution_count": 124,
   "id": "323eb38a",
   "metadata": {},
   "outputs": [
    {
     "name": "stdout",
     "output_type": "stream",
     "text": [
      "0.5287919134203217\n"
     ]
    }
   ],
   "source": [
    "print(np.random.random(30).mean())"
   ]
  },
  {
   "cell_type": "markdown",
   "id": "961f074f",
   "metadata": {},
   "source": [
    "#### Exercise: Define a function with input your date of birth (yyyy/mm/dd) that returns a random array with the following dimensions: (★★☆)\n",
    "$$yyyy-1900 \\times |mm - dd|$$"
   ]
  },
  {
   "cell_type": "code",
   "execution_count": 125,
   "id": "d3f49255",
   "metadata": {},
   "outputs": [
    {
     "name": "stdout",
     "output_type": "stream",
     "text": [
      "(90, 0)\n"
     ]
    }
   ],
   "source": [
    "def birth_date(date_of_birth: str) -> np.array:\n",
    "    date = date_of_birth.split(\"/\")\n",
    "    size = (int(date[0]) - 1900, np.abs(int(date[1]) - int(date[2])))\n",
    "    return np.random.random(size) \n",
    "\n",
    "birthdate = input(\"enter your birthday: \")\n",
    "print(birth_date(birthdate).shape)"
   ]
  },
  {
   "cell_type": "markdown",
   "id": "ff8dbb92",
   "metadata": {},
   "source": [
    "## What is the difference between Python List and a Numpy Array?\n",
    "\n",
    "- Python list can contain elements with different data types whereas Numpy Array‘s elements are always homogeneous (same data types).\n",
    "- NumPy arrays are faster and more compact than Python lists.\n",
    "\n",
    "## Why NumPy Arrays are faster than Lists?\n",
    "\n",
    "- NumPy Array uses fixed memory to store data and less memory than Python lists.\n",
    "- Contiguous memory allocation in NumPy Arrays."
   ]
  },
  {
   "cell_type": "markdown",
   "id": "e3a7ba7f",
   "metadata": {},
   "source": [
    "#### Exercise: Convert the list `my_list = [1, 2, 3]` to numpy array (★☆☆)"
   ]
  },
  {
   "cell_type": "code",
   "execution_count": 126,
   "id": "01d8e257",
   "metadata": {},
   "outputs": [
    {
     "name": "stdout",
     "output_type": "stream",
     "text": [
      "[1, 2, 3]\n",
      "[1 2 3]\n"
     ]
    }
   ],
   "source": [
    "my_list = [1, 2, 3]\n",
    "numpy_my_list = np.array(my_list)\n",
    "print(my_list)\n",
    "print(numpy_my_list)"
   ]
  },
  {
   "cell_type": "markdown",
   "id": "6d17ab5d",
   "metadata": {},
   "source": [
    "#### Exercise: Convert the tuple `my_list = (1, 2, 3)` to numpy array (★☆☆)"
   ]
  },
  {
   "cell_type": "code",
   "execution_count": 127,
   "id": "841373cd",
   "metadata": {},
   "outputs": [
    {
     "name": "stdout",
     "output_type": "stream",
     "text": [
      "(1, 2, 3)\n",
      "[1 2 3]\n"
     ]
    }
   ],
   "source": [
    "my_list = (1, 2, 3)\n",
    "numpy_my_list = np.array(my_list)\n",
    "print(my_list)\n",
    "print(numpy_my_list)"
   ]
  },
  {
   "cell_type": "markdown",
   "id": "8837119b",
   "metadata": {},
   "source": [
    "#### Exercise: Convert the list of tuples `my_list = [(1,2,3), (4,5)]` to numpy array (★☆☆)"
   ]
  },
  {
   "cell_type": "code",
   "execution_count": 128,
   "id": "2c0d16f1",
   "metadata": {},
   "outputs": [
    {
     "name": "stdout",
     "output_type": "stream",
     "text": [
      "[(1, 2, 3), (4, 5)]\n",
      "[(1, 2, 3) (4, 5)]\n"
     ]
    }
   ],
   "source": [
    "my_list = [(1, 2, 3), (4,5)]\n",
    "numpy_my_list = np.array(my_list, dtype=np.ndarray)\n",
    "print(my_list)\n",
    "print(numpy_my_list)"
   ]
  },
  {
   "cell_type": "markdown",
   "id": "ec788c9f",
   "metadata": {},
   "source": [
    "#### Exercise: Resize a random array of dimensions 5x12 into 12x5 (★☆☆)\n",
    "Check `reshape`from `numpy`(https://numpy.org/doc/stable/reference/generated/numpy.reshape.html)"
   ]
  },
  {
   "cell_type": "code",
   "execution_count": 129,
   "id": "0a4f919f",
   "metadata": {},
   "outputs": [
    {
     "name": "stdout",
     "output_type": "stream",
     "text": [
      "(5, 12)\n",
      "(12, 5)\n"
     ]
    }
   ],
   "source": [
    "size1 = 5,12\n",
    "size2 = 12,5\n",
    "arr1 = np.random.random(size1)\n",
    "arr2 = arr1.reshape(size2)\n",
    "print(arr1.shape)\n",
    "print(arr2.shape)"
   ]
  },
  {
   "cell_type": "markdown",
   "id": "391791e0",
   "metadata": {},
   "source": [
    "#### Exercise: Create a function that normalize a 5x5 random matrix (★☆☆)\n",
    "Remember from probability (https://en.wikipedia.org/wiki/Normalization_(statistics)) that :\n",
    "$$ x_{norm} = \\frac{x - \\bar{x}}{\\sigma}$$\n"
   ]
  },
  {
   "cell_type": "code",
   "execution_count": 130,
   "id": "f6533d39",
   "metadata": {},
   "outputs": [
    {
     "name": "stdout",
     "output_type": "stream",
     "text": [
      "[[ 0.66849046 -1.08481439  0.53956816 -1.33280875 -0.04194667]\n",
      " [-1.28818316  0.78670414 -0.04460656  1.91373548  1.801395  ]\n",
      " [ 0.27834995  1.11897937  0.28683637  1.42621624 -1.43363307]\n",
      " [-0.02034645 -0.53134063 -1.30608893 -1.09176177  0.64709749]\n",
      " [ 0.03128855 -0.72761433 -1.04949426  1.02819807 -0.57422031]]\n"
     ]
    }
   ],
   "source": [
    "arr_to_normalize = np.random.random((5,5))\n",
    "arr_normalized = (arr_to_normalize - arr_to_normalize.mean()) / arr_to_normalize.std()\n",
    "print(arr_normalized)"
   ]
  },
  {
   "cell_type": "markdown",
   "id": "d2d143f1",
   "metadata": {},
   "source": [
    "## Stacking numpy arrays\n",
    "\n",
    "Stacking is used to join a sequence of same dimension arrays along a new axis.\n",
    "`numpy.stack(arrays,axis)` : It returns a stacked array of the input arrays which has one more dimension than the input arrays.\n",
    "\n",
    "### You have two ways to do it:\n",
    "\n",
    "\n",
    "![alt text](./assets/stack.jpeg \"stack\")\n",
    "\n",
    "\n",
    "### or\n",
    "\n",
    "\n",
    "![alt text](./assets/stack2.jpeg \"stack\")\n",
    "\n",
    "\n"
   ]
  },
  {
   "cell_type": "markdown",
   "id": "1e74d39e",
   "metadata": {},
   "source": [
    "#### Exercise: Generate two random arrays with integers and apply the stacking using `stack` (★★☆)"
   ]
  },
  {
   "cell_type": "code",
   "execution_count": 131,
   "id": "3f639d33",
   "metadata": {},
   "outputs": [
    {
     "name": "stdout",
     "output_type": "stream",
     "text": [
      "[[6 0]\n",
      " [8 6]]\n",
      "\n",
      "[[4 2]\n",
      " [8 9]]\n",
      "\n",
      "[[[6 0]\n",
      "  [8 6]]\n",
      "\n",
      " [[4 2]\n",
      "  [8 9]]]\n"
     ]
    }
   ],
   "source": [
    "arr_1 = np.random.randint(0, 10, (2,2))\n",
    "arr_2 = np.random.randint(0, 10, (2,2))\n",
    "print(arr_1)\n",
    "print()\n",
    "print(arr_2)\n",
    "print()\n",
    "print(np.stack((arr_1, arr_2)))"
   ]
  },
  {
   "cell_type": "markdown",
   "id": "78250c14",
   "metadata": {},
   "source": [
    "#### Exercise: Generate two random arrays with integers and apply the stacking using `hstack` and `vstack` (★★☆)"
   ]
  },
  {
   "cell_type": "code",
   "execution_count": 132,
   "id": "9fe729cb",
   "metadata": {},
   "outputs": [
    {
     "name": "stdout",
     "output_type": "stream",
     "text": [
      "[[9 2]\n",
      " [8 8]]\n",
      "\n",
      "[[3 2]\n",
      " [7 4]]\n",
      "\n",
      "[[9 2 3 2]\n",
      " [8 8 7 4]]\n",
      "\n",
      "[[9 2]\n",
      " [8 8]\n",
      " [3 2]\n",
      " [7 4]]\n"
     ]
    }
   ],
   "source": [
    "arr_1 = np.random.randint(0, 10, (2,2))\n",
    "arr_2 = np.random.randint(0, 10, (2,2))\n",
    "print(arr_1)\n",
    "print()\n",
    "print(arr_2)\n",
    "print()\n",
    "print(np.hstack((arr_1, arr_2)))\n",
    "print()\n",
    "print(np.vstack((arr_1, arr_2)))"
   ]
  },
  {
   "cell_type": "markdown",
   "id": "51898680",
   "metadata": {},
   "source": [
    "## Basic maths in numpy\n",
    "\n",
    "You can make typical math operations like:\n",
    "\n",
    "- Addition,Subtraction,Multiplication and Division between two arrays using numpy.\n",
    "- Operation on array using sum() & cumsum() function.\n",
    "- Minimum and Maximum value from an array\n",
    "- Exponent/Power , Square Root and Cube Root functions\n",
    "\n",
    "or even apply common trigonometric functions:\n",
    "\n",
    "- `numpy.sin()`:  Sine (x) Function\n",
    "- `numpy.cos()`: Cosine(x) Function\n",
    "- `numpy.tan()`: Tangent(x)Function\n",
    "- `numpy.sinh()`: Hyperbolic Sine (x) Function\n",
    "- `numpy.cosh()`: Hyperbolic Cosine(x) Functionv\n",
    "- `numpy.tanh()`: Hyperbolic Tangent(x)Function\n",
    "- `numpy.arcsin()`: Inverse Sine Function\n",
    "- `numpy.arccos()`: Inverse Cosine Function\n",
    "- `numpy.arctan()`: Inverse Tangent Function\n",
    "- `numpy.pi`: pi value\n",
    "- `numpy.hypot(w,h)`: For calculating Hypotenuse $c = \\sqrt{(w^2 + h^2)}$\n",
    "- `numpy.rad2deg()`: Radians to degrees\n",
    "- `numpy.deg2rad()`: Degrees to radians"
   ]
  },
  {
   "cell_type": "markdown",
   "id": "89e78048",
   "metadata": {},
   "source": [
    "#### Exercise: Generate two random 8 - dimensional vectors and apply the most common operation between vectors:  addition, substraction, multiplication, division(★☆☆)\n",
    "\n",
    "Check the math functions here: https://numpy.org/doc/stable/reference/routines.math.html"
   ]
  },
  {
   "cell_type": "code",
   "execution_count": 133,
   "id": "b62e9d1c",
   "metadata": {},
   "outputs": [
    {
     "name": "stdout",
     "output_type": "stream",
     "text": [
      "[1.24214463 0.60153961 0.50078769 0.34281326 0.6413206  1.16579181\n",
      " 1.04891684 1.18886541]\n",
      "[-0.14408727 -0.44325631  0.33400171 -0.23559925  0.52669248 -0.39844605\n",
      " -0.15437937 -0.27788168]\n",
      "[0.38054053 0.04134344 0.03480779 0.01550348 0.03347179 0.30007782\n",
      " 0.26909839 0.33404568]\n",
      "[ 0.79211665  0.15149686  5.00515336  0.18535907 10.18958561  0.49055568\n",
      "  0.74340587  0.62109121]\n"
     ]
    }
   ],
   "source": [
    "vect_1 = np.random.random(8)\n",
    "vect_2 = np.random.random(8)\n",
    "\n",
    "print(vect_1 + vect_2)\n",
    "print(vect_1 - vect_2)\n",
    "print(vect_1 * vect_2)\n",
    "print(vect_1 / vect_2)"
   ]
  },
  {
   "cell_type": "markdown",
   "id": "ebd10810",
   "metadata": {},
   "source": [
    "#### Exercise: Generate two random matrices with dimensions between 5 and 10, e.g. 5x7 vs 8x9 and try. Were you able to do the matrix multiplication? why? (★★☆) "
   ]
  },
  {
   "cell_type": "code",
   "execution_count": 134,
   "id": "6ada209f",
   "metadata": {},
   "outputs": [],
   "source": [
    "matrix_1 = np.random.random((np.random.randint(5,10), np.random.randint(5,10)))\n",
    "matrix_2 = np.random.random((np.random.randint(5,10), np.random.randint(5,10)))\n",
    "\n",
    "\n",
    "#print(matrix_1 * matrix_2) #ValueError: operands could not be broadcast together with shapes (9,7) (6,5) "
   ]
  },
  {
   "cell_type": "markdown",
   "id": "c0e940f8",
   "metadata": {},
   "source": [
    "#### Exercise: Given 2 numpy arrays as matrices, output the result of multiplying the 2 matrices (as a numpy array) Were you able to do the matrix multiplication? (★★☆) \n",
    "\n",
    "$$ a = \\left(\\begin{matrix}\n",
    "0 & 1 & 2\\\\ \n",
    "3 & 4 & 5\\\\ \n",
    "6 & 7 & 8\n",
    "\\end{matrix}\\right)$$\n",
    "\n",
    "$$ b = \\left(\\begin{matrix}\n",
    "2 & 3 & 4\\\\ \n",
    "5 & 6 & 7\\\\ \n",
    "8 & 9 & 10\n",
    "\\end{matrix}\\right)$$\n",
    "\n",
    "\n"
   ]
  },
  {
   "cell_type": "code",
   "execution_count": 135,
   "id": "820dc7a5",
   "metadata": {},
   "outputs": [
    {
     "name": "stdout",
     "output_type": "stream",
     "text": [
      "[[0. 1. 2.]\n",
      " [3. 4. 5.]\n",
      " [6. 7. 8.]]\n",
      "[[ 2.  3.  4.]\n",
      " [ 5.  6.  7.]\n",
      " [ 8.  9. 10.]]\n",
      "[[ 0.  3.  8.]\n",
      " [15. 24. 35.]\n",
      " [48. 63. 80.]]\n"
     ]
    }
   ],
   "source": [
    "a = np.linspace(0, 8, 9).reshape((3,3))\n",
    "b = np.linspace(2, 10, 9).reshape((3,3))\n",
    "print(a)\n",
    "print(b)\n",
    "print(a * b)"
   ]
  },
  {
   "cell_type": "markdown",
   "id": "22713c3f",
   "metadata": {},
   "source": [
    "#### Exercise: Multiply a 5x3 matrix by a 3x2 matrix (real matrix product) (★★☆)"
   ]
  },
  {
   "cell_type": "code",
   "execution_count": 136,
   "id": "a3e05c29",
   "metadata": {},
   "outputs": [
    {
     "name": "stdout",
     "output_type": "stream",
     "text": [
      "[[0.96937599 1.25642485]\n",
      " [0.44064618 0.3261438 ]\n",
      " [0.56112449 0.62241882]\n",
      " [1.17447833 1.02918752]\n",
      " [0.98484107 1.03109583]]\n"
     ]
    }
   ],
   "source": [
    "matrix_1 = np.random.random((5, 3))\n",
    "matrix_2 = np.random.random((3, 2))\n",
    "\n",
    "print(np.dot(matrix_1, matrix_2))"
   ]
  },
  {
   "cell_type": "markdown",
   "id": "4815930e",
   "metadata": {},
   "source": [
    "## Data types\n",
    "\n",
    "Do you think the following preposition is true?\n",
    "`8==8`\n",
    "\n",
    "Surely you will definetely say yes, which is true mathematically, but computationally it is not always the same, at least in terms of memory. For example, run the following cell:"
   ]
  },
  {
   "cell_type": "code",
   "execution_count": 137,
   "id": "cd81c3c6",
   "metadata": {},
   "outputs": [
    {
     "name": "stdout",
     "output_type": "stream",
     "text": [
      "int64: 104\n",
      "int8: 97\n",
      "float32: 100\n"
     ]
    }
   ],
   "source": [
    "import sys\n",
    "\n",
    "# int64\n",
    "x = np.array(123)\n",
    "print(\"int64: \" + str(sys.getsizeof(x)))\n",
    "\n",
    "# int8\n",
    "x = np.array(123,dtype=np.int8)\n",
    "print(\"int8: \" + str(sys.getsizeof(x)))\n",
    "\n",
    "# float32\n",
    "x = np.array(123,dtype=np.float32)\n",
    "print(\"float32: \" + str(sys.getsizeof(x)))"
   ]
  },
  {
   "cell_type": "markdown",
   "id": "8e34f294",
   "metadata": {},
   "source": [
    "## It turns out that there are many computational representation of the same number and you can create arrays with different Data Types (dtypes) depending what you need:\n",
    "\n",
    "- Boolean : `np.bool_`\n",
    "- Char : `np.byte`\n",
    "- Short : `np.short`\n",
    "- Integer : `np.short`\n",
    "- Long : `np.int_`\n",
    "- Float : `np.single`&np.float32`\n",
    "- Double :`np.double`&`np.float64`\n",
    "- `np.int8`: integer (-128 to 127)\n",
    "- `np.int16`:integer( -32768 to 32767)\n",
    "- `np.int32`: integer(-2147483648 to 2147483647)\n",
    "- `np.int64`:integer( -9223372036854775808 to 9223372036854775807)\n",
    "\n",
    "\n",
    "Sometimes, you will need to load, create or export arrays from different data types.\n"
   ]
  },
  {
   "cell_type": "code",
   "execution_count": null,
   "id": "890bde78",
   "metadata": {},
   "outputs": [],
   "source": []
  },
  {
   "cell_type": "markdown",
   "id": "f1ae2c2d",
   "metadata": {},
   "source": [
    "## Harder exercises\n",
    "\n",
    "The next exercises are related with real situations you could face while you are working in data science and machine learning and we will be frequently talking about matrices and bidimensional arrays."
   ]
  },
  {
   "cell_type": "markdown",
   "id": "759c9c8d",
   "metadata": {},
   "source": [
    "#### Exercise: Subtract the mean of each row of a matrix (★★☆)"
   ]
  },
  {
   "cell_type": "code",
   "execution_count": 138,
   "id": "6801c73d",
   "metadata": {},
   "outputs": [
    {
     "name": "stdout",
     "output_type": "stream",
     "text": [
      "Original matrix:\n",
      "\n",
      "[[0.97835697 0.71032861 0.28002062 0.79942258 0.94623987 0.88835211\n",
      "  0.71610242 0.35405523 0.04132503 0.33410359]\n",
      " [0.3922052  0.31959137 0.39025686 0.14879659 0.1714645  0.56382451\n",
      "  0.69586562 0.20816189 0.13658679 0.42129119]\n",
      " [0.62248081 0.83951912 0.85810788 0.28784417 0.10636269 0.13556521\n",
      "  0.4438836  0.30714327 0.73359478 0.59328099]]\n",
      "\n",
      "Subtract the mean of each row of the said matrix:\n",
      "\n",
      "[[ 0.37352627  0.10549791 -0.32481008  0.19459188  0.34140917  0.2835214\n",
      "   0.11127172 -0.25077547 -0.56350567 -0.27072711]\n",
      " [ 0.04740075 -0.02521308  0.0454524  -0.19600787 -0.17333995  0.21902006\n",
      "   0.35106117 -0.13664256 -0.20821766  0.07648674]\n",
      " [ 0.12970256  0.34674087  0.36532963 -0.20493408 -0.38641556 -0.35721304\n",
      "  -0.04889466 -0.18563498  0.24081653  0.10050273]]\n",
      "\n",
      "Subtract the mean of each column of the said matrix:\n",
      "\n",
      "[[ 0.31400931  0.08718225 -0.22944116  0.38740147  0.53821752  0.35910483\n",
      "   0.09748521  0.06426843 -0.2625105  -0.115455  ]\n",
      " [-0.27214246 -0.303555   -0.11920493 -0.26322453 -0.23655786  0.03457724\n",
      "   0.07724841 -0.08162491 -0.16724874 -0.0282674 ]\n",
      " [-0.04186685  0.21637275  0.34864609 -0.12417694 -0.30165966 -0.39368207\n",
      "  -0.17473362  0.01735648  0.42975925  0.1437224 ]]\n"
     ]
    }
   ],
   "source": [
    "print(\"Original matrix:\\n\")\n",
    "X = np.random.rand(3, 10)\n",
    "print(X)\n",
    "print(\"\\nSubtract the mean of each row of the said matrix:\\n\")\n",
    "Y = X - X.mean(axis=1, keepdims=True)\n",
    "print(Y)\n",
    "print(\"\\nSubtract the mean of each column of the said matrix:\\n\")\n",
    "Z = X - X.mean(axis=0, keepdims=True)\n",
    "print(Z)"
   ]
  },
  {
   "cell_type": "markdown",
   "id": "129c342d",
   "metadata": {},
   "source": [
    "#### Exercise: How to get the dates of yesterday, today and tomorrow? (★★☆)\n",
    "Check `np.datetime64`, `np.timedelta64` in numpy (https://numpy.org/doc/stable/reference/arrays.datetime.html)"
   ]
  },
  {
   "cell_type": "code",
   "execution_count": 139,
   "id": "8ba1badb",
   "metadata": {},
   "outputs": [
    {
     "name": "stdout",
     "output_type": "stream",
     "text": [
      "today 2022-01-20\n",
      "yesterday 2022-01-19\n",
      "tomorrow 2022-01-21\n"
     ]
    }
   ],
   "source": [
    "today = np.datetime64('today', 'D')\n",
    "yesterday = today - np.timedelta64(1, 'D')\n",
    "tomorrow = today + np.timedelta64(1, 'D')\n",
    "\n",
    "print(\"today\", today)\n",
    "print(\"yesterday\", yesterday)\n",
    "print(\"tomorrow\", tomorrow)"
   ]
  },
  {
   "cell_type": "markdown",
   "id": "42f8b2f9",
   "metadata": {},
   "source": [
    "#### Exercise: How to get all the dates corresponding to the month of December 2022? (★★☆)\n",
    "Combine `arange`with `datetime`\n"
   ]
  },
  {
   "cell_type": "code",
   "execution_count": 140,
   "id": "eb8ebe45",
   "metadata": {},
   "outputs": [
    {
     "name": "stdout",
     "output_type": "stream",
     "text": [
      "['2022-12-01', '2022-12-02', '2022-12-03', '2022-12-04', '2022-12-05', '2022-12-06', '2022-12-07', '2022-12-08', '2022-12-09', '2022-12-10', '2022-12-11', '2022-12-12', '2022-12-13', '2022-12-14', '2022-12-15', '2022-12-16', '2022-12-17', '2022-12-18', '2022-12-19', '2022-12-20', '2022-12-21', '2022-12-22', '2022-12-23', '2022-12-24', '2022-12-25', '2022-12-26', '2022-12-27', '2022-12-28', '2022-12-29', '2022-12-30', '2022-12-31']\n",
      "['2022-12-01' '2022-12-02' '2022-12-03' '2022-12-04' '2022-12-05'\n",
      " '2022-12-06' '2022-12-07' '2022-12-08' '2022-12-09' '2022-12-10'\n",
      " '2022-12-11' '2022-12-12' '2022-12-13' '2022-12-14' '2022-12-15'\n",
      " '2022-12-16' '2022-12-17' '2022-12-18' '2022-12-19' '2022-12-20'\n",
      " '2022-12-21' '2022-12-22' '2022-12-23' '2022-12-24' '2022-12-25'\n",
      " '2022-12-26' '2022-12-27' '2022-12-28' '2022-12-29' '2022-12-30'\n",
      " '2022-12-31']\n"
     ]
    }
   ],
   "source": [
    "all_dates_solution1 = [(np.datetime64('2022-12', 'D') + np.timedelta64(day, 'D')).astype(\"str\") for day in np.arange(31)]\n",
    "all_dates_solution2 = np.arange('2022-12', '2023-01', dtype='datetime64[D]')\n",
    "print(all_dates_solution1)\n",
    "print(all_dates_solution2)\n"
   ]
  },
  {
   "cell_type": "markdown",
   "id": "486df8ea",
   "metadata": {},
   "source": [
    "#### Exercise: Extract the integer part of a random array of positive numbers using 2 different methods (★★☆)"
   ]
  },
  {
   "cell_type": "code",
   "execution_count": 141,
   "id": "34b4fa08",
   "metadata": {},
   "outputs": [
    {
     "name": "stdout",
     "output_type": "stream",
     "text": [
      "[9 9 9 3 0 0 3 9 6 6]\n",
      "[9 9 9 3 0 0 3 9 6 6]\n"
     ]
    }
   ],
   "source": [
    "arr_random_1 = np.random.rand(10) * 10\n",
    "print(arr_random_1.astype(\"int\"))\n",
    "print(np.int64(arr_random_1))\n"
   ]
  },
  {
   "cell_type": "markdown",
   "id": "649e89f9",
   "metadata": {},
   "source": [
    "#### Exercise: Create a 5x5 matrix with row values ranging from 0 to 4 (★★☆)"
   ]
  },
  {
   "cell_type": "code",
   "execution_count": 142,
   "id": "663cc611",
   "metadata": {},
   "outputs": [
    {
     "name": "stdout",
     "output_type": "stream",
     "text": [
      "[[1 2 3 0 2]\n",
      " [2 1 2 1 3]\n",
      " [3 2 2 3 0]\n",
      " [2 0 2 0 3]\n",
      " [0 0 2 3 0]]\n"
     ]
    }
   ],
   "source": [
    "m_5x5 = np.int64(np.random.rand(5,5) * 4)\n",
    "print(m_5x5)"
   ]
  },
  {
   "cell_type": "markdown",
   "id": "3421e17f",
   "metadata": {},
   "source": [
    "#### Exercise: Consider a generator function that generates 10 integers and use it to build an array (★★☆)"
   ]
  },
  {
   "cell_type": "code",
   "execution_count": 143,
   "id": "7336b8e4",
   "metadata": {},
   "outputs": [
    {
     "name": "stdout",
     "output_type": "stream",
     "text": [
      "[0 1 2 3 4 5 6 7 8 9]\n"
     ]
    }
   ],
   "source": [
    "def generate():\n",
    "   for n in range(10):\n",
    "       yield n\n",
    "gen_arr_10int = np.fromiter(generate(),dtype=int)\n",
    "\n",
    "print(gen_arr_10int)"
   ]
  },
  {
   "cell_type": "markdown",
   "id": "483dd554",
   "metadata": {},
   "source": [
    "#### Exercise: Create a vector of size 10 with values ranging from 0 to 1, both excluded (★★☆)"
   ]
  },
  {
   "cell_type": "code",
   "execution_count": 144,
   "id": "c89b93e7",
   "metadata": {},
   "outputs": [
    {
     "name": "stdout",
     "output_type": "stream",
     "text": [
      "[0.11111111 0.22222222 0.33333333 0.44444444 0.55555556 0.66666667\n",
      " 0.77777778 0.88888889]\n"
     ]
    }
   ],
   "source": [
    "print(np.linspace(0,1,10)[1:-1])"
   ]
  },
  {
   "cell_type": "markdown",
   "id": "2d07be1c",
   "metadata": {},
   "source": [
    "#### Exercise: Create a random vector of size 10 and sort it (★★☆)"
   ]
  },
  {
   "cell_type": "code",
   "execution_count": 145,
   "id": "4f7cb3ad",
   "metadata": {},
   "outputs": [
    {
     "name": "stdout",
     "output_type": "stream",
     "text": [
      "[0.02693832 0.09478285 0.28442163 0.30480718 0.33903514 0.59908453\n",
      " 0.67816034 0.69776666 0.84697679 0.9023805 ]\n"
     ]
    }
   ],
   "source": [
    "print(np.sort(np.random.rand(10)))"
   ]
  },
  {
   "cell_type": "markdown",
   "id": "fe043549",
   "metadata": {},
   "source": [
    "#### Exercise: Consider two random array A and B, check if they are equal (★★☆)"
   ]
  },
  {
   "cell_type": "code",
   "execution_count": 146,
   "id": "3326a686",
   "metadata": {},
   "outputs": [
    {
     "name": "stdout",
     "output_type": "stream",
     "text": [
      "False\n",
      "[[False False False False False False False False False False]\n",
      " [False False False False False False False False False False]]\n",
      "[[False False False False False False False False False False]\n",
      " [False False False False False False False False False False]]\n",
      "[[False False False False False False False False False False]\n",
      " [False False False False False False False False False False]]\n"
     ]
    }
   ],
   "source": [
    "A = np.random.rand(2,10)\n",
    "B = np.random.rand(2,10)\n",
    "print(np.allclose(A, B))\n",
    "print(np.isclose(A, B))\n",
    "##print(np.all(A, B)) # only integer scalar arrays\n",
    "##print(np.any(A, B)) # only integer scalar arrays\n",
    "print(np.equal(A, B))\n",
    "print(A == B)\n"
   ]
  },
  {
   "cell_type": "markdown",
   "id": "2002cb03",
   "metadata": {},
   "source": [
    "#### Exercise: Consider a random 10x2 matrix representing cartesian coordinates, convert them to polar coordinates (★★★)\n",
    "Suggestion: check how to calculate the \"square of a matrix\""
   ]
  },
  {
   "cell_type": "code",
   "execution_count": 147,
   "id": "58be72bc",
   "metadata": {},
   "outputs": [
    {
     "name": "stdout",
     "output_type": "stream",
     "text": [
      "[[0.00876709 0.87568928]\n",
      " [0.7671717  0.34402272]\n",
      " [0.72531661 0.3804504 ]\n",
      " [0.55997912 0.31693355]\n",
      " [0.20684382 0.53932858]\n",
      " [0.03455476 0.19600555]\n",
      " [0.41567398 0.41057984]\n",
      " [0.71456698 0.47783102]\n",
      " [0.50645578 0.01771741]\n",
      " [0.1761605  0.77783416]]\n",
      "[[0.87573317 0.84077586]\n",
      " [0.81904011 0.64344657]\n",
      " [0.57763283 0.19902815]\n",
      " [0.58426079 0.85960948]\n",
      " [0.50676559 0.79753276]\n",
      " [1.56078502 0.42154745]\n",
      " [0.48307857 0.51502445]\n",
      " [1.20457622 1.39629462]\n",
      " [0.7792329  0.58940905]\n",
      " [0.03496887 1.34807779]]\n"
     ]
    }
   ],
   "source": [
    "cartesian_coordinates = np.random.rand(10,2)\n",
    "print(cartesian_coordinates)\n",
    "#print(np.arctan(cartesian_coordinates[:,1]/cartesian_coordinates[:,0]).reshape(-1,1))\n",
    "#print(np.sqrt((cartesian_coordinates[:,1])**2 + (cartesian_coordinates[:,0])**2).reshape(-1,1))\n",
    "polar_coordinates = np.array([np.sqrt((cartesian_coordinates[:,0])**2 + (cartesian_coordinates[:,1])**2), np.arctan(cartesian_coordinates[:,1]/cartesian_coordinates[:,0])])\n",
    "print(polar_coordinates.reshape(10,2))\n"
   ]
  },
  {
   "cell_type": "markdown",
   "id": "b7109c9f",
   "metadata": {},
   "source": [
    "#### Exercise: Create random vector of size 10 and replace the maximum value by 0 (★★☆)"
   ]
  },
  {
   "cell_type": "code",
   "execution_count": 148,
   "id": "f79e79a7",
   "metadata": {},
   "outputs": [
    {
     "name": "stdout",
     "output_type": "stream",
     "text": [
      "[12  8 19  4 10 15  1  6  5 11]\n",
      "19\n",
      "[12  8  0  4 10 15  1  6  5 11]\n"
     ]
    }
   ],
   "source": [
    "rand_vect = np.random.randint(1,20,size=10)\n",
    "print(rand_vect)\n",
    "print(rand_vect.max())\n",
    "rand_vect[rand_vect == rand_vect.max()]=0\n",
    "print(rand_vect)"
   ]
  },
  {
   "cell_type": "markdown",
   "id": "fb24674c",
   "metadata": {},
   "source": [
    "#### Exercise: How to print all the values of an array? (★★☆)"
   ]
  },
  {
   "cell_type": "code",
   "execution_count": 149,
   "id": "c81f1456",
   "metadata": {},
   "outputs": [
    {
     "name": "stdout",
     "output_type": "stream",
     "text": [
      "[[11.27166147  7.40252353  3.20513442  3.55456502 12.81399402 13.33661125\n",
      "  11.33455752 20.59021434 20.17638929 20.38986815 16.16432033 12.34901572\n",
      "  14.8791023  22.3918881   5.21154672 20.76971407 10.2256909   7.92965157\n",
      "  17.84681487  3.30254641]\n",
      " [10.77860431 17.80409861  8.71064626  5.46175406 21.19002388  4.13045399\n",
      "   6.79870402  6.00854728  8.80830817 18.32453434 17.39620945 13.71247483\n",
      "  15.8908031  18.21499207 17.17962249 20.19378986 11.71764751 21.57682867\n",
      "  11.06915984  6.77663358]\n",
      " [20.93628331 10.75209713 19.51739505 16.95013359 14.12173277  7.51278112\n",
      "   9.35637403  8.50983697 20.13914152 21.00561253  4.4770449  21.35289335\n",
      "   7.80006838  5.3402917  19.6910711   9.25964977 12.08545846 20.31145389\n",
      "  21.33467883  8.40942046]\n",
      " [14.56120477 13.2524418  14.6903374  19.72460334  9.82992021 11.24932527\n",
      "  17.04934149 19.88166195 17.52684146  7.54965848  9.63774408 17.5098669\n",
      "   4.94150495  5.98401461 17.16219029 16.79645087 22.55141529  5.49365174\n",
      "  21.75258495 11.45082343]\n",
      " [21.78548553 18.19653264  7.76223126  3.0345661   6.94600677  4.97584108\n",
      "  21.54726107  7.25967705  3.36429199  8.78131789 15.85863161 11.34813271\n",
      "  15.11138012 13.54174671  3.24836246  7.84295627 20.43235766  3.77431306\n",
      "  20.85544082 15.47836928]\n",
      " [10.61044905  4.51365545  6.75442078 12.33037777  5.87019539 18.40634318\n",
      "  17.89279037  9.49947248 14.6352123  11.91432281  4.65017196  4.09741646\n",
      "   5.65655381  5.60342588 11.62933563 11.46975427 12.14607948 20.71215044\n",
      "  15.17939707  3.13325474]\n",
      " [ 9.83675669  8.77632146 19.23102838 13.71958431 17.23707788  7.08032123\n",
      "  14.52426109 18.01938221  5.66710954 18.65150756 12.95539591 10.01523635\n",
      "  22.55744364  6.39095766 20.44311948  3.13462507  7.94438403 11.74950977\n",
      "   9.78636187  6.61093835]\n",
      " [12.32219476  5.8818153  20.79665401 22.63790445  9.5358393  13.00209238\n",
      "  13.68136227 18.71708229  7.02426393 20.45944314 15.04709427 11.54845884\n",
      "  15.31554333 19.61801602 20.90554933 13.72237317 22.89858098 17.41860496\n",
      "  15.97645167  8.06228441]\n",
      " [ 8.72331413 19.95852424 22.37174616 22.66719294 12.40178852 19.3182705\n",
      "  19.92314875 11.77172998 12.46439631 18.31899419  8.62273431 16.55031886\n",
      "  19.48359623  7.43459173 18.20974939 14.8359027  19.80440606  8.23317886\n",
      "  13.14467495 16.6996839 ]\n",
      " [22.64916786  6.07264864  7.5472199  18.59138551  8.56785235  8.87853026\n",
      "  18.20597689  9.37470895 14.14289043 11.000852    6.00103054  9.44606272\n",
      "  14.68161824  9.42433918  5.33769839 14.3143371  15.40378954 16.29568158\n",
      "  17.48158348  6.23591511]\n",
      " [ 9.52090898 22.35893105  8.83519048 22.68255234 11.69861051 11.11981094\n",
      "  10.43528442  6.5985603   5.47308541 18.96679028  7.1488719  21.77952791\n",
      "  10.34634387 22.3766791  11.45590692 19.71442038 18.3203787  13.63904529\n",
      "  17.31081333 14.44261521]\n",
      " [22.58506113  8.11923518 13.76977163 19.78752607  4.70025088  3.23353156\n",
      "  21.28144455 11.92299552  6.63025095 20.32807015  9.96757185 18.64161445\n",
      "   4.88343905 18.51637772 20.88172667 14.29300165  9.27752549  6.89187882\n",
      "   9.07119633 17.34185858]]\n",
      "[[11.271661472635222, 7.402523529915124, 3.205134416160646, 3.554565024445368, 12.813994017895308, 13.336611246629868, 11.334557517139096, 20.590214340802813, 20.176389286416956, 20.389868152812937, 16.16432032932945, 12.34901572012105, 14.879102304332147, 22.39188810292162, 5.211546720897544, 20.7697140708612, 10.225690902616398, 7.929651571953045, 17.84681487016192, 3.302546412060174], [10.778604312446749, 17.80409861000505, 8.710646264157173, 5.461754063932751, 21.190023882164045, 4.130453990317591, 6.7987040194236865, 6.00854727677417, 8.80830816847692, 18.324534341746183, 17.396209453364982, 13.712474829701886, 15.890803099265018, 18.214992065606264, 17.179622490571663, 20.193789860528604, 11.717647505370152, 21.57682867471915, 11.06915983571053, 6.77663358096703], [20.936283305337387, 10.752097134300113, 19.517395049572915, 16.950133588444853, 14.121732766251167, 7.512781118909011, 9.35637402739118, 8.50983697091112, 20.139141522679658, 21.005612533776855, 4.477044897849106, 21.35289334932481, 7.800068376048006, 5.340291695058092, 19.69107109996472, 9.259649767714773, 12.085458463971452, 20.311453889982417, 21.33467883464532, 8.40942046001997], [14.561204772273143, 13.252441797355292, 14.690337399533126, 19.724603335747084, 9.829920207406843, 11.249325270191116, 17.049341490831157, 19.881661949968073, 17.52684146318053, 7.549658482150168, 9.6377440799938, 17.509866896725065, 4.941504952274999, 5.984014610865541, 17.16219028698361, 16.796450865257633, 22.551415289086037, 5.493651744369593, 21.75258495415595, 11.450823427976621], [21.78548552589447, 18.196532641742994, 7.762231261074055, 3.034566099333826, 6.946006765255314, 4.975841077220437, 21.547261071593383, 7.259677051225001, 3.36429198519752, 8.781317889867898, 15.858631605473478, 11.348132710836655, 15.111380121069395, 13.54174670741244, 3.2483624585286326, 7.842956265414329, 20.432357656078064, 3.774313061415788, 20.855440817319572, 15.478369277179901], [10.61044904708031, 4.513655451096616, 6.754420776029042, 12.330377773685292, 5.8701953928245345, 18.40634318172705, 17.89279037251255, 9.499472477420479, 14.635212301584183, 11.914322806511683, 4.650171958164483, 4.097416462149261, 5.656553814872565, 5.6034258804870225, 11.629335629664512, 11.46975426973385, 12.146079478154721, 20.712150444850593, 15.179397068853044, 3.1332547407552442], [9.836756686139008, 8.776321458960304, 19.231028375575615, 13.719584314362818, 17.237077876114913, 7.080321228519804, 14.524261085045307, 18.019382206919587, 5.6671095378729, 18.65150755668055, 12.955395914060272, 10.015236348901537, 22.5574436368302, 6.390957664601544, 20.443119483809426, 3.1346250673822413, 7.944384032094307, 11.749509771090658, 9.786361874261086, 6.61093834813889], [12.32219475846619, 5.881815304649864, 20.79665401172216, 22.637904454279482, 9.535839300249735, 13.0020923782727, 13.681362267235656, 18.717082294906696, 7.024263927939693, 20.45944314365092, 15.047094273673292, 11.548458841450541, 15.31554332787443, 19.61801601585759, 20.905549328234333, 13.72237317356601, 22.89858097913644, 17.41860496168196, 15.976451666188256, 8.062284411185056], [8.723314126524379, 19.95852424290242, 22.37174616057485, 22.66719293687991, 12.401788517904201, 19.318270498598018, 19.92314874951927, 11.771729983722247, 12.464396305858946, 18.318994193381457, 8.622734309560471, 16.550318855190756, 19.483596230987224, 7.434591733519408, 18.20974938804967, 14.835902702252913, 19.804406058484787, 8.233178858285628, 13.144674951409101, 16.699683899277126], [22.649167855991408, 6.072648640662454, 7.547219895342602, 18.591385510659016, 8.567852354253835, 8.878530256814255, 18.205976894528433, 9.374708947231614, 14.142890426223936, 11.0008520045529, 6.001030539019194, 9.446062720859889, 14.681618239754446, 9.424339179909538, 5.33769839158716, 14.31433709569693, 15.40378953935674, 16.295681576227267, 17.48158348409471, 6.235915111502701], [9.520908980854486, 22.358931052072386, 8.835190481686217, 22.68255233505719, 11.698610505650192, 11.119810944171972, 10.435284420421047, 6.59856029642871, 5.473085413715328, 18.96679028425828, 7.148871903568036, 21.779527911082702, 10.346343870144059, 22.37667909758094, 11.455906916850457, 19.71442037676932, 18.320378695260686, 13.639045290991051, 17.310813325250194, 14.442615209219602], [22.585061132780723, 8.119235180724926, 13.769771627966813, 19.787526072177567, 4.700250880936435, 3.233531555121016, 21.2814445475982, 11.922995519583772, 6.630250948477083, 20.328070153230527, 9.967571848962265, 18.641614452307675, 4.883439052950624, 18.51637772463573, 20.881726668669994, 14.293001652089877, 9.277525490037592, 6.891878817928031, 9.071196334927633, 17.34185857570685]]\n"
     ]
    }
   ],
   "source": [
    "rand_vect = np.random.rand(12,20)*20 + 3\n",
    "\n",
    "with np.printoptions(threshold=np.inf):\n",
    "    print(rand_vect)\n",
    "print(rand_vect.tolist())"
   ]
  },
  {
   "cell_type": "markdown",
   "id": "48413134",
   "metadata": {},
   "source": [
    "#### Exercise: How to convert a float (32 bits) array into an integer (32 bits) in place?\n",
    "Check https://stackoverflow.com/a/4396247/5989906"
   ]
  },
  {
   "cell_type": "code",
   "execution_count": 150,
   "id": "5db64b6d",
   "metadata": {},
   "outputs": [
    {
     "name": "stdout",
     "output_type": "stream",
     "text": [
      "[[22 11  7  3  9 18 19  5 22  3  8  7  7 20  7 10  7  3 13 10]\n",
      " [17 20  9 22 14 12 11  4 13 14 17  4 15  6  7  4 17  4 18 11]\n",
      " [12  8 12 14 10 15 17  3 20  8 21 19  4 21 14 22 19 22 21 18]\n",
      " [ 9  4 14 20  6  4  5 11 17  9  4 13 20  9 13  9  5 21 17  8]\n",
      " [13 19 15 13 20 18 16 14 13  9 14 15  5 20 19  5  6 19 13  5]\n",
      " [13 22  6 20 18 13  4 16 14  7  8 17 13 18  4 10  8  3 14 21]\n",
      " [21 18 10  3  6 15 21 22 21 13 15 22 20 16 11 11  9  4  5 21]\n",
      " [ 8 13 19 13 21 16 13 15 22 11  7  5 20 16 13 16  7 17 10  4]\n",
      " [11  7 14 13 19 19 18 11 20 16 16 15 19  9 10 21  4 20 19  3]\n",
      " [ 5 15  7 12  7  4 21 17 19  7 12 14 13 10  7  3 11 13  4 15]\n",
      " [19  5 12 18 11 17  8 18 10 18 18 20 20  9 12 21  7  3  5  9]\n",
      " [19  7 19  5  5 15 21 17  8 15  5  8 13 21 20 22  7 12 15  6]]\n"
     ]
    }
   ],
   "source": [
    "rand_vect = np.random.rand(12,20).astype(np.float32) *20 + 3\n",
    "y = rand_vect.view('int32')\n",
    "y[:] = rand_vect\n",
    "print(y)"
   ]
  },
  {
   "cell_type": "markdown",
   "id": "215b6acc",
   "metadata": {},
   "source": [
    "#### Exercise: Subtract the mean of each row of a matrix (★★☆)"
   ]
  },
  {
   "cell_type": "code",
   "execution_count": 151,
   "id": "dd1adef4",
   "metadata": {},
   "outputs": [
    {
     "name": "stdout",
     "output_type": "stream",
     "text": [
      "[[13 17 17]\n",
      " [17  1 18]\n",
      " [19  5  4]]\n",
      "[15.66666667 12.          9.33333333]\n",
      "[[ -2.66666667   1.33333333   1.33333333]\n",
      " [  5.         -11.           6.        ]\n",
      " [  9.66666667  -4.33333333  -5.33333333]]\n",
      "[[ -2.66666667   1.33333333   1.33333333]\n",
      " [  5.         -11.           6.        ]\n",
      " [  9.66666667  -4.33333333  -5.33333333]]\n"
     ]
    }
   ],
   "source": [
    "mtx_a = np.random.randint(1,20,size=(3,3))\n",
    "print(mtx_a)\n",
    "print(mtx_a.mean(axis=1))\n",
    "print(mtx_a - mtx_a.mean(axis=1).reshape(-1,1))\n",
    "print(mtx_a - mtx_a.mean(axis=1, keepdims=True))"
   ]
  },
  {
   "cell_type": "markdown",
   "id": "c0cf37e0",
   "metadata": {},
   "source": [
    "#### Exercise: How to sort an array by the nth column? (★★☆)"
   ]
  },
  {
   "cell_type": "code",
   "execution_count": 152,
   "id": "9336ca5f",
   "metadata": {},
   "outputs": [
    {
     "name": "stdout",
     "output_type": "stream",
     "text": [
      "[[17 15 10 14 17]\n",
      " [13 14 19  6  2]\n",
      " [11 17 17 13 11]]\n",
      "\n",
      "[[13 14 19  6  2]\n",
      " [17 15 10 14 17]\n",
      " [11 17 17 13 11]]\n",
      "\n",
      "[[13 14 19  6  2]\n",
      " [17 15 10 14 17]\n",
      " [11 17 17 13 11]]\n",
      "[[13 14 19  6  2]\n",
      " [17 15 10 14 17]\n",
      " [11 17 17 13 11]]\n",
      "[[13 14 19  6  2]\n",
      " [17 15 10 14 17]\n",
      " [11 17 17 13 11]]\n"
     ]
    }
   ],
   "source": [
    "mtx_a = np.random.randint(1,20,size=(3,5))\n",
    "print(mtx_a)\n",
    "print()\n",
    "#mtx_a = mtx_a.tolist()\n",
    "cols = [1]\n",
    "print(mtx_a[np.lexsort(mtx_a.T[cols])])\n",
    "print()\n",
    "print(mtx_a[ mtx_a[:,1].argsort()])\n",
    "print(mtx_a[ mtx_a[:,1].argsort(),:])\n",
    "mtx_a.view('i8,i8,i8,i8,i8').sort(order=['f1'], axis=0)\n",
    "print(mtx_a)\n"
   ]
  },
  {
   "cell_type": "markdown",
   "id": "c17fb213",
   "metadata": {},
   "source": [
    "#### Exercise: Find the position of a the minimum of a 2D matrix? (★★☆)"
   ]
  },
  {
   "cell_type": "code",
   "execution_count": 153,
   "id": "7fdda78d",
   "metadata": {},
   "outputs": [
    {
     "name": "stdout",
     "output_type": "stream",
     "text": [
      "1\n",
      "[[False  True False False False]\n",
      " [False False False False False]\n",
      " [False False False False False]]\n",
      "(array([0]), array([1]))\n"
     ]
    }
   ],
   "source": [
    "mtx_a = np.random.randint(1,20,size=(3,5))\n",
    "print(mtx_a.min())\n",
    "print(mtx_a == mtx_a.min())\n",
    "print(np.where(mtx_a == mtx_a.min()))"
   ]
  },
  {
   "cell_type": "markdown",
   "id": "f4427f7f",
   "metadata": {},
   "source": [
    "#### Exercise: Read an image using openCV, check its dimensions, normalize the numbers and show the image (★★★)\n",
    "Check: https://www.geeksforgeeks.org/python-opencv-cv2-imread-method/"
   ]
  },
  {
   "cell_type": "code",
   "execution_count": 154,
   "id": "fe253212",
   "metadata": {},
   "outputs": [
    {
     "name": "stdout",
     "output_type": "stream",
     "text": [
      "825300\n",
      "(393, 700, 3)\n"
     ]
    },
    {
     "data": {
      "text/plain": [
       "True"
      ]
     },
     "execution_count": 154,
     "metadata": {},
     "output_type": "execute_result"
    }
   ],
   "source": [
    "from cv2 import *\n",
    "path = \"/workspace/ml_pre_work/02-numpy/assets/1D.png\"\n",
    "img = cv2.imread(path)\n",
    "print(img.size)\n",
    "print(img.shape)\n",
    "#img = (img - img.mean()) / img.std()\n",
    "norm_img = np.zeros((img.shape[0],img.shape[1]))\n",
    "final_img = cv2.normalize(img,  norm_img, 0, 255, cv2.NORM_MINMAX)\n",
    "#cv2.imshow('image', img)\n",
    "cv2.imwrite('/workspace/ml_pre_work/02-numpy/assets/normalized_image.jpg', final_img)"
   ]
  },
  {
   "cell_type": "markdown",
   "id": "33c986d9",
   "metadata": {},
   "source": [
    "#### Exercise: Considering a four dimensions array, how to get sum over the last two axis at once? (★★★)"
   ]
  },
  {
   "cell_type": "code",
   "execution_count": 155,
   "id": "a99a50e2",
   "metadata": {},
   "outputs": [
    {
     "name": "stdout",
     "output_type": "stream",
     "text": [
      "(3, 2, 3, 4)\n",
      "[[66 55]\n",
      " [65 63]\n",
      " [66 49]]\n",
      "[[66 55]\n",
      " [65 63]\n",
      " [66 49]]\n"
     ]
    }
   ],
   "source": [
    "A = np.random.randint(0,10,(3,2,3,4))\n",
    "print(A.shape)\n",
    "#print(A)\n",
    "sum = A.reshape(A.shape[:-2] + (-1,)).sum(axis=-1)\n",
    "print(sum)\n",
    "sum = A.sum(axis=(-2,-1))\n",
    "print(sum)"
   ]
  },
  {
   "cell_type": "markdown",
   "id": "928a1a15",
   "metadata": {},
   "source": [
    "#### Exercise: How to get the diagonal of a dot product? (★★★)"
   ]
  },
  {
   "cell_type": "code",
   "execution_count": 156,
   "id": "ef2c9ddd",
   "metadata": {},
   "outputs": [
    {
     "name": "stdout",
     "output_type": "stream",
     "text": [
      "[[ 65  83  94]\n",
      " [ 81 105 117]\n",
      " [ 51  51  75]]\n",
      "[ 65 105  75]\n"
     ]
    }
   ],
   "source": [
    "A = np.random.randint(0,10,(3,2))\n",
    "B = np.random.randint(0,10,(2,3))\n",
    "c = np.dot(A,B)\n",
    "print(c)\n",
    "print(c.diagonal())"
   ]
  },
  {
   "cell_type": "markdown",
   "id": "f62551d8",
   "metadata": {},
   "source": [
    "#### Exercise: Consider an array of dimension (5,5,3), how to mulitply it by an array with dimensions (5,5)? (★★★)"
   ]
  },
  {
   "cell_type": "code",
   "execution_count": 157,
   "id": "9ab241b7",
   "metadata": {},
   "outputs": [
    {
     "name": "stdout",
     "output_type": "stream",
     "text": [
      "[[[ 0  0  0]\n",
      "  [21 12 21]\n",
      "  [54  6  6]\n",
      "  [ 6 24  0]\n",
      "  [20  8  8]]\n",
      "\n",
      " [[30 24 54]\n",
      "  [20 32 24]\n",
      "  [27  3  3]\n",
      "  [12  4 10]\n",
      "  [ 1  9  8]]\n",
      "\n",
      " [[ 0 42  0]\n",
      "  [ 4 16  8]\n",
      "  [28 28 42]\n",
      "  [40 24 40]\n",
      "  [28 12 24]]\n",
      "\n",
      " [[ 8  0 10]\n",
      "  [ 0 63  7]\n",
      "  [ 0  0  0]\n",
      "  [ 2  8 18]\n",
      "  [10 40 35]]\n",
      "\n",
      " [[24 64 56]\n",
      "  [ 0 36 12]\n",
      "  [16 48  8]\n",
      "  [49 56 49]\n",
      "  [30 30 48]]]\n",
      "[[[ 0  0  0]\n",
      "  [21 12 21]\n",
      "  [54  6  6]\n",
      "  [ 6 24  0]\n",
      "  [20  8  8]]\n",
      "\n",
      " [[30 24 54]\n",
      "  [20 32 24]\n",
      "  [27  3  3]\n",
      "  [12  4 10]\n",
      "  [ 1  9  8]]\n",
      "\n",
      " [[ 0 42  0]\n",
      "  [ 4 16  8]\n",
      "  [28 28 42]\n",
      "  [40 24 40]\n",
      "  [28 12 24]]\n",
      "\n",
      " [[ 8  0 10]\n",
      "  [ 0 63  7]\n",
      "  [ 0  0  0]\n",
      "  [ 2  8 18]\n",
      "  [10 40 35]]\n",
      "\n",
      " [[24 64 56]\n",
      "  [ 0 36 12]\n",
      "  [16 48  8]\n",
      "  [49 56 49]\n",
      "  [30 30 48]]]\n",
      "[[[ True  True  True]\n",
      "  [ True  True  True]\n",
      "  [ True  True  True]\n",
      "  [ True  True  True]\n",
      "  [ True  True  True]]\n",
      "\n",
      " [[ True  True  True]\n",
      "  [ True  True  True]\n",
      "  [ True  True  True]\n",
      "  [ True  True  True]\n",
      "  [ True  True  True]]\n",
      "\n",
      " [[ True  True  True]\n",
      "  [ True  True  True]\n",
      "  [ True  True  True]\n",
      "  [ True  True  True]\n",
      "  [ True  True  True]]\n",
      "\n",
      " [[ True  True  True]\n",
      "  [ True  True  True]\n",
      "  [ True  True  True]\n",
      "  [ True  True  True]\n",
      "  [ True  True  True]]\n",
      "\n",
      " [[ True  True  True]\n",
      "  [ True  True  True]\n",
      "  [ True  True  True]\n",
      "  [ True  True  True]\n",
      "  [ True  True  True]]]\n"
     ]
    }
   ],
   "source": [
    "A = np.random.randint(0,10,(5,5,3))\n",
    "B = np.random.randint(0,10,(5,5))\n",
    "C = (A.T * B.T).T\n",
    "print(C)\n",
    "D = A * B[:,:,None]\n",
    "print(D)\n",
    "print(D == C)"
   ]
  },
  {
   "cell_type": "markdown",
   "id": "6896e326",
   "metadata": {},
   "source": [
    "#### Exercise: How to swap two rows of an array? (★★★)"
   ]
  },
  {
   "cell_type": "code",
   "execution_count": 158,
   "id": "9e8fcba9",
   "metadata": {},
   "outputs": [
    {
     "name": "stdout",
     "output_type": "stream",
     "text": [
      "[[2 1 0 4 0]\n",
      " [0 6 5 0 1]\n",
      " [1 3 0 8 5]\n",
      " [1 2 9 1 3]\n",
      " [1 0 0 8 3]]\n",
      "[[2 1 0 4 0]\n",
      " [0 6 5 0 1]\n",
      " [1 3 0 8 5]\n",
      " [1 0 0 8 3]\n",
      " [1 2 9 1 3]]\n"
     ]
    }
   ],
   "source": [
    "A = np.random.randint(0,10,(5,5))\n",
    "print(A)\n",
    "A[-2:] = np.flip(A[-2:],axis=0)\n",
    "print(A)"
   ]
  },
  {
   "cell_type": "markdown",
   "id": "8e83df46",
   "metadata": {},
   "source": [
    "#### Exercise: Read an image using openCV and tranpose it. What did you get exactly? Was the image rotated? Moved? Reflected with respect to an axis? (★★★)"
   ]
  },
  {
   "cell_type": "code",
   "execution_count": 159,
   "id": "f73127b7",
   "metadata": {},
   "outputs": [
    {
     "name": "stdout",
     "output_type": "stream",
     "text": [
      "825300\n",
      "(393, 700, 3)\n",
      "825300\n",
      "(700, 393, 3)\n"
     ]
    },
    {
     "data": {
      "text/plain": [
       "True"
      ]
     },
     "execution_count": 159,
     "metadata": {},
     "output_type": "execute_result"
    }
   ],
   "source": [
    "path = \"/workspace/ml_pre_work/02-numpy/assets/1D.png\"\n",
    "img = cv2.imread(path)\n",
    "print(img.size)\n",
    "print(img.shape)\n",
    "\n",
    "final_img = cv2.transpose(img)\n",
    "print(final_img.size)\n",
    "print(final_img.shape)\n",
    "\n",
    "cv2.imwrite('/workspace/ml_pre_work/02-numpy/assets/transposed_image.jpg', final_img)\n",
    "#Reflected with respect to xx axis and rotated 90 degrees right to left"
   ]
  },
  {
   "cell_type": "markdown",
   "id": "781fa236",
   "metadata": {},
   "source": [
    "#### Exercise: Consider an array Z = [1,2,3,4,5,6,7,8,9,10,11,12,13,14], how to generate an array R = [[1,2,3,4], [2,3,4,5], [3,4,5,6], ..., [11,12,13,14]]? (★★★)"
   ]
  },
  {
   "cell_type": "code",
   "execution_count": 160,
   "id": "8e84d3c2",
   "metadata": {},
   "outputs": [
    {
     "name": "stdout",
     "output_type": "stream",
     "text": [
      "[[ 1  2  3  4]\n",
      " [ 2  3  4  5]\n",
      " [ 3  4  5  6]\n",
      " [ 4  5  6  7]\n",
      " [ 5  6  7  8]\n",
      " [ 6  7  8  9]\n",
      " [ 7  8  9 10]\n",
      " [ 8  9 10 11]\n",
      " [ 9 10 11 12]\n",
      " [10 11 12 13]\n",
      " [11 12 13 14]]\n"
     ]
    }
   ],
   "source": [
    "from numpy.lib import stride_tricks\n",
    "\n",
    "Z = np.arange(1,15,dtype=np.uint32)\n",
    "R = stride_tricks.as_strided(Z,(11,4),(4,4))\n",
    "print(R)"
   ]
  },
  {
   "cell_type": "markdown",
   "id": "7d8dc135",
   "metadata": {},
   "source": [
    "#### Exercise: How to find the most frequent value in an array? (★★★)"
   ]
  },
  {
   "cell_type": "code",
   "execution_count": 161,
   "id": "3978a7a2",
   "metadata": {},
   "outputs": [
    {
     "name": "stdout",
     "output_type": "stream",
     "text": [
      "list of modes:  [4, 5, 6, 7, 8, 9, 10, 11]\n",
      "mode frequency:  4\n"
     ]
    }
   ],
   "source": [
    "vals, counts = np.unique(R, return_counts=True)\n",
    "mode_value = np.argwhere(counts == np.max(counts))\n",
    "print(\"list of modes: \", vals[mode_value].flatten().tolist())\n",
    "print(\"mode frequency: \", np.max(counts))"
   ]
  },
  {
   "cell_type": "markdown",
   "id": "4c70397b",
   "metadata": {},
   "source": [
    "#### Exercise: How to get the n largest values of an array (★★★)"
   ]
  },
  {
   "cell_type": "code",
   "execution_count": 162,
   "id": "16371718",
   "metadata": {},
   "outputs": [
    {
     "name": "stdout",
     "output_type": "stream",
     "text": [
      "[[[[ 66  46]\n",
      "   [156  47]\n",
      "   [ 25 177]]\n",
      "\n",
      "  [[143 148]\n",
      "   [ 94 180]\n",
      "   [  4  66]]]\n",
      "\n",
      "\n",
      " [[[185  82]\n",
      "   [171  41]\n",
      "   [183 127]]\n",
      "\n",
      "  [[ 10  28]\n",
      "   [  8  62]\n",
      "   [ 95 148]]]]\n",
      "[177 180 183 185]\n"
     ]
    }
   ],
   "source": [
    "N = np.random.randint(0,200,(2,2,3,2))\n",
    "print(N)\n",
    "n = 4\n",
    "ind = np.unravel_index(np.argsort(N, axis=None), N.shape) #for N-dimensional array\n",
    "print(np.unique(N[ind])[-n:])"
   ]
  },
  {
   "cell_type": "markdown",
   "id": "d94352b6",
   "metadata": {},
   "source": [
    "#### Exercise: Consider a large vector Z, compute Z to the power of 3 using 3 different methods (★★★)"
   ]
  },
  {
   "cell_type": "code",
   "execution_count": 182,
   "id": "301ba8a8",
   "metadata": {},
   "outputs": [
    {
     "name": "stdout",
     "output_type": "stream",
     "text": [
      "2000\n",
      "2000\n",
      "2000\n"
     ]
    }
   ],
   "source": [
    "A_vect = np.linspace(1,200,2000)\n",
    "pow_vect = np.linspace(3,3,2000)\n",
    "A_vect_1 = A_vect**3\n",
    "A_vect_2 = np.power(A_vect,3)\n",
    "A_vect = np.linspace(1,200,2000)\n",
    "A_vect_3 = np.float_power(A_vect, pow_vect)\n",
    "#print(A_vect_3)\n",
    "print(np.sum(A_vect_1 == A_vect_2))\n",
    "print(np.sum(A_vect_1 == A_vect_3))\n",
    "print(np.sum(A_vect_2 == A_vect_3))"
   ]
  },
  {
   "cell_type": "markdown",
   "id": "2784c996",
   "metadata": {},
   "source": [
    "#### Exercise: Given a two dimensional array, how to extract unique rows? (★★★)"
   ]
  },
  {
   "cell_type": "code",
   "execution_count": 194,
   "id": "f030595f",
   "metadata": {},
   "outputs": [
    {
     "name": "stdout",
     "output_type": "stream",
     "text": [
      "[[0 0 0 0]\n",
      " [0 0 1 1]\n",
      " [0 1 0 0]\n",
      " [0 1 0 1]\n",
      " [0 1 1 1]\n",
      " [1 0 0 0]\n",
      " [1 0 0 1]\n",
      " [1 0 1 0]\n",
      " [1 0 1 1]\n",
      " [1 1 0 0]]\n"
     ]
    }
   ],
   "source": [
    "Z = np.random.randint(0,2,(16,4))\n",
    "Z_unique = np.unique(Z, axis=0)\n",
    "print(Z_unique)"
   ]
  },
  {
   "cell_type": "markdown",
   "id": "e5737276",
   "metadata": {},
   "source": [
    "#### Exercise: Can you have arrray of strings? can you mix different data types in the same array? Can you operate (add, sub, mult) arrays with different data types? (★★★)"
   ]
  },
  {
   "cell_type": "code",
   "execution_count": 205,
   "id": "68c333b0",
   "metadata": {},
   "outputs": [
    {
     "name": "stdout",
     "output_type": "stream",
     "text": [
      "[['rtef' ('fag', 34.3) 'fag']\n",
      " ['rtef' 45 'fag']\n",
      " ['rt' 'fag' 23]\n",
      " ['ref' 'fag' 'fa']]\n",
      "object\n",
      "[['27.8' 'fag' 'fag']\n",
      " ['rtef' '45' 'fag']\n",
      " ['rt' 'fag' '23']\n",
      " ['ref' 'True' 'fa']]\n",
      "<U32\n"
     ]
    },
    {
     "name": "stderr",
     "output_type": "stream",
     "text": [
      "/tmp/ipykernel_1241/1237648183.py:1: VisibleDeprecationWarning: Creating an ndarray from ragged nested sequences (which is a list-or-tuple of lists-or-tuples-or ndarrays with different lengths or shapes) is deprecated. If you meant to do this, you must specify 'dtype=object' when creating the ndarray.\n",
      "  ARR = np.array([[\"rtef\",(\"fag\",34.3),\"fag\"], [\"rtef\",45,\"fag\"], [\"rt\",\"fag\",23], [\"ref\",\"fag\",\"fa\"]])\n"
     ]
    }
   ],
   "source": [
    "ARR = np.array([[\"rtef\",(\"fag\",34.3),\"fag\"], [\"rtef\",45,\"fag\"], [\"rt\",\"fag\",23], [\"ref\",\"fag\",\"fa\"]])\n",
    "print(ARR)\n",
    "print(ARR.dtype)\n",
    "ARR = np.array([[27.8,\"fag\",\"fag\"], [\"rtef\",45,\"fag\"], [\"rt\",\"fag\",23], [\"ref\",True,\"fa\"]])\n",
    "print(ARR)\n",
    "print(ARR.dtype)"
   ]
  },
  {
   "cell_type": "code",
   "execution_count": null,
   "id": "faf6b1e9",
   "metadata": {},
   "outputs": [],
   "source": []
  }
 ],
 "metadata": {
  "kernelspec": {
   "display_name": "Python 3",
   "language": "python",
   "name": "python3"
  },
  "language_info": {
   "codemirror_mode": {
    "name": "ipython",
    "version": 3
   },
   "file_extension": ".py",
   "mimetype": "text/x-python",
   "name": "python",
   "nbconvert_exporter": "python",
   "pygments_lexer": "ipython3",
   "version": "3.8.12"
  }
 },
 "nbformat": 4,
 "nbformat_minor": 5
}
