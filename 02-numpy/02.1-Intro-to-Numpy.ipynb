{
 "cells": [
  {
   "cell_type": "markdown",
   "id": "bdfbcacc",
   "metadata": {},
   "source": [
    "<img src=\"./assets/numpy_logo.png\" alt=\"logo\" width=\"400\"/>\n",
    "\n",
    "## Introduction to numpy\n",
    "\n",
    "NumPy stands for 'Numerical Python'. It is an open-source Python library used to perform various mathematical and scientific tasks. It contains multi-dimensional arrays and matrices, along with many high-level mathematical functions that operate on these arrays and matrices. It contains among other things:\n",
    "\n",
    "→ a powerful N-dimensional array object\n",
    "\n",
    "→ sophisticated (broadcasting) functions\n",
    "\n",
    "→ tools for integrating C/C++ and Fortran code\n",
    "\n",
    "→ useful linear algebra, Fourier transform, and random number capabilities"
   ]
  },
  {
   "cell_type": "markdown",
   "id": "85902746",
   "metadata": {},
   "source": [
    "## Installing NumPy\n",
    "When you want to work with numpy locally, you should run the following commands:\n",
    "\n",
    "You can install NumPy with:\\\n",
    "`pip install numpy`\\\n",
    "or\\\n",
    "`conda install numpy`\n",
    "\n",
    "In our case, 4Geeks have prepared all the environment in order that you can work comfortably."
   ]
  },
  {
   "cell_type": "markdown",
   "id": "58765356",
   "metadata": {},
   "source": [
    "## Why should we use NumPy?\n",
    "\n",
    "Numpy is a library to perform numerical calculation in python. We will use it mainly because it allows us to create and modify matrices, and to do operations on them with ease.\n",
    "\n",
    "NumPy is, like Pandas, Matplotlib or Scikit-Learn, one of the packages that you cannot miss when you are learning Machine Learning, mainly because this library provides a matrix data structure that has some benefits over regular Python lists. Some of these benefits are: being more compact, quicker access to reading and writing articles, being more convenient and more efficient.\n",
    "\n",
    "For example, we will see later in the bootcamp that working with images means dealing with three-dimensional matrices as large as 3840 x 2160, which means we will have 3×3840×2160 = 24883200 entries!!! 😱😱😱.\n",
    "\n",
    "Working with matrices of that magnitude is practically impossible to carry out with lists and dictionaries if one wants to have an efficient and fast programming."
   ]
  },
  {
   "cell_type": "markdown",
   "id": "c4e52ee5",
   "metadata": {},
   "source": [
    "#### Exercise: Import the numpy package under the name `np` (★☆☆)\n",
    "\n",
    "`numpy` is commonly imported as `np` so we highly recommend to put this alias."
   ]
  },
  {
   "cell_type": "code",
   "execution_count": 1,
   "id": "ea3038d9",
   "metadata": {},
   "outputs": [],
   "source": [
    "import numpy as np"
   ]
  },
  {
   "cell_type": "markdown",
   "id": "40631cd6",
   "metadata": {},
   "source": [
    "## What is an array and why it is importante for machine learning?\n",
    "\n",
    "An array is a data structure consisting of a collection of elements (values or variables), each identified by at least one array index or key.\n"
   ]
  },
  {
   "cell_type": "markdown",
   "id": "ce969254",
   "metadata": {},
   "source": [
    "![alt text](assets/1D.png \"1D\")"
   ]
  },
  {
   "cell_type": "markdown",
   "id": "735d02e2",
   "metadata": {},
   "source": [
    "We can have arrays from several dimension. Neural networks sometimes deal with 4D arrays. An array is known as the central data structure of the NumPy library. Array in NumPy is called as NumPy Array. Later, we will use also other kind of arrays thar are called: Tensors."
   ]
  },
  {
   "cell_type": "markdown",
   "id": "a20ce3a4",
   "metadata": {},
   "source": [
    "![alt text](./assets/3D.png \"3D\")"
   ]
  },
  {
   "cell_type": "markdown",
   "id": "46950f4f",
   "metadata": {},
   "source": [
    "#### Exercise: Print the numpy version and the configuration (★☆☆)\n",
    "\n",
    "You can print the version of any package of Python using `name_of_package.__version__`"
   ]
  },
  {
   "cell_type": "code",
   "execution_count": 2,
   "id": "2a9f5838",
   "metadata": {},
   "outputs": [
    {
     "name": "stdout",
     "output_type": "stream",
     "text": [
      "1.22.1\n"
     ]
    }
   ],
   "source": [
    "import numpy as np\n",
    "print(np.__version__)"
   ]
  },
  {
   "cell_type": "markdown",
   "id": "e3c20b3d",
   "metadata": {},
   "source": [
    "#### Exercise: Create a null vector of size 10 (★☆☆)\n",
    "\n",
    "A `null vector` is an array of zeros (`0`), also called `inicializacion vector`.\n",
    "\n",
    "Check de function `np.zeros` (https://numpy.org/doc/stable/reference/generated/numpy.zeros.html)"
   ]
  },
  {
   "cell_type": "code",
   "execution_count": 3,
   "id": "8a758bcf",
   "metadata": {},
   "outputs": [
    {
     "data": {
      "text/plain": [
       "array([0., 0., 0., 0., 0., 0., 0., 0., 0., 0.])"
      ]
     },
     "execution_count": 3,
     "metadata": {},
     "output_type": "execute_result"
    }
   ],
   "source": [
    "np.zeros(10)"
   ]
  },
  {
   "cell_type": "markdown",
   "id": "6cbe7954",
   "metadata": {},
   "source": [
    "#### Exercise: Create a vector of ones with size 10 (★☆☆)\n",
    "Check de function `np.ones` (https://numpy.org/doc/stable/reference/generated/numpy.ones.html)"
   ]
  },
  {
   "cell_type": "code",
   "execution_count": 4,
   "id": "86477874",
   "metadata": {},
   "outputs": [
    {
     "data": {
      "text/plain": [
       "array([1., 1., 1., 1., 1., 1., 1., 1., 1., 1.])"
      ]
     },
     "execution_count": 4,
     "metadata": {},
     "output_type": "execute_result"
    }
   ],
   "source": [
    "np.ones(10)"
   ]
  },
  {
   "cell_type": "markdown",
   "id": "0a708990",
   "metadata": {},
   "source": [
    "#### Exercise: Create an 1D array with specific start value, end value and number of values (★☆☆)\n",
    "\n",
    "Check the function `np.linspace` (https://numpy.org/doc/stable/reference/generated/numpy.linspace.html)"
   ]
  },
  {
   "cell_type": "code",
   "execution_count": 5,
   "id": "477e01f4",
   "metadata": {},
   "outputs": [
    {
     "data": {
      "text/plain": [
       "array([0.        , 0.11111111, 0.22222222, 0.33333333, 0.44444444,\n",
       "       0.55555556, 0.66666667, 0.77777778, 0.88888889, 1.        ])"
      ]
     },
     "execution_count": 5,
     "metadata": {},
     "output_type": "execute_result"
    }
   ],
   "source": [
    "np.linspace(0,1,10)"
   ]
  },
  {
   "cell_type": "markdown",
   "id": "782d4c77",
   "metadata": {},
   "source": [
    "#### Run: Create a vector (1D array) with random integers from 10 to 49 and dimension 1x35 (★☆☆)\n",
    "\n",
    "When `dimension` is expressed `1x35` it means: One dimension array with 35 items (length=35).\n",
    "\n",
    "Check the function `np.random` which allows you to create random arrays (https://numpy.org/doc/1.16/reference/routines.random.html)"
   ]
  },
  {
   "cell_type": "code",
   "execution_count": 6,
   "id": "5dbe1a08",
   "metadata": {},
   "outputs": [
    {
     "name": "stdout",
     "output_type": "stream",
     "text": [
      "[0.0354507  0.73058862 0.80340723 0.01494075 0.25001978 0.81669266\n",
      " 0.93658349 0.36853857 0.71214941 0.7459252 ]\n",
      "[36.35754046 26.21027753 39.57816061 46.03096587 36.67197929 43.01820236\n",
      " 30.84383263 23.97848882 14.09871519 38.03512818 20.1168376  38.25697938\n",
      " 22.78351345 39.87752892 21.51521997 41.0420534  25.42529406 16.30594451\n",
      " 47.02055077 10.18991486 11.00878978 16.11902162 42.66019437 35.69109008\n",
      " 16.0380205  22.97956791 17.75173537 45.74367083 32.65209886 13.59323107\n",
      " 26.00814866 48.25244839 47.60890554 44.74373587 12.97261025]\n"
     ]
    }
   ],
   "source": [
    "import numpy as np\n",
    "\n",
    "## 10 random numbers between (0, 1)\n",
    "print(np.random.random(10))\n",
    "## 35 random numbers between (10, 49)\n",
    "print(np.random.random(35)*39 + 10)  "
   ]
  },
  {
   "cell_type": "code",
   "execution_count": 7,
   "id": "a9354456",
   "metadata": {},
   "outputs": [
    {
     "name": "stdout",
     "output_type": "stream",
     "text": [
      "[0.99551518 0.30684401 0.8401608  0.85400645 0.58672324 0.50504516\n",
      " 0.16199135 0.75063022 0.32601931 0.23905945]\n",
      "[ 0.43043017 -0.28828383 -0.46827817 -0.65199973 -1.12248233  0.75103147\n",
      "  0.13192846  0.17749164 -1.22785192 -0.6025981 ]\n"
     ]
    }
   ],
   "source": [
    "## Two ways to create numbers with normal distribution\n",
    "print(np.random.rand(10)) # 10 random values with distribution N(0,1)\n",
    "print(np.random.normal(loc = 0, scale = 1, size = 10)) # 10 random values with distribution N(0,1)"
   ]
  },
  {
   "cell_type": "code",
   "execution_count": 8,
   "id": "73ed6271",
   "metadata": {},
   "outputs": [
    {
     "name": "stdout",
     "output_type": "stream",
     "text": [
      "[-68.55826538  17.98278988  68.82914787  26.93217496 -26.90459217\n",
      " -25.76231318 -27.54448047 -31.38371203 -11.74900771 -18.51677532]\n"
     ]
    }
   ],
   "source": [
    "## Did you notice the difference between both functions? \n",
    "print(np.random.normal(loc = -5, scale = 33, size = 10)) # 10 random values with distribution N(-5,33)"
   ]
  },
  {
   "cell_type": "code",
   "execution_count": 9,
   "id": "49ae7a5a",
   "metadata": {},
   "outputs": [
    {
     "name": "stdout",
     "output_type": "stream",
     "text": [
      "[82.0852109  48.18402791 65.37640033  7.21343271  5.64671773 66.63816735\n",
      " -5.5746894  21.82783814 56.19797336 90.11312297]\n"
     ]
    }
   ],
   "source": [
    "## 10 random values with uniform distribution. That is, all values have the same probability\n",
    "print(np.random.uniform(-30,100,10)) # All values are between -30 and 100."
   ]
  },
  {
   "cell_type": "code",
   "execution_count": 10,
   "id": "f78e72cb",
   "metadata": {},
   "outputs": [
    {
     "name": "stdout",
     "output_type": "stream",
     "text": [
      "[85 36 87 41 60 66 36 56 13 13]\n"
     ]
    }
   ],
   "source": [
    "# 10 integers values between 0 and 100.\n",
    "print(np.random.randint(0, 100, 10))"
   ]
  },
  {
   "cell_type": "code",
   "execution_count": 11,
   "id": "db278431",
   "metadata": {},
   "outputs": [
    {
     "name": "stdout",
     "output_type": "stream",
     "text": [
      "[12.93955114  1.90654558  3.67375021  4.6533566  10.65364215  6.25261596\n",
      "  1.93676466  7.76315935  6.43206403  3.15487479]\n"
     ]
    }
   ],
   "source": [
    "# 10 random values with Chi distribution with 5 degrees of freedom\n",
    "print(np.random.chisquare(5,10))"
   ]
  },
  {
   "cell_type": "markdown",
   "id": "1b7841da",
   "metadata": {},
   "source": [
    "The above examples are the most common distribution and random values you will learn throughout the bootcamp. Now, let's deal with those arrays."
   ]
  },
  {
   "cell_type": "markdown",
   "id": "48d48f01",
   "metadata": {},
   "source": [
    "#### Exercise: Reverse one of the last vector we created before (first element becomes last) (★☆☆)\n",
    "Try with `[::-1]`"
   ]
  },
  {
   "cell_type": "code",
   "execution_count": 12,
   "id": "3ed233e7",
   "metadata": {},
   "outputs": [
    {
     "name": "stdout",
     "output_type": "stream",
     "text": [
      "[76 70 83 69 71 45 19 56 76 19]\n",
      "[19 76 56 19 45 71 69 83 70 76]\n"
     ]
    }
   ],
   "source": [
    "rand_int_vect = np.random.randint(0, 100, 10)\n",
    "print(rand_int_vect)\n",
    "print(rand_int_vect[::-1])"
   ]
  },
  {
   "cell_type": "markdown",
   "id": "4fa39382",
   "metadata": {},
   "source": [
    "#### Exercise: Create a 5x5 identidy matrix (★☆☆)\n",
    "Check the function `np.eye`(https://numpy.org/devdocs/reference/generated/numpy.eye.html)"
   ]
  },
  {
   "cell_type": "code",
   "execution_count": 13,
   "id": "c97757ec",
   "metadata": {},
   "outputs": [
    {
     "name": "stdout",
     "output_type": "stream",
     "text": [
      "[[1. 0. 0. 0. 0.]\n",
      " [0. 1. 0. 0. 0.]\n",
      " [0. 0. 1. 0. 0.]\n",
      " [0. 0. 0. 1. 0.]\n",
      " [0. 0. 0. 0. 1.]]\n"
     ]
    }
   ],
   "source": [
    "print(np.eye(5))"
   ]
  },
  {
   "cell_type": "markdown",
   "id": "da64551a",
   "metadata": {},
   "source": [
    "#### Exercise: Find indices of non-zero elements from [1,2,0,0,4,0] (★☆☆)\n",
    "Check the function `where`(https://numpy.org/devdocs/reference/generated/numpy.where.html)"
   ]
  },
  {
   "cell_type": "code",
   "execution_count": 14,
   "id": "327f7adb",
   "metadata": {},
   "outputs": [
    {
     "name": "stdout",
     "output_type": "stream",
     "text": [
      "[0 1 4]\n"
     ]
    }
   ],
   "source": [
    "print(np.where(np.array([1,2,0,0,4,0]) != 0)[0])"
   ]
  },
  {
   "cell_type": "markdown",
   "id": "13c5928c",
   "metadata": {},
   "source": [
    "#### Exercise: Create a 10x10 array with random values and find the minimum and maximum values (★☆☆)\n",
    "Check the function `min`(https://numpy.org/devdocs/reference/generated/numpy.where.html) and `max`(https://numpy.org/devdocs/reference/generated/numpy.max.html)"
   ]
  },
  {
   "cell_type": "code",
   "execution_count": 15,
   "id": "911c9b93",
   "metadata": {},
   "outputs": [
    {
     "name": "stdout",
     "output_type": "stream",
     "text": [
      "0.003912203278310322\n",
      "0.997944990214451\n"
     ]
    }
   ],
   "source": [
    "arr_10_by_10 = np.random.random((10,10))\n",
    "print(arr_10_by_10.min())\n",
    "print(arr_10_by_10.max())"
   ]
  },
  {
   "cell_type": "markdown",
   "id": "3fa2e461",
   "metadata": {},
   "source": [
    "#### Exercise: Create a random vector of size 30 and find the mean value (★☆☆)"
   ]
  },
  {
   "cell_type": "code",
   "execution_count": 16,
   "id": "323eb38a",
   "metadata": {},
   "outputs": [
    {
     "name": "stdout",
     "output_type": "stream",
     "text": [
      "0.4931229222717765\n"
     ]
    }
   ],
   "source": [
    "print(np.random.random(30).mean())"
   ]
  },
  {
   "cell_type": "markdown",
   "id": "961f074f",
   "metadata": {},
   "source": [
    "#### Exercise: Define a function with input your date of birth (yyyy/mm/dd) that returns a random array with the following dimensions: (★★☆)\n",
    "$$yyyy-1900 \\times |mm - dd|$$"
   ]
  },
  {
   "cell_type": "code",
   "execution_count": 17,
   "id": "d3f49255",
   "metadata": {},
   "outputs": [
    {
     "name": "stdout",
     "output_type": "stream",
     "text": [
      "(90, 1)\n"
     ]
    }
   ],
   "source": [
    "def birth_date(date_of_birth: str) -> np.array:\n",
    "    date = date_of_birth.split(\"/\")\n",
    "    size = (int(date[0]) - 1900, np.abs(int(date[1]) - int(date[2])))\n",
    "    return np.random.random(size) \n",
    "\n",
    "birthdate = input(\"enter your birthday: \")\n",
    "print(birth_date(birthdate).shape)"
   ]
  },
  {
   "cell_type": "markdown",
   "id": "ff8dbb92",
   "metadata": {},
   "source": [
    "## What is the difference between Python List and a Numpy Array?\n",
    "\n",
    "- Python list can contain elements with different data types whereas Numpy Array‘s elements are always homogeneous (same data types).\n",
    "- NumPy arrays are faster and more compact than Python lists.\n",
    "\n",
    "## Why NumPy Arrays are faster than Lists?\n",
    "\n",
    "- NumPy Array uses fixed memory to store data and less memory than Python lists.\n",
    "- Contiguous memory allocation in NumPy Arrays."
   ]
  },
  {
   "cell_type": "markdown",
   "id": "e3a7ba7f",
   "metadata": {},
   "source": [
    "#### Exercise: Convert the list `my_list = [1, 2, 3]` to numpy array (★☆☆)"
   ]
  },
  {
   "cell_type": "code",
   "execution_count": 18,
   "id": "01d8e257",
   "metadata": {},
   "outputs": [
    {
     "name": "stdout",
     "output_type": "stream",
     "text": [
      "[1, 2, 3]\n",
      "[1 2 3]\n"
     ]
    }
   ],
   "source": [
    "my_list = [1, 2, 3]\n",
    "numpy_my_list = np.array(my_list)\n",
    "print(my_list)\n",
    "print(numpy_my_list)"
   ]
  },
  {
   "cell_type": "markdown",
   "id": "6d17ab5d",
   "metadata": {},
   "source": [
    "#### Exercise: Convert the tuple `my_list = (1, 2, 3)` to numpy array (★☆☆)"
   ]
  },
  {
   "cell_type": "code",
   "execution_count": 19,
   "id": "841373cd",
   "metadata": {},
   "outputs": [
    {
     "name": "stdout",
     "output_type": "stream",
     "text": [
      "(1, 2, 3)\n",
      "[1 2 3]\n"
     ]
    }
   ],
   "source": [
    "my_list = (1, 2, 3)\n",
    "numpy_my_list = np.array(my_list)\n",
    "print(my_list)\n",
    "print(numpy_my_list)"
   ]
  },
  {
   "cell_type": "markdown",
   "id": "8837119b",
   "metadata": {},
   "source": [
    "#### Exercise: Convert the list of tuples `my_list = [(1,2,3), (4,5)]` to numpy array (★☆☆)"
   ]
  },
  {
   "cell_type": "code",
   "execution_count": 20,
   "id": "2c0d16f1",
   "metadata": {},
   "outputs": [
    {
     "name": "stdout",
     "output_type": "stream",
     "text": [
      "[(1, 2, 3), (4, 5)]\n",
      "[(1, 2, 3) (4, 5)]\n"
     ]
    }
   ],
   "source": [
    "my_list = [(1, 2, 3), (4,5)]\n",
    "numpy_my_list = np.array(my_list, dtype=np.ndarray)\n",
    "print(my_list)\n",
    "print(numpy_my_list)"
   ]
  },
  {
   "cell_type": "markdown",
   "id": "ec788c9f",
   "metadata": {},
   "source": [
    "#### Exercise: Resize a random array of dimensions 5x12 into 12x5 (★☆☆)\n",
    "Check `reshape`from `numpy`(https://numpy.org/doc/stable/reference/generated/numpy.reshape.html)"
   ]
  },
  {
   "cell_type": "code",
   "execution_count": 21,
   "id": "0a4f919f",
   "metadata": {},
   "outputs": [
    {
     "name": "stdout",
     "output_type": "stream",
     "text": [
      "(5, 12)\n",
      "(12, 5)\n"
     ]
    }
   ],
   "source": [
    "size1 = 5,12\n",
    "size2 = 12,5\n",
    "arr1 = np.random.random(size1)\n",
    "arr2 = arr1.reshape(size2)\n",
    "print(arr1.shape)\n",
    "print(arr2.shape)"
   ]
  },
  {
   "cell_type": "markdown",
   "id": "391791e0",
   "metadata": {},
   "source": [
    "#### Exercise: Create a function that normalize a 5x5 random matrix (★☆☆)\n",
    "Remember from probability (https://en.wikipedia.org/wiki/Normalization_(statistics)) that :\n",
    "$$ x_{norm} = \\frac{x - \\bar{x}}{\\sigma}$$\n"
   ]
  },
  {
   "cell_type": "code",
   "execution_count": 22,
   "id": "f6533d39",
   "metadata": {},
   "outputs": [
    {
     "name": "stdout",
     "output_type": "stream",
     "text": [
      "[[ 0.26206524 -0.93722089 -0.20302179 -0.27350592  1.04760971]\n",
      " [-1.47358015 -1.08576979 -0.52128582  0.52943607  1.57356964]\n",
      " [-0.78792821  1.37552727 -0.551378   -1.21116913  0.74809006]\n",
      " [ 1.38458861 -0.57477121  0.04469699  1.28271305 -0.46337531]\n",
      " [ 1.43651497 -1.44785493 -0.57740816  1.42106884 -0.99761114]]\n"
     ]
    }
   ],
   "source": [
    "arr_to_normalize = np.random.random((5,5))\n",
    "arr_normalized = (arr_to_normalize - arr_to_normalize.mean()) / arr_to_normalize.std()\n",
    "print(arr_normalized)"
   ]
  },
  {
   "cell_type": "markdown",
   "id": "d2d143f1",
   "metadata": {},
   "source": [
    "## Stacking numpy arrays\n",
    "\n",
    "Stacking is used to join a sequence of same dimension arrays along a new axis.\n",
    "`numpy.stack(arrays,axis)` : It returns a stacked array of the input arrays which has one more dimension than the input arrays.\n",
    "\n",
    "### You have two ways to do it:\n",
    "\n",
    "\n",
    "![alt text](./assets/stack.jpeg \"stack\")\n",
    "\n",
    "\n",
    "### or\n",
    "\n",
    "\n",
    "![alt text](./assets/stack2.jpeg \"stack\")\n",
    "\n",
    "\n"
   ]
  },
  {
   "cell_type": "markdown",
   "id": "1e74d39e",
   "metadata": {},
   "source": [
    "#### Exercise: Generate two random arrays with integers and apply the stacking using `stack` (★★☆)"
   ]
  },
  {
   "cell_type": "code",
   "execution_count": 23,
   "id": "3f639d33",
   "metadata": {},
   "outputs": [
    {
     "name": "stdout",
     "output_type": "stream",
     "text": [
      "[[7 7]\n",
      " [6 3]]\n",
      "\n",
      "[[6 5]\n",
      " [8 3]]\n",
      "\n",
      "[[[7 7]\n",
      "  [6 3]]\n",
      "\n",
      " [[6 5]\n",
      "  [8 3]]]\n"
     ]
    }
   ],
   "source": [
    "arr_1 = np.random.randint(0, 10, (2,2))\n",
    "arr_2 = np.random.randint(0, 10, (2,2))\n",
    "print(arr_1)\n",
    "print()\n",
    "print(arr_2)\n",
    "print()\n",
    "print(np.stack((arr_1, arr_2)))"
   ]
  },
  {
   "cell_type": "markdown",
   "id": "78250c14",
   "metadata": {},
   "source": [
    "#### Exercise: Generate two random arrays with integers and apply the stacking using `hstack` and `vstack` (★★☆)"
   ]
  },
  {
   "cell_type": "code",
   "execution_count": 24,
   "id": "9fe729cb",
   "metadata": {},
   "outputs": [
    {
     "name": "stdout",
     "output_type": "stream",
     "text": [
      "[[7 5]\n",
      " [9 2]]\n",
      "\n",
      "[[7 9]\n",
      " [2 4]]\n",
      "\n",
      "[[7 5 7 9]\n",
      " [9 2 2 4]]\n",
      "\n",
      "[[7 5]\n",
      " [9 2]\n",
      " [7 9]\n",
      " [2 4]]\n"
     ]
    }
   ],
   "source": [
    "arr_1 = np.random.randint(0, 10, (2,2))\n",
    "arr_2 = np.random.randint(0, 10, (2,2))\n",
    "print(arr_1)\n",
    "print()\n",
    "print(arr_2)\n",
    "print()\n",
    "print(np.hstack((arr_1, arr_2)))\n",
    "print()\n",
    "print(np.vstack((arr_1, arr_2)))"
   ]
  },
  {
   "cell_type": "markdown",
   "id": "51898680",
   "metadata": {},
   "source": [
    "## Basic maths in numpy\n",
    "\n",
    "You can make typical math operations like:\n",
    "\n",
    "- Addition,Subtraction,Multiplication and Division between two arrays using numpy.\n",
    "- Operation on array using sum() & cumsum() function.\n",
    "- Minimum and Maximum value from an array\n",
    "- Exponent/Power , Square Root and Cube Root functions\n",
    "\n",
    "or even apply common trigonometric functions:\n",
    "\n",
    "- `numpy.sin()`:  Sine (x) Function\n",
    "- `numpy.cos()`: Cosine(x) Function\n",
    "- `numpy.tan()`: Tangent(x)Function\n",
    "- `numpy.sinh()`: Hyperbolic Sine (x) Function\n",
    "- `numpy.cosh()`: Hyperbolic Cosine(x) Functionv\n",
    "- `numpy.tanh()`: Hyperbolic Tangent(x)Function\n",
    "- `numpy.arcsin()`: Inverse Sine Function\n",
    "- `numpy.arccos()`: Inverse Cosine Function\n",
    "- `numpy.arctan()`: Inverse Tangent Function\n",
    "- `numpy.pi`: pi value\n",
    "- `numpy.hypot(w,h)`: For calculating Hypotenuse $c = \\sqrt{(w^2 + h^2)}$\n",
    "- `numpy.rad2deg()`: Radians to degrees\n",
    "- `numpy.deg2rad()`: Degrees to radians"
   ]
  },
  {
   "cell_type": "markdown",
   "id": "89e78048",
   "metadata": {},
   "source": [
    "#### Exercise: Generate two random 8 - dimensional vectors and apply the most common operation between vectors:  addition, substraction, multiplication, division(★☆☆)\n",
    "\n",
    "Check the math functions here: https://numpy.org/doc/stable/reference/routines.math.html"
   ]
  },
  {
   "cell_type": "code",
   "execution_count": 25,
   "id": "b62e9d1c",
   "metadata": {},
   "outputs": [
    {
     "name": "stdout",
     "output_type": "stream",
     "text": [
      "[0.63988405 1.02020287 1.27540614 0.54063102 1.15049569 1.14760029\n",
      " 0.15681581 0.93985285]\n",
      "[ 0.29405244 -0.11174437 -0.6775999   0.42013457  0.08401265 -0.20922317\n",
      " -0.14569876  0.09000385]\n",
      "[0.08074619 0.25708177 0.2918798  0.02894221 0.32914555 0.31830302\n",
      " 0.00084077 0.21880567]\n",
      "[2.70055265 0.80256258 0.30609544 7.97339307 1.15755084 0.69159853\n",
      " 0.03674881 1.21181138]\n"
     ]
    }
   ],
   "source": [
    "vect_1 = np.random.random(8)\n",
    "vect_2 = np.random.random(8)\n",
    "\n",
    "print(vect_1 + vect_2)\n",
    "print(vect_1 - vect_2)\n",
    "print(vect_1 * vect_2)\n",
    "print(vect_1 / vect_2)"
   ]
  },
  {
   "cell_type": "markdown",
   "id": "ebd10810",
   "metadata": {},
   "source": [
    "#### Exercise: Generate two random matrices with dimensions between 5 and 10, e.g. 5x7 vs 8x9 and try. Were you able to do the matrix multiplication? why? (★★☆) "
   ]
  },
  {
   "cell_type": "code",
   "execution_count": 26,
   "id": "6ada209f",
   "metadata": {},
   "outputs": [],
   "source": [
    "matrix_1 = np.random.random((np.random.randint(5,10), np.random.randint(5,10)))\n",
    "matrix_2 = np.random.random((np.random.randint(5,10), np.random.randint(5,10)))\n",
    "\n",
    "\n",
    "#print(matrix_1 * matrix_2) #ValueError: operands could not be broadcast together with shapes (9,7) (6,5) "
   ]
  },
  {
   "cell_type": "markdown",
   "id": "c0e940f8",
   "metadata": {},
   "source": [
    "#### Exercise: Given 2 numpy arrays as matrices, output the result of multiplying the 2 matrices (as a numpy array) Were you able to do the matrix multiplication? (★★☆) \n",
    "\n",
    "$$ a = \\left(\\begin{matrix}\n",
    "0 & 1 & 2\\\\ \n",
    "3 & 4 & 5\\\\ \n",
    "6 & 7 & 8\n",
    "\\end{matrix}\\right)$$\n",
    "\n",
    "$$ b = \\left(\\begin{matrix}\n",
    "2 & 3 & 4\\\\ \n",
    "5 & 6 & 7\\\\ \n",
    "8 & 9 & 10\n",
    "\\end{matrix}\\right)$$\n",
    "\n",
    "\n"
   ]
  },
  {
   "cell_type": "code",
   "execution_count": 27,
   "id": "820dc7a5",
   "metadata": {},
   "outputs": [
    {
     "name": "stdout",
     "output_type": "stream",
     "text": [
      "[[0. 1. 2.]\n",
      " [3. 4. 5.]\n",
      " [6. 7. 8.]]\n",
      "[[ 2.  3.  4.]\n",
      " [ 5.  6.  7.]\n",
      " [ 8.  9. 10.]]\n",
      "[[ 0.  3.  8.]\n",
      " [15. 24. 35.]\n",
      " [48. 63. 80.]]\n"
     ]
    }
   ],
   "source": [
    "a = np.linspace(0, 8, 9).reshape((3,3))\n",
    "b = np.linspace(2, 10, 9).reshape((3,3))\n",
    "print(a)\n",
    "print(b)\n",
    "print(a * b)"
   ]
  },
  {
   "cell_type": "markdown",
   "id": "22713c3f",
   "metadata": {},
   "source": [
    "#### Exercise: Multiply a 5x3 matrix by a 3x2 matrix (real matrix product) (★★☆)"
   ]
  },
  {
   "cell_type": "code",
   "execution_count": 28,
   "id": "a3e05c29",
   "metadata": {},
   "outputs": [
    {
     "name": "stdout",
     "output_type": "stream",
     "text": [
      "[[0.41992641 0.99767641]\n",
      " [0.64275001 0.77766174]\n",
      " [0.17189701 0.20581045]\n",
      " [0.59821238 0.96304079]\n",
      " [0.27722084 0.76427032]]\n"
     ]
    }
   ],
   "source": [
    "matrix_1 = np.random.random((5, 3))\n",
    "matrix_2 = np.random.random((3, 2))\n",
    "\n",
    "print(np.dot(matrix_1, matrix_2))"
   ]
  },
  {
   "cell_type": "markdown",
   "id": "4815930e",
   "metadata": {},
   "source": [
    "## Data types\n",
    "\n",
    "Do you think the following preposition is true?\n",
    "`8==8`\n",
    "\n",
    "Surely you will definetely say yes, which is true mathematically, but computationally it is not always the same, at least in terms of memory. For example, run the following cell:"
   ]
  },
  {
   "cell_type": "code",
   "execution_count": 29,
   "id": "cd81c3c6",
   "metadata": {},
   "outputs": [
    {
     "name": "stdout",
     "output_type": "stream",
     "text": [
      "int64: 104\n",
      "int8: 97\n",
      "float32: 100\n"
     ]
    }
   ],
   "source": [
    "import sys\n",
    "\n",
    "# int64\n",
    "x = np.array(123)\n",
    "print(\"int64: \" + str(sys.getsizeof(x)))\n",
    "\n",
    "# int8\n",
    "x = np.array(123,dtype=np.int8)\n",
    "print(\"int8: \" + str(sys.getsizeof(x)))\n",
    "\n",
    "# float32\n",
    "x = np.array(123,dtype=np.float32)\n",
    "print(\"float32: \" + str(sys.getsizeof(x)))"
   ]
  },
  {
   "cell_type": "markdown",
   "id": "8e34f294",
   "metadata": {},
   "source": [
    "## It turns out that there are many computational representation of the same number and you can create arrays with different Data Types (dtypes) depending what you need:\n",
    "\n",
    "- Boolean : `np.bool_`\n",
    "- Char : `np.byte`\n",
    "- Short : `np.short`\n",
    "- Integer : `np.short`\n",
    "- Long : `np.int_`\n",
    "- Float : `np.single`&np.float32`\n",
    "- Double :`np.double`&`np.float64`\n",
    "- `np.int8`: integer (-128 to 127)\n",
    "- `np.int16`:integer( -32768 to 32767)\n",
    "- `np.int32`: integer(-2147483648 to 2147483647)\n",
    "- `np.int64`:integer( -9223372036854775808 to 9223372036854775807)\n",
    "\n",
    "\n",
    "Sometimes, you will need to load, create or export arrays from different data types.\n"
   ]
  },
  {
   "cell_type": "code",
   "execution_count": null,
   "id": "890bde78",
   "metadata": {},
   "outputs": [],
   "source": []
  },
  {
   "cell_type": "markdown",
   "id": "f1ae2c2d",
   "metadata": {},
   "source": [
    "## Harder exercises\n",
    "\n",
    "The next exercises are related with real situations you could face while you are working in data science and machine learning and we will be frequently talking about matrices and bidimensional arrays."
   ]
  },
  {
   "cell_type": "markdown",
   "id": "759c9c8d",
   "metadata": {},
   "source": [
    "#### Exercise: Subtract the mean of each row of a matrix (★★☆)"
   ]
  },
  {
   "cell_type": "code",
   "execution_count": 30,
   "id": "6801c73d",
   "metadata": {},
   "outputs": [
    {
     "name": "stdout",
     "output_type": "stream",
     "text": [
      "Original matrix:\n",
      "\n",
      "[[0.71189443 0.41860722 0.5378022  0.7012617  0.10403333 0.30537157\n",
      "  0.45553436 0.27871    0.72688948 0.05144641]\n",
      " [0.12387409 0.42769069 0.3018106  0.8042094  0.93111272 0.19247362\n",
      "  0.19398284 0.13237162 0.894996   0.15732187]\n",
      " [0.13700133 0.43536869 0.50386553 0.80028273 0.6712112  0.81659511\n",
      "  0.36805158 0.46761923 0.56951425 0.44978445]]\n",
      "\n",
      "Subtract the mean of each row of the said matrix:\n",
      "\n",
      "[[ 0.28273936 -0.01054785  0.10864712  0.27210663 -0.32512174 -0.1237835\n",
      "   0.02637929 -0.15044507  0.29773441 -0.37770866]\n",
      " [-0.29211025  0.01170635 -0.11417375  0.38822506  0.51512838 -0.22351073\n",
      "  -0.22200151 -0.28361272  0.47901165 -0.25866247]\n",
      " [-0.38492808 -0.08656072 -0.01806388  0.27835332  0.14928179  0.2946657\n",
      "  -0.15387783 -0.05431018  0.04758485 -0.07214496]]\n",
      "\n",
      "Subtract the mean of each column of the said matrix:\n",
      "\n",
      "[[ 0.38763782 -0.00861498  0.08997609 -0.06732291 -0.46475242 -0.13277519\n",
      "   0.11634477 -0.01419029 -0.0035771  -0.16807117]\n",
      " [-0.20038252  0.00046849 -0.14601551  0.03562479  0.36232697 -0.24567315\n",
      "  -0.14520675 -0.16052866  0.16452942 -0.0621957 ]\n",
      " [-0.18725529  0.00814649  0.05603942  0.03169812  0.10242544  0.37844834\n",
      "   0.02886199  0.17471894 -0.16095232  0.23026687]]\n"
     ]
    }
   ],
   "source": [
    "print(\"Original matrix:\\n\")\n",
    "X = np.random.rand(3, 10)\n",
    "print(X)\n",
    "print(\"\\nSubtract the mean of each row of the said matrix:\\n\")\n",
    "Y = X - X.mean(axis=1, keepdims=True)\n",
    "print(Y)\n",
    "print(\"\\nSubtract the mean of each column of the said matrix:\\n\")\n",
    "Z = X - X.mean(axis=0, keepdims=True)\n",
    "print(Z)"
   ]
  },
  {
   "cell_type": "markdown",
   "id": "129c342d",
   "metadata": {},
   "source": [
    "#### Exercise: How to get the dates of yesterday, today and tomorrow? (★★☆)\n",
    "Check `np.datetime64`, `np.timedelta64` in numpy (https://numpy.org/doc/stable/reference/arrays.datetime.html)"
   ]
  },
  {
   "cell_type": "code",
   "execution_count": 31,
   "id": "8ba1badb",
   "metadata": {},
   "outputs": [
    {
     "name": "stdout",
     "output_type": "stream",
     "text": [
      "today 2022-01-19\n",
      "yesterday 2022-01-18\n",
      "tomorrow 2022-01-20\n"
     ]
    }
   ],
   "source": [
    "today = np.datetime64('today', 'D')\n",
    "yesterday = today - np.timedelta64(1, 'D')\n",
    "tomorrow = today + np.timedelta64(1, 'D')\n",
    "\n",
    "print(\"today\", today)\n",
    "print(\"yesterday\", yesterday)\n",
    "print(\"tomorrow\", tomorrow)"
   ]
  },
  {
   "cell_type": "markdown",
   "id": "42f8b2f9",
   "metadata": {},
   "source": [
    "#### Exercise: How to get all the dates corresponding to the month of December 2022? (★★☆)\n",
    "Combine `arange`with `datetime`\n"
   ]
  },
  {
   "cell_type": "code",
   "execution_count": 32,
   "id": "eb8ebe45",
   "metadata": {},
   "outputs": [
    {
     "name": "stdout",
     "output_type": "stream",
     "text": [
      "['2022-12-01', '2022-12-02', '2022-12-03', '2022-12-04', '2022-12-05', '2022-12-06', '2022-12-07', '2022-12-08', '2022-12-09', '2022-12-10', '2022-12-11', '2022-12-12', '2022-12-13', '2022-12-14', '2022-12-15', '2022-12-16', '2022-12-17', '2022-12-18', '2022-12-19', '2022-12-20', '2022-12-21', '2022-12-22', '2022-12-23', '2022-12-24', '2022-12-25', '2022-12-26', '2022-12-27', '2022-12-28', '2022-12-29', '2022-12-30', '2022-12-31']\n",
      "['2022-12-01' '2022-12-02' '2022-12-03' '2022-12-04' '2022-12-05'\n",
      " '2022-12-06' '2022-12-07' '2022-12-08' '2022-12-09' '2022-12-10'\n",
      " '2022-12-11' '2022-12-12' '2022-12-13' '2022-12-14' '2022-12-15'\n",
      " '2022-12-16' '2022-12-17' '2022-12-18' '2022-12-19' '2022-12-20'\n",
      " '2022-12-21' '2022-12-22' '2022-12-23' '2022-12-24' '2022-12-25'\n",
      " '2022-12-26' '2022-12-27' '2022-12-28' '2022-12-29' '2022-12-30'\n",
      " '2022-12-31']\n"
     ]
    }
   ],
   "source": [
    "all_dates_solution1 = [(np.datetime64('2022-12', 'D') + np.timedelta64(day, 'D')).astype(\"str\") for day in np.arange(31)]\n",
    "all_dates_solution2 = np.arange('2022-12', '2023-01', dtype='datetime64[D]')\n",
    "print(all_dates_solution1)\n",
    "print(all_dates_solution2)\n"
   ]
  },
  {
   "cell_type": "markdown",
   "id": "486df8ea",
   "metadata": {},
   "source": [
    "#### Exercise: Extract the integer part of a random array of positive numbers using 2 different methods (★★☆)"
   ]
  },
  {
   "cell_type": "code",
   "execution_count": 33,
   "id": "34b4fa08",
   "metadata": {},
   "outputs": [
    {
     "name": "stdout",
     "output_type": "stream",
     "text": [
      "[2 3 4 4 2 0 7 8 4 0]\n",
      "[2 3 4 4 2 0 7 8 4 0]\n"
     ]
    }
   ],
   "source": [
    "arr_random_1 = np.random.rand(10) * 10\n",
    "print(arr_random_1.astype(\"int\"))\n",
    "print(np.int64(arr_random_1))\n"
   ]
  },
  {
   "cell_type": "markdown",
   "id": "649e89f9",
   "metadata": {},
   "source": [
    "#### Exercise: Create a 5x5 matrix with row values ranging from 0 to 4 (★★☆)"
   ]
  },
  {
   "cell_type": "code",
   "execution_count": 34,
   "id": "663cc611",
   "metadata": {},
   "outputs": [
    {
     "name": "stdout",
     "output_type": "stream",
     "text": [
      "[[3 0 2 1 3]\n",
      " [2 0 2 3 0]\n",
      " [2 2 1 2 2]\n",
      " [2 3 3 0 1]\n",
      " [2 2 1 0 0]]\n"
     ]
    }
   ],
   "source": [
    "m_5x5 = np.int64(np.random.rand(5,5) * 4)\n",
    "print(m_5x5)"
   ]
  },
  {
   "cell_type": "markdown",
   "id": "3421e17f",
   "metadata": {},
   "source": [
    "#### Exercise: Consider a generator function that generates 10 integers and use it to build an array (★★☆)"
   ]
  },
  {
   "cell_type": "code",
   "execution_count": 35,
   "id": "7336b8e4",
   "metadata": {},
   "outputs": [
    {
     "name": "stdout",
     "output_type": "stream",
     "text": [
      "[0 1 2 3 4 5 6 7 8 9]\n"
     ]
    }
   ],
   "source": [
    "def generate():\n",
    "   for n in range(10):\n",
    "       yield n\n",
    "gen_arr_10int = np.fromiter(generate(),dtype=int)\n",
    "\n",
    "print(gen_arr_10int)"
   ]
  },
  {
   "cell_type": "markdown",
   "id": "483dd554",
   "metadata": {},
   "source": [
    "#### Exercise: Create a vector of size 10 with values ranging from 0 to 1, both excluded (★★☆)"
   ]
  },
  {
   "cell_type": "code",
   "execution_count": 36,
   "id": "c89b93e7",
   "metadata": {},
   "outputs": [
    {
     "name": "stdout",
     "output_type": "stream",
     "text": [
      "[0.11111111 0.22222222 0.33333333 0.44444444 0.55555556 0.66666667\n",
      " 0.77777778 0.88888889]\n"
     ]
    }
   ],
   "source": [
    "print(np.linspace(0,1,10)[1:-1])"
   ]
  },
  {
   "cell_type": "markdown",
   "id": "2d07be1c",
   "metadata": {},
   "source": [
    "#### Exercise: Create a random vector of size 10 and sort it (★★☆)"
   ]
  },
  {
   "cell_type": "code",
   "execution_count": 37,
   "id": "4f7cb3ad",
   "metadata": {},
   "outputs": [
    {
     "name": "stdout",
     "output_type": "stream",
     "text": [
      "[0.04802911 0.12303888 0.14519183 0.33526817 0.35733617 0.36201969\n",
      " 0.50166157 0.67127279 0.86503097 0.96864331]\n"
     ]
    }
   ],
   "source": [
    "print(np.sort(np.random.rand(10)))"
   ]
  },
  {
   "cell_type": "markdown",
   "id": "fe043549",
   "metadata": {},
   "source": [
    "#### Exercise: Consider two random array A and B, check if they are equal (★★☆)"
   ]
  },
  {
   "cell_type": "code",
   "execution_count": 38,
   "id": "3326a686",
   "metadata": {},
   "outputs": [
    {
     "name": "stdout",
     "output_type": "stream",
     "text": [
      "False\n",
      "[[False False False False False False False False False False]\n",
      " [False False False False False False False False False False]]\n",
      "[[False False False False False False False False False False]\n",
      " [False False False False False False False False False False]]\n",
      "[[False False False False False False False False False False]\n",
      " [False False False False False False False False False False]]\n"
     ]
    }
   ],
   "source": [
    "A = np.random.rand(2,10)\n",
    "B = np.random.rand(2,10)\n",
    "print(np.allclose(A, B))\n",
    "print(np.isclose(A, B))\n",
    "##print(np.all(A, B)) # only integer scalar arrays\n",
    "##print(np.any(A, B)) # only integer scalar arrays\n",
    "print(np.equal(A, B))\n",
    "print(A == B)\n"
   ]
  },
  {
   "cell_type": "markdown",
   "id": "2002cb03",
   "metadata": {},
   "source": [
    "#### Exercise: Consider a random 10x2 matrix representing cartesian coordinates, convert them to polar coordinates (★★★)\n",
    "Suggestion: check how to calculate the \"square of a matrix\""
   ]
  },
  {
   "cell_type": "code",
   "execution_count": 39,
   "id": "58be72bc",
   "metadata": {},
   "outputs": [
    {
     "name": "stdout",
     "output_type": "stream",
     "text": [
      "[[0.65758425 0.23473058]\n",
      " [0.9319529  0.01360885]\n",
      " [0.78488743 0.82372443]\n",
      " [0.53565051 0.2351396 ]\n",
      " [0.96812922 0.67477341]\n",
      " [0.87678383 0.88005282]\n",
      " [0.56251639 0.48230074]\n",
      " [0.69950846 0.5354584 ]\n",
      " [0.89841262 0.95372431]\n",
      " [0.40523199 0.43485244]]\n",
      "[[0.69822309 0.93205225]\n",
      " [1.13779181 0.58498897]\n",
      " [1.18008192 1.24227326]\n",
      " [0.74097145 0.88092439]\n",
      " [1.31024246 0.59439853]\n",
      " [0.34286083 0.01460147]\n",
      " [0.80953665 0.41365159]\n",
      " [0.6087009  0.78725889]\n",
      " [0.70877365 0.65333372]\n",
      " [0.815253   0.82064245]]\n"
     ]
    }
   ],
   "source": [
    "cartesian_coordinates = np.random.rand(10,2)\n",
    "print(cartesian_coordinates)\n",
    "#print(np.arctan(cartesian_coordinates[:,1]/cartesian_coordinates[:,0]).reshape(-1,1))\n",
    "#print(np.sqrt((cartesian_coordinates[:,1])**2 + (cartesian_coordinates[:,0])**2).reshape(-1,1))\n",
    "polar_coordinates = np.array([np.sqrt((cartesian_coordinates[:,0])**2 + (cartesian_coordinates[:,1])**2), np.arctan(cartesian_coordinates[:,1]/cartesian_coordinates[:,0])])\n",
    "print(polar_coordinates.reshape(10,2))\n"
   ]
  },
  {
   "cell_type": "markdown",
   "id": "b7109c9f",
   "metadata": {},
   "source": [
    "#### Exercise: Create random vector of size 10 and replace the maximum value by 0 (★★☆)"
   ]
  },
  {
   "cell_type": "code",
   "execution_count": 40,
   "id": "f79e79a7",
   "metadata": {},
   "outputs": [
    {
     "name": "stdout",
     "output_type": "stream",
     "text": [
      "[ 3 15 19  5  6  2 10 10 14  4]\n",
      "19\n",
      "[ 3 15  0  5  6  2 10 10 14  4]\n"
     ]
    }
   ],
   "source": [
    "rand_vect = np.random.randint(1,20,size=10)\n",
    "print(rand_vect)\n",
    "print(rand_vect.max())\n",
    "rand_vect[rand_vect == rand_vect.max()]=0\n",
    "print(rand_vect)"
   ]
  },
  {
   "cell_type": "markdown",
   "id": "fb24674c",
   "metadata": {},
   "source": [
    "#### Exercise: How to print all the values of an array? (★★☆)"
   ]
  },
  {
   "cell_type": "code",
   "execution_count": 41,
   "id": "c81f1456",
   "metadata": {},
   "outputs": [
    {
     "name": "stdout",
     "output_type": "stream",
     "text": [
      "[[ 7.81051338  4.72045391 15.73059867 17.40593905 16.82892116  9.53263297\n",
      "  19.33950657 13.15085148 15.4934064   9.3395598  20.56590276 15.0894289\n",
      "   9.42644127 15.55258271 15.94959077 12.73036856  6.16703867 14.36342597\n",
      "   5.47855807 14.54784654]\n",
      " [21.30241124 10.9258153   4.91282218  8.32590792 17.00377213 13.54676233\n",
      "  19.2346715   3.18806312 13.92173988 19.80199871 20.30215241 17.24904204\n",
      "   8.5131875   7.58710294 12.97591416 18.8960211   7.08130365 13.74581757\n",
      "  11.53626957  7.8324196 ]\n",
      " [17.6409501   9.05829758  9.79117381 14.80939403 20.59759588 22.27043549\n",
      "  21.55777128  8.06294413 22.11398955 17.59906128  9.09510414  5.53670604\n",
      "  15.52655074  8.39152008 21.22273088 14.38586865 10.92570131  7.51937366\n",
      "  15.64447885 17.52664388]\n",
      " [ 5.19730839 13.35590732 10.78639107 16.55273363 20.84749031 22.24976773\n",
      "  20.96202133  3.5123652  12.93499603 12.67152836 21.73556663 22.26356854\n",
      "  16.22477649 13.1334382  21.4244707  10.18557085  4.37182385 10.91969414\n",
      "  14.75488102  9.1979761 ]\n",
      " [13.3492071  13.60973853 14.44232954 16.8438956  21.5684482  13.97155232\n",
      "  19.00784541 10.94317179  5.69226961  9.85383466  8.29032419 17.62162375\n",
      "  16.34311074 17.133678   13.66168755  4.71088689 16.94715192  5.02704148\n",
      "   4.57472147  6.67692571]\n",
      " [15.54780199  6.38689941 11.15681266 12.33392352 22.44371918  6.09025003\n",
      "  14.49986332 13.49876353  6.20846005 14.89466515 19.26741353 13.90351917\n",
      "  19.22016746 18.56068611 18.06659527  9.18437001  3.12199537 12.21340133\n",
      "  13.86164586 20.89066392]\n",
      " [16.25366028 21.53323463 10.13640731 18.74535363 19.44890842 13.27060555\n",
      "  15.67482685 22.21132391 19.75940247 14.05587872 19.25965483  8.58046421\n",
      "  18.51759824  4.19829931 14.1464843  10.37523793 22.69957192  7.34516169\n",
      "   6.71189621 15.66568653]\n",
      " [ 8.31118385 12.88727041 12.02012588  9.03062119 11.05552776 21.16046202\n",
      "  16.01108847 16.51211288 22.11825442 10.49770485  6.05787209 18.79878212\n",
      "  19.91649106 14.52092143 18.4223063  16.88834029  6.41550811  6.22994481\n",
      "   5.82813355  4.69344456]\n",
      " [21.03433609  9.55998553  5.08623078  5.02526641 16.04105409  4.52230751\n",
      "  12.46596954  9.92495578 16.47077644 11.47920836  7.05224438 18.39391721\n",
      "  20.84480572 13.97714368 12.03989501 11.32807562 11.73688672 22.21472642\n",
      "  13.93947197 16.48631692]\n",
      " [ 5.71538511 16.24916438 14.58897033 10.69446939 12.6983892   8.03100253\n",
      "  20.86029413 12.45893815 13.53075683 11.31002781 20.62274041 18.29059704\n",
      "   9.8791662  11.07047178 16.38224465 12.3373876   6.83497775 21.76771832\n",
      "   4.9638152   7.75869777]\n",
      " [15.25603731  3.31239006 22.69501447  9.55208843  8.873951    8.45437726\n",
      "   7.96948283  4.25795494 22.1299646  21.75920034 16.57841566  4.57228979\n",
      "   3.73334389  7.02386852 22.77265315 11.83734531  8.03435498  4.38182638\n",
      "   8.31330397 12.10612333]\n",
      " [ 5.64150412 18.3889922  16.43079234 18.4733397   3.48613664 16.09171465\n",
      "  12.66993503 20.13556776  8.60298759 11.11216442 20.48772884 21.75769375\n",
      "  10.00641102 11.82021146 15.58241113  7.77598664  6.4897269   8.21330186\n",
      "   4.56966451 14.98954367]]\n",
      "[[7.81051338245604, 4.720453905466577, 15.730598674186766, 17.40593905110304, 16.828921160939302, 9.53263297057032, 19.339506573419772, 13.150851484018542, 15.49340640306958, 9.339559802281993, 20.565902759347228, 15.089428899614509, 9.426441269344963, 15.552582711361582, 15.949590769007408, 12.730368558506884, 6.167038671244498, 14.363425973154479, 5.478558067602805, 14.547846537431706], [21.302411242326013, 10.925815298319153, 4.912822175756319, 8.325907921432886, 17.003772131949624, 13.5467623298841, 19.234671500843177, 3.188063123883526, 13.921739875057945, 19.801998713148045, 20.302152406661932, 17.249042038652426, 8.513187500377255, 7.587102942403922, 12.975914160368395, 18.89602109925434, 7.081303650153596, 13.745817569188603, 11.53626956541718, 7.832419601039552], [17.640950097982692, 9.058297577429897, 9.791173810309406, 14.809394031977236, 20.59759588073011, 22.27043548818679, 21.557771275415597, 8.062944125715523, 22.11398955159379, 17.599061279039855, 9.095104139123075, 5.53670604433138, 15.526550741031459, 8.391520082986698, 21.22273087775145, 14.385868652134292, 10.92570130737105, 7.519373657393362, 15.644478853802738, 17.526643875087217], [5.197308392541157, 13.355907320098371, 10.786391072461676, 16.55273363479219, 20.84749030906186, 22.249767729708555, 20.96202133194949, 3.512365201804743, 12.934996033873366, 12.671528363329394, 21.735566625430533, 22.263568540940053, 16.224776493778787, 13.133438196429104, 21.42447069631207, 10.185570853585082, 4.371823853274869, 10.919694140212005, 14.754881024716955, 9.197976095255866], [13.349207096432716, 13.60973853382104, 14.442329538811489, 16.843895598220758, 21.568448196106864, 13.971552320730936, 19.007845411865226, 10.94317179211868, 5.692269605844821, 9.853834664019177, 8.29032419463915, 17.62162374544954, 16.34311074087279, 17.133677998633182, 13.661687552526349, 4.710886889274534, 16.9471519221717, 5.027041483961471, 4.574721471193794, 6.676925710913277], [15.54780199445107, 6.38689941025973, 11.156812662744425, 12.333923523190917, 22.44371917824087, 6.090250031224584, 14.499863318222838, 13.498763527012436, 6.208460047443362, 14.894665150582577, 19.267413531654807, 13.903519170006566, 19.22016745722625, 18.5606861060798, 18.066595274821953, 9.184370005825055, 3.1219953735365564, 12.213401332186681, 13.861645860395369, 20.890663920081757], [16.253660283486898, 21.533234632888302, 10.136407307910915, 18.745353625494417, 19.448908415855268, 13.270605545414622, 15.6748268548387, 22.21132391124577, 19.75940247170956, 14.055878718558523, 19.2596548323711, 8.580464212453439, 18.51759823643519, 4.198299314749292, 14.146484298792194, 10.375237926655503, 22.69957192372561, 7.3451616946678655, 6.7118962096120445, 15.665686527948692], [8.311183853315454, 12.887270411108673, 12.020125877313497, 9.030621192184684, 11.055527760576773, 21.160462024641685, 16.011088466966143, 16.512112880909772, 22.118254419653038, 10.497704853566585, 6.057872088397213, 18.798782117387784, 19.916491057421204, 14.520921432455387, 18.42230630227121, 16.8883402880003, 6.415508113524838, 6.229944807061247, 5.828133548274618, 4.693444556244574], [21.034336092897092, 9.559985526752392, 5.086230775692961, 5.025266405156367, 16.041054092502726, 4.522307507647223, 12.465969537979968, 9.924955779053683, 16.470776436432004, 11.479208362433727, 7.052244382321579, 18.393917206607888, 20.844805718703302, 13.97714367617056, 12.03989500524417, 11.328075618899595, 11.736886715263674, 22.214726420462945, 13.939471966000923, 16.486316921431836], [5.71538510570849, 16.249164380670425, 14.588970327959816, 10.694469393115321, 12.698389202139916, 8.031002532397615, 20.860294129134115, 12.458938154455263, 13.53075682678902, 11.310027813387848, 20.622740406552506, 18.290597036081646, 9.879166204032094, 11.07047178467178, 16.38224465295189, 12.33738760443205, 6.834977753169191, 21.7677183158935, 4.963815204939605, 7.7586977701362905], [15.256037306634365, 3.312390058940255, 22.6950144725745, 9.55208842628153, 8.873950999127866, 8.454377257275166, 7.969482832565342, 4.2579549428457115, 22.129964601989705, 21.759200340450356, 16.578415661149613, 4.572289793695356, 3.733343894368097, 7.023868521952267, 22.77265314936102, 11.837345313557822, 8.03435497868335, 4.381826379120119, 8.313303970763624, 12.10612332513532], [5.641504117916506, 18.38899219987301, 16.4307923417563, 18.47333969966382, 3.4861366396998967, 16.091714647613255, 12.669935029592015, 20.135567756793485, 8.602987593300242, 11.112164424123456, 20.487728843604195, 21.757693753434374, 10.006411023570621, 11.820211456495063, 15.582411132996185, 7.77598664298875, 6.489726899636394, 8.213301858090391, 4.569664509484605, 14.989543669738286]]\n"
     ]
    }
   ],
   "source": [
    "rand_vect = np.random.rand(12,20)*20 + 3\n",
    "\n",
    "with np.printoptions(threshold=np.inf):\n",
    "    print(rand_vect)\n",
    "print(rand_vect.tolist())"
   ]
  },
  {
   "cell_type": "markdown",
   "id": "48413134",
   "metadata": {},
   "source": [
    "#### Exercise: How to convert a float (32 bits) array into an integer (32 bits) in place?\n",
    "Check https://stackoverflow.com/a/4396247/5989906"
   ]
  },
  {
   "cell_type": "code",
   "execution_count": 42,
   "id": "5db64b6d",
   "metadata": {},
   "outputs": [
    {
     "name": "stdout",
     "output_type": "stream",
     "text": [
      "[[11 14 20 12 16 20 16 14 20 15 11  9 12  6 10  9 18 18  8  6]\n",
      " [19  5  8 14 22 17 16  3 20 21 18  6  3 15  7 18 20 14 20 12]\n",
      " [15 15 20 20  9 16  6  6  3  3 13  6 21 16  5 16 10 10  6 17]\n",
      " [11 19  9 15 18  6 15 14  7 22  3 15 21  9 17  4  8 18 17 21]\n",
      " [ 4  6 12 19 13  5 20 22 19 18 12 16 11 14  5  6 15 21 21 15]\n",
      " [ 9 13  3 13  3  4 20 21  6 17 22 15 13 13  7 21  8 22  8  8]\n",
      " [21 12  4 17 22  7 10  5 19  9  5 12 14 11 18 14 12  7  5  4]\n",
      " [15 12 18 14 15 17 16 21  5 22  9  7 11  8 12  4 15  6 16 12]\n",
      " [17 21 16 19  8  9 16 16 18 13 19 12 22 22 22 19 11  4 11  4]\n",
      " [13  8 19 18 21 16  7 19 20 19  7  3 17  3  3  6 20  4 13  5]\n",
      " [13  7 20 19 10  7 17 22 11 16 13  7 20 19 19 21  4 18 11 16]\n",
      " [ 7 19 11 22 16 12 11 10 19 12 12 10 12 16 18 20 22 10  4 17]]\n"
     ]
    }
   ],
   "source": [
    "rand_vect = np.random.rand(12,20).astype(np.float32) *20 + 3\n",
    "y = rand_vect.view('int32')\n",
    "y[:] = rand_vect\n",
    "print(y)"
   ]
  },
  {
   "cell_type": "markdown",
   "id": "215b6acc",
   "metadata": {},
   "source": [
    "#### Exercise: Subtract the mean of each row of a matrix (★★☆)"
   ]
  },
  {
   "cell_type": "code",
   "execution_count": 94,
   "id": "dd1adef4",
   "metadata": {},
   "outputs": [
    {
     "name": "stdout",
     "output_type": "stream",
     "text": [
      "[[14 13 15]\n",
      " [16  4  3]\n",
      " [12  2  1]]\n",
      "[14.          7.66666667  5.        ]\n",
      "[[ 0.         -1.          1.        ]\n",
      " [ 8.33333333 -3.66666667 -4.66666667]\n",
      " [ 7.         -3.         -4.        ]]\n",
      "[[ 0.         -1.          1.        ]\n",
      " [ 8.33333333 -3.66666667 -4.66666667]\n",
      " [ 7.         -3.         -4.        ]]\n"
     ]
    }
   ],
   "source": [
    "mtx_a = np.random.randint(1,20,size=(3,3))\n",
    "print(mtx_a)\n",
    "print(mtx_a.mean(axis=1))\n",
    "print(mtx_a - mtx_a.mean(axis=1).reshape(-1,1))\n",
    "print(mtx_a - mtx_a.mean(axis=1, keepdims=True))"
   ]
  },
  {
   "cell_type": "markdown",
   "id": "c0cf37e0",
   "metadata": {},
   "source": [
    "#### Exercise: How to sort an array by the nth column? (★★☆)"
   ]
  },
  {
   "cell_type": "code",
   "execution_count": 95,
   "id": "9336ca5f",
   "metadata": {},
   "outputs": [
    {
     "name": "stdout",
     "output_type": "stream",
     "text": [
      "[[10  3  4 15 12]\n",
      " [ 1  5 15 10 18]\n",
      " [ 1  3 16  9 19]]\n",
      "\n",
      "[[10  3  4 15 12]\n",
      " [ 1  3 16  9 19]\n",
      " [ 1  5 15 10 18]]\n",
      "\n",
      "[[10  3  4 15 12]\n",
      " [ 1  3 16  9 19]\n",
      " [ 1  5 15 10 18]]\n",
      "[[10  3  4 15 12]\n",
      " [ 1  3 16  9 19]\n",
      " [ 1  5 15 10 18]]\n",
      "[[ 1  3 16  9 19]\n",
      " [10  3  4 15 12]\n",
      " [ 1  5 15 10 18]]\n"
     ]
    }
   ],
   "source": [
    "mtx_a = np.random.randint(1,20,size=(3,5))\n",
    "print(mtx_a)\n",
    "print()\n",
    "#mtx_a = mtx_a.tolist()\n",
    "cols = [1]\n",
    "print(mtx_a[np.lexsort(mtx_a.T[cols])])\n",
    "print()\n",
    "print(mtx_a[ mtx_a[:,1].argsort()])\n",
    "print(mtx_a[ mtx_a[:,1].argsort(),:])\n",
    "mtx_a.view('i8,i8,i8,i8,i8').sort(order=['f1'], axis=0)\n",
    "print(mtx_a)\n"
   ]
  },
  {
   "cell_type": "markdown",
   "id": "c17fb213",
   "metadata": {},
   "source": [
    "#### Exercise: Find the position of a the minimum of a 2D matrix? (★★☆)"
   ]
  },
  {
   "cell_type": "code",
   "execution_count": null,
   "id": "7fdda78d",
   "metadata": {},
   "outputs": [],
   "source": []
  },
  {
   "cell_type": "markdown",
   "id": "f4427f7f",
   "metadata": {},
   "source": [
    "#### Exercise: Read an image using openCV, check its dimensions, normalize the numbers and show the image (★★★)\n",
    "Check: https://www.geeksforgeeks.org/python-opencv-cv2-imread-method/"
   ]
  },
  {
   "cell_type": "code",
   "execution_count": null,
   "id": "fe253212",
   "metadata": {},
   "outputs": [],
   "source": []
  },
  {
   "cell_type": "markdown",
   "id": "33c986d9",
   "metadata": {},
   "source": [
    "#### Exercise: Considering a four dimensions array, how to get sum over the last two axis at once? (★★★)"
   ]
  },
  {
   "cell_type": "code",
   "execution_count": null,
   "id": "a99a50e2",
   "metadata": {},
   "outputs": [],
   "source": []
  },
  {
   "cell_type": "markdown",
   "id": "928a1a15",
   "metadata": {},
   "source": [
    "#### Exercise: How to get the diagonal of a dot product? (★★★)"
   ]
  },
  {
   "cell_type": "code",
   "execution_count": null,
   "id": "ef2c9ddd",
   "metadata": {},
   "outputs": [],
   "source": []
  },
  {
   "cell_type": "markdown",
   "id": "f62551d8",
   "metadata": {},
   "source": [
    "#### Exercise: Consider an array of dimension (5,5,3), how to mulitply it by an array with dimensions (5,5)? (★★★)"
   ]
  },
  {
   "cell_type": "code",
   "execution_count": null,
   "id": "9ab241b7",
   "metadata": {},
   "outputs": [],
   "source": []
  },
  {
   "cell_type": "markdown",
   "id": "6896e326",
   "metadata": {},
   "source": [
    "#### Exercise: How to swap two rows of an array? (★★★)"
   ]
  },
  {
   "cell_type": "code",
   "execution_count": null,
   "id": "9e8fcba9",
   "metadata": {},
   "outputs": [],
   "source": []
  },
  {
   "cell_type": "markdown",
   "id": "8e83df46",
   "metadata": {},
   "source": [
    "#### Exercise: Read an image using openCV and tranpose it. What did you get exactly? Was the image rotated? Moved? Reflected with respect to an axis? (★★★)"
   ]
  },
  {
   "cell_type": "code",
   "execution_count": null,
   "id": "f73127b7",
   "metadata": {},
   "outputs": [],
   "source": []
  },
  {
   "cell_type": "markdown",
   "id": "781fa236",
   "metadata": {},
   "source": [
    "#### Exercise: Consider an array Z = [1,2,3,4,5,6,7,8,9,10,11,12,13,14], how to generate an array R = [[1,2,3,4], [2,3,4,5], [3,4,5,6], ..., [11,12,13,14]]? (★★★)"
   ]
  },
  {
   "cell_type": "code",
   "execution_count": null,
   "id": "8e84d3c2",
   "metadata": {},
   "outputs": [],
   "source": []
  },
  {
   "cell_type": "markdown",
   "id": "7d8dc135",
   "metadata": {},
   "source": [
    "#### Exercise: How to find the most frequent value in an array? (★★★)"
   ]
  },
  {
   "cell_type": "code",
   "execution_count": null,
   "id": "3978a7a2",
   "metadata": {},
   "outputs": [],
   "source": []
  },
  {
   "cell_type": "markdown",
   "id": "4c70397b",
   "metadata": {},
   "source": [
    "#### Exercise: How to get the n largest values of an array (★★★)"
   ]
  },
  {
   "cell_type": "code",
   "execution_count": null,
   "id": "16371718",
   "metadata": {},
   "outputs": [],
   "source": []
  },
  {
   "cell_type": "markdown",
   "id": "d94352b6",
   "metadata": {},
   "source": [
    "#### Exercise: Consider a large vector Z, compute Z to the power of 3 using 3 different methods (★★★)"
   ]
  },
  {
   "cell_type": "code",
   "execution_count": null,
   "id": "301ba8a8",
   "metadata": {},
   "outputs": [],
   "source": []
  },
  {
   "cell_type": "markdown",
   "id": "2784c996",
   "metadata": {},
   "source": [
    "#### Exercise: Given a two dimensional array, how to extract unique rows? (★★★)"
   ]
  },
  {
   "cell_type": "code",
   "execution_count": null,
   "id": "f030595f",
   "metadata": {},
   "outputs": [],
   "source": []
  },
  {
   "cell_type": "markdown",
   "id": "e5737276",
   "metadata": {},
   "source": [
    "#### Exercise: Can you have arrray of strings? can you mix different data types in the same array? Can you operate (add, sub, mult) arrays with different data types? (★★★)"
   ]
  },
  {
   "cell_type": "code",
   "execution_count": null,
   "id": "68c333b0",
   "metadata": {},
   "outputs": [],
   "source": []
  }
 ],
 "metadata": {
  "kernelspec": {
   "display_name": "Python 3",
   "language": "python",
   "name": "python3"
  },
  "language_info": {
   "codemirror_mode": {
    "name": "ipython",
    "version": 3
   },
   "file_extension": ".py",
   "mimetype": "text/x-python",
   "name": "python",
   "nbconvert_exporter": "python",
   "pygments_lexer": "ipython3",
   "version": "3.8.12"
  }
 },
 "nbformat": 4,
 "nbformat_minor": 5
}
