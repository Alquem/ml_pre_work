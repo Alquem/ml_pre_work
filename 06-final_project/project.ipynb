{
 "cells": [
  {
   "cell_type": "markdown",
   "id": "bdfbcacc",
   "metadata": {},
   "source": [
    "## Final project\n",
    "\n",
    "Finally, you already have all the necessary knowledge to prepare a real dataset to later train a machine learning model, which you will learn throughout the bootcamp.\n",
    "\n",
    "It is intended that you apply all the knowledge learned with the other numpy, pandas and matplotlib notebooks and even openCV that we will delve into later.\n",
    "\n",
    "Feel free to add any additional analysis that you consider necessary and that is not raised in the questions.\n"
   ]
  },
  {
   "cell_type": "markdown",
   "id": "c4e52ee5",
   "metadata": {},
   "source": [
    "## The dataset\n",
    "\n",
    "This is a real dataset and it was downloaded using web scraping techniques. The data contains registers from fotocasa which is one of the most popular websites of real estate in Spain. Please, do not do this (web scraping) unless it is for academic purposes.\n",
    "\n",
    "The dataset was downloaded a few years ago by Henry Navarro and In no case were economic returns obtained from it.\n",
    "\n",
    "It contains thousands of data from real homes published on the web www.fotocasa.com. Your goal is to extract as much information as possible with the knowledge you have so far about data science, for example what is the most expensive home in the entire dataset?\n",
    "\n",
    "Let's start with precisely that question... Good luck!\n"
   ]
  },
  {
   "cell_type": "markdown",
   "id": "dd97255d",
   "metadata": {},
   "source": [
    "#### Read the dataset real_estate.csv and try to visualize the table (★☆☆)"
   ]
  },
  {
   "cell_type": "code",
   "execution_count": 286,
   "id": "4b93d9c8",
   "metadata": {},
   "outputs": [
    {
     "data": {
      "text/html": [
       "<div>\n",
       "<style scoped>\n",
       "    .dataframe tbody tr th:only-of-type {\n",
       "        vertical-align: middle;\n",
       "    }\n",
       "\n",
       "    .dataframe tbody tr th {\n",
       "        vertical-align: top;\n",
       "    }\n",
       "\n",
       "    .dataframe thead th {\n",
       "        text-align: right;\n",
       "    }\n",
       "</style>\n",
       "<table border=\"1\" class=\"dataframe\">\n",
       "  <thead>\n",
       "    <tr style=\"text-align: right;\">\n",
       "      <th></th>\n",
       "      <th>id_realEstates</th>\n",
       "      <th>isNew</th>\n",
       "      <th>realEstate_name</th>\n",
       "      <th>phone_realEstate</th>\n",
       "      <th>url_inmueble</th>\n",
       "      <th>rooms</th>\n",
       "      <th>bathrooms</th>\n",
       "      <th>surface</th>\n",
       "      <th>price</th>\n",
       "      <th>date</th>\n",
       "      <th>...</th>\n",
       "      <th>level4Id</th>\n",
       "      <th>level5Id</th>\n",
       "      <th>level6Id</th>\n",
       "      <th>level7Id</th>\n",
       "      <th>level8Id</th>\n",
       "      <th>accuracy</th>\n",
       "      <th>latitude</th>\n",
       "      <th>longitude</th>\n",
       "      <th>zipCode</th>\n",
       "      <th>customZone</th>\n",
       "    </tr>\n",
       "  </thead>\n",
       "  <tbody>\n",
       "    <tr>\n",
       "      <th>1</th>\n",
       "      <td>153771986</td>\n",
       "      <td>False</td>\n",
       "      <td>ferrari 57 inmobiliaria</td>\n",
       "      <td>912177526.0</td>\n",
       "      <td>https://www.fotocasa.es/es/comprar/vivienda/ma...</td>\n",
       "      <td>3.0</td>\n",
       "      <td>2.0</td>\n",
       "      <td>103.0</td>\n",
       "      <td>195000</td>\n",
       "      <td>2019-12-28T18:27:15.9975027Z</td>\n",
       "      <td>...</td>\n",
       "      <td>0</td>\n",
       "      <td>0</td>\n",
       "      <td>0</td>\n",
       "      <td>0</td>\n",
       "      <td>0</td>\n",
       "      <td>0</td>\n",
       "      <td>40,2948276786438</td>\n",
       "      <td>-3,44402412135624</td>\n",
       "      <td>NaN</td>\n",
       "      <td>NaN</td>\n",
       "    </tr>\n",
       "    <tr>\n",
       "      <th>2</th>\n",
       "      <td>153867863</td>\n",
       "      <td>False</td>\n",
       "      <td>tecnocasa fuenlabrada ferrocarril</td>\n",
       "      <td>916358736.0</td>\n",
       "      <td>https://www.fotocasa.es/es/comprar/vivienda/ma...</td>\n",
       "      <td>3.0</td>\n",
       "      <td>1.0</td>\n",
       "      <td>NaN</td>\n",
       "      <td>89000</td>\n",
       "      <td>2019-12-28T18:27:15.9975027Z</td>\n",
       "      <td>...</td>\n",
       "      <td>0</td>\n",
       "      <td>0</td>\n",
       "      <td>0</td>\n",
       "      <td>0</td>\n",
       "      <td>0</td>\n",
       "      <td>1</td>\n",
       "      <td>40,28674</td>\n",
       "      <td>-3,79351</td>\n",
       "      <td>NaN</td>\n",
       "      <td>NaN</td>\n",
       "    </tr>\n",
       "    <tr>\n",
       "      <th>3</th>\n",
       "      <td>153430440</td>\n",
       "      <td>False</td>\n",
       "      <td>look find boadilla</td>\n",
       "      <td>916350408.0</td>\n",
       "      <td>https://www.fotocasa.es/es/comprar/vivienda/ma...</td>\n",
       "      <td>2.0</td>\n",
       "      <td>2.0</td>\n",
       "      <td>99.0</td>\n",
       "      <td>390000</td>\n",
       "      <td>2019-12-28T18:27:15.9975027Z</td>\n",
       "      <td>...</td>\n",
       "      <td>0</td>\n",
       "      <td>0</td>\n",
       "      <td>0</td>\n",
       "      <td>0</td>\n",
       "      <td>0</td>\n",
       "      <td>0</td>\n",
       "      <td>40,4115646786438</td>\n",
       "      <td>-3,90662252135624</td>\n",
       "      <td>NaN</td>\n",
       "      <td>NaN</td>\n",
       "    </tr>\n",
       "    <tr>\n",
       "      <th>4</th>\n",
       "      <td>152776331</td>\n",
       "      <td>False</td>\n",
       "      <td>tecnocasa fuenlabrada ferrocarril</td>\n",
       "      <td>916358736.0</td>\n",
       "      <td>https://www.fotocasa.es/es/comprar/vivienda/ma...</td>\n",
       "      <td>3.0</td>\n",
       "      <td>1.0</td>\n",
       "      <td>86.0</td>\n",
       "      <td>89000</td>\n",
       "      <td>2019-12-28T18:27:15.9975027Z</td>\n",
       "      <td>...</td>\n",
       "      <td>0</td>\n",
       "      <td>0</td>\n",
       "      <td>0</td>\n",
       "      <td>0</td>\n",
       "      <td>0</td>\n",
       "      <td>0</td>\n",
       "      <td>40,2853785786438</td>\n",
       "      <td>-3,79508142135624</td>\n",
       "      <td>NaN</td>\n",
       "      <td>NaN</td>\n",
       "    </tr>\n",
       "    <tr>\n",
       "      <th>5</th>\n",
       "      <td>153180188</td>\n",
       "      <td>False</td>\n",
       "      <td>ferrari 57 inmobiliaria</td>\n",
       "      <td>912177526.0</td>\n",
       "      <td>https://www.fotocasa.es/es/comprar/vivienda/ma...</td>\n",
       "      <td>2.0</td>\n",
       "      <td>2.0</td>\n",
       "      <td>106.0</td>\n",
       "      <td>172000</td>\n",
       "      <td>2019-12-28T18:27:15.9975027Z</td>\n",
       "      <td>...</td>\n",
       "      <td>0</td>\n",
       "      <td>0</td>\n",
       "      <td>0</td>\n",
       "      <td>0</td>\n",
       "      <td>0</td>\n",
       "      <td>0</td>\n",
       "      <td>40,2998774864376</td>\n",
       "      <td>-3,45226301356237</td>\n",
       "      <td>NaN</td>\n",
       "      <td>NaN</td>\n",
       "    </tr>\n",
       "    <tr>\n",
       "      <th>...</th>\n",
       "      <td>...</td>\n",
       "      <td>...</td>\n",
       "      <td>...</td>\n",
       "      <td>...</td>\n",
       "      <td>...</td>\n",
       "      <td>...</td>\n",
       "      <td>...</td>\n",
       "      <td>...</td>\n",
       "      <td>...</td>\n",
       "      <td>...</td>\n",
       "      <td>...</td>\n",
       "      <td>...</td>\n",
       "      <td>...</td>\n",
       "      <td>...</td>\n",
       "      <td>...</td>\n",
       "      <td>...</td>\n",
       "      <td>...</td>\n",
       "      <td>...</td>\n",
       "      <td>...</td>\n",
       "      <td>...</td>\n",
       "      <td>...</td>\n",
       "    </tr>\n",
       "    <tr>\n",
       "      <th>15331</th>\n",
       "      <td>153901377</td>\n",
       "      <td>False</td>\n",
       "      <td>infocasa consulting</td>\n",
       "      <td>911360461.0</td>\n",
       "      <td>https://www.fotocasa.es/es/comprar/vivienda/ma...</td>\n",
       "      <td>2.0</td>\n",
       "      <td>1.0</td>\n",
       "      <td>96.0</td>\n",
       "      <td>259470</td>\n",
       "      <td>2019-12-17T18:19:00Z</td>\n",
       "      <td>...</td>\n",
       "      <td>0</td>\n",
       "      <td>0</td>\n",
       "      <td>0</td>\n",
       "      <td>0</td>\n",
       "      <td>0</td>\n",
       "      <td>0</td>\n",
       "      <td>40,45416</td>\n",
       "      <td>-3,70286</td>\n",
       "      <td>NaN</td>\n",
       "      <td>NaN</td>\n",
       "    </tr>\n",
       "    <tr>\n",
       "      <th>15332</th>\n",
       "      <td>150394373</td>\n",
       "      <td>False</td>\n",
       "      <td>inmobiliaria pulpon</td>\n",
       "      <td>912788039.0</td>\n",
       "      <td>https://www.fotocasa.es/es/comprar/vivienda/ma...</td>\n",
       "      <td>3.0</td>\n",
       "      <td>1.0</td>\n",
       "      <td>150.0</td>\n",
       "      <td>165000</td>\n",
       "      <td>2019-12-17T18:19:00Z</td>\n",
       "      <td>...</td>\n",
       "      <td>0</td>\n",
       "      <td>0</td>\n",
       "      <td>0</td>\n",
       "      <td>0</td>\n",
       "      <td>0</td>\n",
       "      <td>0</td>\n",
       "      <td>40,36652</td>\n",
       "      <td>-3,48951</td>\n",
       "      <td>NaN</td>\n",
       "      <td>NaN</td>\n",
       "    </tr>\n",
       "    <tr>\n",
       "      <th>15333</th>\n",
       "      <td>153901397</td>\n",
       "      <td>False</td>\n",
       "      <td>tecnocasa torrelodones</td>\n",
       "      <td>912780348.0</td>\n",
       "      <td>https://www.fotocasa.es/es/comprar/vivienda/ma...</td>\n",
       "      <td>4.0</td>\n",
       "      <td>2.0</td>\n",
       "      <td>175.0</td>\n",
       "      <td>495000</td>\n",
       "      <td>2019-12-17T18:19:00Z</td>\n",
       "      <td>...</td>\n",
       "      <td>0</td>\n",
       "      <td>0</td>\n",
       "      <td>0</td>\n",
       "      <td>0</td>\n",
       "      <td>0</td>\n",
       "      <td>0</td>\n",
       "      <td>40,57444</td>\n",
       "      <td>-3,92124</td>\n",
       "      <td>NaN</td>\n",
       "      <td>NaN</td>\n",
       "    </tr>\n",
       "    <tr>\n",
       "      <th>15334</th>\n",
       "      <td>152607440</td>\n",
       "      <td>False</td>\n",
       "      <td>inmobiliaria pulpon</td>\n",
       "      <td>912788039.0</td>\n",
       "      <td>https://www.fotocasa.es/es/comprar/vivienda/ma...</td>\n",
       "      <td>3.0</td>\n",
       "      <td>2.0</td>\n",
       "      <td>101.0</td>\n",
       "      <td>195000</td>\n",
       "      <td>2019-12-17T18:18:00Z</td>\n",
       "      <td>...</td>\n",
       "      <td>0</td>\n",
       "      <td>0</td>\n",
       "      <td>0</td>\n",
       "      <td>0</td>\n",
       "      <td>0</td>\n",
       "      <td>0</td>\n",
       "      <td>40,36967</td>\n",
       "      <td>-3,48105</td>\n",
       "      <td>NaN</td>\n",
       "      <td>NaN</td>\n",
       "    </tr>\n",
       "    <tr>\n",
       "      <th>15335</th>\n",
       "      <td>153901356</td>\n",
       "      <td>False</td>\n",
       "      <td>infocasa consulting</td>\n",
       "      <td>911360461.0</td>\n",
       "      <td>https://www.fotocasa.es/es/comprar/vivienda/ma...</td>\n",
       "      <td>3.0</td>\n",
       "      <td>2.0</td>\n",
       "      <td>152.0</td>\n",
       "      <td>765000</td>\n",
       "      <td>2019-12-17T18:17:00Z</td>\n",
       "      <td>...</td>\n",
       "      <td>0</td>\n",
       "      <td>0</td>\n",
       "      <td>0</td>\n",
       "      <td>0</td>\n",
       "      <td>0</td>\n",
       "      <td>0</td>\n",
       "      <td>40,45773</td>\n",
       "      <td>-3,69068</td>\n",
       "      <td>NaN</td>\n",
       "      <td>NaN</td>\n",
       "    </tr>\n",
       "  </tbody>\n",
       "</table>\n",
       "<p>15335 rows × 36 columns</p>\n",
       "</div>"
      ],
      "text/plain": [
       "       id_realEstates  isNew                    realEstate_name  \\\n",
       "1           153771986  False            ferrari 57 inmobiliaria   \n",
       "2           153867863  False  tecnocasa fuenlabrada ferrocarril   \n",
       "3           153430440  False                 look find boadilla   \n",
       "4           152776331  False  tecnocasa fuenlabrada ferrocarril   \n",
       "5           153180188  False            ferrari 57 inmobiliaria   \n",
       "...               ...    ...                                ...   \n",
       "15331       153901377  False                infocasa consulting   \n",
       "15332       150394373  False                inmobiliaria pulpon   \n",
       "15333       153901397  False             tecnocasa torrelodones   \n",
       "15334       152607440  False                inmobiliaria pulpon   \n",
       "15335       153901356  False                infocasa consulting   \n",
       "\n",
       "       phone_realEstate                                       url_inmueble  \\\n",
       "1           912177526.0  https://www.fotocasa.es/es/comprar/vivienda/ma...   \n",
       "2           916358736.0  https://www.fotocasa.es/es/comprar/vivienda/ma...   \n",
       "3           916350408.0  https://www.fotocasa.es/es/comprar/vivienda/ma...   \n",
       "4           916358736.0  https://www.fotocasa.es/es/comprar/vivienda/ma...   \n",
       "5           912177526.0  https://www.fotocasa.es/es/comprar/vivienda/ma...   \n",
       "...                 ...                                                ...   \n",
       "15331       911360461.0  https://www.fotocasa.es/es/comprar/vivienda/ma...   \n",
       "15332       912788039.0  https://www.fotocasa.es/es/comprar/vivienda/ma...   \n",
       "15333       912780348.0  https://www.fotocasa.es/es/comprar/vivienda/ma...   \n",
       "15334       912788039.0  https://www.fotocasa.es/es/comprar/vivienda/ma...   \n",
       "15335       911360461.0  https://www.fotocasa.es/es/comprar/vivienda/ma...   \n",
       "\n",
       "       rooms  bathrooms  surface   price                          date  ...  \\\n",
       "1        3.0        2.0    103.0  195000  2019-12-28T18:27:15.9975027Z  ...   \n",
       "2        3.0        1.0      NaN   89000  2019-12-28T18:27:15.9975027Z  ...   \n",
       "3        2.0        2.0     99.0  390000  2019-12-28T18:27:15.9975027Z  ...   \n",
       "4        3.0        1.0     86.0   89000  2019-12-28T18:27:15.9975027Z  ...   \n",
       "5        2.0        2.0    106.0  172000  2019-12-28T18:27:15.9975027Z  ...   \n",
       "...      ...        ...      ...     ...                           ...  ...   \n",
       "15331    2.0        1.0     96.0  259470          2019-12-17T18:19:00Z  ...   \n",
       "15332    3.0        1.0    150.0  165000          2019-12-17T18:19:00Z  ...   \n",
       "15333    4.0        2.0    175.0  495000          2019-12-17T18:19:00Z  ...   \n",
       "15334    3.0        2.0    101.0  195000          2019-12-17T18:18:00Z  ...   \n",
       "15335    3.0        2.0    152.0  765000          2019-12-17T18:17:00Z  ...   \n",
       "\n",
       "      level4Id level5Id level6Id level7Id level8Id accuracy          latitude  \\\n",
       "1            0        0        0        0        0        0  40,2948276786438   \n",
       "2            0        0        0        0        0        1          40,28674   \n",
       "3            0        0        0        0        0        0  40,4115646786438   \n",
       "4            0        0        0        0        0        0  40,2853785786438   \n",
       "5            0        0        0        0        0        0  40,2998774864376   \n",
       "...        ...      ...      ...      ...      ...      ...               ...   \n",
       "15331        0        0        0        0        0        0          40,45416   \n",
       "15332        0        0        0        0        0        0          40,36652   \n",
       "15333        0        0        0        0        0        0          40,57444   \n",
       "15334        0        0        0        0        0        0          40,36967   \n",
       "15335        0        0        0        0        0        0          40,45773   \n",
       "\n",
       "               longitude zipCode customZone  \n",
       "1      -3,44402412135624     NaN        NaN  \n",
       "2               -3,79351     NaN        NaN  \n",
       "3      -3,90662252135624     NaN        NaN  \n",
       "4      -3,79508142135624     NaN        NaN  \n",
       "5      -3,45226301356237     NaN        NaN  \n",
       "...                  ...     ...        ...  \n",
       "15331           -3,70286     NaN        NaN  \n",
       "15332           -3,48951     NaN        NaN  \n",
       "15333           -3,92124     NaN        NaN  \n",
       "15334           -3,48105     NaN        NaN  \n",
       "15335           -3,69068     NaN        NaN  \n",
       "\n",
       "[15335 rows x 36 columns]"
      ]
     },
     "execution_count": 286,
     "metadata": {},
     "output_type": "execute_result"
    }
   ],
   "source": [
    "import numpy as np \n",
    "import pandas as pd\n",
    "\n",
    "df = pd.read_csv('/workspace/ml_pre_work/06-final_project/assets/real_estate.csv', sep=\";\", index_col=[0])\n",
    "df.head()\n",
    "df"
   ]
  },
  {
   "cell_type": "markdown",
   "id": "40631cd6",
   "metadata": {},
   "source": [
    "#### What is the most expensive home in the dataset? (★☆☆)"
   ]
  },
  {
   "cell_type": "code",
   "execution_count": 287,
   "id": "8a758bcf",
   "metadata": {},
   "outputs": [
    {
     "name": "stdout",
     "output_type": "stream",
     "text": [
      "8500000\n"
     ]
    }
   ],
   "source": [
    "print(df[\"price\"].max())"
   ]
  },
  {
   "cell_type": "markdown",
   "id": "0a708990",
   "metadata": {},
   "source": [
    "#### What is cheapest home in the dataset? (★☆☆)"
   ]
  },
  {
   "cell_type": "code",
   "execution_count": 288,
   "id": "477e01f4",
   "metadata": {},
   "outputs": [
    {
     "name": "stdout",
     "output_type": "stream",
     "text": [
      "0\n"
     ]
    }
   ],
   "source": [
    "print(df[\"price\"].min())"
   ]
  },
  {
   "cell_type": "markdown",
   "id": "0b16cd77",
   "metadata": {},
   "source": [
    "#### What is the biggest and the smallest home in the dataset? (★☆☆)"
   ]
  },
  {
   "cell_type": "code",
   "execution_count": 289,
   "id": "4d9b5975",
   "metadata": {},
   "outputs": [
    {
     "name": "stdout",
     "output_type": "stream",
     "text": [
      "249000.0\n",
      "15.0\n"
     ]
    }
   ],
   "source": [
    "print(df[\"surface\"].max())\n",
    "print(df[\"surface\"].min())"
   ]
  },
  {
   "cell_type": "markdown",
   "id": "782d4c77",
   "metadata": {},
   "source": [
    "#### How many populations (level5) the dataset contains? (★☆☆)"
   ]
  },
  {
   "cell_type": "code",
   "execution_count": 290,
   "id": "5dbe1a08",
   "metadata": {},
   "outputs": [
    {
     "name": "stdout",
     "output_type": "stream",
     "text": [
      "168\n"
     ]
    }
   ],
   "source": [
    "print(df[\"level5\"].value_counts().shape[0])\n"
   ]
  },
  {
   "cell_type": "markdown",
   "id": "48d48f01",
   "metadata": {},
   "source": [
    "#### Does the dataset contain NAs? (★☆☆)\n"
   ]
  },
  {
   "cell_type": "code",
   "execution_count": 291,
   "id": "3ed233e7",
   "metadata": {},
   "outputs": [
    {
     "data": {
      "text/plain": [
       "id_realEstates          0\n",
       "isNew                   0\n",
       "realEstate_name        10\n",
       "phone_realEstate      794\n",
       "url_inmueble            0\n",
       "rooms                 353\n",
       "bathrooms             345\n",
       "surface              1250\n",
       "price                   0\n",
       "date                    0\n",
       "description           142\n",
       "address                 0\n",
       "country                 0\n",
       "level1                  0\n",
       "level2                  0\n",
       "level3                  0\n",
       "level4               6643\n",
       "level5                  0\n",
       "level6              14627\n",
       "level7               2277\n",
       "level8               8579\n",
       "upperLevel              0\n",
       "countryId               0\n",
       "level1Id                0\n",
       "level2Id                0\n",
       "level3Id                0\n",
       "level4Id                0\n",
       "level5Id                0\n",
       "level6Id                0\n",
       "level7Id                0\n",
       "level8Id                0\n",
       "accuracy                0\n",
       "latitude                0\n",
       "longitude               0\n",
       "zipCode             15335\n",
       "customZone          15335\n",
       "dtype: int64"
      ]
     },
     "execution_count": 291,
     "metadata": {},
     "output_type": "execute_result"
    }
   ],
   "source": [
    "df.isna().sum() #yes"
   ]
  },
  {
   "cell_type": "markdown",
   "id": "4fa39382",
   "metadata": {},
   "source": [
    "#### Delete the NAs of the dataset, if applicable (★★☆)"
   ]
  },
  {
   "cell_type": "code",
   "execution_count": 292,
   "id": "c97757ec",
   "metadata": {},
   "outputs": [],
   "source": [
    "df.dropna(axis=1, thresh=1260, inplace=True)\n",
    "\n",
    "## deleting NAs can cause great loss of datapoints"
   ]
  },
  {
   "cell_type": "markdown",
   "id": "0e5f76de",
   "metadata": {},
   "source": [
    "#### What is the mean of prices in the population (level5) of \"Arroyomolinos (Madrid)\"? (★★☆)"
   ]
  },
  {
   "cell_type": "code",
   "execution_count": 293,
   "id": "327f7adb",
   "metadata": {},
   "outputs": [
    {
     "name": "stdout",
     "output_type": "stream",
     "text": [
      "294541.59854014596\n"
     ]
    }
   ],
   "source": [
    "#print(df[\"level5\"].value_counts())\n",
    "print(df[[\"level5\",\"price\"]][df[\"level5\"] == \"Arroyomolinos (Madrid)\"][\"price\"].mean())\n"
   ]
  },
  {
   "cell_type": "markdown",
   "id": "89b548e3",
   "metadata": {},
   "source": [
    "#### Plot the histogram of prices for the population (level5) of \"Arroyomolinos (Madrid)\" and explain what you observe (★★☆)"
   ]
  },
  {
   "cell_type": "code",
   "execution_count": 294,
   "id": "2ba51bf7",
   "metadata": {},
   "outputs": [
    {
     "data": {
      "text/plain": [
       "<AxesSubplot:>"
      ]
     },
     "execution_count": 294,
     "metadata": {},
     "output_type": "execute_result"
    },
    {
     "data": {
      "image/png": "[encoded data removed]",
      "text/plain": [
       "<Figure size 800x600 with 1 Axes>"
      ]
     },
     "metadata": {
      "needs_background": "light"
     },
     "output_type": "display_data"
    }
   ],
   "source": [
    "df[[\"level5\",\"price\"]][df[\"level5\"] == \"Arroyomolinos (Madrid)\"][\"price\"].hist(bins=13)\n",
    "# the great majority of the house prices are between 200000 and 400000\n",
    "# it could also mean that the population (level5) of \"Arroyomolinos (Madrid)\" is mainly middle class"
   ]
  },
  {
   "cell_type": "markdown",
   "id": "c86dc493",
   "metadata": {},
   "source": [
    "#### Now let's work with the \"south belt\" of madrid. Make a subsetting that contains the following populations (level5): \"Fuenlabrada\",\"Leganés\",\"Getafe\",\"Alcorcón\" (★★☆) "
   ]
  },
  {
   "cell_type": "code",
   "execution_count": 295,
   "id": "5280d0cb",
   "metadata": {},
   "outputs": [
    {
     "name": "stdout",
     "output_type": "stream",
     "text": [
      "Index(['id_realEstates', 'isNew', 'realEstate_name', 'phone_realEstate',\n",
      "       'url_inmueble', 'rooms', 'bathrooms', 'surface', 'price', 'date',\n",
      "       'description', 'address', 'country', 'level1', 'level2', 'level3',\n",
      "       'level4', 'level5', 'level7', 'level8', 'upperLevel', 'countryId',\n",
      "       'level1Id', 'level2Id', 'level3Id', 'level4Id', 'level5Id', 'level6Id',\n",
      "       'level7Id', 'level8Id', 'accuracy', 'latitude', 'longitude'],\n",
      "      dtype='object')\n"
     ]
    }
   ],
   "source": [
    "df_south_belt = df[(df[\"level5\"] == \"Fuenlabrada\") | (df[\"level5\"] == \"Leganés\") | (df[\"level5\"] == \"Getafe\") | (df[\"level5\"] == \"Alcorcón\")]\n",
    "print(df_south_belt.columns)"
   ]
  },
  {
   "cell_type": "markdown",
   "id": "090a6a3e",
   "metadata": {},
   "source": [
    "#### Make a bar plot of the median of prices (★★★) "
   ]
  },
  {
   "cell_type": "code",
   "execution_count": 296,
   "id": "68aec11c",
   "metadata": {},
   "outputs": [
    {
     "data": {
      "text/plain": [
       "<AxesSubplot:xlabel='level5'>"
      ]
     },
     "execution_count": 296,
     "metadata": {},
     "output_type": "execute_result"
    },
    {
     "data": {
      "image/png": "[encoded data removed]",
      "text/plain": [
       "<Figure size 800x600 with 1 Axes>"
      ]
     },
     "metadata": {
      "needs_background": "light"
     },
     "output_type": "display_data"
    }
   ],
   "source": [
    "df_south_belt.groupby([\"level5\"])[\"price\"].agg(\"median\").plot(kind=\"bar\")"
   ]
  },
  {
   "cell_type": "markdown",
   "id": "18f67373",
   "metadata": {},
   "source": [
    "#### Calculate the sample mean and variance of the variables: price, rooms, surface area and bathrooms (★★★) "
   ]
  },
  {
   "cell_type": "code",
   "execution_count": 297,
   "id": "8d068061",
   "metadata": {},
   "outputs": [
    {
     "name": "stderr",
     "output_type": "stream",
     "text": [
      "/tmp/ipykernel_1065/504700085.py:1: FutureWarning: Indexing with multiple keys (implicitly converted to a tuple of keys) will be deprecated, use a list instead.\n",
      "  df_south_belt.groupby([\"level5\"])[\"price\",\"rooms\",\"surface\",\"bathrooms\"].agg([\"mean\",\"var\"])\n"
     ]
    },
    {
     "data": {
      "text/html": [
       "<div>\n",
       "<style scoped>\n",
       "    .dataframe tbody tr th:only-of-type {\n",
       "        vertical-align: middle;\n",
       "    }\n",
       "\n",
       "    .dataframe tbody tr th {\n",
       "        vertical-align: top;\n",
       "    }\n",
       "\n",
       "    .dataframe thead tr th {\n",
       "        text-align: left;\n",
       "    }\n",
       "\n",
       "    .dataframe thead tr:last-of-type th {\n",
       "        text-align: right;\n",
       "    }\n",
       "</style>\n",
       "<table border=\"1\" class=\"dataframe\">\n",
       "  <thead>\n",
       "    <tr>\n",
       "      <th></th>\n",
       "      <th colspan=\"2\" halign=\"left\">price</th>\n",
       "      <th colspan=\"2\" halign=\"left\">rooms</th>\n",
       "      <th colspan=\"2\" halign=\"left\">surface</th>\n",
       "      <th colspan=\"2\" halign=\"left\">bathrooms</th>\n",
       "    </tr>\n",
       "    <tr>\n",
       "      <th></th>\n",
       "      <th>mean</th>\n",
       "      <th>var</th>\n",
       "      <th>mean</th>\n",
       "      <th>var</th>\n",
       "      <th>mean</th>\n",
       "      <th>var</th>\n",
       "      <th>mean</th>\n",
       "      <th>var</th>\n",
       "    </tr>\n",
       "    <tr>\n",
       "      <th>level5</th>\n",
       "      <th></th>\n",
       "      <th></th>\n",
       "      <th></th>\n",
       "      <th></th>\n",
       "      <th></th>\n",
       "      <th></th>\n",
       "      <th></th>\n",
       "      <th></th>\n",
       "    </tr>\n",
       "  </thead>\n",
       "  <tbody>\n",
       "    <tr>\n",
       "      <th>Alcorcón</th>\n",
       "      <td>230071.052632</td>\n",
       "      <td>1.594783e+10</td>\n",
       "      <td>2.914894</td>\n",
       "      <td>0.933895</td>\n",
       "      <td>105.913295</td>\n",
       "      <td>4244.323834</td>\n",
       "      <td>1.623656</td>\n",
       "      <td>0.592735</td>\n",
       "    </tr>\n",
       "    <tr>\n",
       "      <th>Fuenlabrada</th>\n",
       "      <td>177198.021459</td>\n",
       "      <td>4.701021e+09</td>\n",
       "      <td>3.025974</td>\n",
       "      <td>0.355844</td>\n",
       "      <td>103.624365</td>\n",
       "      <td>2264.643893</td>\n",
       "      <td>1.445415</td>\n",
       "      <td>0.353367</td>\n",
       "    </tr>\n",
       "    <tr>\n",
       "      <th>Getafe</th>\n",
       "      <td>265040.500000</td>\n",
       "      <td>2.098267e+10</td>\n",
       "      <td>3.151724</td>\n",
       "      <td>0.772748</td>\n",
       "      <td>126.896266</td>\n",
       "      <td>5828.110028</td>\n",
       "      <td>1.865052</td>\n",
       "      <td>0.658809</td>\n",
       "    </tr>\n",
       "    <tr>\n",
       "      <th>Leganés</th>\n",
       "      <td>208682.010309</td>\n",
       "      <td>1.191394e+10</td>\n",
       "      <td>2.906736</td>\n",
       "      <td>0.824590</td>\n",
       "      <td>105.852273</td>\n",
       "      <td>3987.475195</td>\n",
       "      <td>1.518135</td>\n",
       "      <td>0.553055</td>\n",
       "    </tr>\n",
       "  </tbody>\n",
       "</table>\n",
       "</div>"
      ],
      "text/plain": [
       "                     price                   rooms               surface  \\\n",
       "                      mean           var      mean       var        mean   \n",
       "level5                                                                     \n",
       "Alcorcón     230071.052632  1.594783e+10  2.914894  0.933895  105.913295   \n",
       "Fuenlabrada  177198.021459  4.701021e+09  3.025974  0.355844  103.624365   \n",
       "Getafe       265040.500000  2.098267e+10  3.151724  0.772748  126.896266   \n",
       "Leganés      208682.010309  1.191394e+10  2.906736  0.824590  105.852273   \n",
       "\n",
       "                         bathrooms            \n",
       "                     var      mean       var  \n",
       "level5                                        \n",
       "Alcorcón     4244.323834  1.623656  0.592735  \n",
       "Fuenlabrada  2264.643893  1.445415  0.353367  \n",
       "Getafe       5828.110028  1.865052  0.658809  \n",
       "Leganés      3987.475195  1.518135  0.553055  "
      ]
     },
     "execution_count": 297,
     "metadata": {},
     "output_type": "execute_result"
    }
   ],
   "source": [
    "df_south_belt.groupby([\"level5\"])[\"price\",\"rooms\",\"surface\",\"bathrooms\"].agg([\"mean\",\"var\"])"
   ]
  },
  {
   "cell_type": "markdown",
   "id": "95cfde61",
   "metadata": {},
   "source": [
    "#### What is the most expensive home of each population? (★★☆) "
   ]
  },
  {
   "cell_type": "code",
   "execution_count": 298,
   "id": "1c29f78c",
   "metadata": {},
   "outputs": [
    {
     "data": {
      "text/html": [
       "<div>\n",
       "<style scoped>\n",
       "    .dataframe tbody tr th:only-of-type {\n",
       "        vertical-align: middle;\n",
       "    }\n",
       "\n",
       "    .dataframe tbody tr th {\n",
       "        vertical-align: top;\n",
       "    }\n",
       "\n",
       "    .dataframe thead th {\n",
       "        text-align: right;\n",
       "    }\n",
       "</style>\n",
       "<table border=\"1\" class=\"dataframe\">\n",
       "  <thead>\n",
       "    <tr style=\"text-align: right;\">\n",
       "      <th></th>\n",
       "      <th>max</th>\n",
       "    </tr>\n",
       "    <tr>\n",
       "      <th>level5</th>\n",
       "      <th></th>\n",
       "    </tr>\n",
       "  </thead>\n",
       "  <tbody>\n",
       "    <tr>\n",
       "      <th>Alcorcón</th>\n",
       "      <td>950000</td>\n",
       "    </tr>\n",
       "    <tr>\n",
       "      <th>Fuenlabrada</th>\n",
       "      <td>490000</td>\n",
       "    </tr>\n",
       "    <tr>\n",
       "      <th>Getafe</th>\n",
       "      <td>1050000</td>\n",
       "    </tr>\n",
       "    <tr>\n",
       "      <th>Leganés</th>\n",
       "      <td>650000</td>\n",
       "    </tr>\n",
       "  </tbody>\n",
       "</table>\n",
       "</div>"
      ],
      "text/plain": [
       "                 max\n",
       "level5              \n",
       "Alcorcón      950000\n",
       "Fuenlabrada   490000\n",
       "Getafe       1050000\n",
       "Leganés       650000"
      ]
     },
     "execution_count": 298,
     "metadata": {},
     "output_type": "execute_result"
    }
   ],
   "source": [
    "df_south_belt.groupby([\"level5\"])[\"price\"].agg([\"max\"])"
   ]
  },
  {
   "cell_type": "markdown",
   "id": "ea67579b",
   "metadata": {},
   "source": [
    "#### Normalize the variable of prices for each population and plot the 4 histograms in the same plot (★★★) "
   ]
  },
  {
   "cell_type": "code",
   "execution_count": 299,
   "id": "385ad99c",
   "metadata": {},
   "outputs": [
    {
     "data": {
      "image/png": "[encoded data removed]",
      "text/plain": [
       "<Figure size 800x600 with 4 Axes>"
      ]
     },
     "metadata": {
      "needs_background": "light"
     },
     "output_type": "display_data"
    }
   ],
   "source": [
    "#print(df_south_belt.groupby([\"level5\"])[\"price\"].agg([\"mean\",\"std\"]))\n",
    "\n",
    "import matplotlib.pyplot as plt\n",
    "plt.rcParams.update({'figure.figsize':(8,6), 'figure.dpi':100})\n",
    "\n",
    "plt.subplot(2,2,1)\n",
    "\n",
    "plt.hist((df_south_belt[df_south_belt[\"level5\"]==\"Alcorcón\"][\"price\"] / df_south_belt.groupby([\"level5\"])[\"price\"].agg([\"max\"])[\"max\"][0]))\n",
    "\n",
    "plt.subplot(2,2,2)\n",
    "\n",
    "plt.hist((df_south_belt[df_south_belt[\"level5\"]==\"Leganés\"][\"price\"].values / df_south_belt.groupby([\"level5\"])[\"price\"].agg([\"max\"])[\"max\"][3]))\n",
    "\n",
    "plt.subplot(2,2,3)\n",
    "\n",
    "plt.hist((df_south_belt[df_south_belt[\"level5\"]==\"Getafe\"][\"price\"].values / df_south_belt.groupby([\"level5\"])[\"price\"].agg([\"max\"])[\"max\"][2]))\n",
    "\n",
    "plt.subplot(2,2,4)\n",
    " \n",
    "plt.hist((df_south_belt[df_south_belt[\"level5\"]==\"Fuenlabrada\"][\"price\"].values / df_south_belt.groupby([\"level5\"])[\"price\"].agg([\"max\"])[\"max\"][1]))\n",
    "plt.show()\n"
   ]
  },
  {
   "cell_type": "markdown",
   "id": "2ec1bd5c",
   "metadata": {},
   "source": [
    "#### Make a plot of the coordinates (lat and long) of the south belt of Madrid by color of each population (★★★★) \n",
    "This is a extremely hard exercise and we highly recommend to do it at the end of everything"
   ]
  },
  {
   "cell_type": "code",
   "execution_count": 300,
   "id": "312aac99",
   "metadata": {},
   "outputs": [
    {
     "data": {
      "application/vnd.jupyter.widget-view+json": {
       "model_id": "8299557184e04a1597a15e6c6c25d621",
       "version_major": 2,
       "version_minor": 0
      },
      "text/plain": [
       "Map(center=[40, -2.2], controls=(ZoomControl(options=['position', 'zoom_in_text', 'zoom_in_title', 'zoom_out_t…"
      ]
     },
     "metadata": {},
     "output_type": "display_data"
    }
   ],
   "source": [
    "# Run in console the following command before run the rest of code:\n",
    "# jupyter nbextension enable --py --sys-prefix ipyleaflet\n",
    "\n",
    "from ipyleaflet import Map, basemaps, basemap_to_tiles, Marker, AwesomeIcon\n",
    "\n",
    "# Map centred on (60 degrees latitude et -2.2 degrees longitude)\n",
    "# Latitude, longitude\n",
    "map = Map(center = (40, -2.2), zoom = 1, min_zoom = 4, max_zoom = 20, \n",
    "    basemap=basemap_to_tiles(basemaps.Stamen.Terrain))\n",
    "map\n"
   ]
  },
  {
   "cell_type": "code",
   "execution_count": 301,
   "id": "f7931ec0",
   "metadata": {},
   "outputs": [
    {
     "name": "stdout",
     "output_type": "stream",
     "text": [
      "Fuenlabrada red\n",
      "Alcorcón blue\n",
      "Leganés green\n",
      "Getafe orange\n"
     ]
    },
    {
     "data": {
      "application/vnd.jupyter.widget-view+json": {
       "model_id": "a555f7f8198d40ceb420aac868c9013d",
       "version_major": 2,
       "version_minor": 0
      },
      "text/plain": [
       "Map(center=[40.32, -3.8], controls=(ZoomControl(options=['position', 'zoom_in_text', 'zoom_in_title', 'zoom_ou…"
      ]
     },
     "metadata": {},
     "output_type": "display_data"
    }
   ],
   "source": [
    "## HERE: plot the coordinates of the estates\n",
    "\n",
    "## PUT HERE YOUR CODE:\n",
    "\n",
    "map = Map(center = (40.32, -3.8), zoom = 1, min_zoom = 12, max_zoom = 20, \n",
    "    basemap=basemap_to_tiles(basemaps.Stamen.Terrain))\n",
    "\n",
    "colors = ['red','blue','green','orange']\n",
    "for c,pop in enumerate(df_south_belt[\"level5\"].unique()):\n",
    "    print(pop, colors[c])\n",
    "    #print(df_south_belt[df_south_belt[\"level5\"]==pop][[\"latitude\",\"longitude\"]])\n",
    "    for lat,longi in df_south_belt[df_south_belt[\"level5\"]==pop][[\"latitude\",\"longitude\"]].values:\n",
    "        #print(lat,longi)\n",
    "        map.add_layer(Marker(icon=AwesomeIcon(marker_color=colors[c]), location=(float(lat.replace(\",\",\".\")), float(longi.replace(\",\",\".\")))))\n",
    "\n",
    "\n",
    "#latitude\tlongitude\n",
    "#m.add_layer(Marker(location=(52.204793, 360.121558)))\n",
    "\n",
    "map\n"
   ]
  },
  {
   "cell_type": "markdown",
   "id": "b22874b7",
   "metadata": {},
   "source": [
    "#### What can you say about the price per square meter between the towns of Getafe and Alcorcón?"
   ]
  },
  {
   "cell_type": "code",
   "execution_count": 302,
   "id": "e0ef506b",
   "metadata": {},
   "outputs": [
    {
     "name": "stdout",
     "output_type": "stream",
     "text": [
      "            level5   price  surface\n",
      "2      Fuenlabrada   89000      NaN\n",
      "4      Fuenlabrada   89000     86.0\n",
      "86        Alcorcón  107000     50.0\n",
      "95         Leganés  320000    120.0\n",
      "110       Alcorcón  425000    142.0\n",
      "...            ...     ...      ...\n",
      "15276  Fuenlabrada  138000     78.0\n",
      "15292      Leganés  279000    110.0\n",
      "15306  Fuenlabrada  170000     85.0\n",
      "15323  Fuenlabrada  112000     91.0\n",
      "15326  Fuenlabrada  215000     99.0\n",
      "\n",
      "[907 rows x 3 columns]\n"
     ]
    },
    {
     "data": {
      "image/png": "[encoded data removed]",
      "text/plain": [
       "<Figure size 800x600 with 1 Axes>"
      ]
     },
     "metadata": {
      "needs_background": "light"
     },
     "output_type": "display_data"
    },
    {
     "name": "stderr",
     "output_type": "stream",
     "text": [
      "/tmp/ipykernel_1065/2071995674.py:12: SettingWithCopyWarning: \n",
      "A value is trying to be set on a copy of a slice from a DataFrame.\n",
      "Try using .loc[row_indexer,col_indexer] = value instead\n",
      "\n",
      "See the caveats in the documentation: https://pandas.pydata.org/pandas-docs/stable/user_guide/indexing.html#returning-a-view-versus-a-copy\n",
      "  df_south_belt[\"price_per_squareMeter\"] = df_south_belt[\"price\"] / df_south_belt[\"surface\"]\n"
     ]
    },
    {
     "name": "stdout",
     "output_type": "stream",
     "text": [
      "2                NaN\n",
      "4        1034.883721\n",
      "86       2140.000000\n",
      "95       2666.666667\n",
      "110      2992.957746\n",
      "            ...     \n",
      "15276    1769.230769\n",
      "15292    2536.363636\n",
      "15306    2000.000000\n",
      "15323    1230.769231\n",
      "15326    2171.717172\n",
      "Name: price_per_squareMeter, Length: 907, dtype: float64\n"
     ]
    },
    {
     "data": {
      "image/png": "[encoded data removed]",
      "text/plain": [
       "<Figure size 800x600 with 1 Axes>"
      ]
     },
     "metadata": {
      "needs_background": "light"
     },
     "output_type": "display_data"
    }
   ],
   "source": [
    "print(df_south_belt[[\"level5\",\"price\",\"surface\"]])\n",
    "axes = plt.gca()\n",
    "df_south_belt[(df_south_belt[\"level5\"]==\"Alcorcón\")].plot(x=\"surface\",y=\"price\",kind=\"scatter\", ax=axes, c=\"red\")\n",
    "df_south_belt[(df_south_belt[\"level5\"]==\"Getafe\")].plot(x=\"surface\",y=\"price\",kind=\"scatter\", ax=axes, c=\"blue\")\n",
    "#plt.rcParams.update({'figure.figsize':(10,8), 'figure.dpi':100})\n",
    "#plt.scatter(x=\"surface\",y=\"price\",data=df_south_belt[(df_south_belt[\"level5\"]==\"Alcorcón\")], label=\"Alcorcón\")\n",
    "#plt.scatter(x=\"surface\",y=\"price\",data=df_south_belt[(df_south_belt[\"level5\"]==\"Getafe\")], label=\"Getafe\")\n",
    "#plt.legend()\n",
    "\n",
    "plt.show()\n",
    "\n",
    "df_south_belt[\"price_per_squareMeter\"] = df_south_belt[\"price\"] / df_south_belt[\"surface\"]\n",
    "print(df_south_belt[\"price_per_squareMeter\"])\n",
    "axes = plt.gca()\n",
    "df_south_belt[\"price_per_squareMeter\"][(df_south_belt[\"level5\"]==\"Alcorcón\")].hist()\n",
    "df_south_belt[\"price_per_squareMeter\"][(df_south_belt[\"level5\"]==\"Getafe\")].hist(alpha=0.5)\n",
    "#df_south_belt[(df_south_belt[\"level5\"]==\"Alcorcón\")].plot(x=\"price_per_squareMeter\",y=\"level5\",kind=\"line\")\n",
    "plt.show()"
   ]
  },
  {
   "cell_type": "markdown",
   "id": "a4376b3f",
   "metadata": {},
   "source": [
    "#### Reload the data, is the average of \"Valdemorillo\" and \"Galapagar\" prices the same?"
   ]
  },
  {
   "cell_type": "code",
   "execution_count": 303,
   "id": "37dbaf65",
   "metadata": {},
   "outputs": [
    {
     "name": "stdout",
     "output_type": "stream",
     "text": [
      "price    363860.293103\n",
      "dtype: float64\n",
      "price    360063.202381\n",
      "dtype: float64\n",
      "363860.2931034483\n",
      "360063.20238095237\n"
     ]
    }
   ],
   "source": [
    "print(df[(df[\"level5\"]==\"Valdemorillo\")][[\"price\"]].mean())\n",
    "print(df[(df[\"level5\"]==\"Galapagar\")][[\"price\"]].mean())\n",
    "\n",
    "print(np.average(df[(df[\"level5\"]==\"Valdemorillo\")][[\"price\"]]))\n",
    "print(np.average(df[(df[\"level5\"]==\"Galapagar\")][[\"price\"]]))\n",
    "\n",
    "# The average price is not the same "
   ]
  },
  {
   "cell_type": "markdown",
   "id": "b6af45ec",
   "metadata": {},
   "source": [
    "#### What happens if we do the same analysis for price/m2 (★★☆) "
   ]
  },
  {
   "cell_type": "code",
   "execution_count": 304,
   "id": "8231d73e",
   "metadata": {},
   "outputs": [
    {
     "data": {
      "image/png": "[encoded data removed]",
      "text/plain": [
       "<Figure size 800x600 with 1 Axes>"
      ]
     },
     "metadata": {
      "needs_background": "light"
     },
     "output_type": "display_data"
    },
    {
     "name": "stdout",
     "output_type": "stream",
     "text": [
      "1        1893.203883\n",
      "2                NaN\n",
      "3        3939.393939\n",
      "4        1034.883721\n",
      "5        1622.641509\n",
      "            ...     \n",
      "15331    2702.812500\n",
      "15332    1100.000000\n",
      "15333    2828.571429\n",
      "15334    1930.693069\n",
      "15335    5032.894737\n",
      "Name: price_per_squareMeter, Length: 15335, dtype: float64\n"
     ]
    },
    {
     "data": {
      "image/png": "[encoded data removed]",
      "text/plain": [
       "<Figure size 800x600 with 1 Axes>"
      ]
     },
     "metadata": {
      "needs_background": "light"
     },
     "output_type": "display_data"
    }
   ],
   "source": [
    "axes = plt.gca()\n",
    "df[(df[\"level5\"]==\"Valdemorillo\")].plot(x=\"surface\",y=\"price\",kind=\"scatter\", ax=axes, c=\"red\", label=\"Valdemorillo\")\n",
    "df[(df[\"level5\"]==\"Galapagar\")].plot(x=\"surface\",y=\"price\",kind=\"scatter\", ax=axes, c=\"blue\", label=\"Galapagar\")\n",
    "plt.legend()\n",
    "plt.show()\n",
    "\n",
    "df[\"price_per_squareMeter\"] = df[\"price\"] / df[\"surface\"]\n",
    "print(df[\"price_per_squareMeter\"])\n",
    "axes = plt.gca()\n",
    "df[\"price_per_squareMeter\"][(df[\"level5\"]==\"Valdemorillo\")].hist()\n",
    "df[\"price_per_squareMeter\"][(df[\"level5\"]==\"Galapagar\")].hist(alpha=0.5)\n",
    "\n",
    "plt.show()"
   ]
  },
  {
   "cell_type": "markdown",
   "id": "2d40e202",
   "metadata": {},
   "source": [
    "#### Could you say there is a relation between surface and price? (★★☆) \n",
    "Hint: make a scatter plot."
   ]
  },
  {
   "cell_type": "code",
   "execution_count": 305,
   "id": "405462e1",
   "metadata": {},
   "outputs": [
    {
     "name": "stdout",
     "output_type": "stream",
     "text": [
      "          surface     price\n",
      "surface  1.000000  0.048987\n",
      "price    0.048987  1.000000\n",
      "          surface     price\n",
      "surface  1.000000  0.521378\n",
      "price    0.521378  1.000000\n",
      "          surface     price\n",
      "surface  1.000000  0.715169\n",
      "price    0.715169  1.000000\n",
      "surface    1.0\n",
      "price      1.0\n",
      "dtype: float64\n",
      "AxesSubplot(0.125,0.125;0.775x0.755)\n"
     ]
    },
    {
     "data": {
      "image/png": "[encoded data removed]",
      "text/plain": [
       "<Figure size 800x600 with 1 Axes>"
      ]
     },
     "metadata": {
      "needs_background": "light"
     },
     "output_type": "display_data"
    },
    {
     "data": {
      "image/png": "[encoded data removed]",
      "text/plain": [
       "<Figure size 800x600 with 1 Axes>"
      ]
     },
     "metadata": {
      "needs_background": "light"
     },
     "output_type": "display_data"
    }
   ],
   "source": [
    "df[df[\"surface\"] <= 10000].plot(kind=\"scatter\", x=\"surface\", y=\"price\")\n",
    "print((df[[\"surface\", \"price\"]]).corr())\n",
    "print((df[[\"surface\", \"price\"]]).corr(\"kendall\"))\n",
    "print((df[[\"surface\", \"price\"]]).corr(\"spearman\"))\n",
    "\n",
    "#df_price_m2 = ((df[[\"surface\", \"price\"]]-df[[\"surface\", \"price\"]].mean())/df[[\"surface\", \"price\"]].std())\n",
    "df_price_m2 =  df[[\"surface\", \"price\"]] / df[[\"surface\", \"price\"]].max()\n",
    "print(df_price_m2.max())\n",
    "\n",
    "print(df_price_m2[df_price_m2[\"surface\"] <= 0.04].plot(kind=\"scatter\", x=\"surface\", y=\"price\"))\n",
    "\n",
    "# yes there is a hight non-linear and monotonic relation between surface and price"
   ]
  },
  {
   "cell_type": "markdown",
   "id": "3275db77",
   "metadata": {},
   "source": [
    "#### Make the same plot for 4 different populations (level5) and rearrange them on the same graph? (★★☆) \n",
    "Hint: make a scatter plot of each population using subplots."
   ]
  },
  {
   "cell_type": "code",
   "execution_count": 306,
   "id": "e08292ff",
   "metadata": {},
   "outputs": [
    {
     "name": "stdout",
     "output_type": "stream",
     "text": [
      "Index(['level5', 'surface', 'price'], dtype='object')\n",
      "                  max\n",
      "level5               \n",
      "Fuenlabrada    490000\n",
      "Galapagar      995000\n",
      "Leganés        650000\n",
      "Valdemorillo  1350000\n"
     ]
    },
    {
     "data": {
      "image/png": "[encoded data removed]",
      "text/plain": [
       "<Figure size 800x600 with 4 Axes>"
      ]
     },
     "metadata": {
      "needs_background": "light"
     },
     "output_type": "display_data"
    }
   ],
   "source": [
    "#\"Valdemorillo\" \"Galapagar\" \"Fuenlabrada\" \"Leganés\"\n",
    "df_level5_4pop = df[[\"level5\",\"surface\", \"price\"]][(df[\"level5\"] == \"Fuenlabrada\") | (df[\"level5\"] == \"Leganés\") | (df[\"level5\"] == \"Galapagar\") | (df[\"level5\"] == \"Valdemorillo\")]\n",
    "print(df_level5_4pop.columns)\n",
    "print(df_level5_4pop.groupby([\"level5\"])[\"price\"].agg([\"max\"]))\n",
    "\n",
    "plt.subplot(2,2,1) \n",
    "plt.scatter(df_level5_4pop[df_level5_4pop[\"level5\"]==\"Fuenlabrada\"][\"surface\"],df_level5_4pop[df_level5_4pop[\"level5\"]==\"Fuenlabrada\"][\"price\"], c=\"red\", label=\"Fuenlabrada\")\n",
    "plt.legend()\n",
    "\n",
    "plt.subplot(2,2,2) \n",
    "plt.scatter(df_level5_4pop[df_level5_4pop[\"level5\"]==\"Galapagar\"][\"surface\"],df_level5_4pop[df_level5_4pop[\"level5\"]==\"Galapagar\"][\"price\"], c=\"blue\", label=\"Galapagar\")\n",
    "plt.legend()\n",
    "\n",
    "plt.subplot(2,2,3) \n",
    "plt.scatter(df_level5_4pop[df_level5_4pop[\"level5\"]==\"Leganés\"][\"surface\"],df_level5_4pop[df_level5_4pop[\"level5\"]==\"Leganés\"][\"price\"], c=\"green\", label=\"Leganés\")\n",
    "plt.legend()\n",
    "\n",
    "plt.subplot(2,2,4) \n",
    "plt.scatter(df_level5_4pop[df_level5_4pop[\"level5\"]==\"Valdemorillo\"][\"surface\"],df_level5_4pop[df_level5_4pop[\"level5\"]==\"Valdemorillo\"][\"price\"], c=\"yellow\", label=\"Valdemorillo\")\n",
    "plt.legend()\n",
    "\n",
    "plt.show()\n"
   ]
  },
  {
   "cell_type": "markdown",
   "id": "522c6bd9",
   "metadata": {},
   "source": [
    "#### How many  real estate agencies the dataset contains? (★★☆) "
   ]
  },
  {
   "cell_type": "code",
   "execution_count": 307,
   "id": "014ec6c8",
   "metadata": {},
   "outputs": [
    {
     "data": {
      "text/plain": [
       "1822"
      ]
     },
     "execution_count": 307,
     "metadata": {},
     "output_type": "execute_result"
    }
   ],
   "source": [
    "df['realEstate_name'].unique().shape[0]"
   ]
  },
  {
   "cell_type": "markdown",
   "id": "899a101e",
   "metadata": {},
   "source": [
    "#### What is the population (level 5) that contains the most houses? (★★☆) "
   ]
  },
  {
   "cell_type": "code",
   "execution_count": 308,
   "id": "9e8b34ba",
   "metadata": {},
   "outputs": [
    {
     "name": "stdout",
     "output_type": "stream",
     "text": [
      " Madrid Capital 6643\n",
      " Madrid Capital 6643\n"
     ]
    }
   ],
   "source": [
    "print(df.groupby(['level5'])['price'].agg((\"count\")).sort_values().index[-1], df.groupby(['level5'])['price'].agg((\"count\")).sort_values()[-1])\n",
    "print(df.groupby(['level5'])['address'].agg((\"count\")).sort_values().index[-1], df.groupby(['level5'])['address'].agg((\"count\")).sort_values()[-1])\n",
    "\n"
   ]
  },
  {
   "cell_type": "markdown",
   "id": "aa6a4e3f",
   "metadata": {},
   "source": [
    "# Good luck! and remember, if you need something, please email us! "
   ]
  },
  {
   "cell_type": "code",
   "execution_count": null,
   "id": "b3061e51",
   "metadata": {},
   "outputs": [],
   "source": []
  }
 ],
 "metadata": {
  "kernelspec": {
   "display_name": "Python 3",
   "language": "python",
   "name": "python3"
  },
  "language_info": {
   "codemirror_mode": {
    "name": "ipython",
    "version": 3
   },
   "file_extension": ".py",
   "mimetype": "text/x-python",
   "name": "python",
   "nbconvert_exporter": "python",
   "pygments_lexer": "ipython3",
   "version": "3.8.10"
  }
 },
 "nbformat": 4,
 "nbformat_minor": 5
}
